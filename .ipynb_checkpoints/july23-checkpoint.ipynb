{
 "cells": [
  {
   "cell_type": "markdown",
   "id": "4e98b3ef-0d27-459b-ab18-77bfdc7f6c12",
   "metadata": {},
   "source": [
    "Q1. Add a single-line comment that says \"This program prints Hello World\"."
   ]
  },
  {
   "cell_type": "code",
   "execution_count": 16,
   "id": "28b9f45e-923c-427a-aa7c-2bc401af2a48",
   "metadata": {},
   "outputs": [
    {
     "data": {
      "text/plain": [
       "'this program prints \\nhello world\\nin multiple lines'"
      ]
     },
     "execution_count": 16,
     "metadata": {},
     "output_type": "execute_result"
    }
   ],
   "source": [
    "\"\"\"this program prints \n",
    "hello world\n",
    "in multiple lines\"\"\""
   ]
  },
  {
   "cell_type": "markdown",
   "id": "b5ef85cc-b351-45fe-8842-49ed6cb400f0",
   "metadata": {},
   "source": [
    "Q2. Declare variables to store the following:\n",
    "Your name (text)\n",
    "Your age (number)\n",
    "Whether you're a student (True/False)\n",
    "Your height in meters (decimal)"
   ]
  },
  {
   "cell_type": "code",
   "execution_count": 11,
   "id": "ac0bec35-2669-47e8-8476-583b2f52d96a",
   "metadata": {},
   "outputs": [],
   "source": [
    "name = \"nevin\"\n",
    "age = 21\n",
    "student = True\n",
    "height = 168.7"
   ]
  },
  {
   "cell_type": "markdown",
   "id": "baf2d508-450e-4b3a-b6c4-ffc67ac9c26a",
   "metadata": {},
   "source": [
    "Q3 define the type of the above variables"
   ]
  },
  {
   "cell_type": "code",
   "execution_count": 18,
   "id": "f70fcf84-d30d-4ff1-9560-fc5148379d99",
   "metadata": {},
   "outputs": [
    {
     "data": {
      "text/plain": [
       "str"
      ]
     },
     "execution_count": 18,
     "metadata": {},
     "output_type": "execute_result"
    }
   ],
   "source": [
    "type(name)"
   ]
  },
  {
   "cell_type": "code",
   "execution_count": 19,
   "id": "474be224-825a-4fbb-aad0-34a526bb1503",
   "metadata": {},
   "outputs": [
    {
     "data": {
      "text/plain": [
       "int"
      ]
     },
     "execution_count": 19,
     "metadata": {},
     "output_type": "execute_result"
    }
   ],
   "source": [
    "type(age)"
   ]
  },
  {
   "cell_type": "code",
   "execution_count": 20,
   "id": "a81369cc-6a31-4678-9421-ac58a31c6f59",
   "metadata": {},
   "outputs": [
    {
     "data": {
      "text/plain": [
       "bool"
      ]
     },
     "execution_count": 20,
     "metadata": {},
     "output_type": "execute_result"
    }
   ],
   "source": [
    "type(student)"
   ]
  },
  {
   "cell_type": "code",
   "execution_count": 21,
   "id": "c76a4343-f1f6-40a8-93f8-944a2ed19700",
   "metadata": {},
   "outputs": [
    {
     "data": {
      "text/plain": [
       "float"
      ]
     },
     "execution_count": 21,
     "metadata": {},
     "output_type": "execute_result"
    }
   ],
   "source": [
    "type(height)"
   ]
  },
  {
   "cell_type": "markdown",
   "id": "ec64580a-bfa5-4b18-bfbb-08346ce48663",
   "metadata": {},
   "source": [
    "Q4. Assign two variables in one line: x = 5 and y = 10."
   ]
  },
  {
   "cell_type": "code",
   "execution_count": 22,
   "id": "98fd0b24-cb88-47b8-b842-fbe043be6df4",
   "metadata": {},
   "outputs": [],
   "source": [
    "x = 5\n",
    "y = 10"
   ]
  },
  {
   "cell_type": "markdown",
   "id": "3ec0f3f1-43a5-400d-a1b7-909ff94cea1c",
   "metadata": {},
   "source": [
    "What is the output and type of the following?\n",
    "a = \"5\"\n",
    "b = 2\n",
    "print(a * b)"
   ]
  },
  {
   "cell_type": "code",
   "execution_count": 23,
   "id": "e1d389ec-84a7-4f36-abf1-d34b8bd6d396",
   "metadata": {},
   "outputs": [
    {
     "name": "stdout",
     "output_type": "stream",
     "text": [
      "55\n"
     ]
    }
   ],
   "source": [
    "a = \"5\"\n",
    "b = 2\n",
    "print(a * b)"
   ]
  },
  {
   "cell_type": "markdown",
   "id": "32d6042d-67ba-43fa-8098-46181d951394",
   "metadata": {},
   "source": [
    "# Questions on operators"
   ]
  },
  {
   "cell_type": "markdown",
   "id": "4fc1497d-4a31-4d88-a0e4-686b4b97b63b",
   "metadata": {},
   "source": [
    "Q5. Write a program to add, subtract, multiply and divide two numbers: a = 15, b = 4."
   ]
  },
  {
   "cell_type": "code",
   "execution_count": 24,
   "id": "e4691ab1-8f39-4bcb-9cbf-eb827f460047",
   "metadata": {},
   "outputs": [],
   "source": [
    "a = 15\n",
    "b = 4"
   ]
  },
  {
   "cell_type": "code",
   "execution_count": 26,
   "id": "0f807b18-35ac-4819-87d5-ca14643b4e1f",
   "metadata": {},
   "outputs": [
    {
     "name": "stdout",
     "output_type": "stream",
     "text": [
      "19\n",
      "11\n",
      "60\n",
      "3.75\n",
      "3\n",
      "3\n",
      "50625\n"
     ]
    }
   ],
   "source": [
    "print(a + b)\n",
    "print(a - b)\n",
    "print(a *  b)\n",
    "print(a / b)\n",
    "print(a // b)\n",
    "print(a % b)\n",
    "print(a ** b)"
   ]
  },
  {
   "cell_type": "markdown",
   "id": "a9449dc8-5c65-44b5-92a9-06aad725bd20",
   "metadata": {},
   "source": [
    "Calculate the area of a circle with radius = 5 using the formula area = π * r^2 (use 3.14 for π)."
   ]
  },
  {
   "cell_type": "code",
   "execution_count": 28,
   "id": "bc2f2994-2573-41f6-97ad-aebbb10af39e",
   "metadata": {},
   "outputs": [
    {
     "name": "stdout",
     "output_type": "stream",
     "text": [
      "78.5\n"
     ]
    }
   ],
   "source": [
    "r = 5\n",
    "radius = 3.14 * r ** 2\n",
    "print(radius)"
   ]
  },
  {
   "cell_type": "markdown",
   "id": "1a9f6918-902d-45e0-98de-215b8558460e",
   "metadata": {},
   "source": [
    "Initialize a variable x = 10, then use the following compound assignment operators step by step and print the result each time:"
   ]
  },
  {
   "cell_type": "code",
   "execution_count": 29,
   "id": "7e7683cf-d5cc-4c4a-b1ca-e91b77608cf3",
   "metadata": {},
   "outputs": [],
   "source": [
    "x = 10"
   ]
  },
  {
   "cell_type": "code",
   "execution_count": 33,
   "id": "c3524124-bd70-47b4-81e0-83f9f92feb13",
   "metadata": {},
   "outputs": [
    {
     "name": "stdout",
     "output_type": "stream",
     "text": [
      "20\n"
     ]
    }
   ],
   "source": [
    "x += 5\n",
    "print(x)"
   ]
  },
  {
   "cell_type": "code",
   "execution_count": 34,
   "id": "4d89ca7c-acf6-4fe5-98f2-f57bb1024aec",
   "metadata": {},
   "outputs": [
    {
     "name": "stdout",
     "output_type": "stream",
     "text": [
      "17\n"
     ]
    }
   ],
   "source": [
    "x -= 3\n",
    "print(x)"
   ]
  },
  {
   "cell_type": "code",
   "execution_count": 36,
   "id": "b07bfd84-0225-4873-986b-001bfc2e0337",
   "metadata": {},
   "outputs": [
    {
     "name": "stdout",
     "output_type": "stream",
     "text": [
      "68\n"
     ]
    }
   ],
   "source": [
    "x *= 2\n",
    "print(x)"
   ]
  },
  {
   "cell_type": "code",
   "execution_count": 37,
   "id": "154106c2-7d25-42d2-8688-e270f9751245",
   "metadata": {},
   "outputs": [
    {
     "name": "stdout",
     "output_type": "stream",
     "text": [
      "17.0\n"
     ]
    }
   ],
   "source": [
    "x /= 4\n",
    "print(x)"
   ]
  },
  {
   "cell_type": "code",
   "execution_count": 38,
   "id": "8b6997a9-0f6b-4f0f-afa8-3694b83413cc",
   "metadata": {},
   "outputs": [
    {
     "name": "stdout",
     "output_type": "stream",
     "text": [
      "2.0\n"
     ]
    }
   ],
   "source": [
    "x %= 3\n",
    "print(x)"
   ]
  },
  {
   "cell_type": "code",
   "execution_count": 39,
   "id": "6d376045-f6f7-4f43-8b2c-eb31905ae5e5",
   "metadata": {},
   "outputs": [
    {
     "name": "stdout",
     "output_type": "stream",
     "text": [
      "4.0\n"
     ]
    }
   ],
   "source": [
    "x **= 2\n",
    "print(x)"
   ]
  },
  {
   "cell_type": "code",
   "execution_count": 40,
   "id": "00778ae0-ea10-4611-8e04-e388955ca62a",
   "metadata": {},
   "outputs": [
    {
     "name": "stdout",
     "output_type": "stream",
     "text": [
      "4.0\n"
     ]
    }
   ],
   "source": [
    "print(x)"
   ]
  },
  {
   "cell_type": "markdown",
   "id": "f78f9f36-2648-480c-902c-2ea354c61806",
   "metadata": {},
   "source": [
    "given:\n",
    "\n",
    "a = 15\n",
    "b = 20\n",
    "\n",
    "Check and print the result of:\n",
    "\n",
    "a == b\n",
    "\n",
    "a != b\n",
    "\n",
    "a > b\n",
    "\n",
    "a < b\n",
    "\n",
    "a >= b\n",
    "\n",
    "a <= b"
   ]
  },
  {
   "cell_type": "code",
   "execution_count": 41,
   "id": "4121cc27-7457-4c19-a8e5-7177ef63d825",
   "metadata": {},
   "outputs": [],
   "source": [
    "a = 15\n",
    "b = 20"
   ]
  },
  {
   "cell_type": "code",
   "execution_count": 42,
   "id": "e850d033-e5a3-46ff-a25a-43828c12e060",
   "metadata": {},
   "outputs": [
    {
     "name": "stdout",
     "output_type": "stream",
     "text": [
      "False\n"
     ]
    }
   ],
   "source": [
    "print (a == b)"
   ]
  },
  {
   "cell_type": "code",
   "execution_count": 43,
   "id": "97cc3173-8441-4ccf-9fbc-c61e129ff63f",
   "metadata": {},
   "outputs": [
    {
     "name": "stdout",
     "output_type": "stream",
     "text": [
      "True\n"
     ]
    }
   ],
   "source": [
    "print (a != b)"
   ]
  },
  {
   "cell_type": "code",
   "execution_count": 44,
   "id": "994efd19-63ed-421e-af2a-338058706525",
   "metadata": {},
   "outputs": [
    {
     "name": "stdout",
     "output_type": "stream",
     "text": [
      "False\n"
     ]
    }
   ],
   "source": [
    "print(a > b)"
   ]
  },
  {
   "cell_type": "code",
   "execution_count": 45,
   "id": "630dc1c6-0063-4247-ae2f-b93e829dd7c6",
   "metadata": {},
   "outputs": [
    {
     "name": "stdout",
     "output_type": "stream",
     "text": [
      "True\n"
     ]
    }
   ],
   "source": [
    "print (a < b)"
   ]
  },
  {
   "cell_type": "code",
   "execution_count": 46,
   "id": "8c3db772-0e3a-4ab2-9596-be4f4503d3d1",
   "metadata": {},
   "outputs": [
    {
     "name": "stdout",
     "output_type": "stream",
     "text": [
      "False\n"
     ]
    }
   ],
   "source": [
    "print (a >= b)"
   ]
  },
  {
   "cell_type": "code",
   "execution_count": 47,
   "id": "27fd51ec-c472-4505-830e-742f1a48251f",
   "metadata": {},
   "outputs": [
    {
     "name": "stdout",
     "output_type": "stream",
     "text": [
      "True\n"
     ]
    }
   ],
   "source": [
    "print (a <= b)"
   ]
  },
  {
   "cell_type": "markdown",
   "id": "165b32a0-808b-474a-bd55-b10a47665b04",
   "metadata": {},
   "source": [
    "given:\n",
    "\n",
    "x = True\n",
    "y = False\n",
    "\n",
    "Evaluate and print:\n",
    "\n",
    "x and y\n",
    "\n",
    "x or y\n",
    "\n",
    "not x\n",
    "\n",
    "not y"
   ]
  },
  {
   "cell_type": "code",
   "execution_count": 48,
   "id": "57833209-8a1c-499c-879c-e9aa5bbe6540",
   "metadata": {},
   "outputs": [],
   "source": [
    "x = True\n",
    "y = False"
   ]
  },
  {
   "cell_type": "code",
   "execution_count": 49,
   "id": "b1aa7d67-38e0-4b7e-bbe1-3443cba1d83c",
   "metadata": {},
   "outputs": [
    {
     "data": {
      "text/plain": [
       "False"
      ]
     },
     "execution_count": 49,
     "metadata": {},
     "output_type": "execute_result"
    }
   ],
   "source": [
    "a and y"
   ]
  },
  {
   "cell_type": "code",
   "execution_count": 50,
   "id": "80918fa4-9138-4129-b530-a08563cec12a",
   "metadata": {},
   "outputs": [
    {
     "data": {
      "text/plain": [
       "True"
      ]
     },
     "execution_count": 50,
     "metadata": {},
     "output_type": "execute_result"
    }
   ],
   "source": [
    "x or y"
   ]
  },
  {
   "cell_type": "code",
   "execution_count": 51,
   "id": "cf7bdf67-8906-4596-99ea-40c3d3fa49b6",
   "metadata": {},
   "outputs": [
    {
     "data": {
      "text/plain": [
       "False"
      ]
     },
     "execution_count": 51,
     "metadata": {},
     "output_type": "execute_result"
    }
   ],
   "source": [
    "not x"
   ]
  },
  {
   "cell_type": "code",
   "execution_count": 52,
   "id": "add775e9-2fa5-4721-951a-c2fe2f1bd8de",
   "metadata": {},
   "outputs": [
    {
     "data": {
      "text/plain": [
       "True"
      ]
     },
     "execution_count": 52,
     "metadata": {},
     "output_type": "execute_result"
    }
   ],
   "source": [
    "not y"
   ]
  }
 ],
 "metadata": {
  "kernelspec": {
   "display_name": "Python 3 (ipykernel)",
   "language": "python",
   "name": "python3"
  },
  "language_info": {
   "codemirror_mode": {
    "name": "ipython",
    "version": 3
   },
   "file_extension": ".py",
   "mimetype": "text/x-python",
   "name": "python",
   "nbconvert_exporter": "python",
   "pygments_lexer": "ipython3",
   "version": "3.12.7"
  }
 },
 "nbformat": 4,
 "nbformat_minor": 5
}
