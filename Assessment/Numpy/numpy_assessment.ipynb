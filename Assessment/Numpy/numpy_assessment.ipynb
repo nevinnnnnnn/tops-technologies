{
 "cells": [
  {
   "cell_type": "code",
   "execution_count": 1,
   "id": "fc09d6b1-dc57-4c8e-8e78-2f157067df0a",
   "metadata": {},
   "outputs": [],
   "source": [
    "import numpy as np"
   ]
  },
  {
   "cell_type": "markdown",
   "id": "60e83c29-e92a-4001-9a39-4f1765bfbefb",
   "metadata": {},
   "source": [
    "1. 3D array of shape (2,3,4) filled with integers 1–24\n"
   ]
  },
  {
   "cell_type": "code",
   "execution_count": 5,
   "id": "e422c63d-609a-4769-8efb-fc76f416f450",
   "metadata": {},
   "outputs": [
    {
     "name": "stdout",
     "output_type": "stream",
     "text": [
      "[[[ 1  2  3  4]\n",
      "  [ 5  6  7  8]\n",
      "  [ 9 10 11 12]]\n",
      "\n",
      " [[13 14 15 16]\n",
      "  [17 18 19 20]\n",
      "  [21 22 23 24]]]\n"
     ]
    }
   ],
   "source": [
    "arr1 = np.arange(1, 25).reshape(2, 3, 4)\n",
    "print(arr1)"
   ]
  },
  {
   "cell_type": "markdown",
   "id": "9bc851ab-916a-4c2a-a86a-91d143d162a6",
   "metadata": {},
   "source": [
    "2. 5×5 array with random integers 10–50, extract evens"
   ]
  },
  {
   "cell_type": "code",
   "execution_count": 32,
   "id": "685b47a6-f08b-4298-bacb-16729614820b",
   "metadata": {},
   "outputs": [
    {
     "name": "stdout",
     "output_type": "stream",
     "text": [
      "[[42 39 40 18 11]\n",
      " [22 14 36 40 20]\n",
      " [49 38 13 10 15]\n",
      " [37 22 12 11 32]\n",
      " [25 45 24 26 34]]\n",
      "\n",
      "[42 40 18 22 14 36 40 20 38 10 22 12 32 24 26 34]\n"
     ]
    }
   ],
   "source": [
    "arr2 = np.random.randint(10, 51, (5, 5))\n",
    "evens = arr2[arr2 % 2 == 0]\n",
    "print(arr2)\n",
    "print()\n",
    "print(evens)"
   ]
  },
  {
   "cell_type": "markdown",
   "id": "abacba96-4c51-41a6-9e33-0427b14da2cf",
   "metadata": {},
   "source": [
    "3. Create two arrays a = np.arange(1,13).reshape(3,4) and b = np.array([10,20,30,40]). Use broadcasting to add b to every row of a."
   ]
  },
  {
   "cell_type": "code",
   "execution_count": 10,
   "id": "5de7d74a-2c9a-42bb-a4a4-138857b59eb3",
   "metadata": {},
   "outputs": [
    {
     "name": "stdout",
     "output_type": "stream",
     "text": [
      "[[11 22 33 44]\n",
      " [15 26 37 48]\n",
      " [19 30 41 52]]\n"
     ]
    }
   ],
   "source": [
    "a = np.arange(1, 13).reshape(3, 4)\n",
    "b = np.array([10, 20, 30, 40])\n",
    "res3 = a + b\n",
    "print(res3)"
   ]
  },
  {
   "cell_type": "markdown",
   "id": "df448831-59fc-4474-a69f-f25ed30cf6d2",
   "metadata": {},
   "source": [
    "4. Construct a 6×6 identity matrix and replace its secondary diagonal (from top-right to bottom-left) with all 7’s."
   ]
  },
  {
   "cell_type": "code",
   "execution_count": 11,
   "id": "60e3c6be-2837-4e24-9785-25285640ab86",
   "metadata": {},
   "outputs": [
    {
     "name": "stdout",
     "output_type": "stream",
     "text": [
      "[[1 0 0 0 0 0]\n",
      " [0 1 0 0 0 0]\n",
      " [0 0 1 0 0 0]\n",
      " [0 0 0 1 0 0]\n",
      " [0 0 0 0 1 0]\n",
      " [0 0 0 0 0 1]]\n"
     ]
    }
   ],
   "source": [
    "arr4 = np.eye(6, dtype=int)\n",
    "print(arr4)"
   ]
  },
  {
   "cell_type": "code",
   "execution_count": 12,
   "id": "90e0a9a8-17b6-4b3a-89b9-30f23a6040b3",
   "metadata": {},
   "outputs": [
    {
     "name": "stdout",
     "output_type": "stream",
     "text": [
      "[[1 0 0 0 0 7]\n",
      " [0 1 0 0 7 0]\n",
      " [0 0 1 7 0 0]\n",
      " [0 0 7 1 0 0]\n",
      " [0 7 0 0 1 0]\n",
      " [7 0 0 0 0 1]]\n"
     ]
    }
   ],
   "source": [
    "arr4[np.arange(6), np.arange(5, -1, -1)] = 7\n",
    "print(arr4)"
   ]
  },
  {
   "cell_type": "markdown",
   "id": "3e790faf-ff00-4230-9b6c-1a906132f391",
   "metadata": {},
   "source": [
    "5. Generate 20 linearly spaced numbers between -5 and 5. Reshape into a (4,5) array and extract only the elements greater than 0.\n"
   ]
  },
  {
   "cell_type": "code",
   "execution_count": 14,
   "id": "6ac0ba3a-11cf-46ba-8fe1-8dfaaaf311a4",
   "metadata": {},
   "outputs": [
    {
     "name": "stdout",
     "output_type": "stream",
     "text": [
      "[[-5.         -4.47368421 -3.94736842 -3.42105263 -2.89473684]\n",
      " [-2.36842105 -1.84210526 -1.31578947 -0.78947368 -0.26315789]\n",
      " [ 0.26315789  0.78947368  1.31578947  1.84210526  2.36842105]\n",
      " [ 2.89473684  3.42105263  3.94736842  4.47368421  5.        ]]\n",
      "\n",
      "[0.26315789 0.78947368 1.31578947 1.84210526 2.36842105 2.89473684\n",
      " 3.42105263 3.94736842 4.47368421 5.        ]\n"
     ]
    }
   ],
   "source": [
    "arr5 = np.linspace(-5, 5, 20).reshape(4, 5)\n",
    "greater_than_zero = arr5[arr5 > 0]\n",
    "print(arr5)\n",
    "print()\n",
    "print(greater_than_zero)"
   ]
  },
  {
   "cell_type": "markdown",
   "id": "a17b035c-6de2-42b5-8d2d-c89b9e0e3b14",
   "metadata": {},
   "source": [
    "6. Create a 4×4 array with numbers from 1 to 16. Swap the first and last rows using slicing.\n"
   ]
  },
  {
   "cell_type": "code",
   "execution_count": 15,
   "id": "e180852a-2668-4d7a-95e6-7bad6d3ba0a3",
   "metadata": {},
   "outputs": [
    {
     "name": "stdout",
     "output_type": "stream",
     "text": [
      "[[ 1  2  3  4]\n",
      " [ 5  6  7  8]\n",
      " [ 9 10 11 12]\n",
      " [13 14 15 16]]\n",
      "\n",
      "[[13 14 15 16]\n",
      " [ 5  6  7  8]\n",
      " [ 9 10 11 12]\n",
      " [ 1  2  3  4]]\n"
     ]
    }
   ],
   "source": [
    "arr6 = np.arange(1, 17).reshape(4, 4)\n",
    "print(arr6)\n",
    "print()\n",
    "arr6[[0, -1]] = arr6[[-1, 0]]\n",
    "print((arr6))"
   ]
  },
  {
   "cell_type": "markdown",
   "id": "ae6c0903-7524-4d98-bc60-407b3287bb6e",
   "metadata": {},
   "source": [
    "7. \n",
    "Create a 10×10 array with random floats between 0 and 1, then find the row with the maximum sum.\n"
   ]
  },
  {
   "cell_type": "code",
   "execution_count": 16,
   "id": "023bdabc-2e95-4ba0-8564-795b33fed0fe",
   "metadata": {},
   "outputs": [
    {
     "name": "stdout",
     "output_type": "stream",
     "text": [
      "[[0.24989487 0.9900581  0.49616536 0.81614814 0.830473   0.63015041\n",
      "  0.12012014 0.93127386 0.13342945 0.99850471]\n",
      " [0.4358403  0.75019843 0.6173592  0.79062069 0.67630786 0.82534515\n",
      "  0.32518127 0.54401554 0.99540931 0.70848827]\n",
      " [0.17756978 0.0579399  0.39919484 0.78946488 0.98853851 0.64003254\n",
      "  0.97658141 0.34910191 0.45037029 0.47857296]\n",
      " [0.67146497 0.98634707 0.83504734 0.63147371 0.93754545 0.79780478\n",
      "  0.79165602 0.26807742 0.39628054 0.80549995]\n",
      " [0.86692276 0.24137814 0.32605183 0.67998248 0.22121048 0.21237763\n",
      "  0.63663718 0.82020056 0.08057457 0.13619492]\n",
      " [0.82899936 0.71181475 0.81563531 0.75981653 0.25287019 0.83359323\n",
      "  0.61734768 0.41828487 0.96361455 0.97473686]\n",
      " [0.58609046 0.83261261 0.2962663  0.37205035 0.79453948 0.84858694\n",
      "  0.2287376  0.02849627 0.63246264 0.88968223]\n",
      " [0.65701908 0.5868446  0.94890588 0.29356722 0.95615259 0.64802752\n",
      "  0.68970581 0.14307045 0.0343604  0.87926797]\n",
      " [0.39455901 0.17985711 0.23164421 0.55219271 0.3331624  0.96644842\n",
      "  0.58492583 0.96615909 0.66024152 0.64161565]\n",
      " [0.2902934  0.64396942 0.21612369 0.62386162 0.94052406 0.09469997\n",
      "  0.63008041 0.04017461 0.5859532  0.80660871]]\n",
      "\n",
      "[0.82899936 0.71181475 0.81563531 0.75981653 0.25287019 0.83359323\n",
      " 0.61734768 0.41828487 0.96361455 0.97473686]\n"
     ]
    }
   ],
   "source": [
    "arr7 = np.random.rand(10, 10)\n",
    "print(arr7)\n",
    "print()\n",
    "row_max_sum = arr7[np.argmax(arr7.sum(axis=1))]\n",
    "print(row_max_sum)"
   ]
  },
  {
   "cell_type": "markdown",
   "id": "58e0a928-b2d9-4fb7-91d4-f321e39ed36e",
   "metadata": {},
   "source": [
    "8. Given arr = np.arange(1,26).reshape(5,5), extract the submatrix of even numbers only, keeping their 2D structure.\n"
   ]
  },
  {
   "cell_type": "code",
   "execution_count": 33,
   "id": "2366350d-39e4-4dd0-8c9d-871576ea99f6",
   "metadata": {},
   "outputs": [
    {
     "name": "stdout",
     "output_type": "stream",
     "text": [
      "[[ 0  2  0  4  0]\n",
      " [ 6  0  8  0 10]\n",
      " [ 0 12  0 14  0]\n",
      " [16  0 18  0 20]\n",
      " [ 0 22  0 24  0]]\n"
     ]
    }
   ],
   "source": [
    "arr = np.arange(1, 26).reshape(5, 5)\n",
    "mask = arr % 2 == 0\n",
    "submatrix = np.where(mask, arr, 0)\n",
    "print(submatrix)"
   ]
  },
  {
   "cell_type": "markdown",
   "id": "e44d4fd1-1dc4-4552-9f79-3906edd5e6bb",
   "metadata": {},
   "source": [
    "9. Generate two arrays a = np.array([1,2,3]) and b = np.array([[10],[20],[30]]). Perform multiplication using broadcasting and explain the result.\n"
   ]
  },
  {
   "cell_type": "code",
   "execution_count": 20,
   "id": "3c9afd51-848a-45fb-942e-39245858f698",
   "metadata": {},
   "outputs": [
    {
     "name": "stdout",
     "output_type": "stream",
     "text": [
      "[1 2 3]\n",
      "\n",
      "[[10]\n",
      " [20]\n",
      " [30]]\n",
      "\n",
      "[[10 20 30]\n",
      " [20 40 60]\n",
      " [30 60 90]]\n"
     ]
    }
   ],
   "source": [
    "a9 = np.array([1, 2, 3])\n",
    "b9 = np.array([[10], [20], [30]])\n",
    "res9 = a9 * b9\n",
    "\n",
    "print(a9)\n",
    "print()\n",
    "print(b9)\n",
    "print()\n",
    "print(res9)"
   ]
  },
  {
   "cell_type": "markdown",
   "id": "909cf4b6-46b3-439b-9ade-82ac2e283378",
   "metadata": {},
   "source": [
    "10. Create a diagonal matrix with values [5,10,15,20]. Then convert it into a full 4×4 matrix where diagonal values remain but others are filled with -1.\n"
   ]
  },
  {
   "cell_type": "code",
   "execution_count": 21,
   "id": "ca256e0c-b155-4aea-8774-d93af28133f8",
   "metadata": {},
   "outputs": [
    {
     "name": "stdout",
     "output_type": "stream",
     "text": [
      "[5, 10, 15, 20]\n",
      "\n",
      "[[ 5 -1 -1 -1]\n",
      " [-1 10 -1 -1]\n",
      " [-1 -1 15 -1]\n",
      " [-1 -1 -1 20]]\n"
     ]
    }
   ],
   "source": [
    "diag_vals = [5, 10, 15, 20]\n",
    "arr10 = np.full((4, 4), -1)\n",
    "np.fill_diagonal(arr10, diag_vals)\n",
    "\n",
    "print(diag_vals)\n",
    "print()\n",
    "print(arr10)"
   ]
  },
  {
   "cell_type": "markdown",
   "id": "d689645d-bcd2-45d2-9d4f-5a810c6d19c4",
   "metadata": {},
   "source": [
    "11. Using np.eye(5), create a 5×5 matrix with diagonal values equal to multiples of 3.\n"
   ]
  },
  {
   "cell_type": "code",
   "execution_count": 22,
   "id": "2b8aa1a5-d035-4fbd-8f16-cb182aa2cd22",
   "metadata": {},
   "outputs": [
    {
     "name": "stdout",
     "output_type": "stream",
     "text": [
      "[[ 3.  0.  0.  0.  0.]\n",
      " [ 0.  6.  0.  0.  0.]\n",
      " [ 0.  0.  9.  0.  0.]\n",
      " [ 0.  0.  0. 12.  0.]\n",
      " [ 0.  0.  0.  0. 15.]]\n"
     ]
    }
   ],
   "source": [
    "arr11 = np.eye(5) * np.arange(1, 6) * 3\n",
    "print(arr11)"
   ]
  },
  {
   "cell_type": "markdown",
   "id": "575048e1-ad9e-4e6a-acf3-775023fa7712",
   "metadata": {},
   "source": [
    "12. Construct an array of shape (3,4,2) with values from 1 to 24. Flatten it using ravel(), and then reshape it into (2,3,4).\n"
   ]
  },
  {
   "cell_type": "code",
   "execution_count": 23,
   "id": "3c8a1d74-f684-4f1b-bbe3-dfaf2d387cd0",
   "metadata": {},
   "outputs": [
    {
     "name": "stdout",
     "output_type": "stream",
     "text": [
      "[[[ 1  2]\n",
      "  [ 3  4]\n",
      "  [ 5  6]\n",
      "  [ 7  8]]\n",
      "\n",
      " [[ 9 10]\n",
      "  [11 12]\n",
      "  [13 14]\n",
      "  [15 16]]\n",
      "\n",
      " [[17 18]\n",
      "  [19 20]\n",
      "  [21 22]\n",
      "  [23 24]]]\n",
      "\n",
      "[ 1  2  3  4  5  6  7  8  9 10 11 12 13 14 15 16 17 18 19 20 21 22 23 24]\n",
      "\n",
      "[[[ 1  2  3  4]\n",
      "  [ 5  6  7  8]\n",
      "  [ 9 10 11 12]]\n",
      "\n",
      " [[13 14 15 16]\n",
      "  [17 18 19 20]\n",
      "  [21 22 23 24]]]\n"
     ]
    }
   ],
   "source": [
    "arr12 = np.arange(1, 25).reshape(3, 4, 2)\n",
    "flattened = arr12.ravel()\n",
    "reshaped12 = flattened.reshape(2, 3, 4)\n",
    "print(arr12)\n",
    "print()\n",
    "print(flattened)\n",
    "print()\n",
    "print(reshaped12)"
   ]
  },
  {
   "cell_type": "markdown",
   "id": "4cef981b-fa9b-4f93-b447-c9a8f01c8a8f",
   "metadata": {},
   "source": [
    "13. Generate a 7×7 matrix of random integers (1–100). Replace all values divisible by 5 with -5 using boolean indexing.\n"
   ]
  },
  {
   "cell_type": "code",
   "execution_count": 27,
   "id": "6603ed6e-a779-4b2e-b442-071291ad027d",
   "metadata": {},
   "outputs": [
    {
     "name": "stdout",
     "output_type": "stream",
     "text": [
      "[[62 21  2 -5 28 49 32]\n",
      " [-5 -5  4 23 14 22 -5]\n",
      " [18 98 56 57 37 33 43]\n",
      " [38 99  2  3 84 91 62]\n",
      " [57 28 86 57 -5 89 -5]\n",
      " [47 -5 73 44 -5 12 82]\n",
      " [49 23 97 26 67 39 81]]\n"
     ]
    }
   ],
   "source": [
    "arr13 = np.random.randint(1, 101, (7, 7))\n",
    "arr13[arr13 % 5 == 0] = -5\n",
    "print(arr13)"
   ]
  },
  {
   "cell_type": "markdown",
   "id": "6d92d6b2-aa65-40ce-a42e-daf170fb4784",
   "metadata": {},
   "source": [
    "14. Given arr = np.linspace(0, 2*np.pi, 10), compute sine and cosine values for each element and stack them into a 2D array with shape (10,2).\n"
   ]
  },
  {
   "cell_type": "code",
   "execution_count": 28,
   "id": "66fa849d-4448-454b-82e7-8d67c3c9c434",
   "metadata": {},
   "outputs": [
    {
     "name": "stdout",
     "output_type": "stream",
     "text": [
      "[0.         0.6981317  1.3962634  2.0943951  2.7925268  3.4906585\n",
      " 4.1887902  4.88692191 5.58505361 6.28318531]\n",
      "\n",
      "[[ 0.00000000e+00  1.00000000e+00]\n",
      " [ 6.42787610e-01  7.66044443e-01]\n",
      " [ 9.84807753e-01  1.73648178e-01]\n",
      " [ 8.66025404e-01 -5.00000000e-01]\n",
      " [ 3.42020143e-01 -9.39692621e-01]\n",
      " [-3.42020143e-01 -9.39692621e-01]\n",
      " [-8.66025404e-01 -5.00000000e-01]\n",
      " [-9.84807753e-01  1.73648178e-01]\n",
      " [-6.42787610e-01  7.66044443e-01]\n",
      " [-2.44929360e-16  1.00000000e+00]]\n"
     ]
    }
   ],
   "source": [
    "arr14 = np.linspace(0, 2*np.pi, 10)\n",
    "sin_cos = np.column_stack((np.sin(arr14), np.cos(arr14)))\n",
    "print(arr14)\n",
    "print()\n",
    "print(sin_cos)"
   ]
  },
  {
   "cell_type": "markdown",
   "id": "db319e17-8719-47af-83f8-4114a5dea4d4",
   "metadata": {},
   "source": [
    "15. Create a 5×5 checkerboard pattern (alternating 0s and 1s) using slicing, without manually typing each element."
   ]
  },
  {
   "cell_type": "code",
   "execution_count": 30,
   "id": "f5416a51-e748-488b-b63a-e54f8701e9e1",
   "metadata": {},
   "outputs": [
    {
     "name": "stdout",
     "output_type": "stream",
     "text": [
      "[[0 1 0 1 0]\n",
      " [1 0 1 0 1]\n",
      " [0 1 0 1 0]\n",
      " [1 0 1 0 1]\n",
      " [0 1 0 1 0]]\n"
     ]
    }
   ],
   "source": [
    "arr15 = np.zeros((5, 5), dtype=int)\n",
    "arr15[::2, 1::2] = 1\n",
    "arr15[1::2, ::2] = 1\n",
    "arr15\n",
    "print(arr15)"
   ]
  }
 ],
 "metadata": {
  "kernelspec": {
   "display_name": "Python 3 (ipykernel)",
   "language": "python",
   "name": "python3"
  },
  "language_info": {
   "codemirror_mode": {
    "name": "ipython",
    "version": 3
   },
   "file_extension": ".py",
   "mimetype": "text/x-python",
   "name": "python",
   "nbconvert_exporter": "python",
   "pygments_lexer": "ipython3",
   "version": "3.13.7"
  }
 },
 "nbformat": 4,
 "nbformat_minor": 5
}
