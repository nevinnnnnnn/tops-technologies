{
 "cells": [
  {
   "cell_type": "code",
   "execution_count": 19,
   "id": "14d2e303-c3c2-46ef-a788-ec9cb5495b38",
   "metadata": {},
   "outputs": [],
   "source": [
    "import pandas as pd\n",
    "import numpy as np\n",
    "import matplotlib.pyplot as plt\n",
    "import seaborn as sns"
   ]
  },
  {
   "cell_type": "code",
   "execution_count": 3,
   "id": "d5ee5dc0-80de-4899-99be-87daf073e1f4",
   "metadata": {},
   "outputs": [],
   "source": [
    "df = pd.read_csv(\"Retail Data.csv\", encoding = 'latin - 1')"
   ]
  },
  {
   "cell_type": "markdown",
   "id": "0239093c-9090-4d33-9acb-69ab7217d947",
   "metadata": {},
   "source": [
    "1. View the structure of the dataset (columns, types, missing values)"
   ]
  },
  {
   "cell_type": "code",
   "execution_count": 4,
   "id": "ca140622-deab-4f27-bd8e-fb58a205ae2a",
   "metadata": {},
   "outputs": [
    {
     "name": "stdout",
     "output_type": "stream",
     "text": [
      "<class 'pandas.core.frame.DataFrame'>\n",
      "RangeIndex: 5000 entries, 0 to 4999\n",
      "Data columns (total 24 columns):\n",
      " #   Column             Non-Null Count  Dtype  \n",
      "---  ------             --------------  -----  \n",
      " 0   ï»¿Order No        5000 non-null   object \n",
      " 1   Order Date         5000 non-null   object \n",
      " 2   Customer Name      5000 non-null   object \n",
      " 3   Address            4999 non-null   object \n",
      " 4   City               5000 non-null   object \n",
      " 5   State              5000 non-null   object \n",
      " 6   Customer Type      5000 non-null   object \n",
      " 7   Account Manager    5000 non-null   object \n",
      " 8   Order Priority     5000 non-null   object \n",
      " 9   Product Name       5000 non-null   object \n",
      " 10  Product Category   5000 non-null   object \n",
      " 11  Product Container  5000 non-null   object \n",
      " 12  Ship Mode          5000 non-null   object \n",
      " 13  Ship Date          5000 non-null   object \n",
      " 14  Cost Price         5000 non-null   object \n",
      " 15  Retail Price       5000 non-null   object \n",
      " 16  Profit Margin      5000 non-null   object \n",
      " 17  Order Quantity     4999 non-null   float64\n",
      " 18  Sub Total          5000 non-null   object \n",
      " 19  Discount %         5000 non-null   object \n",
      " 20  Discount $         5000 non-null   object \n",
      " 21  Order Total        5000 non-null   object \n",
      " 22  Shipping Cost      5000 non-null   object \n",
      " 23  Total              5000 non-null   object \n",
      "dtypes: float64(1), object(23)\n",
      "memory usage: 937.6+ KB\n"
     ]
    },
    {
     "data": {
      "text/plain": [
       "ï»¿Order No          0\n",
       "Order Date           0\n",
       "Customer Name        0\n",
       "Address              1\n",
       "City                 0\n",
       "State                0\n",
       "Customer Type        0\n",
       "Account Manager      0\n",
       "Order Priority       0\n",
       "Product Name         0\n",
       "Product Category     0\n",
       "Product Container    0\n",
       "Ship Mode            0\n",
       "Ship Date            0\n",
       "Cost Price           0\n",
       "Retail Price         0\n",
       "Profit Margin        0\n",
       "Order Quantity       1\n",
       "Sub Total            0\n",
       "Discount %           0\n",
       "Discount $           0\n",
       "Order Total          0\n",
       "Shipping Cost        0\n",
       "Total                0\n",
       "dtype: int64"
      ]
     },
     "execution_count": 4,
     "metadata": {},
     "output_type": "execute_result"
    }
   ],
   "source": [
    "df.info()\n",
    "df.isnull().sum()"
   ]
  },
  {
   "cell_type": "markdown",
   "id": "436ac19e-e1a5-4f60-8cb3-e1f6348cfced",
   "metadata": {},
   "source": [
    "2. What is the shape (rows, columns) of the dataset?"
   ]
  },
  {
   "cell_type": "code",
   "execution_count": 5,
   "id": "cd93c14f-d9eb-4bff-9ff7-f68822a7093c",
   "metadata": {},
   "outputs": [
    {
     "data": {
      "text/plain": [
       "(5000, 24)"
      ]
     },
     "execution_count": 5,
     "metadata": {},
     "output_type": "execute_result"
    }
   ],
   "source": [
    "df.shape"
   ]
  },
  {
   "cell_type": "markdown",
   "id": "32a6b8f8-11e5-47fe-b48d-dec50ab49630",
   "metadata": {},
   "source": [
    "3. Are there any duplicate records?"
   ]
  },
  {
   "cell_type": "code",
   "execution_count": 10,
   "id": "38f27e61-9df1-4aed-8ba2-3db15e27fd5a",
   "metadata": {},
   "outputs": [
    {
     "data": {
      "text/plain": [
       "np.int64(0)"
      ]
     },
     "execution_count": 10,
     "metadata": {},
     "output_type": "execute_result"
    }
   ],
   "source": [
    "df.duplicated().sum()"
   ]
  },
  {
   "cell_type": "markdown",
   "id": "be254886-72dc-46a1-9f05-fea6f821273f",
   "metadata": {},
   "source": [
    "4. Are there any missing or corrupted entries in Ship Date, Order Date, or numeric\n",
    "columns?"
   ]
  },
  {
   "cell_type": "code",
   "execution_count": 11,
   "id": "469f47a6-e825-4966-8a3e-56469623a50f",
   "metadata": {},
   "outputs": [
    {
     "data": {
      "text/plain": [
       "Order Date        0\n",
       "Ship Date         0\n",
       "Order Quantity    1\n",
       "dtype: int64"
      ]
     },
     "execution_count": 11,
     "metadata": {},
     "output_type": "execute_result"
    }
   ],
   "source": [
    "df[['Order Date', 'Ship Date', 'Order Quantity']].isnull().sum()"
   ]
  },
  {
   "cell_type": "markdown",
   "id": "50b56319-b2ba-443b-ae14-d1b7edae1e60",
   "metadata": {},
   "source": [
    "5. Convert Order Date and Ship Date to datetime."
   ]
  },
  {
   "cell_type": "code",
   "execution_count": 15,
   "id": "45fd2f35-6806-4a8f-a243-8e1da79e42ab",
   "metadata": {},
   "outputs": [
    {
     "name": "stdout",
     "output_type": "stream",
     "text": [
      "Order Date    datetime64[ns]\n",
      "Ship Date     datetime64[ns]\n",
      "dtype: object\n"
     ]
    },
    {
     "data": {
      "text/html": [
       "<div>\n",
       "<style scoped>\n",
       "    .dataframe tbody tr th:only-of-type {\n",
       "        vertical-align: middle;\n",
       "    }\n",
       "\n",
       "    .dataframe tbody tr th {\n",
       "        vertical-align: top;\n",
       "    }\n",
       "\n",
       "    .dataframe thead th {\n",
       "        text-align: right;\n",
       "    }\n",
       "</style>\n",
       "<table border=\"1\" class=\"dataframe\">\n",
       "  <thead>\n",
       "    <tr style=\"text-align: right;\">\n",
       "      <th></th>\n",
       "      <th>Order Date</th>\n",
       "      <th>Ship Date</th>\n",
       "    </tr>\n",
       "  </thead>\n",
       "  <tbody>\n",
       "    <tr>\n",
       "      <th>0</th>\n",
       "      <td>2014-02-09</td>\n",
       "      <td>2014-04-09</td>\n",
       "    </tr>\n",
       "    <tr>\n",
       "      <th>1</th>\n",
       "      <td>NaT</td>\n",
       "      <td>NaT</td>\n",
       "    </tr>\n",
       "    <tr>\n",
       "      <th>2</th>\n",
       "      <td>NaT</td>\n",
       "      <td>NaT</td>\n",
       "    </tr>\n",
       "    <tr>\n",
       "      <th>3</th>\n",
       "      <td>NaT</td>\n",
       "      <td>NaT</td>\n",
       "    </tr>\n",
       "    <tr>\n",
       "      <th>4</th>\n",
       "      <td>NaT</td>\n",
       "      <td>NaT</td>\n",
       "    </tr>\n",
       "  </tbody>\n",
       "</table>\n",
       "</div>"
      ],
      "text/plain": [
       "  Order Date  Ship Date\n",
       "0 2014-02-09 2014-04-09\n",
       "1        NaT        NaT\n",
       "2        NaT        NaT\n",
       "3        NaT        NaT\n",
       "4        NaT        NaT"
      ]
     },
     "execution_count": 15,
     "metadata": {},
     "output_type": "execute_result"
    }
   ],
   "source": [
    "df['Order Date'] = pd.to_datetime(df['Order Date'], errors='coerce')\n",
    "df['Ship Date'] = pd.to_datetime(df['Ship Date'], errors='coerce')\n",
    "\n",
    "print(df[['Order Date', 'Ship Date']].dtypes)\n",
    "df[['Order Date', 'Ship Date']].head()"
   ]
  },
  {
   "cell_type": "markdown",
   "id": "19147d56-b84e-488a-a186-c9fb6a287bfa",
   "metadata": {},
   "source": [
    "6. Check for future or inconsistent shipping dates.\n"
   ]
  },
  {
   "cell_type": "code",
   "execution_count": 16,
   "id": "760cea0e-51aa-4976-8db5-0d86968e9c43",
   "metadata": {},
   "outputs": [
    {
     "name": "stdout",
     "output_type": "stream",
     "text": [
      "Inconsistent shipping dates: 24\n",
      "Future shipping dates: 0\n"
     ]
    }
   ],
   "source": [
    "inconsistent_dates = df[df['Ship Date'] < df['Order Date']]\n",
    "future_dates = df[df['Ship Date'] > pd.Timestamp.today()]\n",
    "\n",
    "print(\"Inconsistent shipping dates:\", inconsistent_dates.shape[0])\n",
    "print(\"Future shipping dates:\", future_dates.shape[0])"
   ]
  },
  {
   "cell_type": "markdown",
   "id": "a9842b4d-3cc7-46ac-8c84-7996afedb734",
   "metadata": {},
   "source": [
    "7. Convert price columns to numeric (remove $ and commas).\n"
   ]
  },
  {
   "cell_type": "code",
   "execution_count": 35,
   "id": "4f8f03d0-983e-4a3d-a561-f74c2e5c5b9a",
   "metadata": {},
   "outputs": [
    {
     "data": {
      "text/html": [
       "<div>\n",
       "<style scoped>\n",
       "    .dataframe tbody tr th:only-of-type {\n",
       "        vertical-align: middle;\n",
       "    }\n",
       "\n",
       "    .dataframe tbody tr th {\n",
       "        vertical-align: top;\n",
       "    }\n",
       "\n",
       "    .dataframe thead th {\n",
       "        text-align: right;\n",
       "    }\n",
       "</style>\n",
       "<table border=\"1\" class=\"dataframe\">\n",
       "  <thead>\n",
       "    <tr style=\"text-align: right;\">\n",
       "      <th></th>\n",
       "      <th>Cost Price</th>\n",
       "      <th>Retail Price</th>\n",
       "      <th>Profit Margin</th>\n",
       "      <th>Sub Total</th>\n",
       "      <th>Discount %</th>\n",
       "      <th>Discount $</th>\n",
       "      <th>Order Total</th>\n",
       "      <th>Shipping Cost</th>\n",
       "      <th>Total</th>\n",
       "    </tr>\n",
       "  </thead>\n",
       "  <tbody>\n",
       "    <tr>\n",
       "      <th>0</th>\n",
       "      <td>156.50</td>\n",
       "      <td>300.97</td>\n",
       "      <td>144.47</td>\n",
       "      <td>4533.52</td>\n",
       "      <td>2</td>\n",
       "      <td>194.83</td>\n",
       "      <td>4757.22</td>\n",
       "      <td>7.18</td>\n",
       "      <td>4291.55</td>\n",
       "    </tr>\n",
       "    <tr>\n",
       "      <th>1</th>\n",
       "      <td>0.24</td>\n",
       "      <td>1.26</td>\n",
       "      <td>1.02</td>\n",
       "      <td>45.20</td>\n",
       "      <td>3</td>\n",
       "      <td>0.00</td>\n",
       "      <td>45.90</td>\n",
       "      <td>0.70</td>\n",
       "      <td>46.91</td>\n",
       "    </tr>\n",
       "    <tr>\n",
       "      <th>2</th>\n",
       "      <td>42.11</td>\n",
       "      <td>80.98</td>\n",
       "      <td>38.87</td>\n",
       "      <td>873.32</td>\n",
       "      <td>4</td>\n",
       "      <td>72.23</td>\n",
       "      <td>837.57</td>\n",
       "      <td>7.18</td>\n",
       "      <td>82.58</td>\n",
       "    </tr>\n",
       "    <tr>\n",
       "      <th>3</th>\n",
       "      <td>5.33</td>\n",
       "      <td>8.60</td>\n",
       "      <td>3.27</td>\n",
       "      <td>73.52</td>\n",
       "      <td>1</td>\n",
       "      <td>4.35</td>\n",
       "      <td>740.67</td>\n",
       "      <td>6.19</td>\n",
       "      <td>730.92</td>\n",
       "    </tr>\n",
       "    <tr>\n",
       "      <th>4</th>\n",
       "      <td>1.53</td>\n",
       "      <td>2.78</td>\n",
       "      <td>1.25</td>\n",
       "      <td>138.46</td>\n",
       "      <td>7</td>\n",
       "      <td>5.95</td>\n",
       "      <td>123.77</td>\n",
       "      <td>1.34</td>\n",
       "      <td>125.97</td>\n",
       "    </tr>\n",
       "  </tbody>\n",
       "</table>\n",
       "</div>"
      ],
      "text/plain": [
       "   Cost Price  Retail Price  Profit Margin  Sub Total  Discount %  Discount $  \\\n",
       "0      156.50        300.97         144.47    4533.52           2      194.83   \n",
       "1        0.24          1.26           1.02      45.20           3        0.00   \n",
       "2       42.11         80.98          38.87     873.32           4       72.23   \n",
       "3        5.33          8.60           3.27      73.52           1        4.35   \n",
       "4        1.53          2.78           1.25     138.46           7        5.95   \n",
       "\n",
       "   Order Total  Shipping Cost    Total  \n",
       "0      4757.22           7.18  4291.55  \n",
       "1        45.90           0.70    46.91  \n",
       "2       837.57           7.18    82.58  \n",
       "3       740.67           6.19   730.92  \n",
       "4       123.77           1.34   125.97  "
      ]
     },
     "execution_count": 35,
     "metadata": {},
     "output_type": "execute_result"
    }
   ],
   "source": [
    "price_cols = ['Cost Price', 'Retail Price', 'Profit Margin', 'Sub Total', \n",
    "              'Discount %', 'Discount $', 'Order Total', 'Shipping Cost', 'Total']\n",
    "\n",
    "for col in price_cols:\n",
    "    df[col] = df[col].replace(r'[\\$,%]', '', regex=True)\n",
    "    df[col] = pd.to_numeric(df[col], errors='coerce')\n",
    "\n",
    "df[price_cols].head()"
   ]
  },
  {
   "cell_type": "markdown",
   "id": "fa82f3f7-36c4-4601-a14d-08b2c93bf07d",
   "metadata": {},
   "source": [
    "8. What are the unique values in Customer Type and Order Priority?\n"
   ]
  },
  {
   "cell_type": "code",
   "execution_count": 17,
   "id": "984a0b12-6ff1-4264-a256-eed0657dbe13",
   "metadata": {},
   "outputs": [
    {
     "name": "stdout",
     "output_type": "stream",
     "text": [
      "Unique Customer Types: ['Small Business' 'Corporate' 'Consumer' 'Home Office']\n",
      "Unique Order Priorities: ['Critical' 'Medium' 'Not Specified' 'Low' 'High']\n"
     ]
    }
   ],
   "source": [
    "print(\"Unique Customer Types:\", df['Customer Type'].unique())\n",
    "print(\"Unique Order Priorities:\", df['Order Priority'].unique())"
   ]
  },
  {
   "cell_type": "markdown",
   "id": "1077f2ef-6482-415b-81d7-0c5f808a36ae",
   "metadata": {},
   "source": [
    "9. What are the most common shipping modes?"
   ]
  },
  {
   "cell_type": "code",
   "execution_count": 20,
   "id": "55873db8-2da3-48cb-957d-a7a6ac35f78b",
   "metadata": {},
   "outputs": [
    {
     "name": "stdout",
     "output_type": "stream",
     "text": [
      "Ship Mode\n",
      "Regular Air       4236\n",
      "Express Air        647\n",
      "Delivery Truck     117\n",
      "Name: count, dtype: int64\n"
     ]
    },
    {
     "name": "stderr",
     "output_type": "stream",
     "text": [
      "C:\\Users\\nevin\\AppData\\Local\\Temp\\ipykernel_18108\\1445036058.py:3: FutureWarning: \n",
      "\n",
      "Passing `palette` without assigning `hue` is deprecated and will be removed in v0.14.0. Assign the `y` variable to `hue` and set `legend=False` for the same effect.\n",
      "\n",
      "  sns.countplot(y='Ship Mode', data=df, palette='Blues')\n"
     ]
    },
    {
     "data": {
      "image/png": "[encoded data removed]",
      "text/plain": [
       "<Figure size 640x480 with 1 Axes>"
      ]
     },
     "metadata": {},
     "output_type": "display_data"
    }
   ],
   "source": [
    "print(df['Ship Mode'].value_counts())\n",
    "\n",
    "sns.countplot(y='Ship Mode', data=df, palette='Blues')\n",
    "plt.title(\"Most Common Shipping Modes\")\n",
    "plt.show()"
   ]
  },
  {
   "cell_type": "markdown",
   "id": "a1912f37-d751-4b4c-b9da-b08d5faa5625",
   "metadata": {},
   "source": [
    "10. Which cities have the highest number of orders?\n"
   ]
  },
  {
   "cell_type": "code",
   "execution_count": 21,
   "id": "18aa3060-e240-43f3-9dfb-a55e1e79148d",
   "metadata": {},
   "outputs": [
    {
     "name": "stdout",
     "output_type": "stream",
     "text": [
      "City\n",
      "Sydney       3584\n",
      "Melbourne    1416\n",
      "Name: count, dtype: int64\n"
     ]
    },
    {
     "name": "stderr",
     "output_type": "stream",
     "text": [
      "C:\\Users\\nevin\\AppData\\Local\\Temp\\ipykernel_18108\\2581477423.py:4: FutureWarning: \n",
      "\n",
      "Passing `palette` without assigning `hue` is deprecated and will be removed in v0.14.0. Assign the `y` variable to `hue` and set `legend=False` for the same effect.\n",
      "\n",
      "  sns.barplot(x=top_cities.values, y=top_cities.index, palette='Greens_r')\n"
     ]
    },
    {
     "data": {
      "image/png": "[encoded data removed]",
      "text/plain": [
       "<Figure size 640x480 with 1 Axes>"
      ]
     },
     "metadata": {},
     "output_type": "display_data"
    }
   ],
   "source": [
    "top_cities = df['City'].value_counts().head(10)\n",
    "print(top_cities)\n",
    "\n",
    "sns.barplot(x=top_cities.values, y=top_cities.index, palette='Greens_r')\n",
    "plt.title(\"Top 10 Cities by Number of Orders\")\n",
    "plt.xlabel(\"Number of Orders\")\n",
    "plt.ylabel(\"City\")\n",
    "plt.show()"
   ]
  },
  {
   "cell_type": "markdown",
   "id": "6dbb9994-fc0a-4541-b463-6a1ffd0951c1",
   "metadata": {},
   "source": [
    "11. What’s the range of order quantities and prices?\n"
   ]
  },
  {
   "cell_type": "code",
   "execution_count": 22,
   "id": "589f6a9d-b671-4989-a8a1-12cf3f565a67",
   "metadata": {},
   "outputs": [
    {
     "name": "stdout",
     "output_type": "stream",
     "text": [
      "Order Quantity Summary:\n",
      " count    4999.000000\n",
      "mean       26.483097\n",
      "std        14.391863\n",
      "min         1.000000\n",
      "25%        13.000000\n",
      "50%        27.000000\n",
      "75%        39.000000\n",
      "max        50.000000\n",
      "Name: Order Quantity, dtype: float64\n",
      "\n",
      "Retail Price Summary:\n",
      " count    5000.000000\n",
      "mean       38.287266\n",
      "std        99.136522\n",
      "min         1.140000\n",
      "25%         2.940000\n",
      "50%         5.740000\n",
      "75%        19.980000\n",
      "max       599.990000\n",
      "Name: Retail Price, dtype: float64\n"
     ]
    }
   ],
   "source": [
    "print(\"Order Quantity Summary:\\n\", df['Order Quantity'].describe())\n",
    "print(\"\\nRetail Price Summary:\\n\", df['Retail Price'].describe())"
   ]
  },
  {
   "cell_type": "markdown",
   "id": "a27edd2f-8d6d-4001-8aed-8028349f6ae3",
   "metadata": {},
   "source": [
    "12. Create a new column for shipping duration.\n"
   ]
  },
  {
   "cell_type": "code",
   "execution_count": 23,
   "id": "6958ceda-984c-4d92-8767-5c22598394c2",
   "metadata": {},
   "outputs": [
    {
     "name": "stdout",
     "output_type": "stream",
     "text": [
      "Shipping Duration column added.\n",
      "\n",
      "  Order Date  Ship Date  Shipping Duration\n",
      "0 2014-02-09 2014-04-09               59.0\n",
      "1        NaT        NaT                NaN\n",
      "2        NaT        NaT                NaN\n",
      "3        NaT        NaT                NaN\n",
      "4        NaT        NaT                NaN\n"
     ]
    }
   ],
   "source": [
    "df['Shipping Duration'] = (df['Ship Date'] - df['Order Date']).dt.days\n",
    "print(\"Shipping Duration column added.\\n\")\n",
    "print(df[['Order Date', 'Ship Date', 'Shipping Duration']].head())"
   ]
  },
  {
   "cell_type": "markdown",
   "id": "a76c2972-82e2-42b1-bd77-f11f5e696a1b",
   "metadata": {},
   "source": [
    "13. Are there any orders with zero or negative total or quantity?\n"
   ]
  },
  {
   "cell_type": "code",
   "execution_count": 36,
   "id": "3424b716-21da-4e8b-97c7-c87431d352c2",
   "metadata": {},
   "outputs": [
    {
     "name": "stdout",
     "output_type": "stream",
     "text": [
      "Orders with zero or negative total/quantity: 0\n"
     ]
    },
    {
     "data": {
      "text/html": [
       "<div>\n",
       "<style scoped>\n",
       "    .dataframe tbody tr th:only-of-type {\n",
       "        vertical-align: middle;\n",
       "    }\n",
       "\n",
       "    .dataframe tbody tr th {\n",
       "        vertical-align: top;\n",
       "    }\n",
       "\n",
       "    .dataframe thead th {\n",
       "        text-align: right;\n",
       "    }\n",
       "</style>\n",
       "<table border=\"1\" class=\"dataframe\">\n",
       "  <thead>\n",
       "    <tr style=\"text-align: right;\">\n",
       "      <th></th>\n",
       "      <th>ï»¿Order No</th>\n",
       "      <th>Order Date</th>\n",
       "      <th>Customer Name</th>\n",
       "      <th>Address</th>\n",
       "      <th>City</th>\n",
       "      <th>State</th>\n",
       "      <th>Customer Type</th>\n",
       "      <th>Account Manager</th>\n",
       "      <th>Order Priority</th>\n",
       "      <th>Product Name</th>\n",
       "      <th>...</th>\n",
       "      <th>Retail Price</th>\n",
       "      <th>Profit Margin</th>\n",
       "      <th>Order Quantity</th>\n",
       "      <th>Sub Total</th>\n",
       "      <th>Discount %</th>\n",
       "      <th>Discount $</th>\n",
       "      <th>Order Total</th>\n",
       "      <th>Shipping Cost</th>\n",
       "      <th>Total</th>\n",
       "      <th>Shipping Duration</th>\n",
       "    </tr>\n",
       "  </thead>\n",
       "  <tbody>\n",
       "  </tbody>\n",
       "</table>\n",
       "<p>0 rows × 25 columns</p>\n",
       "</div>"
      ],
      "text/plain": [
       "Empty DataFrame\n",
       "Columns: [ï»¿Order No, Order Date, Customer Name, Address, City, State, Customer Type, Account Manager, Order Priority, Product Name, Product Category, Product Container, Ship Mode, Ship Date, Cost Price, Retail Price, Profit Margin, Order Quantity, Sub Total, Discount %, Discount $, Order Total, Shipping Cost, Total, Shipping Duration]\n",
       "Index: []\n",
       "\n",
       "[0 rows x 25 columns]"
      ]
     },
     "execution_count": 36,
     "metadata": {},
     "output_type": "execute_result"
    }
   ],
   "source": [
    "invalid_orders = df[(df['Total'] <= 0) | (df['Order Quantity'] <= 0)]\n",
    "print(f\"Orders with zero or negative total/quantity: {invalid_orders.shape[0]}\")\n",
    "invalid_orders.head()"
   ]
  },
  {
   "cell_type": "markdown",
   "id": "ecb42921-d7e8-4936-ba0d-4098e7cf7c50",
   "metadata": {},
   "source": [
    "14. Are all discount percentages matching discount dollar amounts?\n"
   ]
  },
  {
   "cell_type": "code",
   "execution_count": 37,
   "id": "456acb3d-f64e-448b-9eee-aebed2a3448c",
   "metadata": {},
   "outputs": [
    {
     "name": "stdout",
     "output_type": "stream",
     "text": [
      "Discount mismatches found: 3975\n"
     ]
    },
    {
     "data": {
      "text/html": [
       "<div>\n",
       "<style scoped>\n",
       "    .dataframe tbody tr th:only-of-type {\n",
       "        vertical-align: middle;\n",
       "    }\n",
       "\n",
       "    .dataframe tbody tr th {\n",
       "        vertical-align: top;\n",
       "    }\n",
       "\n",
       "    .dataframe thead th {\n",
       "        text-align: right;\n",
       "    }\n",
       "</style>\n",
       "<table border=\"1\" class=\"dataframe\">\n",
       "  <thead>\n",
       "    <tr style=\"text-align: right;\">\n",
       "      <th></th>\n",
       "      <th>Discount %</th>\n",
       "      <th>Discount $</th>\n",
       "      <th>Expected Discount $</th>\n",
       "    </tr>\n",
       "  </thead>\n",
       "  <tbody>\n",
       "    <tr>\n",
       "      <th>0</th>\n",
       "      <td>2</td>\n",
       "      <td>194.83</td>\n",
       "      <td>90.6704</td>\n",
       "    </tr>\n",
       "    <tr>\n",
       "      <th>1</th>\n",
       "      <td>3</td>\n",
       "      <td>0.00</td>\n",
       "      <td>1.3560</td>\n",
       "    </tr>\n",
       "    <tr>\n",
       "      <th>2</th>\n",
       "      <td>4</td>\n",
       "      <td>72.23</td>\n",
       "      <td>34.9328</td>\n",
       "    </tr>\n",
       "    <tr>\n",
       "      <th>3</th>\n",
       "      <td>1</td>\n",
       "      <td>4.35</td>\n",
       "      <td>0.7352</td>\n",
       "    </tr>\n",
       "    <tr>\n",
       "      <th>4</th>\n",
       "      <td>7</td>\n",
       "      <td>5.95</td>\n",
       "      <td>9.6922</td>\n",
       "    </tr>\n",
       "  </tbody>\n",
       "</table>\n",
       "</div>"
      ],
      "text/plain": [
       "   Discount %  Discount $  Expected Discount $\n",
       "0           2      194.83              90.6704\n",
       "1           3        0.00               1.3560\n",
       "2           4       72.23              34.9328\n",
       "3           1        4.35               0.7352\n",
       "4           7        5.95               9.6922"
      ]
     },
     "execution_count": 37,
     "metadata": {},
     "output_type": "execute_result"
    }
   ],
   "source": [
    "df['Expected Discount $'] = (df['Discount %'] / 100) * df['Sub Total']\n",
    "mismatch_discounts = df[np.abs(df['Discount $'] - df['Expected Discount $']) > 1]\n",
    "\n",
    "print(\"Discount mismatches found:\", mismatch_discounts.shape[0])\n",
    "mismatch_discounts[['Discount %', 'Discount $', 'Expected Discount $']].head()"
   ]
  },
  {
   "cell_type": "markdown",
   "id": "c46d6fcd-a5bc-4aa3-8017-287d94e9bc25",
   "metadata": {},
   "source": [
    "15. Check for mismatches in total calculation’\n"
   ]
  },
  {
   "cell_type": "code",
   "execution_count": 38,
   "id": "a0d6e407-5bf7-4e2f-bf4f-c18dbb21a05e",
   "metadata": {},
   "outputs": [
    {
     "name": "stdout",
     "output_type": "stream",
     "text": [
      "Mismatched total records: 4400\n"
     ]
    },
    {
     "data": {
      "text/html": [
       "<div>\n",
       "<style scoped>\n",
       "    .dataframe tbody tr th:only-of-type {\n",
       "        vertical-align: middle;\n",
       "    }\n",
       "\n",
       "    .dataframe tbody tr th {\n",
       "        vertical-align: top;\n",
       "    }\n",
       "\n",
       "    .dataframe thead th {\n",
       "        text-align: right;\n",
       "    }\n",
       "</style>\n",
       "<table border=\"1\" class=\"dataframe\">\n",
       "  <thead>\n",
       "    <tr style=\"text-align: right;\">\n",
       "      <th></th>\n",
       "      <th>Order Total</th>\n",
       "      <th>Shipping Cost</th>\n",
       "      <th>Discount $</th>\n",
       "      <th>Expected Total</th>\n",
       "      <th>Total</th>\n",
       "    </tr>\n",
       "  </thead>\n",
       "  <tbody>\n",
       "    <tr>\n",
       "      <th>0</th>\n",
       "      <td>4757.22</td>\n",
       "      <td>7.18</td>\n",
       "      <td>194.83</td>\n",
       "      <td>4569.57</td>\n",
       "      <td>4291.55</td>\n",
       "    </tr>\n",
       "    <tr>\n",
       "      <th>2</th>\n",
       "      <td>837.57</td>\n",
       "      <td>7.18</td>\n",
       "      <td>72.23</td>\n",
       "      <td>772.52</td>\n",
       "      <td>82.58</td>\n",
       "    </tr>\n",
       "    <tr>\n",
       "      <th>3</th>\n",
       "      <td>740.67</td>\n",
       "      <td>6.19</td>\n",
       "      <td>4.35</td>\n",
       "      <td>742.51</td>\n",
       "      <td>730.92</td>\n",
       "    </tr>\n",
       "    <tr>\n",
       "      <th>4</th>\n",
       "      <td>123.77</td>\n",
       "      <td>1.34</td>\n",
       "      <td>5.95</td>\n",
       "      <td>119.16</td>\n",
       "      <td>125.97</td>\n",
       "    </tr>\n",
       "    <tr>\n",
       "      <th>5</th>\n",
       "      <td>183.58</td>\n",
       "      <td>11.15</td>\n",
       "      <td>12.98</td>\n",
       "      <td>181.75</td>\n",
       "      <td>189.43</td>\n",
       "    </tr>\n",
       "  </tbody>\n",
       "</table>\n",
       "</div>"
      ],
      "text/plain": [
       "   Order Total  Shipping Cost  Discount $  Expected Total    Total\n",
       "0      4757.22           7.18      194.83         4569.57  4291.55\n",
       "2       837.57           7.18       72.23          772.52    82.58\n",
       "3       740.67           6.19        4.35          742.51   730.92\n",
       "4       123.77           1.34        5.95          119.16   125.97\n",
       "5       183.58          11.15       12.98          181.75   189.43"
      ]
     },
     "execution_count": 38,
     "metadata": {},
     "output_type": "execute_result"
    }
   ],
   "source": [
    "df['Expected Total'] = df['Order Total'] + df['Shipping Cost'] - df['Discount $']\n",
    "mismatch_total = df[np.abs(df['Expected Total'] - df['Total']) > 1]\n",
    "\n",
    "print(\"Mismatched total records:\", mismatch_total.shape[0])\n",
    "mismatch_total[['Order Total', 'Shipping Cost', 'Discount $', 'Expected Total', 'Total']].head()"
   ]
  },
  {
   "cell_type": "markdown",
   "id": "68115140-8478-4a22-a675-383bd3335c0f",
   "metadata": {},
   "source": [
    "16. Identify top 5 products by order quantity.\n"
   ]
  },
  {
   "cell_type": "code",
   "execution_count": 29,
   "id": "8737faca-c5e2-4024-881d-3bb7c15da8dc",
   "metadata": {},
   "outputs": [
    {
     "name": "stdout",
     "output_type": "stream",
     "text": [
      "Top 5 Products by Order Quantity:\n",
      " Product Name\n",
      "Artisan 474 Labels                         3395.0\n",
      "Smiths General Use 3-Ring Binders          3220.0\n",
      "Artisan 479 Labels                         3039.0\n",
      "Artisan 481 Labels                         2996.0\n",
      "Apex Preferred Stainless Steel Scissors    2896.0\n",
      "Name: Order Quantity, dtype: float64\n"
     ]
    }
   ],
   "source": [
    "top_products = df.groupby('Product Name')['Order Quantity'].sum().sort_values(ascending=False).head(5)\n",
    "print(\"Top 5 Products by Order Quantity:\\n\", top_products)"
   ]
  },
  {
   "cell_type": "markdown",
   "id": "34ad144d-3a48-4c18-9bf7-dbeb9fe85272",
   "metadata": {},
   "source": [
    "17. Which Account Manager handled the most revenue?\n"
   ]
  },
  {
   "cell_type": "code",
   "execution_count": 30,
   "id": "e68200f4-e0d8-490f-b8a3-a4a025f42724",
   "metadata": {},
   "outputs": [
    {
     "name": "stdout",
     "output_type": "stream",
     "text": [
      "Top 5 Account Managers by Revenue:\n",
      " Account Manager\n",
      "Connor Betts    $82.58$189.45$121.03$79.44$69.36$54.22$35.33$4...\n",
      "Phoebe Gour     $730.92$23.46$4,764.51$4,764.51$4,764.51$54.22...\n",
      "Oanya Zhang                                                $73.57\n",
      "Yvette Biti     $694.05$694.05$112.38$112.38$112.38$112.38$123...\n",
      "Mihael Khan     $60.45$274.97$54.22$34.43$418.99$129.53$362.47...\n",
      "Name: Total, dtype: object\n"
     ]
    }
   ],
   "source": [
    "revenue_by_manager = df.groupby('Account Manager')['Total'].sum().sort_values(ascending=False)\n",
    "print(\"Top 5 Account Managers by Revenue:\\n\", revenue_by_manager.head(5))"
   ]
  },
  {
   "cell_type": "markdown",
   "id": "7296f974-921b-408e-b926-61dd9dd2f082",
   "metadata": {},
   "source": [
    "18. What is the average shipping cost by mode?\n"
   ]
  },
  {
   "cell_type": "code",
   "execution_count": 39,
   "id": "68be132d-6c45-46d2-9515-173733ce2d63",
   "metadata": {},
   "outputs": [
    {
     "name": "stdout",
     "output_type": "stream",
     "text": [
      "Average Shipping Cost by Mode:\n",
      " Ship Mode\n",
      "Delivery Truck    5.270085\n",
      "Express Air       5.247311\n",
      "Regular Air       5.503553\n",
      "Name: Shipping Cost, dtype: float64\n"
     ]
    }
   ],
   "source": [
    "avg_ship_cost = df.groupby('Ship Mode')['Shipping Cost'].mean()\n",
    "print(\"Average Shipping Cost by Mode:\\n\", avg_ship_cost)"
   ]
  },
  {
   "cell_type": "markdown",
   "id": "d2b002b4-c659-46f0-9be4-8647d8cdf672",
   "metadata": {},
   "source": [
    "19. Find the most profitable product.\n"
   ]
  },
  {
   "cell_type": "code",
   "execution_count": 40,
   "id": "9249094a-ff1f-471c-9e0a-775ec4e6842e",
   "metadata": {},
   "outputs": [
    {
     "name": "stdout",
     "output_type": "stream",
     "text": [
      "Top 5 Most Profitable Products:\n",
      " Product Name\n",
      "Adesso Programmable 142-Key Keyboard    181893.39\n",
      "UGen Ultra Cordless Optical Suite        65534.29\n",
      "Economy Rollaway Files                   57956.59\n",
      "600 Series Non-Flip                      55763.65\n",
      "Multimedia Mailers                       41111.95\n",
      "Name: Profit, dtype: float64\n"
     ]
    }
   ],
   "source": [
    "df['Profit'] = df['Total'] - (df['Cost Price'] * df['Order Quantity'])\n",
    "most_profitable = df.groupby('Product Name')['Profit'].sum().sort_values(ascending=False).head(5)\n",
    "print(\"Top 5 Most Profitable Products:\\n\", most_profitable)"
   ]
  },
  {
   "cell_type": "markdown",
   "id": "429efd9d-7b5e-4265-9ff6-cb161cbff862",
   "metadata": {},
   "source": [
    "20. Find the most profitable product."
   ]
  },
  {
   "cell_type": "code",
   "execution_count": 41,
   "id": "3b07ee17-da5d-4444-b126-66ec45dbf693",
   "metadata": {},
   "outputs": [
    {
     "name": "stdout",
     "output_type": "stream",
     "text": [
      "Most Profitable Product Overall:\n",
      "Product Name\n",
      "Adesso Programmable 142-Key Keyboard    181893.39\n",
      "Name: Profit, dtype: float64\n"
     ]
    }
   ],
   "source": [
    "print(\"Most Profitable Product Overall:\")\n",
    "print(most_profitable.head(1))"
   ]
  }
 ],
 "metadata": {
  "kernelspec": {
   "display_name": "Python 3 (ipykernel)",
   "language": "python",
   "name": "python3"
  },
  "language_info": {
   "codemirror_mode": {
    "name": "ipython",
    "version": 3
   },
   "file_extension": ".py",
   "mimetype": "text/x-python",
   "name": "python",
   "nbconvert_exporter": "python",
   "pygments_lexer": "ipython3",
   "version": "3.13.7"
  }
 },
 "nbformat": 4,
 "nbformat_minor": 5
}
