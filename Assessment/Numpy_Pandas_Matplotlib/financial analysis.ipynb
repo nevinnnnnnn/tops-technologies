{
 "cells": [
  {
   "cell_type": "code",
   "execution_count": 2,
   "id": "7f9bee50-4327-44b5-ae41-c5ed27787a70",
   "metadata": {},
   "outputs": [],
   "source": [
    "import numpy as np\n",
    "import pandas as pd\n",
    "import matplotlib.pyplot as plt\n",
    "import seaborn as sns"
   ]
  },
  {
   "cell_type": "code",
   "execution_count": 4,
   "id": "05c9b646-a7d8-46b0-b4cc-4b73d9a4a8fd",
   "metadata": {},
   "outputs": [],
   "source": [
    "df = pd.read_csv(\"finance_economics_dataset.csv\", encoding = 'latin - 1')"
   ]
  },
  {
   "cell_type": "markdown",
   "id": "944c4736-ad40-4d6f-878a-c684ea5e27c6",
   "metadata": {},
   "source": [
    "1. What is the shape of the dataset?"
   ]
  },
  {
   "cell_type": "code",
   "execution_count": 5,
   "id": "adc9e9e4-534a-41f8-9415-d5a5553de9b2",
   "metadata": {},
   "outputs": [
    {
     "data": {
      "text/plain": [
       "(3000, 24)"
      ]
     },
     "execution_count": 5,
     "metadata": {},
     "output_type": "execute_result"
    }
   ],
   "source": [
    "df.shape"
   ]
  },
  {
   "cell_type": "markdown",
   "id": "0148aabb-6dbd-4d66-bcd1-446dba4bcdce",
   "metadata": {},
   "source": [
    "2. What are the column names and their data types?"
   ]
  },
  {
   "cell_type": "code",
   "execution_count": 6,
   "id": "7feb270e-b0bc-425c-8f9c-2e28e4d3c426",
   "metadata": {},
   "outputs": [
    {
     "name": "stdout",
     "output_type": "stream",
     "text": [
      "<class 'pandas.core.frame.DataFrame'>\n",
      "RangeIndex: 3000 entries, 0 to 2999\n",
      "Data columns (total 24 columns):\n",
      " #   Column                                 Non-Null Count  Dtype  \n",
      "---  ------                                 --------------  -----  \n",
      " 0   Date                                   3000 non-null   object \n",
      " 1   Stock Index                            3000 non-null   object \n",
      " 2   Open Price                             3000 non-null   float64\n",
      " 3   Close Price                            3000 non-null   float64\n",
      " 4   Daily High                             3000 non-null   float64\n",
      " 5   Daily Low                              3000 non-null   float64\n",
      " 6   Trading Volume                         3000 non-null   int64  \n",
      " 7   GDP Growth (%)                         3000 non-null   float64\n",
      " 8   Inflation Rate (%)                     3000 non-null   float64\n",
      " 9   Unemployment Rate (%)                  3000 non-null   float64\n",
      " 10  Interest Rate (%)                      3000 non-null   float64\n",
      " 11  Consumer Confidence Index              3000 non-null   int64  \n",
      " 12  Government Debt (Billion USD)          3000 non-null   int64  \n",
      " 13  Corporate Profits (Billion USD)        3000 non-null   int64  \n",
      " 14  Forex USD/EUR                          3000 non-null   float64\n",
      " 15  Forex USD/JPY                          3000 non-null   float64\n",
      " 16  Crude Oil Price (USD per Barrel)       3000 non-null   float64\n",
      " 17  Gold Price (USD per Ounce)             3000 non-null   float64\n",
      " 18  Real Estate Index                      3000 non-null   float64\n",
      " 19  Retail Sales (Billion USD)             3000 non-null   int64  \n",
      " 20  Bankruptcy Rate (%)                    3000 non-null   float64\n",
      " 21  Mergers & Acquisitions Deals           3000 non-null   int64  \n",
      " 22  Venture Capital Funding (Billion USD)  3000 non-null   float64\n",
      " 23  Consumer Spending (Billion USD)        3000 non-null   int64  \n",
      "dtypes: float64(15), int64(7), object(2)\n",
      "memory usage: 562.6+ KB\n"
     ]
    }
   ],
   "source": [
    "df.info()"
   ]
  },
  {
   "cell_type": "markdown",
   "id": "556b2115-8214-44d7-aa51-5af9ed68518d",
   "metadata": {},
   "source": [
    "3. How many unique stock indices are there?\n"
   ]
  },
  {
   "cell_type": "code",
   "execution_count": 7,
   "id": "ebed9e79-9659-4dac-982a-40a80d69fe10",
   "metadata": {},
   "outputs": [
    {
     "data": {
      "text/plain": [
       "3"
      ]
     },
     "execution_count": 7,
     "metadata": {},
     "output_type": "execute_result"
    }
   ],
   "source": [
    "df['Stock Index'].nunique()"
   ]
  },
  {
   "cell_type": "markdown",
   "id": "19a4fcfb-427e-489d-bfc4-346764bd8fc7",
   "metadata": {},
   "source": [
    "4. What is the date range of the dataset?\n"
   ]
  },
  {
   "cell_type": "code",
   "execution_count": 8,
   "id": "14860487-4238-40dd-99ca-32fb06d91ec8",
   "metadata": {},
   "outputs": [
    {
     "name": "stdout",
     "output_type": "stream",
     "text": [
      "Date range: 2000-01-01 to 2008-03-18\n"
     ]
    }
   ],
   "source": [
    "start_date = df['Date'].min()\n",
    "end_date = df['Date'].max()\n",
    "print(f\"Date range: {start_date} to {end_date}\")"
   ]
  },
  {
   "cell_type": "markdown",
   "id": "563e8b8a-3c16-47a8-aca6-56797dde7bae",
   "metadata": {},
   "source": [
    "5. Are there any missing values?\n"
   ]
  },
  {
   "cell_type": "code",
   "execution_count": 9,
   "id": "4aa3c7af-2025-4948-a9bd-d70b501af25e",
   "metadata": {},
   "outputs": [
    {
     "data": {
      "text/plain": [
       "Date                                     0\n",
       "Stock Index                              0\n",
       "Open Price                               0\n",
       "Close Price                              0\n",
       "Daily High                               0\n",
       "Daily Low                                0\n",
       "Trading Volume                           0\n",
       "GDP Growth (%)                           0\n",
       "Inflation Rate (%)                       0\n",
       "Unemployment Rate (%)                    0\n",
       "Interest Rate (%)                        0\n",
       "Consumer Confidence Index                0\n",
       "Government Debt (Billion USD)            0\n",
       "Corporate Profits (Billion USD)          0\n",
       "Forex USD/EUR                            0\n",
       "Forex USD/JPY                            0\n",
       "Crude Oil Price (USD per Barrel)         0\n",
       "Gold Price (USD per Ounce)               0\n",
       "Real Estate Index                        0\n",
       "Retail Sales (Billion USD)               0\n",
       "Bankruptcy Rate (%)                      0\n",
       "Mergers & Acquisitions Deals             0\n",
       "Venture Capital Funding (Billion USD)    0\n",
       "Consumer Spending (Billion USD)          0\n",
       "dtype: int64"
      ]
     },
     "execution_count": 9,
     "metadata": {},
     "output_type": "execute_result"
    }
   ],
   "source": [
    "df.isnull().sum()"
   ]
  },
  {
   "cell_type": "markdown",
   "id": "4cdce742-c2da-421b-8434-520ba2cbe6eb",
   "metadata": {},
   "source": [
    "6. Are there negative values in columns that should be non-negative?\n"
   ]
  },
  {
   "cell_type": "code",
   "execution_count": 12,
   "id": "ef597322-f6c4-4ca2-88fe-40659288191d",
   "metadata": {},
   "outputs": [
    {
     "data": {
      "text/plain": [
       "Open Price                               0\n",
       "Close Price                              0\n",
       "Daily High                               0\n",
       "Daily Low                                0\n",
       "Trading Volume                           0\n",
       "Gold Price (USD per Ounce)               0\n",
       "Crude Oil Price (USD per Barrel)         0\n",
       "Corporate Profits (Billion USD)          0\n",
       "Government Debt (Billion USD)            0\n",
       "Real Estate Index                        0\n",
       "Retail Sales (Billion USD)               0\n",
       "Venture Capital Funding (Billion USD)    0\n",
       "Consumer Spending (Billion USD)          0\n",
       "dtype: int64"
      ]
     },
     "execution_count": 12,
     "metadata": {},
     "output_type": "execute_result"
    }
   ],
   "source": [
    "non_negative_cols = ['Open Price', 'Close Price', 'Daily High', 'Daily Low', \n",
    "                     'Trading Volume', 'Gold Price (USD per Ounce)', \n",
    "                     'Crude Oil Price (USD per Barrel)', \n",
    "                     'Corporate Profits (Billion USD)', \n",
    "                     'Government Debt (Billion USD)', \n",
    "                     'Real Estate Index', 'Retail Sales (Billion USD)', \n",
    "                     'Venture Capital Funding (Billion USD)', \n",
    "                     'Consumer Spending (Billion USD)']\n",
    "\n",
    "(df[non_negative_cols] < 0).sum()"
   ]
  },
  {
   "cell_type": "markdown",
   "id": "374e19cf-a3b7-4416-b174-2a6be3be9c6c",
   "metadata": {},
   "source": [
    "7. What is the summary of GDP Growth (%)?"
   ]
  },
  {
   "cell_type": "code",
   "execution_count": 13,
   "id": "787e225b-1369-45a1-b7c1-05559146d22d",
   "metadata": {},
   "outputs": [
    {
     "data": {
      "text/plain": [
       "count    3000.000000\n",
       "mean        2.608903\n",
       "std         4.287337\n",
       "min        -5.000000\n",
       "25%        -1.012500\n",
       "50%         2.725000\n",
       "75%         6.242500\n",
       "max        10.000000\n",
       "Name: GDP Growth (%), dtype: float64"
      ]
     },
     "execution_count": 13,
     "metadata": {},
     "output_type": "execute_result"
    }
   ],
   "source": [
    "df['GDP Growth (%)'].describe()"
   ]
  },
  {
   "cell_type": "markdown",
   "id": "d31b9e76-cc32-4112-a1f7-07ffe7fa2f1f",
   "metadata": {},
   "source": [
    "8. Are there rows with zero or near-zero trading volume?"
   ]
  },
  {
   "cell_type": "code",
   "execution_count": 22,
   "id": "fa75a28b-cc1a-4ab2-9e8a-ae2f3fde461d",
   "metadata": {},
   "outputs": [
    {
     "name": "stdout",
     "output_type": "stream",
     "text": [
      "0\n"
     ]
    }
   ],
   "source": [
    "print((df['Trading Volume'] <= 0).sum())"
   ]
  },
  {
   "cell_type": "markdown",
   "id": "dc83ff55-9a07-40bd-82af-8d0ee8e3fe83",
   "metadata": {},
   "source": [
    "9. Are there any duplicate rows?"
   ]
  },
  {
   "cell_type": "code",
   "execution_count": 21,
   "id": "967fe716-728f-4892-871d-f661f53c8fb9",
   "metadata": {},
   "outputs": [
    {
     "name": "stdout",
     "output_type": "stream",
     "text": [
      "0\n"
     ]
    }
   ],
   "source": [
    "print(df.duplicated().sum())"
   ]
  },
  {
   "cell_type": "markdown",
   "id": "c4a1b59f-564d-4644-afb1-3f181e08bd64",
   "metadata": {},
   "source": [
    "10. Are there outliers in GDP, Gold, or Oil prices?"
   ]
  },
  {
   "cell_type": "code",
   "execution_count": 17,
   "id": "c40418ba-ef61-4323-a44a-b5bccf774482",
   "metadata": {},
   "outputs": [
    {
     "data": {
      "image/png": "[encoded data removed]",
      "text/plain": [
       "<Figure size 1200x400 with 3 Axes>"
      ]
     },
     "metadata": {},
     "output_type": "display_data"
    }
   ],
   "source": [
    "plt.figure(figsize=(12,4))\n",
    "plt.subplot(1,3,1)\n",
    "sns.boxplot(x=df['GDP Growth (%)'])\n",
    "plt.title('GDP Growth (%)')\n",
    "\n",
    "plt.subplot(1,3,2)\n",
    "sns.boxplot(x=df['Gold Price (USD per Ounce)'])\n",
    "plt.title('Gold Price')\n",
    "\n",
    "plt.subplot(1,3,3)\n",
    "sns.boxplot(x=df['Crude Oil Price (USD per Barrel)'])\n",
    "plt.title('Crude Oil Price')\n",
    "\n",
    "plt.tight_layout()\n",
    "plt.show()"
   ]
  },
  {
   "cell_type": "markdown",
   "id": "3d29a6ce-2c30-48f8-8a30-52f41d61a8f5",
   "metadata": {},
   "source": [
    "11. What is the summary of Inflation Rate (%)?"
   ]
  },
  {
   "cell_type": "code",
   "execution_count": 18,
   "id": "91de724f-240d-49c3-9b38-7dc7d7ca059a",
   "metadata": {},
   "outputs": [
    {
     "data": {
      "text/plain": [
       "count    3000.000000\n",
       "mean        5.096830\n",
       "std         2.910513\n",
       "min         0.010000\n",
       "25%         2.607500\n",
       "50%         5.110000\n",
       "75%         7.600000\n",
       "max        10.000000\n",
       "Name: Inflation Rate (%), dtype: float64"
      ]
     },
     "execution_count": 18,
     "metadata": {},
     "output_type": "execute_result"
    }
   ],
   "source": [
    "df['Inflation Rate (%)'].describe()"
   ]
  },
  {
   "cell_type": "markdown",
   "id": "3aa99db5-4de7-4fd3-b5c3-8c48a2c9fff1",
   "metadata": {},
   "source": [
    "12. What is the average unemployment rate?"
   ]
  },
  {
   "cell_type": "code",
   "execution_count": 20,
   "id": "23716b53-ca50-45af-b7cd-b8e4c710d846",
   "metadata": {},
   "outputs": [
    {
     "name": "stdout",
     "output_type": "stream",
     "text": [
      "8.663786666666667\n"
     ]
    }
   ],
   "source": [
    "print(df['Unemployment Rate (%)'].mean())"
   ]
  },
  {
   "cell_type": "markdown",
   "id": "0d00b0ff-5485-46a3-8154-b1a94d0fa838",
   "metadata": {},
   "source": [
    "13. Which index has the highest trading volume?"
   ]
  },
  {
   "cell_type": "code",
   "execution_count": 23,
   "id": "ccabaa91-09d7-493a-bae3-6681e5bcc984",
   "metadata": {},
   "outputs": [
    {
     "name": "stdout",
     "output_type": "stream",
     "text": [
      "Stock Index\n",
      "S&P 500    5.145193e+08\n",
      "Name: Trading Volume, dtype: float64\n"
     ]
    }
   ],
   "source": [
    "print(df.groupby('Stock Index')['Trading Volume'].mean().sort_values(ascending=False).head(1))"
   ]
  },
  {
   "cell_type": "markdown",
   "id": "af4b794d-9fc3-418b-a542-64c4382b0ebc",
   "metadata": {},
   "source": [
    "14. How many stock records are from each index?"
   ]
  },
  {
   "cell_type": "code",
   "execution_count": 24,
   "id": "ead1248b-e96b-43ff-b8a6-eb39d3324bcf",
   "metadata": {},
   "outputs": [
    {
     "name": "stdout",
     "output_type": "stream",
     "text": [
      "Stock Index\n",
      "S&P 500      1036\n",
      "NASDAQ       1007\n",
      "Dow Jones     957\n",
      "Name: count, dtype: int64\n"
     ]
    }
   ],
   "source": [
    "print(df['Stock Index'].value_counts())"
   ]
  },
  {
   "cell_type": "markdown",
   "id": "485fe623-81fc-4883-a435-ce37dbf62ef4",
   "metadata": {},
   "source": [
    "15. What is the correlation between inflation and interest rate?"
   ]
  },
  {
   "cell_type": "code",
   "execution_count": 25,
   "id": "aacc2f80-7571-4339-80e7-f01813272c6b",
   "metadata": {},
   "outputs": [
    {
     "name": "stdout",
     "output_type": "stream",
     "text": [
      "                    Inflation Rate (%)  Interest Rate (%)\n",
      "Inflation Rate (%)            1.000000           0.005733\n",
      "Interest Rate (%)             0.005733           1.000000\n"
     ]
    }
   ],
   "source": [
    "print(df[['Inflation Rate (%)', 'Interest Rate (%)']].corr())"
   ]
  },
  {
   "cell_type": "markdown",
   "id": "d4dda0b3-e591-48ae-85ed-157929dd4cff",
   "metadata": {},
   "source": [
    "16. What is the average Consumer Confidence Index?"
   ]
  },
  {
   "cell_type": "code",
   "execution_count": 26,
   "id": "50e64312-1275-4b7e-b00c-e03e1e7afde7",
   "metadata": {},
   "outputs": [
    {
     "name": "stdout",
     "output_type": "stream",
     "text": [
      "85.036\n"
     ]
    }
   ],
   "source": [
    "print(df['Consumer Confidence Index'].mean())"
   ]
  },
  {
   "cell_type": "markdown",
   "id": "8dde8582-b745-4a25-aabd-b932e7e92d1c",
   "metadata": {},
   "source": [
    "17. Which column has the highest standard deviation?"
   ]
  },
  {
   "cell_type": "code",
   "execution_count": 27,
   "id": "0856164d-ded3-4db5-8f61-d723689c81df",
   "metadata": {},
   "outputs": [
    {
     "name": "stdout",
     "output_type": "stream",
     "text": [
      "Trading Volume    2.859004e+08\n",
      "dtype: float64\n"
     ]
    }
   ],
   "source": [
    "print(df.std(numeric_only=True).sort_values(ascending=False).head(1))"
   ]
  },
  {
   "cell_type": "markdown",
   "id": "e3167bdf-fc68-498b-9708-bfe7ded7d0b6",
   "metadata": {},
   "source": [
    "18. What is the highest gold price recorded?"
   ]
  },
  {
   "cell_type": "code",
   "execution_count": 28,
   "id": "de192ae5-ef30-4dab-b4c2-beaaec960e9b",
   "metadata": {},
   "outputs": [
    {
     "name": "stdout",
     "output_type": "stream",
     "text": [
      "2499.66\n"
     ]
    }
   ],
   "source": [
    "print(df['Gold Price (USD per Ounce)'].max())"
   ]
  },
  {
   "cell_type": "markdown",
   "id": "fb0bf603-98d6-43d0-8a32-d6f6c5fa11b9",
   "metadata": {},
   "source": [
    "19. Which date had the highest crude oil price?"
   ]
  },
  {
   "cell_type": "code",
   "execution_count": 29,
   "id": "570a0006-e637-4d2e-831a-be79e76bb71d",
   "metadata": {},
   "outputs": [
    {
     "data": {
      "text/plain": [
       "Date                                2001-11-22\n",
       "Crude Oil Price (USD per Barrel)        149.87\n",
       "Name: 691, dtype: object"
      ]
     },
     "execution_count": 29,
     "metadata": {},
     "output_type": "execute_result"
    }
   ],
   "source": [
    "df.loc[df['Crude Oil Price (USD per Barrel)'].idxmax(), ['Date', 'Crude Oil Price (USD per Barrel)']]"
   ]
  },
  {
   "cell_type": "markdown",
   "id": "ae2029d0-7cef-463b-9d8b-cba545e64665",
   "metadata": {},
   "source": [
    "20. What is the average corporate profit?"
   ]
  },
  {
   "cell_type": "code",
   "execution_count": 31,
   "id": "295f4e71-1fe1-4482-b086-1379ddd27462",
   "metadata": {},
   "outputs": [
    {
     "name": "stdout",
     "output_type": "stream",
     "text": [
      "2553.7563333333333\n"
     ]
    }
   ],
   "source": [
    "print(df['Corporate Profits (Billion USD)'].mean())"
   ]
  }
 ],
 "metadata": {
  "kernelspec": {
   "display_name": "Python 3 (ipykernel)",
   "language": "python",
   "name": "python3"
  },
  "language_info": {
   "codemirror_mode": {
    "name": "ipython",
    "version": 3
   },
   "file_extension": ".py",
   "mimetype": "text/x-python",
   "name": "python",
   "nbconvert_exporter": "python",
   "pygments_lexer": "ipython3",
   "version": "3.13.7"
  }
 },
 "nbformat": 4,
 "nbformat_minor": 5
}
