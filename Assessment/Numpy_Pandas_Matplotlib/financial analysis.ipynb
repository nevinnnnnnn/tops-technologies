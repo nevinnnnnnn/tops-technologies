{
 "cells": [
  {
   "cell_type": "code",
   "execution_count": 1,
   "id": "7f9bee50-4327-44b5-ae41-c5ed27787a70",
   "metadata": {},
   "outputs": [],
   "source": [
    "import numpy as np\n",
    "import pandas as pd"
   ]
  },
  {
   "cell_type": "code",
   "execution_count": 2,
   "id": "05c9b646-a7d8-46b0-b4cc-4b73d9a4a8fd",
   "metadata": {},
   "outputs": [],
   "source": [
    "df = pd.read_csv(\"finance_economics_dataset.csv\", encoding = 'latin - 1')"
   ]
  },
  {
   "cell_type": "markdown",
   "id": "944c4736-ad40-4d6f-878a-c684ea5e27c6",
   "metadata": {},
   "source": [
    "1. What is the shape of the dataset?"
   ]
  },
  {
   "cell_type": "code",
   "execution_count": 4,
   "id": "adc9e9e4-534a-41f8-9415-d5a5553de9b2",
   "metadata": {},
   "outputs": [
    {
     "data": {
      "text/plain": [
       "(3000, 24)"
      ]
     },
     "execution_count": 4,
     "metadata": {},
     "output_type": "execute_result"
    }
   ],
   "source": [
    "df.shape"
   ]
  },
  {
   "cell_type": "markdown",
   "id": "0148aabb-6dbd-4d66-bcd1-446dba4bcdce",
   "metadata": {},
   "source": [
    "2. What are the column names and their data types?"
   ]
  },
  {
   "cell_type": "code",
   "execution_count": 5,
   "id": "7feb270e-b0bc-425c-8f9c-2e28e4d3c426",
   "metadata": {},
   "outputs": [
    {
     "name": "stdout",
     "output_type": "stream",
     "text": [
      "<class 'pandas.core.frame.DataFrame'>\n",
      "RangeIndex: 3000 entries, 0 to 2999\n",
      "Data columns (total 24 columns):\n",
      " #   Column                                 Non-Null Count  Dtype  \n",
      "---  ------                                 --------------  -----  \n",
      " 0   Date                                   3000 non-null   object \n",
      " 1   Stock Index                            3000 non-null   object \n",
      " 2   Open Price                             3000 non-null   float64\n",
      " 3   Close Price                            3000 non-null   float64\n",
      " 4   Daily High                             3000 non-null   float64\n",
      " 5   Daily Low                              3000 non-null   float64\n",
      " 6   Trading Volume                         3000 non-null   int64  \n",
      " 7   GDP Growth (%)                         3000 non-null   float64\n",
      " 8   Inflation Rate (%)                     3000 non-null   float64\n",
      " 9   Unemployment Rate (%)                  3000 non-null   float64\n",
      " 10  Interest Rate (%)                      3000 non-null   float64\n",
      " 11  Consumer Confidence Index              3000 non-null   int64  \n",
      " 12  Government Debt (Billion USD)          3000 non-null   int64  \n",
      " 13  Corporate Profits (Billion USD)        3000 non-null   int64  \n",
      " 14  Forex USD/EUR                          3000 non-null   float64\n",
      " 15  Forex USD/JPY                          3000 non-null   float64\n",
      " 16  Crude Oil Price (USD per Barrel)       3000 non-null   float64\n",
      " 17  Gold Price (USD per Ounce)             3000 non-null   float64\n",
      " 18  Real Estate Index                      3000 non-null   float64\n",
      " 19  Retail Sales (Billion USD)             3000 non-null   int64  \n",
      " 20  Bankruptcy Rate (%)                    3000 non-null   float64\n",
      " 21  Mergers & Acquisitions Deals           3000 non-null   int64  \n",
      " 22  Venture Capital Funding (Billion USD)  3000 non-null   float64\n",
      " 23  Consumer Spending (Billion USD)        3000 non-null   int64  \n",
      "dtypes: float64(15), int64(7), object(2)\n",
      "memory usage: 562.6+ KB\n"
     ]
    }
   ],
   "source": [
    "df.info()"
   ]
  },
  {
   "cell_type": "markdown",
   "id": "556b2115-8214-44d7-aa51-5af9ed68518d",
   "metadata": {},
   "source": [
    "3. How many unique stock indices are there?\n"
   ]
  },
  {
   "cell_type": "code",
   "execution_count": 6,
   "id": "ebed9e79-9659-4dac-982a-40a80d69fe10",
   "metadata": {},
   "outputs": [
    {
     "data": {
      "text/plain": [
       "3"
      ]
     },
     "execution_count": 6,
     "metadata": {},
     "output_type": "execute_result"
    }
   ],
   "source": [
    "df['Stock Index'].nunique()"
   ]
  },
  {
   "cell_type": "markdown",
   "id": "19a4fcfb-427e-489d-bfc4-346764bd8fc7",
   "metadata": {},
   "source": [
    "4. What is the date range of the dataset?\n"
   ]
  },
  {
   "cell_type": "code",
   "execution_count": 14,
   "id": "14860487-4238-40dd-99ca-32fb06d91ec8",
   "metadata": {},
   "outputs": [
    {
     "name": "stdout",
     "output_type": "stream",
     "text": [
      "Date range: 2000-01-01 to 2008-03-18\n"
     ]
    }
   ],
   "source": [
    "start_date = df['Date'].min()\n",
    "end_date = df['Date'].max()\n",
    "print(f\"Date range: {start_date} to {end_date}\")"
   ]
  },
  {
   "cell_type": "markdown",
   "id": "563e8b8a-3c16-47a8-aca6-56797dde7bae",
   "metadata": {},
   "source": [
    "5. Are there any missing values?\n"
   ]
  },
  {
   "cell_type": "code",
   "execution_count": 15,
   "id": "4aa3c7af-2025-4948-a9bd-d70b501af25e",
   "metadata": {},
   "outputs": [
    {
     "data": {
      "text/plain": [
       "Date                                     0\n",
       "Stock Index                              0\n",
       "Open Price                               0\n",
       "Close Price                              0\n",
       "Daily High                               0\n",
       "Daily Low                                0\n",
       "Trading Volume                           0\n",
       "GDP Growth (%)                           0\n",
       "Inflation Rate (%)                       0\n",
       "Unemployment Rate (%)                    0\n",
       "Interest Rate (%)                        0\n",
       "Consumer Confidence Index                0\n",
       "Government Debt (Billion USD)            0\n",
       "Corporate Profits (Billion USD)          0\n",
       "Forex USD/EUR                            0\n",
       "Forex USD/JPY                            0\n",
       "Crude Oil Price (USD per Barrel)         0\n",
       "Gold Price (USD per Ounce)               0\n",
       "Real Estate Index                        0\n",
       "Retail Sales (Billion USD)               0\n",
       "Bankruptcy Rate (%)                      0\n",
       "Mergers & Acquisitions Deals             0\n",
       "Venture Capital Funding (Billion USD)    0\n",
       "Consumer Spending (Billion USD)          0\n",
       "dtype: int64"
      ]
     },
     "execution_count": 15,
     "metadata": {},
     "output_type": "execute_result"
    }
   ],
   "source": [
    "df.isnull().sum()"
   ]
  },
  {
   "cell_type": "markdown",
   "id": "4cdce742-c2da-421b-8434-520ba2cbe6eb",
   "metadata": {},
   "source": [
    "6. Are there negative values in columns that should be non-negative?\n"
   ]
  },
  {
   "cell_type": "code",
   "execution_count": 48,
   "id": "ef597322-f6c4-4ca2-88fe-40659288191d",
   "metadata": {},
   "outputs": [
    {
     "ename": "TypeError",
     "evalue": "DataFrame.dropna() takes 1 positional argument but 2 were given",
     "output_type": "error",
     "traceback": [
      "\u001b[31m----------------------------------------------------------------\u001b[39m",
      "\u001b[31mTypeError\u001b[39m                      Traceback (most recent call last)",
      "\u001b[36mCell\u001b[39m\u001b[36m \u001b[39m\u001b[32mIn[48]\u001b[39m\u001b[32m, line 6\u001b[39m\n\u001b[32m      3\u001b[39m df6 = df[df[int_cols]<\u001b[32m0\u001b[39m]\n\u001b[32m      4\u001b[39m \u001b[38;5;66;03m#print(df6)\u001b[39;00m\n\u001b[32m----> \u001b[39m\u001b[32m6\u001b[39m negative_values = \u001b[43mdf6\u001b[49m\u001b[43m.\u001b[49m\u001b[43mdropna\u001b[49m\u001b[43m(\u001b[49m\u001b[43mdf\u001b[49m\u001b[43m[\u001b[49m\u001b[43mint_cols\u001b[49m\u001b[43m]\u001b[49m\u001b[43m>\u001b[49m\u001b[32;43m0\u001b[39;49m\u001b[43m)\u001b[49m\n\u001b[32m      7\u001b[39m \u001b[38;5;28mprint\u001b[39m(negative_values)\n",
      "\u001b[31mTypeError\u001b[39m: DataFrame.dropna() takes 1 positional argument but 2 were given"
     ]
    }
   ],
   "source": [
    "#'Open Price', 'Close Price', 'Daily High', 'Daily Low', 'Trading Volume', 'GDP Growth (%)', 'Inflation Rate (%)', 'Unemployment Rate (%)', 'Interest Rate (%)', 'Consumer Confidence Index', 'Government Debt (Billion USD)', 'Corporate Profits (Billion USD)', 'Crude Oil Price (USD per Barrel)', 'Gold Price (USD per Ounce)', 'Real Estate Index', 'Retail Sales (Billion USD)', 'Bankruptcy Rate (%)', 'Mergers & Acquisitions Deals', 'Venture Capital Funding (Billion USD)', 'Consumer Spending (Billion USD)'\n",
    "int_cols = ['GDP Growth (%)']\n",
    "df6 = df[df[int_cols]<0]\n",
    "#print(df6)\n",
    "\n",
    "negative_values = df6.dropna(df[int_cols]>0)\n",
    "print(negative_values)"
   ]
  },
  {
   "cell_type": "code",
   "execution_count": null,
   "id": "7865bbf5-0da1-4f5b-8a9e-28b274b367a1",
   "metadata": {},
   "outputs": [],
   "source": []
  }
 ],
 "metadata": {
  "kernelspec": {
   "display_name": "Python 3 (ipykernel)",
   "language": "python",
   "name": "python3"
  },
  "language_info": {
   "codemirror_mode": {
    "name": "ipython",
    "version": 3
   },
   "file_extension": ".py",
   "mimetype": "text/x-python",
   "name": "python",
   "nbconvert_exporter": "python",
   "pygments_lexer": "ipython3",
   "version": "3.13.7"
  }
 },
 "nbformat": 4,
 "nbformat_minor": 5
}
