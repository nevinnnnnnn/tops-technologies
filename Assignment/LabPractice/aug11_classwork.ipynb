{
 "cells": [
  {
   "cell_type": "markdown",
   "id": "f2975bc3-3fd4-49c2-9374-7a33b2a7f224",
   "metadata": {},
   "source": [
    "# while loop"
   ]
  },
  {
   "cell_type": "markdown",
   "id": "0286dd4e-0a13-493d-98d4-9d40e16f38da",
   "metadata": {},
   "source": [
    "## Calculator"
   ]
  },
  {
   "cell_type": "code",
   "execution_count": 10,
   "id": "32eee042-c20d-40be-be45-df91bc6efe2c",
   "metadata": {},
   "outputs": [
    {
     "name": "stdin",
     "output_type": "stream",
     "text": [
      "enter operations of your choice (+ - * /) or type exit to end:  exit\n"
     ]
    }
   ],
   "source": [
    "# print(\"operations: + - * /\")\n",
    "while True:\n",
    "    op1 = input(\"enter operations of your choice (+ - * /) or type exit to end: \")\n",
    "    if op1.lower() == 'exit':\n",
    "        break\n",
    "    else:\n",
    "        \n",
    "        \n",
    "    num1 = float(input(\"enter a number: \"))\n",
    "    num2 = float(input(\"enter another number: \"))\n",
    "\n",
    "    op1 = input(\"enter operations of your choice (+ - * /) or type exit to end: \")\n",
    "    if operation == '+':\n",
    "        print(num1 + num2)\n",
    "    elif operation == '-':\n",
    "        print(num1 == - num2)\n",
    "    elif operation == '*':\n",
    "        print( num1 * num2)\n",
    "    elif operation == '/':\n",
    "        print(num1 / num2)\n",
    "    else:\n",
    "        print(\"invalid number\")"
   ]
  },
  {
   "cell_type": "markdown",
   "id": "d1bc8c56-9c12-4fc5-8f4c-30bd67bf4f9c",
   "metadata": {},
   "source": [
    "## number guessing"
   ]
  },
  {
   "cell_type": "code",
   "execution_count": 11,
   "id": "2c10e6dd-8e72-4687-a876-9f29493e8e37",
   "metadata": {},
   "outputs": [
    {
     "name": "stdin",
     "output_type": "stream",
     "text": [
      "enter a number or exit:  3\n"
     ]
    },
    {
     "name": "stdout",
     "output_type": "stream",
     "text": [
      "square is 9.0\n"
     ]
    },
    {
     "name": "stdin",
     "output_type": "stream",
     "text": [
      "enter a number or exit:  12\n"
     ]
    },
    {
     "name": "stdout",
     "output_type": "stream",
     "text": [
      "square is 144.0\n"
     ]
    },
    {
     "name": "stdin",
     "output_type": "stream",
     "text": [
      "enter a number or exit:  233\n"
     ]
    },
    {
     "name": "stdout",
     "output_type": "stream",
     "text": [
      "square is 54289.0\n"
     ]
    },
    {
     "name": "stdin",
     "output_type": "stream",
     "text": [
      "enter a number or exit:  31231\n"
     ]
    },
    {
     "name": "stdout",
     "output_type": "stream",
     "text": [
      "square is 975375361.0\n"
     ]
    },
    {
     "name": "stdin",
     "output_type": "stream",
     "text": [
      "enter a number or exit:  Exit\n"
     ]
    }
   ],
   "source": [
    "while True:\n",
    "    user_input = input(\"enter a number or exit: \")\n",
    "    if user_input.lower() == 'exit':\n",
    "        break\n",
    "    if not user_input.isdigit():\n",
    "        print(\"enter a number: \")\n",
    "        continue\n",
    "    number = float(user_input)\n",
    "\n",
    "    if number == 0:\n",
    "        pass\n",
    "    else:\n",
    "        print(f\"square is {number ** 2}\")"
   ]
  },
  {
   "cell_type": "code",
   "execution_count": null,
   "id": "540f93c9-2282-4511-b9ac-95bea7400f21",
   "metadata": {},
   "outputs": [],
   "source": []
  }
 ],
 "metadata": {
  "kernelspec": {
   "display_name": "Python 3 (ipykernel)",
   "language": "python",
   "name": "python3"
  },
  "language_info": {
   "codemirror_mode": {
    "name": "ipython",
    "version": 3
   },
   "file_extension": ".py",
   "mimetype": "text/x-python",
   "name": "python",
   "nbconvert_exporter": "python",
   "pygments_lexer": "ipython3",
   "version": "3.13.5"
  }
 },
 "nbformat": 4,
 "nbformat_minor": 5
}
