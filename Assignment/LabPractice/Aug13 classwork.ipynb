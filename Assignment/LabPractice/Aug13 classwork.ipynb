{
 "cells": [
  {
   "cell_type": "markdown",
   "id": "c99c21fb-2e3f-40fe-aadc-30c9a5e1e1b2",
   "metadata": {},
   "source": [
    "# function"
   ]
  },
  {
   "cell_type": "markdown",
   "id": "337e985d-7455-4d92-b714-989e685600d4",
   "metadata": {},
   "source": [
    "## in built functions"
   ]
  },
  {
   "cell_type": "code",
   "execution_count": 1,
   "id": "f1d3da9a-cda1-4650-8bf8-26ff6eca049d",
   "metadata": {},
   "outputs": [
    {
     "name": "stdout",
     "output_type": "stream",
     "text": [
      "3\n"
     ]
    }
   ],
   "source": [
    "print(len([1,2,4]))"
   ]
  },
  {
   "cell_type": "code",
   "execution_count": 2,
   "id": "9fe46628-43d8-4840-a6fd-c9c553725174",
   "metadata": {},
   "outputs": [
    {
     "name": "stdout",
     "output_type": "stream",
     "text": [
      "45\n"
     ]
    }
   ],
   "source": [
    "print(sum([1,2,3,4,5,6,7,8,9]))"
   ]
  },
  {
   "cell_type": "code",
   "execution_count": 3,
   "id": "ac449153-ac0f-458a-a983-2e7e3e1aac14",
   "metadata": {},
   "outputs": [
    {
     "name": "stdout",
     "output_type": "stream",
     "text": [
      "9\n"
     ]
    }
   ],
   "source": [
    "print(max([1,2,3,4,5,6,7,8,9]))"
   ]
  },
  {
   "cell_type": "code",
   "execution_count": 4,
   "id": "f7622676-9722-46ff-83a9-ccbc9b8091fd",
   "metadata": {},
   "outputs": [
    {
     "name": "stdout",
     "output_type": "stream",
     "text": [
      "1\n"
     ]
    }
   ],
   "source": [
    "print(min([1,2,3,4,5,6,7,8,9]))"
   ]
  },
  {
   "cell_type": "code",
   "execution_count": 5,
   "id": "fa6464c5-1236-46cb-9b8e-1ec35ab8c5bd",
   "metadata": {},
   "outputs": [
    {
     "name": "stdout",
     "output_type": "stream",
     "text": [
      "12312\n"
     ]
    }
   ],
   "source": [
    "print(abs(-12312))"
   ]
  },
  {
   "cell_type": "code",
   "execution_count": 9,
   "id": "e8ab71f4-7dad-49e3-b81b-3e868188e584",
   "metadata": {},
   "outputs": [
    {
     "name": "stdout",
     "output_type": "stream",
     "text": [
      "[1, 2, 2, 4, 12, 12, 34, 34, 43, 45, 46]\n"
     ]
    }
   ],
   "source": [
    "print(sorted([12,43,12,34,46,34,2,4,45,2,1]))"
   ]
  },
  {
   "cell_type": "code",
   "execution_count": 10,
   "id": "9440677a-fb49-4100-876c-b238c4af1ab9",
   "metadata": {},
   "outputs": [
    {
     "name": "stdout",
     "output_type": "stream",
     "text": [
      "<class 'str'>\n"
     ]
    }
   ],
   "source": [
    "print(type(\"3@\"))"
   ]
  },
  {
   "cell_type": "markdown",
   "id": "ac31493a-fc1b-4dac-8106-981774f0953d",
   "metadata": {},
   "source": [
    "## user defined func"
   ]
  },
  {
   "cell_type": "code",
   "execution_count": 11,
   "id": "dad1f3ee-0d7b-4ec6-8e01-8667248e6904",
   "metadata": {},
   "outputs": [
    {
     "name": "stdout",
     "output_type": "stream",
     "text": [
      "True\n"
     ]
    }
   ],
   "source": [
    "def is_even(a):\n",
    "    return a % 2 == 0\n",
    "\n",
    "print(is_even(12))"
   ]
  },
  {
   "cell_type": "code",
   "execution_count": 12,
   "id": "f8615955-6726-4d8c-bd15-54838542fd5a",
   "metadata": {},
   "outputs": [
    {
     "name": "stdout",
     "output_type": "stream",
     "text": [
      "86.0\n"
     ]
    }
   ],
   "source": [
    "def cel_to_far(cel):\n",
    "    return (cel*(9/5)+32)\n",
    "\n",
    "print(cel_to_far(30))"
   ]
  },
  {
   "cell_type": "markdown",
   "id": "348b195e-af56-4739-bc46-577b3b851ead",
   "metadata": {},
   "source": [
    "## lambda func"
   ]
  },
  {
   "cell_type": "code",
   "execution_count": 17,
   "id": "7a6b3f31-9a6d-4f70-8864-816a5e61c6c4",
   "metadata": {},
   "outputs": [
    {
     "name": "stdout",
     "output_type": "stream",
     "text": [
      "4\n"
     ]
    }
   ],
   "source": [
    "square = lambda a: a * a\n",
    "print(square(2))"
   ]
  },
  {
   "cell_type": "code",
   "execution_count": 18,
   "id": "ec6784d6-7cf5-486b-8c5f-7a44f09b573d",
   "metadata": {},
   "outputs": [
    {
     "name": "stdout",
     "output_type": "stream",
     "text": [
      "True\n"
     ]
    }
   ],
   "source": [
    "is_pos = lambda n: n > 0\n",
    "print(is_pos(123))"
   ]
  },
  {
   "cell_type": "code",
   "execution_count": 19,
   "id": "569cd466-28b7-40af-846c-74fd1ec62bae",
   "metadata": {},
   "outputs": [
    {
     "name": "stdout",
     "output_type": "stream",
     "text": [
      "fir las\n"
     ]
    }
   ],
   "source": [
    "full_name = lambda fir, las: f\"{fir} {las}\"\n",
    "print(full_name(\"fir\", \"las\"))"
   ]
  },
  {
   "cell_type": "markdown",
   "id": "919f0575-2eff-4ca2-b125-905bd0da3243",
   "metadata": {},
   "source": [
    "# variable"
   ]
  },
  {
   "cell_type": "markdown",
   "id": "efda0068-a945-4bc4-9656-3f5781ee2e3f",
   "metadata": {},
   "source": [
    "there are 2 types of variable. local and global"
   ]
  },
  {
   "cell_type": "code",
   "execution_count": 22,
   "id": "106f6f64-d69e-44e4-858a-0368105fc13f",
   "metadata": {},
   "outputs": [
    {
     "name": "stdout",
     "output_type": "stream",
     "text": [
      "810.0\n"
     ]
    }
   ],
   "source": [
    "def cal_dis(price):\n",
    "    dis = 0.1\n",
    "    return (price - (price * dis))\n",
    "\n",
    "print(cal_dis(900))"
   ]
  },
  {
   "cell_type": "code",
   "execution_count": 23,
   "id": "38d56fc2-51f5-4b53-ba55-53382b292b3f",
   "metadata": {},
   "outputs": [
    {
     "name": "stdout",
     "output_type": "stream",
     "text": [
      "4.0\n"
     ]
    }
   ],
   "source": [
    "def avg_list(list):\n",
    "    total = sum(list)\n",
    "    return total/len(list)\n",
    "l1 = [1,2,3,4,5,6,7,4]\n",
    "print(avg_list(l1))"
   ]
  },
  {
   "cell_type": "code",
   "execution_count": 24,
   "id": "e97989e8-02cb-4b41-8115-64b665fa1de7",
   "metadata": {},
   "outputs": [
    {
     "name": "stdout",
     "output_type": "stream",
     "text": [
      "11.8\n"
     ]
    }
   ],
   "source": [
    "gst = 0.18\n",
    "def amount(price):\n",
    "    return price + (price * gst)\n",
    "\n",
    "print(amount(10))"
   ]
  }
 ],
 "metadata": {
  "kernelspec": {
   "display_name": "Python 3 (ipykernel)",
   "language": "python",
   "name": "python3"
  },
  "language_info": {
   "codemirror_mode": {
    "name": "ipython",
    "version": 3
   },
   "file_extension": ".py",
   "mimetype": "text/x-python",
   "name": "python",
   "nbconvert_exporter": "python",
   "pygments_lexer": "ipython3",
   "version": "3.13.5"
  }
 },
 "nbformat": 4,
 "nbformat_minor": 5
}
