{
 "cells": [
  {
   "cell_type": "markdown",
   "id": "6580e961-8755-42c2-b4aa-f7d68b834b85",
   "metadata": {},
   "source": [
    "Print numbers from 1 to 10 using a for loop.\n"
   ]
  },
  {
   "cell_type": "code",
   "execution_count": 1,
   "id": "4d8bc2d9-31d9-4e05-8046-1b1d1ba4bfab",
   "metadata": {},
   "outputs": [
    {
     "name": "stdout",
     "output_type": "stream",
     "text": [
      "1\n",
      "2\n",
      "3\n",
      "4\n",
      "5\n",
      "6\n",
      "7\n",
      "8\n",
      "9\n",
      "10\n"
     ]
    }
   ],
   "source": [
    "for i in range(1, 11):\n",
    "    print(i)"
   ]
  },
  {
   "cell_type": "markdown",
   "id": "f6623507-796e-445a-a357-77d7016384a5",
   "metadata": {},
   "source": [
    "Print each character of the string \"HELLO\" using a for loop.\n"
   ]
  },
  {
   "cell_type": "code",
   "execution_count": 2,
   "id": "f73a01a5-e1fa-4c14-92db-ffb81caff987",
   "metadata": {},
   "outputs": [
    {
     "name": "stdout",
     "output_type": "stream",
     "text": [
      "H\n",
      "E\n",
      "L\n",
      "L\n",
      "O\n"
     ]
    }
   ],
   "source": [
    "character = \"HELLO\"\n",
    "for i in character:\n",
    "    print(i)"
   ]
  },
  {
   "cell_type": "markdown",
   "id": "eae3d0bb-74fe-4520-b825-c43466decc51",
   "metadata": {},
   "source": [
    "Print the square of numbers from 1 to 5.\n"
   ]
  },
  {
   "cell_type": "code",
   "execution_count": 3,
   "id": "df56d4d5-9227-42a3-8fe4-c9e5c66f8fe0",
   "metadata": {},
   "outputs": [
    {
     "name": "stdout",
     "output_type": "stream",
     "text": [
      "1 * 1 = 1\n",
      "2 * 2 = 4\n",
      "3 * 3 = 9\n",
      "4 * 4 = 16\n",
      "5 * 5 = 25\n"
     ]
    }
   ],
   "source": [
    "for i in range(1, 6):\n",
    "    print(f\"{i} * {i} = {i*i}\")"
   ]
  },
  {
   "cell_type": "markdown",
   "id": "c6b1dfe8-1604-426f-85af-66d2cc95e31e",
   "metadata": {},
   "source": [
    "Use a for loop to print only even numbers from 1 to 20.\n"
   ]
  },
  {
   "cell_type": "code",
   "execution_count": 4,
   "id": "6b8bc0b8-5776-4066-a238-9840209cfbf2",
   "metadata": {},
   "outputs": [
    {
     "name": "stdout",
     "output_type": "stream",
     "text": [
      "2\n",
      "4\n",
      "6\n",
      "8\n",
      "10\n",
      "12\n",
      "14\n",
      "16\n",
      "18\n",
      "20\n"
     ]
    }
   ],
   "source": [
    "for i in range(1, 21):\n",
    "    if i % 2 == 0:\n",
    "        print(i)"
   ]
  },
  {
   "cell_type": "markdown",
   "id": "cb9a090f-bc36-423e-8f35-427c134dfc88",
   "metadata": {},
   "source": [
    "Given a list fruits = [\"apple\", \"banana\", \"cherry\"], print each fruit using a for loop.\n"
   ]
  },
  {
   "cell_type": "code",
   "execution_count": 5,
   "id": "ebf10b04-2e9f-40b7-95bd-7c31eebe8c0c",
   "metadata": {},
   "outputs": [
    {
     "name": "stdout",
     "output_type": "stream",
     "text": [
      "apple\n",
      "banana\n",
      "cherry\n"
     ]
    }
   ],
   "source": [
    "fruits = [\"apple\", \"banana\", \"cherry\"] \n",
    "for i in fruits:\n",
    "    print(i)"
   ]
  },
  {
   "cell_type": "markdown",
   "id": "d286bf3e-ddb3-4edc-b4f4-a7804c00f828",
   "metadata": {},
   "source": [
    "Print numbers from 10 to 1 in reverse using a for loop and range().\n"
   ]
  },
  {
   "cell_type": "code",
   "execution_count": 6,
   "id": "0a6d3d70-dc08-4964-b147-d6d928c0e89b",
   "metadata": {},
   "outputs": [
    {
     "name": "stdout",
     "output_type": "stream",
     "text": [
      "10\n",
      "9\n",
      "8\n",
      "7\n",
      "6\n",
      "5\n",
      "4\n",
      "3\n",
      "2\n"
     ]
    }
   ],
   "source": [
    "for i in range(10, 1, -1):\n",
    "    print(i)"
   ]
  },
  {
   "cell_type": "markdown",
   "id": "23cac4ee-292f-4dd7-95a8-d2aff2a703b8",
   "metadata": {},
   "source": [
    "Given a list nums = [3, 4, 9, 12, 15, 20], print numbers divisible by 3 using a for loop.\n"
   ]
  },
  {
   "cell_type": "code",
   "execution_count": 7,
   "id": "ece62009-02ff-4865-befa-3f27854898d4",
   "metadata": {},
   "outputs": [
    {
     "name": "stdout",
     "output_type": "stream",
     "text": [
      "3\n",
      "9\n",
      "12\n",
      "15\n"
     ]
    }
   ],
   "source": [
    "nums = [3, 4, 9, 12, 15, 20]\n",
    "for i in nums:\n",
    "    if i % 3 == 0:\n",
    "        print(i)"
   ]
  },
  {
   "cell_type": "markdown",
   "id": "83b9fed2-bc80-4621-9fdc-4abc6d15bc38",
   "metadata": {},
   "source": [
    "Print the multiplication table of 6 using a for loop.\n"
   ]
  },
  {
   "cell_type": "code",
   "execution_count": 8,
   "id": "8debe968-0088-4386-a8e3-007b828295f6",
   "metadata": {},
   "outputs": [
    {
     "name": "stdout",
     "output_type": "stream",
     "text": [
      "6 * 1 = 6\n",
      "6 * 2 = 12\n",
      "6 * 3 = 18\n",
      "6 * 4 = 24\n",
      "6 * 5 = 30\n",
      "6 * 6 = 36\n",
      "6 * 7 = 42\n",
      "6 * 8 = 48\n",
      "6 * 9 = 54\n",
      "6 * 10 = 60\n"
     ]
    }
   ],
   "source": [
    "num = 6\n",
    "for i in range(1, 11):\n",
    "    print(f\"6 * {i} = {6*i}\")"
   ]
  },
  {
   "cell_type": "markdown",
   "id": "1c070030-e7cf-4c68-aa9a-cd5f6e4131c7",
   "metadata": {},
   "source": [
    "Write a for loop to count how many vowels are in the string \"Python Programming\".\n"
   ]
  },
  {
   "cell_type": "code",
   "execution_count": 9,
   "id": "df5c6eb3-b95c-440c-a38d-fb5d44583d22",
   "metadata": {},
   "outputs": [
    {
     "name": "stdout",
     "output_type": "stream",
     "text": [
      "4\n"
     ]
    }
   ],
   "source": [
    "string = \"python programming\"\n",
    "count = 0\n",
    "vowel = ['A','E','I','O','U','a','e','i','o','u']\n",
    "for i in string:\n",
    "    if i in vowel:\n",
    "        count += 1\n",
    "print(count)"
   ]
  },
  {
   "cell_type": "markdown",
   "id": "0238983b-17d6-409c-bf93-f1b6070fd482",
   "metadata": {},
   "source": [
    "Use nested for loops to print a 4x4 square pattern of * \n"
   ]
  },
  {
   "cell_type": "code",
   "execution_count": 10,
   "id": "2af43a9d-3b30-4201-a4b9-2524a6351e94",
   "metadata": {},
   "outputs": [
    {
     "name": "stdout",
     "output_type": "stream",
     "text": [
      "****\n",
      "****\n",
      "****\n",
      "****\n"
     ]
    }
   ],
   "source": [
    "for i in range(1, 5):\n",
    "    for j in range(1, 5):\n",
    "        print(\"*\", end = \"\")\n",
    "    print()"
   ]
  },
  {
   "cell_type": "markdown",
   "id": "f1c7f0ae-ed27-4724-bb75-a5d79004a06d",
   "metadata": {},
   "source": [
    "Write a program using a for loop to calculate the factorial of a number.\n"
   ]
  },
  {
   "cell_type": "code",
   "execution_count": 12,
   "id": "20c7af30-6b52-4a6a-995a-0d1a828cedd6",
   "metadata": {},
   "outputs": [
    {
     "name": "stdin",
     "output_type": "stream",
     "text": [
      "enter a number:  3\n"
     ]
    },
    {
     "name": "stdout",
     "output_type": "stream",
     "text": [
      "6\n"
     ]
    }
   ],
   "source": [
    "num = int(input(\"enter a number: \"))\n",
    "result = 1\n",
    "for i in range(1, num + 1):\n",
    "    result *= i\n",
    "print(result)"
   ]
  },
  {
   "cell_type": "markdown",
   "id": "66ac5600-0f14-4514-aa66-6bf050be6ccb",
   "metadata": {},
   "source": [
    "From a list of names, print only those that start with a vowel."
   ]
  },
  {
   "cell_type": "code",
   "execution_count": 14,
   "id": "61b6314d-2537-4b51-87d6-12c77057aac8",
   "metadata": {},
   "outputs": [
    {
     "name": "stdout",
     "output_type": "stream",
     "text": [
      "aksh\n",
      "alan\n"
     ]
    }
   ],
   "source": [
    "NAME = [\"aksh\", \"alan\", \"prince\", \"joel\", \"ronin\"]\n",
    "for i in NAME:\n",
    "    if i[0] in \"aeiouAEIOU\":\n",
    "        print(i)"
   ]
  },
  {
   "cell_type": "markdown",
   "id": "3fa066b0-c39d-4952-8773-eded02b5c508",
   "metadata": {},
   "source": [
    "Use a for loop to print the first 10 terms of the Fibonacci series."
   ]
  },
  {
   "cell_type": "code",
   "execution_count": 17,
   "id": "7878c1ee-e605-4589-9422-69f440ea4a9f",
   "metadata": {},
   "outputs": [
    {
     "name": "stdin",
     "output_type": "stream",
     "text": [
      "enter the number of series:  10\n"
     ]
    },
    {
     "name": "stdout",
     "output_type": "stream",
     "text": [
      "0\n",
      "1\n",
      "1\n",
      "2\n",
      "3\n",
      "5\n",
      "8\n",
      "13\n",
      "21\n",
      "34\n"
     ]
    }
   ],
   "source": [
    "nterms = int(input(\"enter the number of series: \"))\n",
    "a = 0\n",
    "b = 1\n",
    "for i in range(nterms):\n",
    "    print(a)\n",
    "    temp = a\n",
    "    a = b\n",
    "    b = temp + b"
   ]
  },
  {
   "cell_type": "code",
   "execution_count": null,
   "id": "6f6ffac1-dcf5-4cfb-bf1e-7b6464ca3043",
   "metadata": {},
   "outputs": [],
   "source": []
  },
  {
   "cell_type": "code",
   "execution_count": null,
   "id": "6af49916-6c9a-4fce-860e-6c384376dadf",
   "metadata": {},
   "outputs": [],
   "source": []
  }
 ],
 "metadata": {
  "kernelspec": {
   "display_name": "Python 3 (ipykernel)",
   "language": "python",
   "name": "python3"
  },
  "language_info": {
   "codemirror_mode": {
    "name": "ipython",
    "version": 3
   },
   "file_extension": ".py",
   "mimetype": "text/x-python",
   "name": "python",
   "nbconvert_exporter": "python",
   "pygments_lexer": "ipython3",
   "version": "3.13.5"
  }
 },
 "nbformat": 4,
 "nbformat_minor": 5
}
