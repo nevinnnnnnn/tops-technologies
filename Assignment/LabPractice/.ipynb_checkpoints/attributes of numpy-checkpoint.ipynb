{
 "cells": [
  {
   "cell_type": "code",
   "execution_count": 1,
   "id": "d2953ecf-ac9b-4954-a3d6-79d58b6f6c70",
   "metadata": {},
   "outputs": [],
   "source": [
    "import numpy as np"
   ]
  },
  {
   "cell_type": "code",
   "execution_count": 2,
   "id": "87d9c1e8-4860-478e-b14b-7bbeb06d1d44",
   "metadata": {},
   "outputs": [
    {
     "name": "stdout",
     "output_type": "stream",
     "text": [
      "[[1 2 3]\n",
      " [4 5 6]\n",
      " [7 8 9]]\n"
     ]
    }
   ],
   "source": [
    "arr3 = np.array([[1,2,3],[4,5,6],[7,8,9]])\n",
    "print(arr3)"
   ]
  },
  {
   "cell_type": "code",
   "execution_count": 4,
   "id": "715d9eee-096c-42c3-88ad-753c9eb97b55",
   "metadata": {},
   "outputs": [
    {
     "name": "stdout",
     "output_type": "stream",
     "text": [
      "(3, 3)\n"
     ]
    }
   ],
   "source": [
    "print(arr3.shape) # m x n of a matrix"
   ]
  },
  {
   "cell_type": "code",
   "execution_count": 5,
   "id": "23b8239d-3bf4-4881-a6f8-37741c6980e9",
   "metadata": {},
   "outputs": [
    {
     "name": "stdout",
     "output_type": "stream",
     "text": [
      "9\n"
     ]
    }
   ],
   "source": [
    "print(arr3.size) # total number of elements"
   ]
  },
  {
   "cell_type": "code",
   "execution_count": 6,
   "id": "81edd8bc-72be-44b0-ae3e-1a1bd5d04249",
   "metadata": {},
   "outputs": [
    {
     "name": "stdout",
     "output_type": "stream",
     "text": [
      "int64\n"
     ]
    }
   ],
   "source": [
    "print(arr3.dtype) # to know the data types of the elements"
   ]
  },
  {
   "cell_type": "code",
   "execution_count": 8,
   "id": "8ccac0f3-c799-43ff-a39b-2f056825b599",
   "metadata": {},
   "outputs": [
    {
     "name": "stdout",
     "output_type": "stream",
     "text": [
      "2\n"
     ]
    }
   ],
   "source": [
    "print(arr3.ndim) # to know the dimensions of the matrix"
   ]
  },
  {
   "cell_type": "code",
   "execution_count": null,
   "id": "867d6d38-527b-4aa5-a0a8-bc23cdeceb9b",
   "metadata": {},
   "outputs": [],
   "source": []
  }
 ],
 "metadata": {
  "kernelspec": {
   "display_name": "Python 3 (ipykernel)",
   "language": "python",
   "name": "python3"
  },
  "language_info": {
   "codemirror_mode": {
    "name": "ipython",
    "version": 3
   },
   "file_extension": ".py",
   "mimetype": "text/x-python",
   "name": "python",
   "nbconvert_exporter": "python",
   "pygments_lexer": "ipython3",
   "version": "3.13.7"
  }
 },
 "nbformat": 4,
 "nbformat_minor": 5
}
