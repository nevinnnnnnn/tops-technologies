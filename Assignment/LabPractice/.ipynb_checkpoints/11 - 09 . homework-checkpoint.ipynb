{
 "cells": [
  {
   "cell_type": "markdown",
   "id": "c1d9241a-4b66-4062-ada7-a84f46ca854c",
   "metadata": {},
   "source": [
    "Write a for loop to print numbers from 1 to 20.\n",
    "\n",
    "Print all even numbers between 1 and 50 using a for loop.\n",
    "\n",
    "Print the squares of numbers from 1 to 10.\n",
    "\n",
    "Given a list of names = [\"Ram\", \"Shyam\", \"Radha\", \"Mohan\"], use a for loop to print each name in uppercase.\n",
    "\n",
    "Write a program using a for loop to print the multiplication table of 7.\n",
    "\n",
    "Given a list of numbers [12, 45, 23, 67, 89, 34], use a for loop to print only numbers greater than 40.\n",
    "\n",
    "Write a program to count how many vowels are in the string \"programming\", using a for loop.\n",
    "\n",
    "Given a dictionary: marks = {\"Math\": 90, \"Science\": 85, \"English\": 88}, use a for loop to print each subject with its marks.\n",
    "\n",
    "Write a program to find the sum of digits of a number (e.g., 753 → 15) using a for loop.\n",
    "\n",
    "Write a program to print all elements of a tuple in reverse order using a for loop.\n",
    "\n",
    "Print the 5 pattern using a for loop\n",
    "\n",
    "Write a for loop to generate the multiplication tables from 1 to 5.\n",
    "\n",
    "Use nested for loops to print a 5×5 multiplication matrix.\n",
    "\n",
    "Write a program to print all prime numbers between 10 and 50 using a for loop.\n",
    "\n",
    "Write a program to check if a string is a palindrome using a for loop (e.g., \"radar\" → Yes).\n",
    "\n",
    "Write a program to find the factorial of a number using a for loop.\n",
    "\n",
    "Write a program that prints the Fibonacci sequence up to 50 using a for loop.\n",
    "\n",
    "Given a list [\"apple\", \"banana\", \"mango\", \"grapes\"], use a for loop to find which word has the maximum length.\n",
    "\n",
    "Write a program that uses a for loop to reverse a string without using slicing.\n",
    "\n",
    "Write a program using a for loop to calculate the sum of this series: 1^2 + 2^2 + 3^2 + ... + n^2 (for n = 10).\n",
    "\n",
    "Write a program to flatten a nested list using a for loop. Example: [[1,2], [3,4], [5]] → [1,2,3,4,5]\n"
   ]
  },
  {
   "cell_type": "markdown",
   "id": "124d373a-6e2e-4b1f-b707-7de177fc022b",
   "metadata": {},
   "source": [
    "Write a for loop to print numbers from 1 to 20."
   ]
  },
  {
   "cell_type": "code",
   "execution_count": 2,
   "id": "6705a25f-fd1c-4518-bf0d-4dcb1d788af9",
   "metadata": {},
   "outputs": [
    {
     "name": "stdout",
     "output_type": "stream",
     "text": [
      "1\n",
      "2\n",
      "3\n",
      "4\n",
      "5\n",
      "6\n",
      "7\n",
      "8\n",
      "9\n",
      "10\n",
      "11\n",
      "12\n",
      "13\n",
      "14\n",
      "15\n",
      "16\n",
      "17\n",
      "18\n",
      "19\n",
      "20\n"
     ]
    }
   ],
   "source": [
    "for i in range(1, 20 + 1):\n",
    "    print(i)"
   ]
  },
  {
   "cell_type": "markdown",
   "id": "d5145089-e860-436f-a4d9-bcd377171742",
   "metadata": {},
   "source": [
    "Print all even numbers between 1 and 50 using a for loop."
   ]
  },
  {
   "cell_type": "code",
   "execution_count": 3,
   "id": "95b8cfb7-82b3-42d6-83a2-159fb5228d07",
   "metadata": {},
   "outputs": [
    {
     "name": "stdout",
     "output_type": "stream",
     "text": [
      "2\n",
      "4\n",
      "6\n",
      "8\n",
      "10\n",
      "12\n",
      "14\n",
      "16\n",
      "18\n",
      "20\n",
      "22\n",
      "24\n",
      "26\n",
      "28\n",
      "30\n",
      "32\n",
      "34\n",
      "36\n",
      "38\n",
      "40\n",
      "42\n",
      "44\n",
      "46\n",
      "48\n",
      "50\n"
     ]
    }
   ],
   "source": [
    "for i in range(1, 50 + 1):\n",
    "    if i % 2 == 0:\n",
    "        print(i)"
   ]
  },
  {
   "cell_type": "markdown",
   "id": "a9c41107-f74e-4c57-a451-4bac53065403",
   "metadata": {},
   "source": [
    "Print the squares of numbers from 1 to 10."
   ]
  },
  {
   "cell_type": "code",
   "execution_count": 4,
   "id": "340279a8-7007-4ffe-98ae-d7c0fbf5db0a",
   "metadata": {},
   "outputs": [
    {
     "name": "stdout",
     "output_type": "stream",
     "text": [
      "1\n",
      "4\n",
      "9\n",
      "16\n",
      "25\n",
      "36\n",
      "49\n",
      "64\n",
      "81\n",
      "100\n"
     ]
    }
   ],
   "source": [
    "for i in range(1, 10 + 1):\n",
    "    print(i ** 2)"
   ]
  },
  {
   "cell_type": "markdown",
   "id": "e4771e4b-1781-4c0f-893e-059fe16b52a9",
   "metadata": {},
   "source": [
    "Given a list of names = [\"Ram\", \"Shyam\", \"Radha\", \"Mohan\"], use a for loop to print each name in uppercase."
   ]
  },
  {
   "cell_type": "code",
   "execution_count": 5,
   "id": "34339e79-ba74-4c1e-a932-07a131286aae",
   "metadata": {},
   "outputs": [
    {
     "name": "stdout",
     "output_type": "stream",
     "text": [
      "RAM\n",
      "SHYAM\n",
      "RADHA\n",
      "MOHAN\n"
     ]
    }
   ],
   "source": [
    "names = [\"Ram\", \"Shyam\", \"Radha\", \"Mohan\"]\n",
    "for i in names:\n",
    "    uc = i.upper()\n",
    "    print(uc)"
   ]
  },
  {
   "cell_type": "markdown",
   "id": "0ab21c30-e942-4284-9851-6adf08ac6cea",
   "metadata": {},
   "source": [
    "Write a program using a for loop to print the multiplication table of 7."
   ]
  },
  {
   "cell_type": "code",
   "execution_count": 6,
   "id": "47c60931-a6a8-4686-a080-52714c375a23",
   "metadata": {},
   "outputs": [
    {
     "name": "stdout",
     "output_type": "stream",
     "text": [
      "7 x 1 = 7\n",
      "7 x 2 = 14\n",
      "7 x 3 = 21\n",
      "7 x 4 = 28\n",
      "7 x 5 = 35\n",
      "7 x 6 = 42\n",
      "7 x 7 = 49\n",
      "7 x 8 = 56\n",
      "7 x 9 = 63\n",
      "7 x 10 = 70\n"
     ]
    }
   ],
   "source": [
    "for i in range(1, 10 + 1):\n",
    "    print(f\"7 x {i} = {7 * i}\")"
   ]
  },
  {
   "cell_type": "markdown",
   "id": "1deb0ed6-daa6-4573-98e3-b436a1026555",
   "metadata": {},
   "source": [
    "Given a list of numbers [12, 45, 23, 67, 89, 34], use a for loop to print only numbers greater than 40."
   ]
  },
  {
   "cell_type": "code",
   "execution_count": 7,
   "id": "ab60b79f-f0d6-4fd8-8b22-105412e23afb",
   "metadata": {},
   "outputs": [
    {
     "name": "stdout",
     "output_type": "stream",
     "text": [
      "45\n",
      "67\n",
      "89\n"
     ]
    }
   ],
   "source": [
    "num = [12, 45, 23, 67, 89, 34]\n",
    "for i in num:\n",
    "    if i > 40:\n",
    "        print(i)"
   ]
  },
  {
   "cell_type": "markdown",
   "id": "1c007542-6dd6-4cfb-8c25-3314ee53384a",
   "metadata": {},
   "source": [
    "Write a program to count how many vowels are in the string \"programming\", using a for loop."
   ]
  },
  {
   "cell_type": "code",
   "execution_count": 2,
   "id": "f5b7fbf1-351a-4f5e-8e13-f90fe461fe5b",
   "metadata": {},
   "outputs": [
    {
     "name": "stdout",
     "output_type": "stream",
     "text": [
      "3\n"
     ]
    }
   ],
   "source": [
    "word = \"programming\"\n",
    "vowels = ['a','e','i','o','u']\n",
    "count = 0\n",
    "for i in word:\n",
    "    lc = word.lower()\n",
    "    if i in vowels:\n",
    "        count += 1\n",
    "print(count)"
   ]
  },
  {
   "cell_type": "markdown",
   "id": "cbe72656-3763-4842-ba17-1787c2661e57",
   "metadata": {},
   "source": [
    "Given a dictionary: marks = {\"Math\": 90, \"Science\": 85, \"English\": 88}, use a for loop to print each subject with its marks."
   ]
  },
  {
   "cell_type": "code",
   "execution_count": 5,
   "id": "c243431c-3a97-4ed2-8e55-85548e504f29",
   "metadata": {},
   "outputs": [
    {
     "name": "stdout",
     "output_type": "stream",
     "text": [
      "Math : 90\n",
      "Science : 85\n",
      "English : 88\n"
     ]
    }
   ],
   "source": [
    "marks = {\"Math\": 90, \"Science\": 85, \"English\": 88}\n",
    "for i, j in marks.items():\n",
    "    print(i, \":\", j)"
   ]
  },
  {
   "cell_type": "markdown",
   "id": "a282c897-114b-43b7-9880-2e7ac93b3ff1",
   "metadata": {},
   "source": [
    "Write a program to find the sum of digits of a number (e.g., 753 → 15) using a for loop."
   ]
  },
  {
   "cell_type": "code",
   "execution_count": 7,
   "id": "5e26ff41-93ee-4f33-9b0d-dc2c9ddbfebb",
   "metadata": {},
   "outputs": [],
   "source": [
    "#how???"
   ]
  },
  {
   "cell_type": "markdown",
   "id": "227c387a-6137-493f-807f-edebb7349226",
   "metadata": {},
   "source": [
    "Write a program to print all elements of a tuple in reverse order using a for loop."
   ]
  },
  {
   "cell_type": "code",
   "execution_count": 9,
   "id": "56d974cb-7cbd-4b55-9a89-dff5ba428b1f",
   "metadata": {},
   "outputs": [
    {
     "name": "stdout",
     "output_type": "stream",
     "text": [
      "Cherry\n",
      "Banana\n",
      "Apple\n"
     ]
    }
   ],
   "source": [
    "fruits = (\"Apple\", \"Banana\", \"Cherry\")\n",
    "for i in fruits[::-1]:\n",
    "    print(i)"
   ]
  },
  {
   "cell_type": "markdown",
   "id": "5c65e659-13a4-49ad-aa21-9b807decc06b",
   "metadata": {},
   "source": [
    "Print the 5 pattern using a for loop"
   ]
  },
  {
   "cell_type": "code",
   "execution_count": 11,
   "id": "fbdc0714-b443-4629-8e12-2b36aab0b053",
   "metadata": {},
   "outputs": [
    {
     "name": "stdout",
     "output_type": "stream",
     "text": [
      "*\n",
      "*\n",
      "*\n",
      "*\n",
      "*\n",
      "\n"
     ]
    }
   ],
   "source": [
    "for i in range(1, 5 + 1):\n",
    "    print(\"*\")\n",
    "print()"
   ]
  },
  {
   "cell_type": "code",
   "execution_count": 12,
   "id": "c3f7bd5e-fa65-4542-88a7-6313c2abc6d5",
   "metadata": {},
   "outputs": [
    {
     "name": "stdout",
     "output_type": "stream",
     "text": [
      "* * * * * \n",
      "* * * * * \n",
      "* * * * * \n",
      "* * * * * \n",
      "* * * * * \n"
     ]
    }
   ],
   "source": [
    "for i in range(5):\n",
    "    for j in range(5):\n",
    "        print(\"*\", end = \" \")\n",
    "    print()"
   ]
  },
  {
   "cell_type": "code",
   "execution_count": 15,
   "id": "66662b58-3cfd-4504-ac91-d27b933e1280",
   "metadata": {},
   "outputs": [
    {
     "name": "stdout",
     "output_type": "stream",
     "text": [
      "\n",
      "* \n",
      "* * \n",
      "* * * \n",
      "* * * * \n",
      "* * * * * \n"
     ]
    }
   ],
   "source": [
    "for i in range(5 + 1):\n",
    "    for j in range(i):\n",
    "        print(\"*\", end = \" \")\n",
    "    print()"
   ]
  },
  {
   "cell_type": "code",
   "execution_count": 16,
   "id": "2100e03c-6b08-4392-b582-630bf86c4d78",
   "metadata": {},
   "outputs": [
    {
     "name": "stdout",
     "output_type": "stream",
     "text": [
      "* * * * * * \n",
      "* * * * * \n",
      "* * * * \n",
      "* * * \n",
      "* * \n"
     ]
    }
   ],
   "source": [
    "for i in range(5 + 1, 1, -1):\n",
    "    for j in range(i):\n",
    "        print(\"*\", end = \" \")\n",
    "    print()"
   ]
  },
  {
   "cell_type": "code",
   "execution_count": null,
   "id": "59b6ffb9-ef16-4543-bdb5-1e278a5232c2",
   "metadata": {},
   "outputs": [],
   "source": [
    "for i in range(5 + 1):\n",
    "    for j in range(i):\n",
    "        print(\"*\", end = \" \")\n",
    "    print()"
   ]
  }
 ],
 "metadata": {
  "kernelspec": {
   "display_name": "Python 3 (ipykernel)",
   "language": "python",
   "name": "python3"
  },
  "language_info": {
   "codemirror_mode": {
    "name": "ipython",
    "version": 3
   },
   "file_extension": ".py",
   "mimetype": "text/x-python",
   "name": "python",
   "nbconvert_exporter": "python",
   "pygments_lexer": "ipython3",
   "version": "3.13.7"
  }
 },
 "nbformat": 4,
 "nbformat_minor": 5
}
