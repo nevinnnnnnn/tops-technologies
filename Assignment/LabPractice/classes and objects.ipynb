{
 "cells": [
  {
   "cell_type": "code",
   "execution_count": 4,
   "id": "5705432b-b268-4994-a3a6-fd7dc53c497e",
   "metadata": {},
   "outputs": [
    {
     "name": "stdout",
     "output_type": "stream",
     "text": [
      "Hi, i'm nevin and 21 years old\n"
     ]
    }
   ],
   "source": [
    "#basic.py\n",
    "\n",
    "class person:\n",
    "    species = \"homo sapiens\"\n",
    "\n",
    "    def __init__(self, name: str, age: int):\n",
    "        self.name = name\n",
    "        self._age = age    #protected\n",
    "\n",
    "    def greet(self) -> str:\n",
    "        return f\"Hi, i'm {self.name} and {self._age} years old\"\n",
    "\n",
    "p = person(\"nevin\", 21)\n",
    "print(p.greet())"
   ]
  },
  {
   "cell_type": "code",
   "execution_count": 1,
   "id": "84b1c288-706b-4bbe-81ff-dda947f2b947",
   "metadata": {},
   "outputs": [],
   "source": [
    "class Dataset:\n",
    "    def __init__(self, df):\n",
    "        self._df = df\n",
    "\n",
    "    @property\n",
    "    def shape(self):\n",
    "        return self._df.shape\n",
    "\n",
    "    @property\n",
    "    def columns(self):\n",
    "        return list(self._df.columns)\n",
    "\n",
    "    @property\n",
    "    def index(self):\n",
    "        return self._.index\n",
    "\n",
    "    @index.setter\n",
    "    def index(self, new_index):\n",
    "        self._df.index = new_index"
   ]
  },
  {
   "cell_type": "code",
   "execution_count": null,
   "id": "805f26a6-33b7-401b-b2d4-4d7d087b4481",
   "metadata": {},
   "outputs": [],
   "source": []
  }
 ],
 "metadata": {
  "kernelspec": {
   "display_name": "Python 3 (ipykernel)",
   "language": "python",
   "name": "python3"
  },
  "language_info": {
   "codemirror_mode": {
    "name": "ipython",
    "version": 3
   },
   "file_extension": ".py",
   "mimetype": "text/x-python",
   "name": "python",
   "nbconvert_exporter": "python",
   "pygments_lexer": "ipython3",
   "version": "3.13.7"
  }
 },
 "nbformat": 4,
 "nbformat_minor": 5
}
