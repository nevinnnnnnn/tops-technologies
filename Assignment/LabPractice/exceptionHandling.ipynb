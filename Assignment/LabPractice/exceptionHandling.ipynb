{
 "cells": [
  {
   "cell_type": "code",
   "execution_count": 1,
   "id": "18c2afa4-87d2-4359-b802-efcc856cf135",
   "metadata": {},
   "outputs": [
    {
     "name": "stdout",
     "output_type": "stream",
     "text": [
      "can't be divided by zero\n"
     ]
    }
   ],
   "source": [
    "n = 10\n",
    "try:\n",
    "    res = n / 0\n",
    "except ZeroDivisionError:\n",
    "    print(\"can't be divided by zero\")"
   ]
  },
  {
   "cell_type": "code",
   "execution_count": 4,
   "id": "16117274-13a1-4fc5-b32a-ea0ff44b768c",
   "metadata": {},
   "outputs": [
    {
     "name": "stdout",
     "output_type": "stream",
     "text": [
      "you can't divide by zero\n",
      "execution complete successfully\n"
     ]
    }
   ],
   "source": [
    "try:\n",
    "    n = 0\n",
    "    res = 100 / n\n",
    "except ZeroDivisionError:\n",
    "    print(\"you can't divide by zero\")\n",
    "except ValueError:\n",
    "    print(\"enter a valid number\")\n",
    "else:\n",
    "    print(\"result is \", res)\n",
    "finally:\n",
    "    print(\"execution complete successfully\")"
   ]
  },
  {
   "cell_type": "code",
   "execution_count": 5,
   "id": "7b624743-0b4f-47fe-8d7c-f303db733495",
   "metadata": {},
   "outputs": [
    {
     "name": "stdout",
     "output_type": "stream",
     "text": [
      "not valid\n"
     ]
    }
   ],
   "source": [
    "try:\n",
    "    x = int(\"str\")\n",
    "\n",
    "    inv = 1 / x\n",
    "except ValueError:\n",
    "    print(\"not valid\")\n",
    "except ZeroDivisionError:\n",
    "    print(\"zero has no inverse\")"
   ]
  },
  {
   "cell_type": "code",
   "execution_count": 7,
   "id": "0a4e6163-8998-450d-9eee-c573c48c0b04",
   "metadata": {},
   "outputs": [
    {
     "name": "stdout",
     "output_type": "stream",
     "text": [
      "error invalid literal for int() with base 10: 'TWENTY'\n"
     ]
    }
   ],
   "source": [
    "a = [\"10\", \"TWENTY\", 30]\n",
    "try:\n",
    "    total = int(a[0]) + int(a[1])\n",
    "\n",
    "except (ValueError, TypeError) as e:\n",
    "    print(\"error\", e)\n",
    "except IndexError:\n",
    "    print(\"index out of range\")"
   ]
  },
  {
   "cell_type": "code",
   "execution_count": 10,
   "id": "93174eb5-5e32-470c-9998-538894c5932d",
   "metadata": {},
   "outputs": [
    {
     "name": "stdout",
     "output_type": "stream",
     "text": [
      "something went wrong\n"
     ]
    }
   ],
   "source": [
    "try:\n",
    "    res = \"100\" / 20\n",
    "    \n",
    "except ArithmeticError:\n",
    "    print(\"arithemetic problem\")\n",
    "except:\n",
    "    print(\"something went wrong\")"
   ]
  },
  {
   "cell_type": "code",
   "execution_count": 11,
   "id": "b3e3192e-8be0-4b29-a20b-975f40188108",
   "metadata": {},
   "outputs": [
    {
     "name": "stdout",
     "output_type": "stream",
     "text": [
      "age cannot be negative\n"
     ]
    }
   ],
   "source": [
    "def set(age):\n",
    "    if age < 0:\n",
    "        raise ValueError(\"age cannot be negative\")\n",
    "    print(f\"age set to {age}\")\n",
    "\n",
    "try:\n",
    "    set(-5)\n",
    "except ValueError as e:\n",
    "    print(e)"
   ]
  },
  {
   "cell_type": "code",
   "execution_count": null,
   "id": "7ad9712e-d011-4a3c-bb63-625820fc25e4",
   "metadata": {},
   "outputs": [],
   "source": []
  }
 ],
 "metadata": {
  "kernelspec": {
   "display_name": "Python 3 (ipykernel)",
   "language": "python",
   "name": "python3"
  },
  "language_info": {
   "codemirror_mode": {
    "name": "ipython",
    "version": 3
   },
   "file_extension": ".py",
   "mimetype": "text/x-python",
   "name": "python",
   "nbconvert_exporter": "python",
   "pygments_lexer": "ipython3",
   "version": "3.13.7"
  }
 },
 "nbformat": 4,
 "nbformat_minor": 5
}
