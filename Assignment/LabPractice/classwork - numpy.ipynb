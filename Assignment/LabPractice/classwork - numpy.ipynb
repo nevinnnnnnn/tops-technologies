{
 "cells": [
  {
   "cell_type": "code",
   "execution_count": 4,
   "id": "54bcb0c7-6b71-421d-826c-76bb29316144",
   "metadata": {},
   "outputs": [],
   "source": [
    "import numpy as np"
   ]
  },
  {
   "cell_type": "code",
   "execution_count": 15,
   "id": "9a96feb4-d2df-46a2-bad7-c6ff09b246b5",
   "metadata": {},
   "outputs": [
    {
     "name": "stdout",
     "output_type": "stream",
     "text": [
      "[6 6 6 6]\n",
      "\n",
      "\n",
      "[6 6 6 6]\n",
      "\n",
      "\n",
      "[-4 -2  0  2]\n",
      "\n",
      "\n",
      "[5 8 9 8]\n",
      "\n",
      "\n",
      "[0.2 0.5 1.  2. ]\n"
     ]
    }
   ],
   "source": [
    "arr1 = np.array([1,2,3,4])\n",
    "arr2 = np.array([5,4,3,2])\n",
    "print(arr1 + arr2)\n",
    "print(\"\\n\")\n",
    "print(arr1 + arr2)\n",
    "print(\"\\n\")\n",
    "print(arr1 - arr2)\n",
    "print(\"\\n\")\n",
    "print(arr1 * arr2)\n",
    "print(\"\\n\")\n",
    "print(arr1 / arr2)"
   ]
  },
  {
   "cell_type": "code",
   "execution_count": 16,
   "id": "b08eeb43-1c8e-406e-94c6-2b8e24ee7a94",
   "metadata": {},
   "outputs": [
    {
     "name": "stdout",
     "output_type": "stream",
     "text": [
      "[1, 2, 4, 33, 3, 3]\n",
      "[34  5  7]\n"
     ]
    }
   ],
   "source": [
    "a = [1,2,4]\n",
    "b = [33,3,3]\n",
    "c = a + b\n",
    "print(c)\n",
    "\n",
    "print(np.add(a, b))"
   ]
  },
  {
   "cell_type": "code",
   "execution_count": 19,
   "id": "bb21deb1-d311-44a3-8bfb-2e5708e95b52",
   "metadata": {},
   "outputs": [
    {
     "name": "stdout",
     "output_type": "stream",
     "text": [
      "[[ 6.  6.  6.  6.]\n",
      " [ 2. 56.  6.  6.]]\n",
      "\n",
      "\n",
      "[[ 6.  6.  6.  6.]\n",
      " [ 2. 56.  6.  6.]]\n",
      "\n",
      "\n",
      "[[ -4.  -2.   0.   2.]\n",
      " [  0. -52.   0.   2.]]\n",
      "\n",
      "\n",
      "[[  5.   8.   9.   8.]\n",
      " [  1. 108.   9.   8.]]\n",
      "\n",
      "\n",
      "[[0.2        0.5        1.         2.        ]\n",
      " [1.         0.03703704 1.         2.        ]]\n"
     ]
    }
   ],
   "source": [
    "#arr1 = np.array([[1,2,3,4],[9,8,7,4]])\n",
    "arr1 = np.array([1,2,3,4], dtype = float)\n",
    "arr2 = np.array([[5,4,3,2],[1,54,3,2]])\n",
    "\n",
    "print(arr1 + arr2)\n",
    "print(\"\\n\")\n",
    "print(arr1 + arr2)\n",
    "print(\"\\n\")\n",
    "print(arr1 - arr2)\n",
    "print(\"\\n\")\n",
    "print(arr1 * arr2)\n",
    "print(\"\\n\")\n",
    "print(arr1 / arr2)"
   ]
  },
  {
   "cell_type": "code",
   "execution_count": 23,
   "id": "10bd934a-c19c-4837-80c4-9c335be871e1",
   "metadata": {},
   "outputs": [
    {
     "name": "stdout",
     "output_type": "stream",
     "text": [
      "[False  True  True False  True  True  True  True]\n",
      "[4 5 5 4 3 2]\n"
     ]
    }
   ],
   "source": [
    "arr12 = np.array([13,4,5,6,5,4,3,2])\n",
    "print(arr12 < 6)\n",
    "print(arr12[arr12 < 6])"
   ]
  },
  {
   "cell_type": "markdown",
   "id": "dff70806-d903-4efd-9464-2ccb02c4cbec",
   "metadata": {},
   "source": [
    "## indexing and slicing"
   ]
  },
  {
   "cell_type": "code",
   "execution_count": 27,
   "id": "b2a52ebd-fc51-4eb3-a28e-44dec4f6a44b",
   "metadata": {},
   "outputs": [
    {
     "name": "stdout",
     "output_type": "stream",
     "text": [
      "12\n",
      "3\n",
      "[2 1 2 3]\n",
      "[1 2]\n"
     ]
    }
   ],
   "source": [
    "sujal = np.array([12,3,2,1,2,3])\n",
    "\n",
    "print(sujal[0])\n",
    "print(sujal[-1])\n",
    "print(sujal[2:])\n",
    "print(sujal[3: 1: -1])"
   ]
  },
  {
   "cell_type": "code",
   "execution_count": 30,
   "id": "c6c96339-1cea-4ee4-a6a5-f7eb9f795144",
   "metadata": {},
   "outputs": [
    {
     "name": "stdout",
     "output_type": "stream",
     "text": [
      "2\n",
      "\n",
      "\n",
      "[[ 2 65]]\n"
     ]
    }
   ],
   "source": [
    "neel = np.array([[1,2,4,5],[2,65,4,6]])\n",
    "print(neel[0, 1])    #position ke according hota hai. m x n . \n",
    "print(\"\\n\")\n",
    "print(neel[1:, :2])"
   ]
  },
  {
   "cell_type": "code",
   "execution_count": null,
   "id": "79cb7fe1-21f1-4713-9190-d680dd677658",
   "metadata": {},
   "outputs": [],
   "source": []
  }
 ],
 "metadata": {
  "kernelspec": {
   "display_name": "Python 3 (ipykernel)",
   "language": "python",
   "name": "python3"
  },
  "language_info": {
   "codemirror_mode": {
    "name": "ipython",
    "version": 3
   },
   "file_extension": ".py",
   "mimetype": "text/x-python",
   "name": "python",
   "nbconvert_exporter": "python",
   "pygments_lexer": "ipython3",
   "version": "3.13.7"
  }
 },
 "nbformat": 4,
 "nbformat_minor": 5
}
