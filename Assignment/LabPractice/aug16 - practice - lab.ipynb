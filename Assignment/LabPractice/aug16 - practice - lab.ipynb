{
 "cells": [
  {
   "cell_type": "markdown",
   "id": "5109e574-6647-4527-88c2-28358444e77b",
   "metadata": {},
   "source": [
    "# 📘 Python Functions – 50 Practice Questions (Easy → Intermediate)\n",
    "\n",
    "### 🟢 Easy Level (1–15) – Basics of Functions\n",
    "\n",
    "1. Write a function to print **“Hello, World!”**.\n",
    "2. Write a function that takes a **name** as input and prints a greeting message.\n",
    "3. Write a function that returns the **sum of two numbers**.\n",
    "4. Write a function that returns the **maximum of two numbers**.\n",
    "5. Write a function that checks whether a number is **even or odd**.\n",
    "6. Write a function to calculate the **factorial** of a number using a loop.\n",
    "7. Write a function to return the **square of a number**.\n",
    "8. Write a function that takes a list and returns the **sum of all elements**.\n",
    "9. Write a function that counts how many **vowels** are in a given string.\n",
    "10. Write a function that checks whether a number is **prime or not**.\n",
    "11. Write a function that reverses a given string.\n",
    "12. Write a function that finds the **smallest number** in a list.\n",
    "13. Write a function that calculates the **area of a circle** (use default π = 3.14).\n",
    "14. Write a function that takes a string and returns it in **title case** (first letter capital).\n",
    "15. Write a function that accepts a number `n` and prints numbers from `1 to n`.\n",
    "\n",
    "---\n",
    "\n",
    "### 🟡 Medium Level (16–35) – Parameters, Return, Recursion\n",
    "\n",
    "16. Write a function with **default arguments** for multiplication (default multiplier = 2).\n",
    "17. Write a function to calculate the **nth Fibonacci number** using recursion.\n",
    "18. Write a function that returns the **GCD of two numbers** using Euclid’s algorithm.\n",
    "19. Write a function that checks if a string is a **palindrome**.\n",
    "20. Write a function that returns the **second largest number** in a list.\n",
    "21. Write a function to return the **sum of digits** of a number (e.g., 123 → 6).\n",
    "22. Write a function that checks if a number is an **Armstrong number**.\n",
    "23. Write a function to find the **LCM of two numbers**.\n",
    "24. Write a recursive function to calculate the **power** of a number (`a^b`).\n",
    "25. Write a function that accepts a string and removes all **punctuation marks**.\n",
    "26. Write a function that takes a list and removes all **duplicate elements**.\n",
    "27. Write a function that returns the **factorial** using recursion.\n",
    "28. Write a function that counts the **frequency of each character** in a string.\n",
    "29. Write a function that accepts a list and returns only the **even numbers**.\n",
    "30. Write a function that accepts a list of numbers and returns their **average**.\n",
    "31. Write a function to **sort a list** without using Python’s `sort()` or `sorted()`.\n",
    "32. Write a function that takes a string and returns the **longest word**.\n",
    "33. Write a function to check whether two strings are **anagrams** of each other.\n",
    "34. Write a function that returns a **dictionary of word counts** from a sentence.\n",
    "35. Write a function to generate the **first n prime numbers**.\n",
    "\n",
    "---\n",
    "\n",
    "### 🟠 Intermediate Level (36–50) – Advanced Concepts\n",
    "\n",
    "36. Write a function using **lambda** that doubles a number.\n",
    "37. Write a function that accepts another function as a parameter and executes it.\n",
    "38. Write a function that returns a **list of squares** using `map()` and `lambda`.\n",
    "39. Write a function that filters **odd numbers** from a list using `filter()` and `lambda`.\n",
    "40. Write a function to apply **reduce()** to calculate the product of all elements in a list.\n",
    "41. Write a function using recursion to print a **countdown** from `n to 1`.\n",
    "42. Write a function that demonstrates **variable scope** (local vs global).\n",
    "43. Write a function with **keyword-only arguments**.\n",
    "44. Write a function that uses **arbitrary arguments `*args`** to sum numbers.\n",
    "45. Write a function that uses **arbitrary keyword arguments `**kwargs`** to print details of a student.\n",
    "46. Write a **nested function** where an inner function adds 5 to a number.\n",
    "47. Write a function that returns another function (closure) for multiplication.\n",
    "48. Write a recursive function to generate the **binary representation** of a number.\n",
    "49. Write a function that uses **type hinting** for better readability.\n",
    "50. Write a function that accepts a list of tuples (name, age) and sorts them by age using `lambda`.\n"
   ]
  },
  {
   "cell_type": "markdown",
   "id": "4bd190e3-23be-473f-8e05-adf3de53ee8f",
   "metadata": {},
   "source": [
    "---------------------------------------------"
   ]
  },
  {
   "cell_type": "code",
   "execution_count": 1,
   "id": "c7d727c7-e315-4b65-ae63-4c7a6713039e",
   "metadata": {},
   "outputs": [
    {
     "name": "stdout",
     "output_type": "stream",
     "text": [
      "hello world\n"
     ]
    }
   ],
   "source": [
    "#1\n",
    "def hw():\n",
    "    return \"hello world\"\n",
    "\n",
    "print(hw())"
   ]
  },
  {
   "cell_type": "code",
   "execution_count": 9,
   "id": "897c06c5-3946-467b-8cab-f958f7b58285",
   "metadata": {},
   "outputs": [
    {
     "name": "stdout",
     "output_type": "stream",
     "text": [
      "hello nevinmeet world\n"
     ]
    }
   ],
   "source": [
    "#2\n",
    "def greet(name):\n",
    "    sen = \"hello \" + name + \"meet world\"\n",
    "    return sen\n",
    "print(greet(\"nevin\"))"
   ]
  },
  {
   "cell_type": "code",
   "execution_count": 10,
   "id": "3a2b5fff-a06b-4e6b-96ed-9a3fb0abe0cd",
   "metadata": {},
   "outputs": [
    {
     "name": "stdout",
     "output_type": "stream",
     "text": [
      "5\n"
     ]
    }
   ],
   "source": [
    "#3\n",
    "def sum(a, b):\n",
    "    return a+b\n",
    "print(sum(1,4))"
   ]
  },
  {
   "cell_type": "code",
   "execution_count": 11,
   "id": "c502be28-f599-4c28-8f08-e1a281b66bb2",
   "metadata": {},
   "outputs": [
    {
     "name": "stdout",
     "output_type": "stream",
     "text": [
      "123123123\n"
     ]
    }
   ],
   "source": [
    "#4\n",
    "def max(a, b):\n",
    "    if a > b:\n",
    "        return a\n",
    "    else:\n",
    "        return b\n",
    "print(max(123123123,2341212))"
   ]
  },
  {
   "cell_type": "code",
   "execution_count": 13,
   "id": "24bfde98-639f-4b2b-955e-cc82ce6c2bd3",
   "metadata": {},
   "outputs": [
    {
     "name": "stdout",
     "output_type": "stream",
     "text": [
      "odd\n"
     ]
    }
   ],
   "source": [
    "#5\n",
    "def oddEve(num):\n",
    "    if num % 2 == 0:\n",
    "        return \"even\"\n",
    "    else:\n",
    "        return \"odd\"\n",
    "print(oddEve(279349179137))"
   ]
  },
  {
   "cell_type": "code",
   "execution_count": 17,
   "id": "388846e3-0086-479f-9001-63cca5bc04e2",
   "metadata": {},
   "outputs": [
    {
     "name": "stdout",
     "output_type": "stream",
     "text": [
      "factorial number of a negative number is not possible\n"
     ]
    }
   ],
   "source": [
    "#6\n",
    "\"\"\"\n",
    "\n",
    "\"\"\"\n",
    "def fact(num):\n",
    "    if num < 0:\n",
    "        return \"factorial number of a negative number is not possible\"\n",
    "    else:\n",
    "        res = 1\n",
    "        for i in range(1, num+1):\n",
    "            res *= i\n",
    "        return res\n",
    "print(fact(-3))"
   ]
  },
  {
   "cell_type": "code",
   "execution_count": 19,
   "id": "dd1db8b5-6b58-4e34-b2ad-ce82dc101cac",
   "metadata": {},
   "outputs": [
    {
     "name": "stdout",
     "output_type": "stream",
     "text": [
      "15129\n"
     ]
    }
   ],
   "source": [
    "#7 \n",
    "def sq(num):\n",
    "    return num**2\n",
    "print(sq(123))"
   ]
  },
  {
   "cell_type": "code",
   "execution_count": 27,
   "id": "a4382b1e-b69e-479e-bacc-8fabac6c52b7",
   "metadata": {},
   "outputs": [
    {
     "ename": "TypeError",
     "evalue": "sum() missing 1 required positional argument: 'b'",
     "output_type": "error",
     "traceback": [
      "\u001b[31m---------------------------------------------------------------------------\u001b[39m",
      "\u001b[31mTypeError\u001b[39m                                 Traceback (most recent call last)",
      "\u001b[36mCell\u001b[39m\u001b[36m \u001b[39m\u001b[32mIn[27]\u001b[39m\u001b[32m, line 7\u001b[39m\n\u001b[32m      4\u001b[39m         \u001b[38;5;28msum\u001b[39m(lest[i])\n\u001b[32m      6\u001b[39m l1 = [\u001b[32m1\u001b[39m,\u001b[32m2\u001b[39m,\u001b[32m3\u001b[39m,\u001b[32m4\u001b[39m,\u001b[32m5\u001b[39m,\u001b[32m6\u001b[39m,\u001b[32m78\u001b[39m,\u001b[32m5\u001b[39m,\u001b[32m3\u001b[39m]\n\u001b[32m----> \u001b[39m\u001b[32m7\u001b[39m \u001b[38;5;28mprint\u001b[39m(\u001b[43msumOfList\u001b[49m\u001b[43m(\u001b[49m\u001b[43ml1\u001b[49m\u001b[43m)\u001b[49m)   \n",
      "\u001b[36mCell\u001b[39m\u001b[36m \u001b[39m\u001b[32mIn[27]\u001b[39m\u001b[32m, line 4\u001b[39m, in \u001b[36msumOfList\u001b[39m\u001b[34m(lest)\u001b[39m\n\u001b[32m      2\u001b[39m \u001b[38;5;28;01mdef\u001b[39;00m\u001b[38;5;250m \u001b[39m\u001b[34msumOfList\u001b[39m(lest):\n\u001b[32m      3\u001b[39m     \u001b[38;5;28;01mfor\u001b[39;00m i \u001b[38;5;129;01min\u001b[39;00m lest:\n\u001b[32m----> \u001b[39m\u001b[32m4\u001b[39m         \u001b[38;5;28;43msum\u001b[39;49m\u001b[43m(\u001b[49m\u001b[43mlest\u001b[49m\u001b[43m[\u001b[49m\u001b[43mi\u001b[49m\u001b[43m]\u001b[49m\u001b[43m)\u001b[49m\n",
      "\u001b[31mTypeError\u001b[39m: sum() missing 1 required positional argument: 'b'"
     ]
    }
   ],
   "source": [
    "#8\n",
    "def sumOfList(lest):\n",
    "    for i in lest:\n",
    "        sum(lest[i])\n",
    "\n",
    "l1 = [1,2,3,4,5,6,78,5,3]\n",
    "print(sumOfList(l1))   "
   ]
  },
  {
   "cell_type": "code",
   "execution_count": 31,
   "id": "e60f7627-ab28-4584-9aee-94221225e4c6",
   "metadata": {},
   "outputs": [
    {
     "name": "stdout",
     "output_type": "stream",
     "text": [
      "13\n"
     ]
    }
   ],
   "source": [
    "#9\n",
    "def vow(string9):\n",
    "    count = 0\n",
    "    for i in string9:\n",
    "        if i in \"aeiouAEIOU\":\n",
    "            count += 1\n",
    "    return count\n",
    "strr = \"hello world meet human and human, meet world\"\n",
    "print(vow(strr))"
   ]
  },
  {
   "cell_type": "code",
   "execution_count": 33,
   "id": "e64fe99d-22bc-4523-a80b-ab3017637888",
   "metadata": {},
   "outputs": [
    {
     "name": "stdout",
     "output_type": "stream",
     "text": [
      "True\n"
     ]
    }
   ],
   "source": [
    "#10\n",
    "def prime(num):\n",
    "    if num <= 1:\n",
    "        return False\n",
    "    for i in range(2, int(num**0.5) + 1):\n",
    "        if num % i == 0:\n",
    "            return False\n",
    "    return True\n",
    "print(prime(13))"
   ]
  },
  {
   "cell_type": "code",
   "execution_count": 34,
   "id": "bb895e24-ca90-4d1b-a176-0da14a487b0d",
   "metadata": {},
   "outputs": [],
   "source": [
    "#11\n"
   ]
  },
  {
   "cell_type": "code",
   "execution_count": 35,
   "id": "bff95bce-7ace-47ef-b761-f98ba5fecf30",
   "metadata": {},
   "outputs": [
    {
     "name": "stdout",
     "output_type": "stream",
     "text": [
      "3\n"
     ]
    }
   ],
   "source": [
    "#12\n",
    "def small(lis):\n",
    "    return min(lis)\n",
    "\n",
    "l12 = [23,3,5,46,7,342.4,32]\n",
    "print(small(l12))"
   ]
  },
  {
   "cell_type": "code",
   "execution_count": 37,
   "id": "4cade40f-ef34-4f05-ac53-fc0ef691a838",
   "metadata": {},
   "outputs": [
    {
     "name": "stdout",
     "output_type": "stream",
     "text": [
      "12.56636\n"
     ]
    }
   ],
   "source": [
    "#13\n",
    "def areaCircle(rad):\n",
    "    return 3.14159*rad*rad\n",
    "print(areaCircle(2))"
   ]
  },
  {
   "cell_type": "code",
   "execution_count": 2,
   "id": "49ce79cf-660d-423d-ac37-958382923776",
   "metadata": {},
   "outputs": [
    {
     "ename": "IndentationError",
     "evalue": "expected an indented block after function definition on line 2 (2891559005.py, line 5)",
     "output_type": "error",
     "traceback": [
      "  \u001b[36mCell\u001b[39m\u001b[36m \u001b[39m\u001b[32mIn[2]\u001b[39m\u001b[32m, line 5\u001b[39m\n\u001b[31m    \u001b[39m\u001b[31mstr14 = \"hello.. kya haal chaal h>>>??????\"\u001b[39m\n    ^\n\u001b[31mIndentationError\u001b[39m\u001b[31m:\u001b[39m expected an indented block after function definition on line 2\n"
     ]
    }
   ],
   "source": [
    "#14\n",
    "def title(string14):\n",
    "    \n",
    "\n",
    "str14 = \"hello.. kya haal chaal h>>>??????\""
   ]
  },
  {
   "cell_type": "code",
   "execution_count": 5,
   "id": "6dbd2686-46eb-4d17-a41b-78570f5d8574",
   "metadata": {},
   "outputs": [
    {
     "name": "stdout",
     "output_type": "stream",
     "text": [
      "1\n",
      "2\n",
      "3\n",
      "4\n",
      "5\n",
      "6\n",
      "7\n",
      "8\n",
      "9\n",
      "10\n",
      "11\n",
      "None\n"
     ]
    }
   ],
   "source": [
    "#15\n",
    "def nnum(n):\n",
    "    for i in range(1, n+1):\n",
    "        print(i)\n",
    "print(nnum(11))"
   ]
  },
  {
   "cell_type": "code",
   "execution_count": null,
   "id": "3e849e0f-2d00-4b96-8c3f-c5cbf1f52701",
   "metadata": {},
   "outputs": [],
   "source": []
  }
 ],
 "metadata": {
  "kernelspec": {
   "display_name": "Python 3 (ipykernel)",
   "language": "python",
   "name": "python3"
  },
  "language_info": {
   "codemirror_mode": {
    "name": "ipython",
    "version": 3
   },
   "file_extension": ".py",
   "mimetype": "text/x-python",
   "name": "python",
   "nbconvert_exporter": "python",
   "pygments_lexer": "ipython3",
   "version": "3.13.7"
  }
 },
 "nbformat": 4,
 "nbformat_minor": 5
}
