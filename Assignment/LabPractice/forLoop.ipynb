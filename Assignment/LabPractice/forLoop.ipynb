{
 "cells": [
  {
   "cell_type": "markdown",
   "id": "e61f688d-4250-4195-a8a4-e2be0c8b5de9",
   "metadata": {},
   "source": [
    "# basic level"
   ]
  },
  {
   "cell_type": "markdown",
   "id": "f741d10b-e7d6-4ad0-a161-5f0eeb7a277f",
   "metadata": {},
   "source": [
    "Write a for loop to print numbers from 1 to 10."
   ]
  },
  {
   "cell_type": "code",
   "execution_count": 3,
   "id": "4c2fd528-aec8-4869-957a-ea1ae0859970",
   "metadata": {},
   "outputs": [
    {
     "name": "stdout",
     "output_type": "stream",
     "text": [
      "1\n",
      "2\n",
      "3\n",
      "4\n",
      "5\n",
      "6\n",
      "7\n",
      "8\n",
      "9\n",
      "10\n"
     ]
    }
   ],
   "source": [
    "for i in range(1, 11):\n",
    "    print(i)"
   ]
  },
  {
   "cell_type": "markdown",
   "id": "abee8d17-17af-41c7-91cd-bb80a2e6ce84",
   "metadata": {},
   "source": [
    "Loop through a list of names and print each name with \"Hello\"."
   ]
  },
  {
   "cell_type": "code",
   "execution_count": 4,
   "id": "6f9ca41a-bb31-45f3-9989-760e4c5e4c56",
   "metadata": {},
   "outputs": [
    {
     "name": "stdout",
     "output_type": "stream",
     "text": [
      " hello nevin\n",
      " hello alan\n",
      " hello joel\n",
      " hello ronin\n",
      " hello ronald\n",
      " hello prince\n",
      " hello tejas\n",
      " hello aksh\n"
     ]
    }
   ],
   "source": [
    "name = [\"nevin\", \"alan\", \"joel\", \"ronin\", \"ronald\", \"prince\", \"tejas\", \"aksh\"]\n",
    "for i in name:\n",
    "    print(f\" hello {i}\")"
   ]
  },
  {
   "cell_type": "markdown",
   "id": "08fec79e-3d57-4a7e-8596-7c2e52ab5cfe",
   "metadata": {},
   "source": [
    "Print only even numbers from 1 to 50 using a for loop."
   ]
  },
  {
   "cell_type": "code",
   "execution_count": 5,
   "id": "bb253be8-0994-4737-8f8c-e10dcb1c231c",
   "metadata": {},
   "outputs": [
    {
     "name": "stdout",
     "output_type": "stream",
     "text": [
      "2\n",
      "4\n",
      "6\n",
      "8\n",
      "10\n",
      "12\n",
      "14\n",
      "16\n",
      "18\n",
      "20\n",
      "22\n",
      "24\n",
      "26\n",
      "28\n",
      "30\n",
      "32\n",
      "34\n",
      "36\n",
      "38\n",
      "40\n",
      "42\n",
      "44\n",
      "46\n",
      "48\n",
      "50\n"
     ]
    }
   ],
   "source": [
    "for i in range(1, 51):\n",
    "    if i%2 == 0:\n",
    "        print(i)"
   ]
  },
  {
   "cell_type": "markdown",
   "id": "f2f33dac-9202-438d-8ad9-31bc8d6c9751",
   "metadata": {},
   "source": [
    "Loop through a string and print each character."
   ]
  },
  {
   "cell_type": "code",
   "execution_count": 7,
   "id": "f3beb8c0-09b3-42f3-b157-667e088ce976",
   "metadata": {},
   "outputs": [
    {
     "name": "stdout",
     "output_type": "stream",
     "text": [
      "h\n",
      "e\n",
      "l\n",
      "l\n",
      "o\n",
      " \n",
      "w\n",
      "o\n",
      "r\n",
      "l\n",
      "d\n"
     ]
    }
   ],
   "source": [
    "string = \"hello world\"\n",
    "for i in string:\n",
    "    print(i)"
   ]
  },
  {
   "cell_type": "markdown",
   "id": "8adc903b-3fc3-4017-b55c-5c7d5cb1e92f",
   "metadata": {},
   "source": [
    "Loop through a list using range(len(list)) instead of directly iterating."
   ]
  },
  {
   "cell_type": "code",
   "execution_count": 10,
   "id": "bc0d6a9f-9b6c-4044-a33c-ead2c8b400ed",
   "metadata": {},
   "outputs": [
    {
     "name": "stdout",
     "output_type": "stream",
     "text": [
      "1. nevin\n",
      "2. alan\n",
      "3. joel\n",
      "4. ronin\n",
      "5. ronald\n",
      "6. prince\n",
      "7. tejas\n",
      "8. aksh\n"
     ]
    }
   ],
   "source": [
    "name = [\"nevin\", \"alan\", \"joel\", \"ronin\", \"ronald\", \"prince\", \"tejas\", \"aksh\"]\n",
    "\n",
    "for i in range(len(name)):\n",
    "    print(f\"{i + 1}. {name[i]}\")"
   ]
  },
  {
   "cell_type": "markdown",
   "id": "3587ef0c-be26-4770-893a-3146d5a3998c",
   "metadata": {},
   "source": [
    "Given a list of numbers, print the square of each number."
   ]
  },
  {
   "cell_type": "code",
   "execution_count": 11,
   "id": "3f6d1212-59a7-4923-9f35-9ce7123a9ffd",
   "metadata": {},
   "outputs": [
    {
     "name": "stdout",
     "output_type": "stream",
     "text": [
      "1\n",
      "4\n",
      "9\n",
      "16\n",
      "25\n",
      "36\n",
      "49\n",
      "64\n",
      "81\n",
      "9801\n",
      "7744\n",
      "5929\n",
      "4356\n",
      "3025\n",
      "1936\n",
      "1089\n",
      "484\n",
      "121\n",
      "144\n"
     ]
    }
   ],
   "source": [
    "numbers = [1,2,3,4,5,6,7,8,9,99,88,77,66,55,44,33,22,11,12]\n",
    "for i in numbers:\n",
    "    print(i * i)"
   ]
  },
  {
   "cell_type": "markdown",
   "id": "3535fa5b-01d6-43b7-b115-570befb749f0",
   "metadata": {},
   "source": [
    "Write a for loop that calculates the sum of the first 100 natural numbers."
   ]
  },
  {
   "cell_type": "code",
   "execution_count": 13,
   "id": "104690b2-d566-49e6-bdd1-35d369d7a3aa",
   "metadata": {},
   "outputs": [
    {
     "name": "stdout",
     "output_type": "stream",
     "text": [
      "5050\n"
     ]
    }
   ],
   "source": [
    "total = 0\n",
    "for i in range(1,101):\n",
    "    total = total + i\n",
    "\n",
    "print(total)"
   ]
  },
  {
   "cell_type": "markdown",
   "id": "863b3ee6-51f8-4638-947a-8b2130585542",
   "metadata": {},
   "source": [
    "#  Intermediate – Lists, Dictionaries, and Tuples"
   ]
  },
  {
   "cell_type": "markdown",
   "id": "6c9eab66-0c42-4eec-ab39-0a9259d4675a",
   "metadata": {},
   "source": [
    "Given a list of prices, use a for loop to apply a 10% discount to each and store it in a new list."
   ]
  },
  {
   "cell_type": "code",
   "execution_count": 6,
   "id": "c2b2948b-0143-4cbe-b3f3-636b2815ee55",
   "metadata": {},
   "outputs": [
    {
     "name": "stdout",
     "output_type": "stream",
     "text": [
      "[18.0, 31.5, 60.3, 49.5, 78.3, 2001.6, 11.7, 3999.6, 3908.7, 899.1]\n"
     ]
    }
   ],
   "source": [
    "prices = [20, 35, 67, 55, 87, 2224, 13, 4444, 4343, 999]\n",
    "new_price = []\n",
    "discount = 0.1\n",
    "for price in prices:\n",
    "    discounted_price = price - (price * discount)\n",
    "    new_price.append(discounted_price)\n",
    "\n",
    "print(new_price)"
   ]
  },
  {
   "cell_type": "markdown",
   "id": "13d11f2c-0e97-4507-adb3-a509ae9e54e6",
   "metadata": {},
   "source": [
    "Iterate through a dictionary and print the key and value."
   ]
  },
  {
   "cell_type": "code",
   "execution_count": 7,
   "id": "f538c3b6-b1f4-4ac8-a57c-1dc8475f45ee",
   "metadata": {},
   "outputs": [
    {
     "name": "stdout",
     "output_type": "stream",
     "text": [
      "A 1\n",
      "B 2\n",
      "C 3\n",
      "D 4\n",
      "E 5\n"
     ]
    }
   ],
   "source": [
    "dict_data = {'A': 1, 'B': 2, 'C': 3, 'D': 4, 'E': 5}\n",
    "for i in dict_data:\n",
    "    print(i, dict_data[i])"
   ]
  },
  {
   "cell_type": "markdown",
   "id": "14ca44d8-3c6f-4cbb-8c19-b98836da070e",
   "metadata": {},
   "source": [
    "Loop through a list of tuples and print the first element of each tuple."
   ]
  },
  {
   "cell_type": "code",
   "execution_count": 11,
   "id": "8fe009b0-c365-4f1d-ad1a-34ef671e1f6f",
   "metadata": {},
   "outputs": [
    {
     "name": "stdout",
     "output_type": "stream",
     "text": [
      "1 (1, 'Hello') Hello\n",
      "2 (2, 'world') world\n",
      "3 (3, 'meet') meet\n",
      "4 (4, 'Mission') Mission\n",
      "5 (5, 'AI') AI\n"
     ]
    }
   ],
   "source": [
    "tuple_list = [(1, 'Hello'), (2, 'world'), (3, 'meet'), (4, 'Mission'), (5, 'AI')]\n",
    "\n",
    "for item in tuple_list:\n",
    "    print(item[0], item, item[1])"
   ]
  },
  {
   "cell_type": "markdown",
   "id": "31165a4b-1e36-4743-a484-8dc030eaee08",
   "metadata": {},
   "source": [
    "Create a list of all even numbers between 1 and 100 using list comprehension."
   ]
  },
  {
   "cell_type": "code",
   "execution_count": 17,
   "id": "64afe285-ce2b-4d52-b1c2-0c1d2f172ae5",
   "metadata": {},
   "outputs": [
    {
     "name": "stdout",
     "output_type": "stream",
     "text": [
      "[2, 4, 6, 8, 10, 12, 14, 16, 18, 20, 22, 24, 26, 28, 30, 32, 34, 36, 38, 40, 42, 44, 46, 48, 50, 52, 54, 56, 58, 60, 62, 64, 66, 68, 70, 72, 74, 76, 78, 80, 82, 84, 86, 88, 90, 92, 94, 96, 98, 100]\n"
     ]
    }
   ],
   "source": [
    "even = [i for i in range(2, 101, 2)]\n",
    "print(even)"
   ]
  },
  {
   "cell_type": "markdown",
   "id": "887de561-72ec-4a9f-841b-23a4e43afd84",
   "metadata": {},
   "source": [
    "You’re given a string. Count how many times each character appears using a dictionary and a for loop."
   ]
  },
  {
   "cell_type": "code",
   "execution_count": null,
   "id": "88b2a8d4-38b2-4a50-8863-2817323817d8",
   "metadata": {},
   "outputs": [],
   "source": []
  }
 ],
 "metadata": {
  "kernelspec": {
   "display_name": "Python [conda env:base] *",
   "language": "python",
   "name": "conda-base-py"
  },
  "language_info": {
   "codemirror_mode": {
    "name": "ipython",
    "version": 3
   },
   "file_extension": ".py",
   "mimetype": "text/x-python",
   "name": "python",
   "nbconvert_exporter": "python",
   "pygments_lexer": "ipython3",
   "version": "3.13.5"
  }
 },
 "nbformat": 4,
 "nbformat_minor": 5
}
