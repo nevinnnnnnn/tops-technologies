{
 "cells": [
  {
   "cell_type": "markdown",
   "id": "9a4602a6-0caa-4db7-a43c-5763f61ae8a4",
   "metadata": {},
   "source": [
    "# For Loop with Lists"
   ]
  },
  {
   "cell_type": "markdown",
   "id": "a7d5d571-002a-4791-8c6d-fd6d14124ef6",
   "metadata": {},
   "source": [
    "1. Iterate over a list of numbers and print each element."
   ]
  },
  {
   "cell_type": "code",
   "execution_count": 2,
   "id": "53bb8227-e01f-4837-887e-ad7d539c9342",
   "metadata": {},
   "outputs": [
    {
     "name": "stdout",
     "output_type": "stream",
     "text": [
      "1\n",
      "2\n",
      "3\n",
      "4\n",
      "5\n",
      "6\n",
      "7\n",
      "8\n",
      "9\n",
      "0\n",
      "11\n",
      "22\n",
      "33\n",
      "44\n",
      "55\n",
      "66\n",
      "77\n",
      "5\n",
      "42\n",
      "5\n",
      "4\n",
      "3\n",
      "4\n",
      "43\n",
      "2\n",
      "34\n",
      "7\n"
     ]
    }
   ],
   "source": [
    "l1 = [1,2,3,4,5,6,7,8,9,0,11,22,33,44,55,66,77,5,42,5,4,3,4,43,2,34,7]\n",
    "for i in l1:\n",
    "    print(i)"
   ]
  },
  {
   "cell_type": "markdown",
   "id": "16978f06-5570-49b1-817b-aa83ef7a6d4f",
   "metadata": {},
   "source": [
    "2. Square each number in a list and store the result in a new list."
   ]
  },
  {
   "cell_type": "code",
   "execution_count": 3,
   "id": "bd783bb2-b89e-45a2-b941-b907a8072743",
   "metadata": {},
   "outputs": [
    {
     "name": "stdout",
     "output_type": "stream",
     "text": [
      "1\n",
      "4\n",
      "9\n",
      "16\n",
      "25\n",
      "36\n",
      "6084\n",
      "81\n"
     ]
    }
   ],
   "source": [
    "L2 = [1,2,3,4,5,6,78,9]\n",
    "for num in L2:\n",
    "    print(num*num)"
   ]
  },
  {
   "cell_type": "markdown",
   "id": "c6972946-7428-4199-a4a9-23e5d0febb0f",
   "metadata": {},
   "source": [
    "3. Filter out all even numbers from a list using a for loop.\n",
    "\n"
   ]
  },
  {
   "cell_type": "code",
   "execution_count": 4,
   "id": "9756059e-f88c-4941-aa95-9c601ffefab3",
   "metadata": {},
   "outputs": [
    {
     "name": "stdout",
     "output_type": "stream",
     "text": [
      "12\n",
      "4\n",
      "54\n",
      "8\n",
      "2\n",
      "56\n",
      "55342\n"
     ]
    }
   ],
   "source": [
    "L3 = [12,3,4,54,65,677,687,8,565,2,3,43,56,55342,1]\n",
    "for i in L3:\n",
    "    if i%2 == 0:\n",
    "        print(i)"
   ]
  },
  {
   "cell_type": "markdown",
   "id": "fc9866ba-abff-4ea9-9b80-437a0268d7f3",
   "metadata": {},
   "source": [
    "4. Loop through a list and replace negative numbers with 0.\n",
    "\n"
   ]
  },
  {
   "cell_type": "code",
   "execution_count": 12,
   "id": "1edd1f04-e0b5-41d3-acfd-ebfee63ce9b4",
   "metadata": {},
   "outputs": [
    {
     "name": "stdout",
     "output_type": "stream",
     "text": [
      "[-2, 23, 4, 33, -2, 2, 3, 34, -4, 2, -4, 54, 3, -2, 3, 3, 4]\n",
      "[0, 23, 4, 33, 0, 2, 3, 34, 0, 2, 0, 54, 3, 0, 3, 3, 4]\n"
     ]
    }
   ],
   "source": [
    "L4 = [-2,23,4,33,-2,2,3,34,-4,2,-4,54,3,-2,3,3,4]\n",
    "print(L4)\n",
    "L4_mod = []\n",
    "for i in L4:\n",
    "    if i < 0:\n",
    "        L4_mod.append(0)\n",
    "    else:\n",
    "        L4_mod.append(i)\n",
    "print(L4_mod)"
   ]
  },
  {
   "cell_type": "markdown",
   "id": "aae1401b-ee57-4d0a-9be4-b99d73628d76",
   "metadata": {},
   "source": [
    "5. Iterate using range(len(list)) and modify list elements in-place.\n",
    "\n"
   ]
  },
  {
   "cell_type": "code",
   "execution_count": 15,
   "id": "cf9652fa-77a6-4881-a013-a5ff7af24efd",
   "metadata": {},
   "outputs": [
    {
     "name": "stdout",
     "output_type": "stream",
     "text": [
      "['a', 'b', 'c', 'd', 'e', 'f']\n"
     ]
    }
   ],
   "source": [
    "name = [\"A\", \"B\", \"C\", \"D\", \"E\", \"F\"]\n",
    "for i in range(len(name)):\n",
    "    name[i] = name[i].lower()\n",
    "print(name)"
   ]
  },
  {
   "cell_type": "markdown",
   "id": "c387c6e5-4e65-4067-bde0-a9ba8da731f2",
   "metadata": {},
   "source": [
    "6. Loop through a list of strings and count how many have length > 5.\n",
    "\n"
   ]
  },
  {
   "cell_type": "code",
   "execution_count": 18,
   "id": "5d145243-e1c9-4118-8401-712b643c1be7",
   "metadata": {},
   "outputs": [
    {
     "name": "stdout",
     "output_type": "stream",
     "text": [
      "6\n"
     ]
    }
   ],
   "source": [
    "count = 0\n",
    "L6 = [\"alpha\", \"bravo\", \"charlie\", \"delta\", \"epsilon\", \"Alanee\", \"Joeele\", \"Ronine\", \"nevine\"]\n",
    "for i in L6:\n",
    "    if len(i) > 5:\n",
    "        count = count + 1\n",
    "print(count)"
   ]
  },
  {
   "cell_type": "markdown",
   "id": "92945f26-22f9-4c98-9eb4-d696a87c5553",
   "metadata": {},
   "source": [
    "# For Loop with Tuples"
   ]
  },
  {
   "cell_type": "markdown",
   "id": "27733abf-f118-40a6-916b-070a25208548",
   "metadata": {},
   "source": [
    "7. Given a list of tuples (name, age), print all names of people older than 30."
   ]
  },
  {
   "cell_type": "code",
   "execution_count": 22,
   "id": "9277c9b1-4f9b-4036-a2bf-476049263f67",
   "metadata": {},
   "outputs": [
    {
     "name": "stdout",
     "output_type": "stream",
     "text": [
      "Noah\n",
      "Liam\n",
      "Ava\n",
      "Mason\n",
      "Isabella\n",
      "James\n",
      "Benjamin\n",
      "Jacob\n"
     ]
    }
   ],
   "source": [
    "people = [\n",
    "    (\"Emma\", 28),\n",
    "    (\"Noah\", 34),\n",
    "    (\"Olivia\", 22),\n",
    "    (\"Liam\", 45),\n",
    "    (\"Ava\", 31),\n",
    "    (\"William\", 19),\n",
    "    (\"Sophia\", 27),\n",
    "    (\"Mason\", 52),\n",
    "    (\"Isabella\", 38),\n",
    "    (\"James\", 41),\n",
    "    (\"Mia\", 25),\n",
    "    (\"Benjamin\", 33),\n",
    "    (\"Charlotte\", 29),\n",
    "    (\"Jacob\", 47),\n",
    "    (\"Amelia\", 24)\n",
    "]\n",
    "\n",
    "for i in people:\n",
    "    if i[1] >30:\n",
    "        print(i[0])"
   ]
  },
  {
   "cell_type": "markdown",
   "id": "9638f964-cfc0-4618-9b07-1136fcf109fc",
   "metadata": {},
   "source": [
    "8. Iterate through a tuple of numbers and find the sum of all elements."
   ]
  },
  {
   "cell_type": "code",
   "execution_count": 23,
   "id": "09f6ca8a-9332-4991-9586-bd3563f3c081",
   "metadata": {},
   "outputs": [
    {
     "name": "stdout",
     "output_type": "stream",
     "text": [
      "15\n"
     ]
    }
   ],
   "source": [
    "numbers = (1, 2, 3, 4, 5)\n",
    "sum = 0\n",
    "for i in numbers:\n",
    "    sum += i\n",
    "print(sum)"
   ]
  },
  {
   "cell_type": "markdown",
   "id": "725343fd-bd66-4518-bc0f-c9b1001dda19",
   "metadata": {},
   "source": [
    "9. Create a list of all second elements from a list of 2-item tuples."
   ]
  },
  {
   "cell_type": "code",
   "execution_count": 5,
   "id": "c6d49ad4-4a40-40f3-82be-37ab101cc2f8",
   "metadata": {},
   "outputs": [
    {
     "name": "stdout",
     "output_type": "stream",
     "text": [
      "[1, 2, 3, 4, 5, 6]\n"
     ]
    }
   ],
   "source": [
    "L9 = [(\"a\",1), (\"b\",2), (\"c\",3), (\"d\",4), (\"e\",5), (\"f\",6)]\n",
    "newL = []\n",
    "for i in L9:\n",
    "    newL.append(i[1])\n",
    "print(newL)"
   ]
  },
  {
   "cell_type": "markdown",
   "id": "1affc93c-38e7-47f9-9a04-1cdee39b92fd",
   "metadata": {},
   "source": [
    "# For Loop with Sets"
   ]
  },
  {
   "cell_type": "markdown",
   "id": "f3447bb1-288e-4f90-ab58-ab871cac94c0",
   "metadata": {},
   "source": [
    "10. Loop through a set and print each unique item.\n",
    "\n"
   ]
  },
  {
   "cell_type": "code",
   "execution_count": 7,
   "id": "708cdb09-0ba2-4265-bafb-eb0173af7cdd",
   "metadata": {},
   "outputs": [
    {
     "name": "stdout",
     "output_type": "stream",
     "text": [
      "banana\n",
      "apple\n",
      "orange\n",
      "cherry\n",
      "kiwi\n"
     ]
    }
   ],
   "source": [
    "fruits = {\"apple\", \"banana\", \"cherry\", \"orange\", \"kiwi\", \"apple\"}\n",
    "for i in fruits:\n",
    "    print(i)"
   ]
  },
  {
   "cell_type": "markdown",
   "id": "99911aca-4bc1-4603-a3df-618f03d8e1d8",
   "metadata": {},
   "source": [
    "11. Given a list with duplicates, use a set and for loop to print only unique items."
   ]
  },
  {
   "cell_type": "code",
   "execution_count": 12,
   "id": "7bf82611-39db-4654-8c0a-370365e744ee",
   "metadata": {},
   "outputs": [
    {
     "name": "stdout",
     "output_type": "stream",
     "text": [
      "1\n",
      "2\n",
      "3\n",
      "4\n",
      "6\n",
      "7\n",
      "11\n",
      "{1, 2, 3, 4, 6, 7, 11}\n"
     ]
    }
   ],
   "source": [
    "list11 = [1,11,1,1,2,3,4,3,2,1,2,4,7,6]\n",
    "setlist11 = set(list11)\n",
    "for i in setlist11:\n",
    "    print(i)\n",
    "print(setlist11)"
   ]
  },
  {
   "cell_type": "markdown",
   "id": "f8b9c33a-2d7f-4746-9c41-b63324d24f5a",
   "metadata": {},
   "source": [
    "12. Write a loop to find the intersection of two sets manually (no &).\n",
    "\n"
   ]
  },
  {
   "cell_type": "code",
   "execution_count": 27,
   "id": "9ef0e4d9-32b9-46ba-92b2-97e9c0576357",
   "metadata": {},
   "outputs": [
    {
     "name": "stdout",
     "output_type": "stream",
     "text": [
      "1\n",
      "2\n",
      "33\n",
      "4\n",
      "5\n",
      "6\n",
      "54\n",
      "23\n",
      "{}\n",
      "set()\n"
     ]
    }
   ],
   "source": [
    "set21 = {1,2,3,4,5,6,7,8,6,5,22,33,54,65,34,23,12,22,65}\n",
    "set22 = {1,54,2,4,6,78,5,4,32,6,54,23,69,56,2,33,4,24,2,5,88,2}\n",
    "listA = {}\n",
    "for i in set22:\n",
    "    if i in set21:\n",
    "        print(i)\n",
    "        \n",
    "print(listA)\n",
    "print(set(listA))"
   ]
  },
  {
   "cell_type": "markdown",
   "id": "6005e291-6382-43e9-8750-8aa5eb1ce718",
   "metadata": {},
   "source": [
    "13. Iterate over a set and count how many strings start with a vowel.\n",
    "\n"
   ]
  },
  {
   "cell_type": "code",
   "execution_count": 41,
   "id": "dd6a3bdb-13a0-4272-866b-a8adafa8a5c8",
   "metadata": {},
   "outputs": [
    {
     "name": "stdout",
     "output_type": "stream",
     "text": [
      "2\n"
     ]
    }
   ],
   "source": [
    "set1 = {\"Apple\", \"Banana\", \"cherry\", \"date\", \"epsilon\", \"figma\"}\n",
    "#set1 = \"my name is nevin\"\n",
    "VOWEL = {\"A\", \"E\", \"I\", \"O\", \"U\", \"a\", \"e\", \"i\", \"o\", \"u\"}\n",
    "count = 0\n",
    "for i in set1:\n",
    "    if i[0] in VOWEL:\n",
    "        count += 1\n",
    "print(count)"
   ]
  },
  {
   "cell_type": "markdown",
   "id": "a1fd5c3d-361e-4baa-9e81-3740fbb3b65d",
   "metadata": {},
   "source": [
    "14. Given a dictionary of products and prices, print each key and value."
   ]
  },
  {
   "cell_type": "code",
   "execution_count": 33,
   "id": "9b0b9750-b2c4-4768-91e7-ec81844d9b97",
   "metadata": {},
   "outputs": [
    {
     "name": "stdout",
     "output_type": "stream",
     "text": [
      "apple - 0.99\n",
      "banana - 0.59\n",
      "orange - 0.79\n",
      "milk - 3.49\n",
      "bread - 2.99\n",
      "eggs - 2.49\n",
      "cheese - 4.99\n",
      "chicken - 7.99\n",
      "rice - 1.99\n",
      "pasta - 1.29\n"
     ]
    }
   ],
   "source": [
    "products = {\n",
    "    \"apple\": 0.99,\n",
    "    \"banana\": 0.59,\n",
    "    \"orange\": 0.79,\n",
    "    \"milk\": 3.49,\n",
    "    \"bread\": 2.99,\n",
    "    \"eggs\": 2.49,\n",
    "    \"cheese\": 4.99,\n",
    "    \"chicken\": 7.99,\n",
    "    \"rice\": 1.99,\n",
    "    \"pasta\": 1.29\n",
    "}\n",
    "\n",
    "for i in products:\n",
    "    print(f\"{i} - {products[i]}\")"
   ]
  },
  {
   "cell_type": "markdown",
   "id": "4d45368e-9e7f-4cdb-9ef9-36acb7898802",
   "metadata": {},
   "source": [
    "15. Loop through a dictionary and find the most expensive item.\n",
    "\n"
   ]
  },
  {
   "cell_type": "code",
   "execution_count": 57,
   "id": "5e80f67c-6524-42a5-af59-dc06a6b11ef9",
   "metadata": {},
   "outputs": [
    {
     "name": "stdout",
     "output_type": "stream",
     "text": [
      "chicken - 7.99\n"
     ]
    }
   ],
   "source": [
    "products = {\n",
    "    \"apple\": 0.99,\n",
    "    \"banana\": 0.59,\n",
    "    \"orange\": 0.79,\n",
    "    \"milk\": 3.49,\n",
    "    \"bread\": 2.99,\n",
    "    \"eggs\": 2.49,\n",
    "    \"cheese\": 4.99,\n",
    "    \"chicken\": 7.99,\n",
    "    \"rice\": 1.99,\n",
    "    \"pasta\": 1.29\n",
    "}\n",
    "\n",
    "exp = \"\"\n",
    "hprice = 0\n",
    "\n",
    "for mmm, price in products.items():\n",
    "    if price > hprice:\n",
    "        hprice = price\n",
    "        exp = mmm\n",
    "print(f\"{exp} - {hprice}\")"
   ]
  },
  {
   "cell_type": "markdown",
   "id": "229d5b92-9e39-46f6-88a6-449d2f7c6abc",
   "metadata": {},
   "source": [
    "16. Create a new dictionary with values increased by 10% using a for loop."
   ]
  },
  {
   "cell_type": "code",
   "execution_count": 65,
   "id": "bcca21b2-9f35-429b-928c-4c8675313690",
   "metadata": {},
   "outputs": [
    {
     "name": "stdout",
     "output_type": "stream",
     "text": [
      "apple - 1.089\n",
      "banana - 0.649\n",
      "orange - 0.869\n",
      "milk - 3.8390000000000004\n",
      "bread - 3.289\n",
      "eggs - 2.7390000000000003\n",
      "cheese - 5.489\n",
      "chicken - 8.789\n",
      "rice - 2.189\n",
      "pasta - 1.419\n"
     ]
    }
   ],
   "source": [
    "products = {\n",
    "    \"apple\": 0.99,\n",
    "    \"banana\": 0.59,\n",
    "    \"orange\": 0.79,\n",
    "    \"milk\": 3.49,\n",
    "    \"bread\": 2.99,\n",
    "    \"eggs\": 2.49,\n",
    "    \"cheese\": 4.99,\n",
    "    \"chicken\": 7.99,\n",
    "    \"rice\": 1.99,\n",
    "    \"pasta\": 1.29\n",
    "}\n",
    "\n",
    "newDict = {}\n",
    "for item, price in products.items():\n",
    "    nprice = price + (price*0.1)\n",
    "    newDict[item] = nprice\n",
    "    print(f\"{item} - {nprice}\")\n",
    "    "
   ]
  },
  {
   "cell_type": "markdown",
   "id": "b5f2059e-d734-4b7c-886b-5bcbdf082b18",
   "metadata": {},
   "source": [
    "17. From a dictionary of names and ages, print only those whose age > 30.\n",
    "\n"
   ]
  },
  {
   "cell_type": "code",
   "execution_count": 72,
   "id": "09dac967-5707-4976-a514-264cab6c894a",
   "metadata": {},
   "outputs": [
    {
     "name": "stdout",
     "output_type": "stream",
     "text": [
      "B - 43\n",
      "D - 45\n",
      "E - 65\n"
     ]
    }
   ],
   "source": [
    "dict17 = {\"A\": 23, \"B\": 43, \"C\": 29, \"D\": 45, \"E\": 65}\n",
    "for name, age in dict17.items():\n",
    "    if age > 30:\n",
    "        print(f\"{name} - {age}\")"
   ]
  },
  {
   "cell_type": "markdown",
   "id": "14af83b9-11b4-41b5-8db1-7ea7b09d9eae",
   "metadata": {},
   "source": [
    "18. Convert a dictionary to a list of tuples using a for loop.\n",
    "\n"
   ]
  },
  {
   "cell_type": "code",
   "execution_count": 75,
   "id": "8a068157-99ff-442d-be60-49e8e6421c8d",
   "metadata": {},
   "outputs": [
    {
     "name": "stdout",
     "output_type": "stream",
     "text": [
      "[('A', 23), ('B', 43), ('C', 29), ('D', 45), ('E', 65)]\n"
     ]
    }
   ],
   "source": [
    "dict17 = {\"A\": 23, \"B\": 43, \"C\": 29, \"D\": 45, \"E\": 65}\n",
    "listOfTuples = list(dict17.items())\n",
    "print(listOfTuples)"
   ]
  },
  {
   "cell_type": "markdown",
   "id": "12b69472-eb44-421e-82c7-19e65ec6bb5e",
   "metadata": {},
   "source": [
    "# Mixed Advanced Thinking"
   ]
  },
  {
   "cell_type": "markdown",
   "id": "900f269f-a931-4ff2-b889-e80781121376",
   "metadata": {},
   "source": [
    "19. Write a for loop that groups words by their first letter using a dictionary.\n",
    "\n",
    "Example: [\"apple\", \"banana\", \"apricot\", \"blueberry\"] → {'a': [...], 'b': [...]}\n"
   ]
  },
  {
   "cell_type": "markdown",
   "id": "351db6eb-5d4d-4fdb-856a-118146b8acc2",
   "metadata": {},
   "source": [
    "20. From a list of dictionaries (e.g., product records), use a loop to:\n",
    "\n",
    "Filter only those with price > 13000\n",
    "\n",
    "Store those entries in a new list"
   ]
  },
  {
   "cell_type": "code",
   "execution_count": 79,
   "id": "915c3ff1-f4f7-48ca-9174-998ced6b3c5b",
   "metadata": {},
   "outputs": [
    {
     "name": "stdout",
     "output_type": "stream",
     "text": [
      "{'id': 1, 'name': 'Laptop', 'category': 'Electronics', 'price': 75000, 'stock': 10}\n",
      "{'id': 2, 'name': 'Smartphone', 'category': 'Electronics', 'price': 45000, 'stock': 25}\n",
      "{'id': 3, 'name': 'Book', 'category': 'Stationery', 'price': 500, 'stock': 100}\n",
      "{'id': 4, 'name': 'Backpack', 'category': 'Accessories', 'price': 1200, 'stock': 40}\n",
      "{'id': 5, 'name': 'Tablet', 'category': 'Electronics', 'price': 32000, 'stock': 15}\n",
      "{'id': 6, 'name': 'Desk Chair', 'category': 'Furniture', 'price': 6800, 'stock': 5}\n",
      "{'id': 7, 'name': 'Pen Drive', 'category': 'Electronics', 'price': 850, 'stock': 60}\n",
      "{'id': 8, 'name': 'Shoes', 'category': 'Apparel', 'price': 3000, 'stock': 20}\n",
      "{'id': 9, 'name': 'T-shirt', 'category': 'Apparel', 'price': 700, 'stock': 50}\n",
      "{'id': 10, 'name': 'Monitor', 'category': 'Electronics', 'price': 15500, 'stock': 8}\n"
     ]
    }
   ],
   "source": [
    "products = [\n",
    "    {\"id\": 1, \"name\": \"Laptop\", \"category\": \"Electronics\", \"price\": 75000, \"stock\": 10},\n",
    "    {\"id\": 2, \"name\": \"Smartphone\", \"category\": \"Electronics\", \"price\": 45000, \"stock\": 25},\n",
    "    {\"id\": 3, \"name\": \"Book\", \"category\": \"Stationery\", \"price\": 500, \"stock\": 100},\n",
    "    {\"id\": 4, \"name\": \"Backpack\", \"category\": \"Accessories\", \"price\": 1200, \"stock\": 40},\n",
    "    {\"id\": 5, \"name\": \"Tablet\", \"category\": \"Electronics\", \"price\": 32000, \"stock\": 15},\n",
    "    {\"id\": 6, \"name\": \"Desk Chair\", \"category\": \"Furniture\", \"price\": 6800, \"stock\": 5},\n",
    "    {\"id\": 7, \"name\": \"Pen Drive\", \"category\": \"Electronics\", \"price\": 850, \"stock\": 60},\n",
    "    {\"id\": 8, \"name\": \"Shoes\", \"category\": \"Apparel\", \"price\": 3000, \"stock\": 20},\n",
    "    {\"id\": 9, \"name\": \"T-shirt\", \"category\": \"Apparel\", \"price\": 700, \"stock\": 50},\n",
    "    {\"id\": 10, \"name\": \"Monitor\", \"category\": \"Electronics\", \"price\": 15500, \"stock\": 8},\n",
    "]\n",
    "\n",
    "for i in products:\n",
    "    print(i)"
   ]
  },
  {
   "cell_type": "code",
   "execution_count": null,
   "id": "ede4e41f-d188-4001-8d6b-d868b46ffbbb",
   "metadata": {},
   "outputs": [],
   "source": []
  }
 ],
 "metadata": {
  "kernelspec": {
   "display_name": "Python [conda env:base] *",
   "language": "python",
   "name": "conda-base-py"
  },
  "language_info": {
   "codemirror_mode": {
    "name": "ipython",
    "version": 3
   },
   "file_extension": ".py",
   "mimetype": "text/x-python",
   "name": "python",
   "nbconvert_exporter": "python",
   "pygments_lexer": "ipython3",
   "version": "3.13.5"
  }
 },
 "nbformat": 4,
 "nbformat_minor": 5
}
