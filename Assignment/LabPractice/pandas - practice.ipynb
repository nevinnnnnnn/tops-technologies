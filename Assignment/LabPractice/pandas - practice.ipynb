{
 "cells": [
  {
   "cell_type": "code",
   "execution_count": 16,
   "id": "6d1f728f-7fa5-4a8d-a524-426a837d60be",
   "metadata": {},
   "outputs": [],
   "source": [
    "import pandas as pd"
   ]
  },
  {
   "cell_type": "code",
   "execution_count": 21,
   "id": "f2c06554-355e-4f6e-8330-46ffa09649d1",
   "metadata": {},
   "outputs": [],
   "source": [
    "df = pd.read_csv(\"sales_data_sample.csv\", encoding='ISO-8859-1')"
   ]
  },
  {
   "cell_type": "raw",
   "id": "fa130ec9-1fc9-4f07-b024-0acafce533f5",
   "metadata": {},
   "source": [
    "what is this encoding?"
   ]
  },
  {
   "cell_type": "code",
   "execution_count": null,
   "id": "7f26e05b-a825-4401-8d67-a9a4975350b8",
   "metadata": {},
   "outputs": [],
   "source": []
  }
 ],
 "metadata": {
  "kernelspec": {
   "display_name": "Python 3 (ipykernel)",
   "language": "python",
   "name": "python3"
  },
  "language_info": {
   "codemirror_mode": {
    "name": "ipython",
    "version": 3
   },
   "file_extension": ".py",
   "mimetype": "text/x-python",
   "name": "python",
   "nbconvert_exporter": "python",
   "pygments_lexer": "ipython3",
   "version": "3.13.7"
  }
 },
 "nbformat": 4,
 "nbformat_minor": 5
}
