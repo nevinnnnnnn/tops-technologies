{
 "cells": [
  {
   "cell_type": "markdown",
   "id": "37762ff2-218b-4f3c-a098-257c48c9733f",
   "metadata": {},
   "source": [
    "Read an integer temperature in °C and print \"Heat Alert\" if temp≥40, \"Warm\" if 30–39, \"Pleasant\" if 20–29, \"Cool\" if 10–19, else \"Cold\".\n"
   ]
  },
  {
   "cell_type": "code",
   "execution_count": 3,
   "id": "127b6270-d6d3-4616-9373-efa0253b39a1",
   "metadata": {},
   "outputs": [
    {
     "name": "stdin",
     "output_type": "stream",
     "text": [
      "enter a temperature in degree cel.:  25\n"
     ]
    },
    {
     "name": "stdout",
     "output_type": "stream",
     "text": [
      "Pleasant\n"
     ]
    }
   ],
   "source": [
    "tempC = float(input(\"enter a temperature in degree cel.: \"))\n",
    "if tempC >= 40:\n",
    "    print (\"Heat Alert\")\n",
    "elif tempC in range(30, 39 + 1):\n",
    "    print (\"Warm\")\n",
    "elif tempC in range(20, 29 + 1):\n",
    "    print (\"Pleasant\")\n",
    "elif tempC in range(10, 19 + 1):\n",
    "    print (\"Cool\")\n",
    "else:\n",
    "    print (\"Cold\")"
   ]
  },
  {
   "cell_type": "markdown",
   "id": "aeb62aa0-5e4f-42d0-b3fb-d292b230ba98",
   "metadata": {},
   "source": [
    "Given purchase_amount and membership (\"none\"/\"silver\"/\"gold\"), print final_amount after applying 0%, 5%, or 10% discount respectively, and an extra ₹100 off only if membership is \"gold\" and purchase_amount>5000.\n"
   ]
  },
  {
   "cell_type": "code",
   "execution_count": 11,
   "id": "556fc14d-1762-4515-a064-6c497ff92977",
   "metadata": {},
   "outputs": [
    {
     "name": "stdin",
     "output_type": "stream",
     "text": [
      "enter purchase amount:  123322\n",
      "enter the type of membership from the below options:\n",
      "1. None\n",
      "2. Silver\n",
      "3. Gold\n",
      " 2\n"
     ]
    },
    {
     "name": "stdout",
     "output_type": "stream",
     "text": [
      "you can avail upto 5%\n",
      "your final Amount is  117155.9\n"
     ]
    }
   ],
   "source": [
    "purchase_amount = float(input(\"enter purchase amount: \"))\n",
    "membership = int(input(\"enter the type of membership from the below options:\\n\"\n",
    "                        \"1. None\\n\"\n",
    "                        \"2. Silver\\n\"\n",
    "                        \"3. Gold\\n\"))\n",
    "if membership == 1:\n",
    "    print(\"your final amount is \", purchase_amount)\n",
    "elif membership == 2:\n",
    "    print(\"you can avail upto 5%\")\n",
    "    final_amount = purchase_amount - (purchase_amount * 0.05)\n",
    "    print(\"your final Amount is \", final_amount)\n",
    "elif membership == 3:\n",
    "    print(\"you can avail gold membership with 10% discount\")\n",
    "    if purchase_amount > 5000:\n",
    "        print(\"you can  have 100 rupees off your purchace of more than 5000 rupees\")\n",
    "        final_amount = purchase_amount - (purchase_amount * 0.1) - 100\n",
    "    else:\n",
    "        final_amount = purchase_amount - (purchase_amount * 0.1)\n",
    "else:\n",
    "    print(\"invalid input\")"
   ]
  },
  {
   "cell_type": "markdown",
   "id": "b5af238d-1f80-4100-9ead-7ba26769a9b8",
   "metadata": {},
   "source": [
    "Input three sides a, b, c; print \"Invalid Triangle\" if triangle inequality fails else print \"Equilateral\"/\"Isosceles\"/\"Scalene\" using nested conditions.\n"
   ]
  },
  {
   "cell_type": "code",
   "execution_count": 12,
   "id": "12519b80-6165-424c-baa4-4bbada23b377",
   "metadata": {},
   "outputs": [
    {
     "name": "stdin",
     "output_type": "stream",
     "text": [
      "enter side 1:  1\n",
      "enter side 2:  3\n",
      "enter side 3:  2\n"
     ]
    },
    {
     "name": "stdout",
     "output_type": "stream",
     "text": [
      "scalene triangle\n"
     ]
    }
   ],
   "source": [
    "a = int(input(\"enter side 1: \"))\n",
    "b = int(input(\"enter side 2: \"))\n",
    "c = int(input(\"enter side 3: \"))\n",
    "if a == b and b == c and a == c:\n",
    "    print(\"equilateral triangle\")\n",
    "elif a == b and c > a + b:\n",
    "    print(\"isoscales triangle\")\n",
    "elif (a != b and b != c and c != a) and (a + b > c or a + c > b or b + c > a):\n",
    "    print(\"scalene triangle\")\n",
    "else:\n",
    "    print(\"invalid triangle\")"
   ]
  },
  {
   "cell_type": "markdown",
   "id": "fc04fdcc-1cc5-4b34-be4e-f58e96a72f69",
   "metadata": {},
   "source": [
    "Read hour (0–23) and minute (0–59); print \"Peak Fare\" if time is 08:00–10:00 or 18:00–20:00, \"Night Surcharge\" if 22:00–05:59, else \"Normal Fare\".\n"
   ]
  },
  {
   "cell_type": "code",
   "execution_count": 13,
   "id": "7ff27d0d-4265-4766-810d-14fe6b08f719",
   "metadata": {},
   "outputs": [
    {
     "name": "stdin",
     "output_type": "stream",
     "text": [
      "enter hour (0 - 23):  2\n",
      "enter minute (0 - 59):  56\n"
     ]
    },
    {
     "name": "stdout",
     "output_type": "stream",
     "text": [
      "night surcharge\n"
     ]
    }
   ],
   "source": [
    "hour = int(input(\"enter hour (0 - 23): \"))\n",
    "if hour not in range(0, 23 + 1):\n",
    "    print(\"hour should be in range 0 and 23\")\n",
    "minute = int(input(\"enter minute (0 - 59): \"))\n",
    "if minute not in range(0, 59 + 1):\n",
    "    print(\"hour should be in range 0 and 59\")\n",
    "if (hour in range(8, 9 + 1) and minutute in range(0, 59)) or (hour == 10 and minute == 0):\n",
    "    print(\"peak fare\")\n",
    "elif (hour in range(18, 19 + 1) and minutute in range(0, 59)) or (hour == 20 and minute == 0):\n",
    "    print(\"peak fare\")\n",
    "elif (hour in range(22, 23 + 1) or hour in range(0, 5 + 1) and minute in range(0, 59 + 1)):\n",
    "    print(\"night surcharge\")\n",
    "else:\n",
    "    print(\"normal fare\")"
   ]
  },
  {
   "cell_type": "markdown",
   "id": "44b93d55-ec16-4fa6-9ed6-598fa1696e38",
   "metadata": {},
   "source": [
    "Given marks in three subjects (m1, m2, m3), print \"Fail\" if any<40, else print \"Pass with Distinction\" if average≥85, else \"Pass\".\n"
   ]
  },
  {
   "cell_type": "code",
   "execution_count": 17,
   "id": "618843df-7278-4e68-a23d-7e61efddfdef",
   "metadata": {},
   "outputs": [
    {
     "name": "stdin",
     "output_type": "stream",
     "text": [
      "enter mark 1:  90\n",
      "enter mark 2:  90\n",
      "enter mark 3:  90\n"
     ]
    },
    {
     "name": "stdout",
     "output_type": "stream",
     "text": [
      "pass with distinction\n"
     ]
    }
   ],
   "source": [
    "m1 = float(input(\"enter mark 1: \"))\n",
    "if m1 not in range(0, 100 + 1):\n",
    "    print(\"invalid marks\")\n",
    "m2 = float(input(\"enter mark 2: \"))\n",
    "if m2 not in range(0, 100 + 1):\n",
    "    print(\"invalid marks\")\n",
    "m3 = float(input(\"enter mark 3: \"))\n",
    "if m3 not in range(0, 100 + 1):\n",
    "    print(\"invalid marks\")\n",
    "avg = (m1 + m2 + m3)/ 3\n",
    "if (m1 or m2 or m3) < 40:\n",
    "    print(\"fail\")\n",
    "elif avg in range(85, 100 + 1):\n",
    "    print(\"pass with distinction\")\n",
    "else:\n",
    "    print(\"pass\")"
   ]
  },
  {
   "cell_type": "markdown",
   "id": "bab7fea9-c1a6-431e-b429-f96f0e55778a",
   "metadata": {},
   "source": [
    "Read a string s; print \"Missing\" if s is empty after stripping or s.lower() in {\"na\",\"n/a\",\"null\",\"none\",\"-\"}, else \"OK\"."
   ]
  },
  {
   "cell_type": "code",
   "execution_count": 22,
   "id": "ae3fd026-e451-4af9-8efc-a402d565da48",
   "metadata": {},
   "outputs": [
    {
     "name": "stdin",
     "output_type": "stream",
     "text": [
      "enter a string:  nqe\n"
     ]
    },
    {
     "name": "stdout",
     "output_type": "stream",
     "text": [
      "OK\n"
     ]
    }
   ],
   "source": [
    "s = input(\"enter a string: \")\n",
    "if s == \"\":\n",
    "    print(\"missing\")\n",
    "else:\n",
    "    print(\"OK\")"
   ]
  },
  {
   "cell_type": "markdown",
   "id": "c4f44ae8-c58a-4081-99a0-5fb2f8282673",
   "metadata": {},
   "source": [
    "Given income and cibil_score, print \"Eligible\" if income≥300000 and cibil≥750, \"Eligible with Guarantor\" if income≥300000 and 650≤cibil<750, else \"Not Eligible\".\n"
   ]
  },
  {
   "cell_type": "code",
   "execution_count": 23,
   "id": "ca3f9c4b-4aff-4bf2-895d-133f70f8afb1",
   "metadata": {},
   "outputs": [
    {
     "name": "stdin",
     "output_type": "stream",
     "text": [
      "enter your income:  12000\n",
      "enter your cibil score:  700\n"
     ]
    },
    {
     "name": "stdout",
     "output_type": "stream",
     "text": [
      "not eligible\n"
     ]
    }
   ],
   "source": [
    "income = float(input(\"enter your income: \"))\n",
    "cibil_score = int(input(\"enter your cibil score: \"))\n",
    "if (income >= 300000) and (cibil_score >= 750):\n",
    "    print(\"eligible\")\n",
    "elif (income >= 300000) and (cibil_score in range(650, 750)):\n",
    "    print(\"eligible with guarantor\")\n",
    "else:\n",
    "    print(\"not eligible\")"
   ]
  },
  {
   "cell_type": "markdown",
   "id": "7a96d00f-48b1-4054-a41d-83af965acf8e",
   "metadata": {},
   "source": [
    "Read weight_kg and distance_km; compute shipping_cost as 50 base +20 if weight>5 +30 if distance>100, then cap at 200, and print the final cost.\n"
   ]
  },
  {
   "cell_type": "raw",
   "id": "f48ac1c2-19fd-4c99-8f38-66aa2c396b4c",
   "metadata": {},
   "source": [
    "weight_kg = float(input(\"enter weight: \"))\n",
    "distance_km = float(input(\"enter distance: \"))\n",
    "#computing shipping cost\n",
    "if weight_kg > 5:\n",
    "    shipping_cost = 50 + 30\n",
    "elif distance > 100"
   ]
  },
  {
   "cell_type": "code",
   "execution_count": null,
   "id": "f98f7094-8cc4-4765-90a6-35164760fec8",
   "metadata": {},
   "outputs": [],
   "source": []
  }
 ],
 "metadata": {
  "kernelspec": {
   "display_name": "Python 3 (ipykernel)",
   "language": "python",
   "name": "python3"
  },
  "language_info": {
   "codemirror_mode": {
    "name": "ipython",
    "version": 3
   },
   "file_extension": ".py",
   "mimetype": "text/x-python",
   "name": "python",
   "nbconvert_exporter": "python",
   "pygments_lexer": "ipython3",
   "version": "3.13.7"
  }
 },
 "nbformat": 4,
 "nbformat_minor": 5
}
