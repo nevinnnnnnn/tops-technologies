{
 "cells": [
  {
   "cell_type": "markdown",
   "id": "37762ff2-218b-4f3c-a098-257c48c9733f",
   "metadata": {},
   "source": [
    "Read an integer temperature in °C and print \"Heat Alert\" if temp≥40, \"Warm\" if 30–39, \"Pleasant\" if 20–29, \"Cool\" if 10–19, else \"Cold\".\n"
   ]
  },
  {
   "cell_type": "code",
   "execution_count": 3,
   "id": "127b6270-d6d3-4616-9373-efa0253b39a1",
   "metadata": {},
   "outputs": [
    {
     "name": "stdin",
     "output_type": "stream",
     "text": [
      "enter a temperature in degree cel.:  25\n"
     ]
    },
    {
     "name": "stdout",
     "output_type": "stream",
     "text": [
      "Pleasant\n"
     ]
    }
   ],
   "source": [
    "tempC = float(input(\"enter a temperature in degree cel.: \"))\n",
    "if tempC >= 40:\n",
    "    print (\"Heat Alert\")\n",
    "elif tempC in range(30, 39 + 1):\n",
    "    print (\"Warm\")\n",
    "elif tempC in range(20, 29 + 1):\n",
    "    print (\"Pleasant\")\n",
    "elif tempC in range(10, 19 + 1):\n",
    "    print (\"Cool\")\n",
    "else:\n",
    "    print (\"Cold\")"
   ]
  },
  {
   "cell_type": "markdown",
   "id": "aeb62aa0-5e4f-42d0-b3fb-d292b230ba98",
   "metadata": {},
   "source": [
    "Given purchase_amount and membership (\"none\"/\"silver\"/\"gold\"), print final_amount after applying 0%, 5%, or 10% discount respectively, and an extra ₹100 off only if membership is \"gold\" and purchase_amount>5000.\n"
   ]
  },
  {
   "cell_type": "code",
   "execution_count": 11,
   "id": "556fc14d-1762-4515-a064-6c497ff92977",
   "metadata": {},
   "outputs": [
    {
     "name": "stdin",
     "output_type": "stream",
     "text": [
      "enter purchase amount:  123322\n",
      "enter the type of membership from the below options:\n",
      "1. None\n",
      "2. Silver\n",
      "3. Gold\n",
      " 2\n"
     ]
    },
    {
     "name": "stdout",
     "output_type": "stream",
     "text": [
      "you can avail upto 5%\n",
      "your final Amount is  117155.9\n"
     ]
    }
   ],
   "source": [
    "purchase_amount = float(input(\"enter purchase amount: \"))\n",
    "membership = int(input(\"enter the type of membership from the below options:\\n\"\n",
    "                        \"1. None\\n\"\n",
    "                        \"2. Silver\\n\"\n",
    "                        \"3. Gold\\n\"))\n",
    "if membership == 1:\n",
    "    print(\"your final amount is \", purchase_amount)\n",
    "elif membership == 2:\n",
    "    print(\"you can avail upto 5%\")\n",
    "    final_amount = purchase_amount - (purchase_amount * 0.05)\n",
    "    print(\"your final Amount is \", final_amount)\n",
    "elif membership == 3:\n",
    "    print(\"you can avail gold membership with 10% discount\")\n",
    "    if purchase_amount > 5000:\n",
    "        print(\"you can  have 100 rupees off your purchace of more than 5000 rupees\")\n",
    "        final_amount = purchase_amount - (purchase_amount * 0.1) - 100\n",
    "    else:\n",
    "        final_amount = purchase_amount - (purchase_amount * 0.1)\n",
    "else:\n",
    "    print(\"invalid input\")"
   ]
  },
  {
   "cell_type": "markdown",
   "id": "b5af238d-1f80-4100-9ead-7ba26769a9b8",
   "metadata": {},
   "source": [
    "Input three sides a, b, c; print \"Invalid Triangle\" if triangle inequality fails else print \"Equilateral\"/\"Isosceles\"/\"Scalene\" using nested conditions.\n"
   ]
  },
  {
   "cell_type": "code",
   "execution_count": 12,
   "id": "12519b80-6165-424c-baa4-4bbada23b377",
   "metadata": {},
   "outputs": [
    {
     "name": "stdin",
     "output_type": "stream",
     "text": [
      "enter side 1:  1\n",
      "enter side 2:  3\n",
      "enter side 3:  2\n"
     ]
    },
    {
     "name": "stdout",
     "output_type": "stream",
     "text": [
      "scalene triangle\n"
     ]
    }
   ],
   "source": [
    "a = int(input(\"enter side 1: \"))\n",
    "b = int(input(\"enter side 2: \"))\n",
    "c = int(input(\"enter side 3: \"))\n",
    "if a == b and b == c and a == c:\n",
    "    print(\"equilateral triangle\")\n",
    "elif a == b and c > a + b:\n",
    "    print(\"isoscales triangle\")\n",
    "elif (a != b and b != c and c != a) and (a + b > c or a + c > b or b + c > a):\n",
    "    print(\"scalene triangle\")\n",
    "else:\n",
    "    print(\"invalid triangle\")"
   ]
  },
  {
   "cell_type": "markdown",
   "id": "fc04fdcc-1cc5-4b34-be4e-f58e96a72f69",
   "metadata": {},
   "source": [
    "Read hour (0–23) and minute (0–59); print \"Peak Fare\" if time is 08:00–10:00 or 18:00–20:00, \"Night Surcharge\" if 22:00–05:59, else \"Normal Fare\".\n"
   ]
  },
  {
   "cell_type": "code",
   "execution_count": 13,
   "id": "7ff27d0d-4265-4766-810d-14fe6b08f719",
   "metadata": {},
   "outputs": [
    {
     "name": "stdin",
     "output_type": "stream",
     "text": [
      "enter hour (0 - 23):  2\n",
      "enter minute (0 - 59):  56\n"
     ]
    },
    {
     "name": "stdout",
     "output_type": "stream",
     "text": [
      "night surcharge\n"
     ]
    }
   ],
   "source": [
    "hour = int(input(\"enter hour (0 - 23): \"))\n",
    "if hour not in range(0, 23 + 1):\n",
    "    print(\"hour should be in range 0 and 23\")\n",
    "minute = int(input(\"enter minute (0 - 59): \"))\n",
    "if minute not in range(0, 59 + 1):\n",
    "    print(\"hour should be in range 0 and 59\")\n",
    "if (hour in range(8, 9 + 1) and minutute in range(0, 59)) or (hour == 10 and minute == 0):\n",
    "    print(\"peak fare\")\n",
    "elif (hour in range(18, 19 + 1) and minutute in range(0, 59)) or (hour == 20 and minute == 0):\n",
    "    print(\"peak fare\")\n",
    "elif (hour in range(22, 23 + 1) or hour in range(0, 5 + 1) and minute in range(0, 59 + 1)):\n",
    "    print(\"night surcharge\")\n",
    "else:\n",
    "    print(\"normal fare\")"
   ]
  },
  {
   "cell_type": "markdown",
   "id": "44b93d55-ec16-4fa6-9ed6-598fa1696e38",
   "metadata": {},
   "source": [
    "Given marks in three subjects (m1, m2, m3), print \"Fail\" if any<40, else print \"Pass with Distinction\" if average≥85, else \"Pass\".\n"
   ]
  },
  {
   "cell_type": "code",
   "execution_count": 17,
   "id": "618843df-7278-4e68-a23d-7e61efddfdef",
   "metadata": {},
   "outputs": [
    {
     "name": "stdin",
     "output_type": "stream",
     "text": [
      "enter mark 1:  90\n",
      "enter mark 2:  90\n",
      "enter mark 3:  90\n"
     ]
    },
    {
     "name": "stdout",
     "output_type": "stream",
     "text": [
      "pass with distinction\n"
     ]
    }
   ],
   "source": [
    "m1 = float(input(\"enter mark 1: \"))\n",
    "if m1 not in range(0, 100 + 1):\n",
    "    print(\"invalid marks\")\n",
    "m2 = float(input(\"enter mark 2: \"))\n",
    "if m2 not in range(0, 100 + 1):\n",
    "    print(\"invalid marks\")\n",
    "m3 = float(input(\"enter mark 3: \"))\n",
    "if m3 not in range(0, 100 + 1):\n",
    "    print(\"invalid marks\")\n",
    "avg = (m1 + m2 + m3)/ 3\n",
    "if (m1 or m2 or m3) < 40:\n",
    "    print(\"fail\")\n",
    "elif avg in range(85, 100 + 1):\n",
    "    print(\"pass with distinction\")\n",
    "else:\n",
    "    print(\"pass\")"
   ]
  },
  {
   "cell_type": "markdown",
   "id": "bab7fea9-c1a6-431e-b429-f96f0e55778a",
   "metadata": {},
   "source": [
    "Read a string s; print \"Missing\" if s is empty after stripping or s.lower() in {\"na\",\"n/a\",\"null\",\"none\",\"-\"}, else \"OK\"."
   ]
  },
  {
   "cell_type": "code",
   "execution_count": 22,
   "id": "ae3fd026-e451-4af9-8efc-a402d565da48",
   "metadata": {},
   "outputs": [
    {
     "name": "stdin",
     "output_type": "stream",
     "text": [
      "enter a string:  nqe\n"
     ]
    },
    {
     "name": "stdout",
     "output_type": "stream",
     "text": [
      "OK\n"
     ]
    }
   ],
   "source": [
    "s = input(\"enter a string: \")\n",
    "if s == \"\":\n",
    "    print(\"missing\")\n",
    "else:\n",
    "    print(\"OK\")"
   ]
  },
  {
   "cell_type": "markdown",
   "id": "c4f44ae8-c58a-4081-99a0-5fb2f8282673",
   "metadata": {},
   "source": [
    "Given income and cibil_score, print \"Eligible\" if income≥300000 and cibil≥750, \"Eligible with Guarantor\" if income≥300000 and 650≤cibil<750, else \"Not Eligible\".\n"
   ]
  },
  {
   "cell_type": "code",
   "execution_count": 23,
   "id": "ca3f9c4b-4aff-4bf2-895d-133f70f8afb1",
   "metadata": {},
   "outputs": [
    {
     "name": "stdin",
     "output_type": "stream",
     "text": [
      "enter your income:  12000\n",
      "enter your cibil score:  700\n"
     ]
    },
    {
     "name": "stdout",
     "output_type": "stream",
     "text": [
      "not eligible\n"
     ]
    }
   ],
   "source": [
    "income = float(input(\"enter your income: \"))\n",
    "cibil_score = int(input(\"enter your cibil score: \"))\n",
    "if (income >= 300000) and (cibil_score >= 750):\n",
    "    print(\"eligible\")\n",
    "elif (income >= 300000) and (cibil_score in range(650, 750)):\n",
    "    print(\"eligible with guarantor\")\n",
    "else:\n",
    "    print(\"not eligible\")"
   ]
  },
  {
   "cell_type": "markdown",
   "id": "7a96d00f-48b1-4054-a41d-83af965acf8e",
   "metadata": {},
   "source": [
    "Read weight_kg and distance_km; compute shipping_cost as 50 base +20 if weight>5 +30 if distance>100, then cap at 200, and print the final cost.\n"
   ]
  },
  {
   "cell_type": "raw",
   "id": "f48ac1c2-19fd-4c99-8f38-66aa2c396b4c",
   "metadata": {},
   "source": [
    "weight_kg = float(input(\"enter weight: \"))\n",
    "distance_km = float(input(\"enter distance: \"))\n",
    "#computing shipping cost\n",
    "if weight_kg > 5:\n",
    "    shipping_cost = 50 + 30\n",
    "elif distance > 100"
   ]
  },
  {
   "cell_type": "markdown",
   "id": "e1556882-5f33-4802-ac6b-b0a008a9c43d",
   "metadata": {},
   "source": [
    "Input base_price and category (\"food\",\"medicine\",\"goods\",\"exempt\"); apply GST: 5% for \"food\", 0% for \"medicine\" or \"exempt\", 18% for \"goods\" and others, then print final price rounded to 2 decimals.\n"
   ]
  },
  {
   "cell_type": "code",
   "execution_count": 3,
   "id": "dba5f4b1-8373-4558-9d26-b12f4571d42f",
   "metadata": {},
   "outputs": [
    {
     "name": "stdin",
     "output_type": "stream",
     "text": [
      "enter the amount:  12312\n",
      "select the category:\n",
      "1. food\n",
      "2. Medicine\n",
      "3. goods\n",
      "4. exempt 1\n"
     ]
    },
    {
     "name": "stdout",
     "output_type": "stream",
     "text": [
      "12927.6\n"
     ]
    }
   ],
   "source": [
    "base_price = float(input(\"enter the amount: \"))\n",
    "category = int(input(\"select the category:\\n\"\n",
    "                    \"1. food\\n\"\n",
    "                    \"2. Medicine\\n\"\n",
    "                    \"3. goods\\n\"\n",
    "                    \"4. exempt\"))\n",
    "if category == 1:\n",
    "    final_price = base_price + (0.05 * base_price)\n",
    "    print(final_price)\n",
    "elif category == 2 or category == 4:\n",
    "    final_price = base_price + (0.0 * base_price)\n",
    "    print(final_price)\n",
    "elif category == 3:\n",
    "    final_price = base_price + (0.18 * base_price)\n",
    "    print(final_price)\n",
    "else:\n",
    "    print(\"invalid input\")"
   ]
  },
  {
   "cell_type": "markdown",
   "id": "e2f6d4f7-c810-482b-b05f-53245ab320d8",
   "metadata": {},
   "source": [
    "Read username and password; print \"Login Success\" only if username==\"admin\" and password==\"Secr3t!\" else \"Access Denied\".\n"
   ]
  },
  {
   "cell_type": "code",
   "execution_count": 5,
   "id": "a6898fc7-7b70-48b8-8470-ec2579e59a51",
   "metadata": {},
   "outputs": [
    {
     "name": "stdin",
     "output_type": "stream",
     "text": [
      "enter username:  nevin\n",
      "enter your password:  12312\n"
     ]
    },
    {
     "name": "stdout",
     "output_type": "stream",
     "text": [
      "incorrect password\n"
     ]
    }
   ],
   "source": [
    "usr = \"nevin\"\n",
    "passwd = \"123123123\"\n",
    "\n",
    "username = str(input(\"enter username: \"))\n",
    "\n",
    "\n",
    "if username == usr:\n",
    "    password = str(input(\"enter your password: \"))\n",
    "    if password == passwd:\n",
    "        print(\"login successful\")\n",
    "    else:\n",
    "        print(\"incorrect password\")\n",
    "else:\n",
    "    print(\"incorrect username\")"
   ]
  },
  {
   "cell_type": "markdown",
   "id": "5e15aa08-3a46-4646-a5be-fdc385a46f2c",
   "metadata": {},
   "source": [
    "Read km and destination (\"mall\",\"station\",\"airport\",\"other\"); fare = (50,100,200,80 base respectively) + 10*km; if fare>300 reduce by 50 else if fare>150 reduce by 30 only if user types \"yes\" for negotiation, then print final fare.\n"
   ]
  },
  {
   "cell_type": "code",
   "execution_count": 7,
   "id": "61f2c820-90f0-4e56-afe4-83396b32fe26",
   "metadata": {},
   "outputs": [
    {
     "name": "stdin",
     "output_type": "stream",
     "text": [
      "enter distance:  2131\n",
      "enter a destination: \n",
      "1. mall\n",
      "2. station\n",
      "3. airport\n",
      "4. other\n",
      " 1\n"
     ]
    },
    {
     "name": "stdout",
     "output_type": "stream",
     "text": [
      "21360.0\n"
     ]
    }
   ],
   "source": [
    "km = float(input(\"enter distance: \"))\n",
    "destination = int(input(\"enter a destination: \\n\"\n",
    "                       \"1. mall\\n\"\n",
    "                       \"2. station\\n\"\n",
    "                       \"3. airport\\n\"\n",
    "                       \"4. other\\n\"))\n",
    "if destination == 1:\n",
    "    fare = 50 + (10 * km)\n",
    "    print(fare)\n",
    "elif destination == 2:\n",
    "    fare = 100 + (10 * km)\n",
    "    print(fare)\n",
    "elif destination == 3:\n",
    "    fare = 200 + (10 * km)\n",
    "    print(fare)\n",
    "elif destination == 4:\n",
    "    fare = 80 + (10 * km)\n",
    "    print(fare)\n",
    "else:\n",
    "    print(\"Invalid Input\")"
   ]
  },
  {
   "cell_type": "markdown",
   "id": "9931605b-68e3-4ca0-9936-c63a7baf31ac",
   "metadata": {},
   "source": [
    "Input units of electricity; bill = 0 if units==0 else 100 fixed + 5 per unit for first 100 + 7 per unit for next 100 + 10 per unit beyond 200; print bill.\n"
   ]
  },
  {
   "cell_type": "raw",
   "id": "00d36eab-829e-412b-9af8-0ffd0185f77c",
   "metadata": {},
   "source": [
    "units = float(input(\"enter units of electricity: \"))\n",
    "if units == 0:\n",
    "    bill = 0\n",
    "    print(\"bill: \", bill)\n",
    "else:\n",
    "    if units"
   ]
  },
  {
   "cell_type": "markdown",
   "id": "4200515f-b4de-4e24-9d00-8580f522115f",
   "metadata": {},
   "source": [
    "\n",
    "Read age, is_student (\"yes\"/\"no\"), day (\"weekday\"/\"weekend\"); movie ticket: base ₹200 on weekend else ₹150; apply 20% off if age≤12 or age≥60; apply additional 10% off if is_student==\"yes\"; print payable amount.\n"
   ]
  },
  {
   "cell_type": "code",
   "execution_count": 10,
   "id": "8739253f-23f9-44d2-b361-11996ba883d1",
   "metadata": {},
   "outputs": [
    {
     "name": "stdin",
     "output_type": "stream",
     "text": [
      "Enter age:  12\n",
      "Are you a student? (yes/no):  yes\n",
      "Weekend or weekday?  weekday\n"
     ]
    },
    {
     "name": "stdout",
     "output_type": "stream",
     "text": [
      "Ticket price: 105.0\n"
     ]
    }
   ],
   "source": [
    "age = int(input(\"Enter age: \"))\n",
    "if age < 1:\n",
    "    print(\"Age cannot be less than 1\")\n",
    "else:\n",
    "    is_student = input(\"Are you a student? (yes/no): \").lower()\n",
    "    day = input(\"Weekend or weekday? \").lower()\n",
    "\n",
    "    weekend_base = 200\n",
    "    weekday_base = 150\n",
    "\n",
    "    if age <= 12 or age >= 60:\n",
    "        if day == 'weekend' and is_student == 'yes':\n",
    "            amount = weekend_base - (weekend_base * 0.2) - (weekend_base * 0.1)\n",
    "        elif day == 'weekday' and is_student == 'yes':\n",
    "            amount = weekday_base - (weekday_base * 0.2) - (weekday_base * 0.1)\n",
    "        elif day == 'weekend':\n",
    "            amount = weekend_base - (weekend_base * 0.2)\n",
    "        elif day == 'weekday':\n",
    "            amount = weekday_base - (weekday_base * 0.2)\n",
    "        else:\n",
    "            print(\"Invalid day\")\n",
    "            amount = None\n",
    "    else:\n",
    "        if day == 'weekend':\n",
    "            amount = weekend_base\n",
    "        elif day == 'weekday':\n",
    "            amount = weekday_base\n",
    "        else:\n",
    "            print(\"Invalid day\")\n",
    "            amount = None\n",
    "\n",
    "    if amount is not None:\n",
    "        print(\"Ticket price:\", amount)"
   ]
  },
  {
   "cell_type": "markdown",
   "id": "627d9974-b02a-4a52-9344-20f4afed4177",
   "metadata": {},
   "source": [
    "Given three numbers a, b, c; print the median value (the one in the middle) without sorting."
   ]
  },
  {
   "cell_type": "code",
   "execution_count": 11,
   "id": "636d4890-c9b2-4618-9534-49a86368a9db",
   "metadata": {},
   "outputs": [
    {
     "name": "stdin",
     "output_type": "stream",
     "text": [
      "Enter first number:  2\n",
      "Enter second number:  5\n",
      "Enter third number:  23\n"
     ]
    },
    {
     "name": "stdout",
     "output_type": "stream",
     "text": [
      "The median is: 5.0\n"
     ]
    }
   ],
   "source": [
    "a = float(input(\"Enter first number: \"))\n",
    "b = float(input(\"Enter second number: \"))\n",
    "c = float(input(\"Enter third number: \"))\n",
    "\n",
    "if (a >= b and a <= c) or (a <= b and a >= c):\n",
    "    median = a\n",
    "elif (b >= a and b <= c) or (b <= a and b >= c):\n",
    "    median = b\n",
    "else:\n",
    "    median = c\n",
    "\n",
    "print(\"The median is:\", median)"
   ]
  },
  {
   "cell_type": "markdown",
   "id": "99455a25-fe18-4fd3-b8ff-65d23ad61566",
   "metadata": {},
   "source": [
    "Read two timestamps h1:m1 and h2:m2; print which comes earlier (\"T1\", \"T2\", or \"Same\") using nested conditionals.\n"
   ]
  },
  {
   "cell_type": "code",
   "execution_count": 12,
   "id": "15749860-c401-473a-9167-aa2f3bb8f75a",
   "metadata": {},
   "outputs": [
    {
     "name": "stdin",
     "output_type": "stream",
     "text": [
      "Enter hour for T1:  12\n",
      "Enter minute for T1:  3\n",
      "Enter hour for T2:  14\n",
      "Enter minute for T2:  5\n"
     ]
    },
    {
     "name": "stdout",
     "output_type": "stream",
     "text": [
      "T1\n"
     ]
    }
   ],
   "source": [
    "h1 = int(input(\"Enter hour for T1: \"))\n",
    "m1 = int(input(\"Enter minute for T1: \"))\n",
    "h2 = int(input(\"Enter hour for T2: \"))\n",
    "m2 = int(input(\"Enter minute for T2: \"))\n",
    "\n",
    "if h1 < h2:\n",
    "    print(\"T1\")   \n",
    "elif h1 > h2:\n",
    "    print(\"T2\")   \n",
    "else:\n",
    "    if m1 < m2:\n",
    "        print(\"T1\")\n",
    "    elif m1 > m2:\n",
    "        print(\"T2\")\n",
    "    else:\n",
    "        print(\"Same\")"
   ]
  },
  {
   "cell_type": "code",
   "execution_count": null,
   "id": "237cf54c-89fe-47da-a756-8833feb051bd",
   "metadata": {},
   "outputs": [],
   "source": []
  }
 ],
 "metadata": {
  "kernelspec": {
   "display_name": "Python 3 (ipykernel)",
   "language": "python",
   "name": "python3"
  },
  "language_info": {
   "codemirror_mode": {
    "name": "ipython",
    "version": 3
   },
   "file_extension": ".py",
   "mimetype": "text/x-python",
   "name": "python",
   "nbconvert_exporter": "python",
   "pygments_lexer": "ipython3",
   "version": "3.13.7"
  }
 },
 "nbformat": 4,
 "nbformat_minor": 5
}
