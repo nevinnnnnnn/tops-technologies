{
 "cells": [
  {
   "cell_type": "markdown",
   "id": "b29064db-a8bb-4b7f-b79f-6da98c3f8336",
   "metadata": {},
   "source": [
    "# TABLES using for-loop"
   ]
  },
  {
   "cell_type": "code",
   "execution_count": 1,
   "id": "a967607f-226a-43cd-90a0-26fb8fd33792",
   "metadata": {},
   "outputs": [
    {
     "name": "stdin",
     "output_type": "stream",
     "text": [
      "enter a number 2\n"
     ]
    },
    {
     "name": "stdout",
     "output_type": "stream",
     "text": [
      "1 * 2 = 2\n",
      "2 * 2 = 4\n",
      "3 * 2 = 6\n",
      "4 * 2 = 8\n",
      "5 * 2 = 10\n",
      "6 * 2 = 12\n",
      "7 * 2 = 14\n",
      "8 * 2 = 16\n",
      "9 * 2 = 18\n",
      "10 * 2 = 20\n"
     ]
    }
   ],
   "source": [
    "num = int(input(\"enter a number\"))\n",
    "for i in range(1,11):\n",
    "    print(f\"{i} * {num} = {i*num}\")"
   ]
  },
  {
   "cell_type": "markdown",
   "id": "055663ed-2064-4b48-9ed9-f52cb8ccd57d",
   "metadata": {},
   "source": [
    "# if - else programs"
   ]
  },
  {
   "cell_type": "code",
   "execution_count": 2,
   "id": "0be3f08c-efd4-4869-827d-a43b702049da",
   "metadata": {},
   "outputs": [
    {
     "name": "stdout",
     "output_type": "stream",
     "text": [
      " hello nevin\n",
      " hello alan\n",
      " hello joel\n",
      " hello ronin\n",
      " hello ronald\n",
      " hello prince\n",
      " hello tejas\n",
      " hello aksh\n"
     ]
    }
   ],
   "source": [
    "name = [\"nevin\", \"alan\", \"joel\", \"ronin\", \"ronald\", \"prince\", \"tejas\", \"aksh\"]\n",
    "for i in name:\n",
    "    print(f\" hello {i}\")"
   ]
  },
  {
   "cell_type": "code",
   "execution_count": 3,
   "id": "dee6c9e6-9a98-41b4-8195-6ee7a06777d3",
   "metadata": {
    "scrolled": true
   },
   "outputs": [
    {
     "name": "stdout",
     "output_type": "stream",
     "text": [
      "h\n",
      "e\n",
      "l\n",
      "l\n",
      "o\n",
      " \n",
      "w\n",
      "o\n",
      "r\n",
      "l\n",
      "d\n"
     ]
    }
   ],
   "source": [
    "string = \"hello world\"\n",
    "for i in string:\n",
    "    print(i)"
   ]
  },
  {
   "cell_type": "markdown",
   "id": "00d2415d-cecd-44e2-954f-46a403f19665",
   "metadata": {},
   "source": [
    "# PATTERNS USING FOR LOOP"
   ]
  },
  {
   "cell_type": "code",
   "execution_count": 9,
   "id": "5ede280e-41b4-4a9c-868a-4333833e8755",
   "metadata": {},
   "outputs": [
    {
     "name": "stdin",
     "output_type": "stream",
     "text": [
      "enter the number of rows:  11\n"
     ]
    },
    {
     "name": "stdout",
     "output_type": "stream",
     "text": [
      ". \n",
      ". . \n",
      ". . . \n",
      ". . . . \n",
      ". . . . . \n",
      ". . . . . . \n",
      ". . . . . . . \n",
      ". . . . . . . . \n",
      ". . . . . . . . . \n",
      ". . . . . . . . . . \n",
      ". . . . . . . . . . . \n"
     ]
    }
   ],
   "source": [
    "rows = int(input(\"enter the number of rows: \"))\n",
    "for i in range(1, rows + 1):\n",
    "    for j in range(i):\n",
    "        print(\".\", end = \" \")\n",
    "    print()"
   ]
  },
  {
   "cell_type": "markdown",
   "id": "70ca0a49-99d4-4d28-8ed2-f10ac79b2623",
   "metadata": {},
   "source": [
    "# CLASSWORK"
   ]
  },
  {
   "cell_type": "markdown",
   "id": "58b3ecee-6931-4a08-9040-b83f006908dc",
   "metadata": {},
   "source": [
    "1. fibonacci series - 1,1,2,3,5,8,..."
   ]
  },
  {
   "cell_type": "markdown",
   "id": "ff1af237-cf1d-49a3-ab32-166a726d4807",
   "metadata": {},
   "source": [
    "2. FACTORIAL"
   ]
  },
  {
   "cell_type": "code",
   "execution_count": 7,
   "id": "b3958817-effc-449b-bf57-da867f7ae9e3",
   "metadata": {},
   "outputs": [
    {
     "name": "stdin",
     "output_type": "stream",
     "text": [
      "enter a number:  69\n"
     ]
    },
    {
     "name": "stdout",
     "output_type": "stream",
     "text": [
      "171122452428141311372468338881272839092270544893520369393648040923257279754140647424000000000000000\n"
     ]
    }
   ],
   "source": [
    "num = int(input(\"enter a number: \"))\n",
    "fact = 1\n",
    "for i in range(1, num + 1):\n",
    "    fact = fact * i\n",
    "print(fact)"
   ]
  },
  {
   "cell_type": "raw",
   "id": "13a3110a-67b2-43b4-b917-75ef9d62883c",
   "metadata": {},
   "source": [
    "Pattern:\n",
    "1\n",
    "12\n",
    "123\n",
    "1234\n",
    "12345"
   ]
  },
  {
   "cell_type": "code",
   "execution_count": 13,
   "id": "d8debdba-db48-4950-8135-7789d9b28bd9",
   "metadata": {},
   "outputs": [
    {
     "name": "stdin",
     "output_type": "stream",
     "text": [
      "enter a number:  13\n"
     ]
    },
    {
     "name": "stdout",
     "output_type": "stream",
     "text": [
      "1 \n",
      "1 2 \n",
      "1 2 3 \n",
      "1 2 3 4 \n",
      "1 2 3 4 5 \n",
      "1 2 3 4 5 6 \n",
      "1 2 3 4 5 6 7 \n",
      "1 2 3 4 5 6 7 8 \n",
      "1 2 3 4 5 6 7 8 9 \n",
      "1 2 3 4 5 6 7 8 9 10 \n",
      "1 2 3 4 5 6 7 8 9 10 11 \n",
      "1 2 3 4 5 6 7 8 9 10 11 12 \n",
      "1 2 3 4 5 6 7 8 9 10 11 12 13 \n"
     ]
    }
   ],
   "source": [
    "num1 = int(input(\"enter a number: \"))\n",
    "for i in range(1, num1 + 1):\n",
    "    for j in range(1, i+1):\n",
    "        print(j, end = \" \")\n",
    "    print()"
   ]
  },
  {
   "cell_type": "code",
   "execution_count": 15,
   "id": "e6155a9c-e426-4c35-807e-b07f0b49a77d",
   "metadata": {},
   "outputs": [],
   "source": [
    "#try to find patterns (all unique)"
   ]
  },
  {
   "cell_type": "code",
   "execution_count": null,
   "id": "c045b6de-bf86-47e4-a464-2abffe8bc808",
   "metadata": {},
   "outputs": [],
   "source": []
  }
 ],
 "metadata": {
  "kernelspec": {
   "display_name": "Python [conda env:base] *",
   "language": "python",
   "name": "conda-base-py"
  },
  "language_info": {
   "codemirror_mode": {
    "name": "ipython",
    "version": 3
   },
   "file_extension": ".py",
   "mimetype": "text/x-python",
   "name": "python",
   "nbconvert_exporter": "python",
   "pygments_lexer": "ipython3",
   "version": "3.13.5"
  }
 },
 "nbformat": 4,
 "nbformat_minor": 5
}
