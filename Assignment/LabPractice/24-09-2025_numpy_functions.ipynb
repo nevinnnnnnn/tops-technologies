{
 "cells": [
  {
   "cell_type": "code",
   "execution_count": 1,
   "id": "d91a343e-4947-4331-b5b2-db24f3ae7d2b",
   "metadata": {},
   "outputs": [],
   "source": [
    "import numpy as np"
   ]
  },
  {
   "cell_type": "code",
   "execution_count": 3,
   "id": "25149634-d32d-471a-b7a3-ad0f79a575ca",
   "metadata": {},
   "outputs": [
    {
     "name": "stdout",
     "output_type": "stream",
     "text": [
      "[0. 0. 0. 0. 0.]\n"
     ]
    }
   ],
   "source": [
    "a = np.zeros(5)\n",
    "print(a)"
   ]
  },
  {
   "cell_type": "code",
   "execution_count": 6,
   "id": "bb364bdb-44fe-40b8-b30f-c439633d43ff",
   "metadata": {},
   "outputs": [
    {
     "name": "stdout",
     "output_type": "stream",
     "text": [
      "[[0. 0.]\n",
      " [0. 0.]\n",
      " [0. 0.]\n",
      " [0. 0.]\n",
      " [0. 0.]]\n"
     ]
    }
   ],
   "source": [
    "b = np.zeros([5, 2])\n",
    "print(b)"
   ]
  },
  {
   "cell_type": "code",
   "execution_count": 14,
   "id": "0802b5a4-2203-4b64-9179-8729e4872412",
   "metadata": {},
   "outputs": [
    {
     "name": "stdout",
     "output_type": "stream",
     "text": [
      "[[0. 0. 0. 0.]\n",
      " [0. 0. 0. 0.]]\n"
     ]
    }
   ],
   "source": [
    "c = np.zeros([2, 4], dtype = float)\n",
    "c\n",
    "print(c)"
   ]
  },
  {
   "cell_type": "code",
   "execution_count": 15,
   "id": "8a71d20e-e5eb-46f5-ba1c-f33a7be9d202",
   "metadata": {},
   "outputs": [
    {
     "name": "stdout",
     "output_type": "stream",
     "text": [
      "[1. 1. 1. 1. 1. 1.]\n"
     ]
    }
   ],
   "source": [
    "a1 = np.ones(6)\n",
    "print(a1)"
   ]
  },
  {
   "cell_type": "code",
   "execution_count": 18,
   "id": "07688b4a-375c-413d-9d7b-659f79d4f8cc",
   "metadata": {},
   "outputs": [
    {
     "name": "stdout",
     "output_type": "stream",
     "text": [
      "[[1 1 1 1 1 1]\n",
      " [1 1 1 1 1 1]\n",
      " [1 1 1 1 1 1]\n",
      " [1 1 1 1 1 1]\n",
      " [1 1 1 1 1 1]]\n"
     ]
    }
   ],
   "source": [
    "a5= np.ones([5,6], dtype = int)\n",
    "print(a5)"
   ]
  },
  {
   "cell_type": "code",
   "execution_count": null,
   "id": "efd3e8c4-01f6-404a-8b0c-415c22dc759a",
   "metadata": {},
   "outputs": [],
   "source": []
  },
  {
   "cell_type": "code",
   "execution_count": 21,
   "id": "23467f4a-dfd0-41c3-b6d6-43e1a477437e",
   "metadata": {},
   "outputs": [
    {
     "name": "stdout",
     "output_type": "stream",
     "text": [
      "['kya bolti public' 'kya bolti public' 'kya bolti public'\n",
      " 'kya bolti public']\n"
     ]
    }
   ],
   "source": [
    "m = np.full(4, 'kya bolti public')\n",
    "print(m)"
   ]
  },
  {
   "cell_type": "code",
   "execution_count": 24,
   "id": "8db7bcec-5298-4aa8-9c9e-400d62b122a0",
   "metadata": {},
   "outputs": [
    {
     "name": "stdout",
     "output_type": "stream",
     "text": [
      "[6.23042070e-307 4.67296746e-307 1.69121096e-306 1.95820216e-306\n",
      " 3.44902066e-307 1.60214553e-306 6.23054972e-307 1.20161797e-306\n",
      " 6.23058707e-307 1.69120824e-306 8.45596650e-307 1.24611674e-306\n",
      " 9.34602321e-307 1.69114441e-306 1.33511426e-306 1.78020848e-306\n",
      " 8.01092457e-307 8.45593934e-307 9.34598246e-307 1.31565682e-312\n",
      " 2.56761491e-312]\n"
     ]
    }
   ],
   "source": [
    "empty_space = np.empty(21)\n",
    "print(empty_space)"
   ]
  },
  {
   "cell_type": "code",
   "execution_count": 25,
   "id": "bff75efa-3fd9-4c63-b6f5-131afde25757",
   "metadata": {},
   "outputs": [
    {
     "name": "stdout",
     "output_type": "stream",
     "text": [
      "[ 1.27319747e-313  3.39519327e-313  0.00000000e+000  1.39067116e-309\n",
      "  8.82750252e-311  2.14321575e-311  1.69760311e-313  0.00000000e+000\n",
      "  0.00000000e+000  0.00000000e+000  0.00000000e+000              nan\n",
      "  6.84483060e-223 -6.11990857e-219  1.85674632e-314  1.17520759e-311\n",
      "  0.00000000e+000  1.17525202e-311  1.17525202e-311  0.00000000e+000]\n"
     ]
    }
   ],
   "source": [
    "empty_space = np.empty(20)\n",
    "print(empty_space)"
   ]
  },
  {
   "cell_type": "code",
   "execution_count": 27,
   "id": "c0cfb0b1-6d18-486f-bcf1-02d42d02850d",
   "metadata": {},
   "outputs": [
    {
     "name": "stdout",
     "output_type": "stream",
     "text": [
      "[ 0  5 10 15 20 25 30 35 40 45 50 55 60 65 70 75 80 85 90 95]\n"
     ]
    }
   ],
   "source": [
    "b = np.arange(0, 100, 5)\n",
    "print(b)"
   ]
  },
  {
   "cell_type": "code",
   "execution_count": 28,
   "id": "55298b0b-0f10-4d06-82a6-1cca5220d26f",
   "metadata": {},
   "outputs": [
    {
     "name": "stdout",
     "output_type": "stream",
     "text": [
      "[20 17 14 11  8  5]\n"
     ]
    }
   ],
   "source": [
    "c = np.arange(20, 2, -3)\n",
    "print(c)"
   ]
  },
  {
   "cell_type": "code",
   "execution_count": null,
   "id": "319e779b-76a6-4c06-ac92-74a0f4852409",
   "metadata": {},
   "outputs": [],
   "source": []
  },
  {
   "cell_type": "code",
   "execution_count": 30,
   "id": "ad9da22c-73c2-482e-bb33-aa50c6077f80",
   "metadata": {},
   "outputs": [
    {
     "name": "stdout",
     "output_type": "stream",
     "text": [
      "[0.         0.09090909 0.18181818 0.27272727 0.36363636 0.45454545\n",
      " 0.54545455 0.63636364 0.72727273 0.81818182 0.90909091 1.        ]\n"
     ]
    }
   ],
   "source": [
    "a = np.linspace(0, 1, 12)\n",
    "print(a)"
   ]
  },
  {
   "cell_type": "code",
   "execution_count": null,
   "id": "65138d62-88ff-4f60-ac25-6aa26252e47f",
   "metadata": {},
   "outputs": [],
   "source": []
  },
  {
   "cell_type": "code",
   "execution_count": 31,
   "id": "bffefb76-6d39-4b0f-9143-aa3e785ec5f1",
   "metadata": {},
   "outputs": [
    {
     "name": "stdout",
     "output_type": "stream",
     "text": [
      "[[1. 0. 0. 0. 0. 0. 0. 0. 0. 0. 0. 0.]\n",
      " [0. 1. 0. 0. 0. 0. 0. 0. 0. 0. 0. 0.]\n",
      " [0. 0. 1. 0. 0. 0. 0. 0. 0. 0. 0. 0.]\n",
      " [0. 0. 0. 1. 0. 0. 0. 0. 0. 0. 0. 0.]\n",
      " [0. 0. 0. 0. 1. 0. 0. 0. 0. 0. 0. 0.]\n",
      " [0. 0. 0. 0. 0. 1. 0. 0. 0. 0. 0. 0.]\n",
      " [0. 0. 0. 0. 0. 0. 1. 0. 0. 0. 0. 0.]\n",
      " [0. 0. 0. 0. 0. 0. 0. 1. 0. 0. 0. 0.]\n",
      " [0. 0. 0. 0. 0. 0. 0. 0. 1. 0. 0. 0.]\n",
      " [0. 0. 0. 0. 0. 0. 0. 0. 0. 1. 0. 0.]\n",
      " [0. 0. 0. 0. 0. 0. 0. 0. 0. 0. 1. 0.]\n",
      " [0. 0. 0. 0. 0. 0. 0. 0. 0. 0. 0. 1.]]\n"
     ]
    }
   ],
   "source": [
    "a = np.eye(12)\n",
    "print(a)"
   ]
  },
  {
   "cell_type": "code",
   "execution_count": 33,
   "id": "209ad717-b172-4662-bfb5-187e18501a24",
   "metadata": {},
   "outputs": [
    {
     "name": "stdout",
     "output_type": "stream",
     "text": [
      "[[1. 0. 0. 0. 0. 0. 0. 0. 0. 0. 0. 0.]\n",
      " [0. 1. 0. 0. 0. 0. 0. 0. 0. 0. 0. 0.]\n",
      " [0. 0. 1. 0. 0. 0. 0. 0. 0. 0. 0. 0.]\n",
      " [0. 0. 0. 1. 0. 0. 0. 0. 0. 0. 0. 0.]\n",
      " [0. 0. 0. 0. 1. 0. 0. 0. 0. 0. 0. 0.]\n",
      " [0. 0. 0. 0. 0. 1. 0. 0. 0. 0. 0. 0.]\n",
      " [0. 0. 0. 0. 0. 0. 1. 0. 0. 0. 0. 0.]\n",
      " [0. 0. 0. 0. 0. 0. 0. 1. 0. 0. 0. 0.]\n",
      " [0. 0. 0. 0. 0. 0. 0. 0. 1. 0. 0. 0.]\n",
      " [0. 0. 0. 0. 0. 0. 0. 0. 0. 1. 0. 0.]\n",
      " [0. 0. 0. 0. 0. 0. 0. 0. 0. 0. 1. 0.]\n",
      " [0. 0. 0. 0. 0. 0. 0. 0. 0. 0. 0. 1.]]\n"
     ]
    }
   ],
   "source": [
    "b = np.identity(12)\n",
    "print(b)"
   ]
  },
  {
   "cell_type": "code",
   "execution_count": 36,
   "id": "00667a41-f47a-4aee-87c4-3f9db033399b",
   "metadata": {},
   "outputs": [
    {
     "name": "stdout",
     "output_type": "stream",
     "text": [
      "false\n"
     ]
    }
   ],
   "source": [
    "if 'a' == 'b':\n",
    "    print(\"true\")\n",
    "else:\n",
    "    print(\"false\")"
   ]
  },
  {
   "cell_type": "code",
   "execution_count": 39,
   "id": "35c3f77b-142a-4574-b303-e9e20756df6d",
   "metadata": {},
   "outputs": [
    {
     "name": "stdout",
     "output_type": "stream",
     "text": [
      "[['1' '' '' '' '']\n",
      " ['' '2' '' '' '']\n",
      " ['' '' '3' '' '']\n",
      " ['' '' '' 'hello' '']\n",
      " ['' '' '' '' 'world']]\n"
     ]
    }
   ],
   "source": [
    "c = np.diag([1, 2, 3, \"hello\", \"world\"])\n",
    "print(c)"
   ]
  },
  {
   "cell_type": "code",
   "execution_count": 40,
   "id": "17af86ed-4896-4bc3-ac56-6694a3d70cf1",
   "metadata": {},
   "outputs": [
    {
     "name": "stdout",
     "output_type": "stream",
     "text": [
      "[[0 0 4 0]\n",
      " [0 0 0 5]\n",
      " [0 0 0 0]\n",
      " [0 0 0 0]]\n"
     ]
    }
   ],
   "source": [
    "d = np.diag([4, 5], k = 2)\n",
    "print(d)"
   ]
  },
  {
   "cell_type": "code",
   "execution_count": 42,
   "id": "f5bcdfbb-e1bf-463a-b400-3aa32e505c48",
   "metadata": {},
   "outputs": [
    {
     "name": "stdout",
     "output_type": "stream",
     "text": [
      "['1' '2' '3' 'hello' 'world']\n"
     ]
    }
   ],
   "source": [
    "e = np.diag(c)\n",
    "print(e)"
   ]
  },
  {
   "cell_type": "code",
   "execution_count": 44,
   "id": "58860009-86db-48df-9bd5-61d4687e0e19",
   "metadata": {},
   "outputs": [],
   "source": [
    "#find out all the necessary functions that are used in the numpy in the field of data analyst"
   ]
  },
  {
   "cell_type": "code",
   "execution_count": 45,
   "id": "48575730-c041-4797-bfd3-cdfd4c1c707e",
   "metadata": {},
   "outputs": [],
   "source": [
    "import pandas as pd\n"
   ]
  },
  {
   "cell_type": "code",
   "execution_count": 46,
   "id": "7f33367b-f7ad-4d31-b237-30e1c3edf12e",
   "metadata": {},
   "outputs": [
    {
     "name": "stdout",
     "output_type": "stream",
     "text": [
      "0     12\n",
      "1     34\n",
      "2      2\n",
      "3     32\n",
      "4     33\n",
      "5    542\n",
      "6      3\n",
      "7    452\n",
      "8      2\n",
      "9      1\n",
      "dtype: int64\n"
     ]
    }
   ],
   "source": [
    "s1 = pd.Series([12,34,2,32,33,542,3,452,2,1])\n",
    "print(s1)"
   ]
  },
  {
   "cell_type": "code",
   "execution_count": 47,
   "id": "4eb4697e-d342-48a5-b24e-e8511843b38e",
   "metadata": {},
   "outputs": [
    {
     "name": "stdout",
     "output_type": "stream",
     "text": [
      "a    100\n",
      "b    200\n",
      "c    300\n",
      "dtype: int64\n"
     ]
    }
   ],
   "source": [
    "s2 = pd.Series([100,200, 300], index = ['a', 'b', 'c'])\n",
    "print(s2)"
   ]
  },
  {
   "cell_type": "code",
   "execution_count": 57,
   "id": "a79c1eba-3b7b-4bb1-af9f-a4e43a273334",
   "metadata": {},
   "outputs": [
    {
     "name": "stdout",
     "output_type": "stream",
     "text": [
      "0    {'name': 'nevin'}\n",
      "1          {'age': 31}\n",
      "dtype: object\n"
     ]
    }
   ],
   "source": [
    "s3 = pd.Series([{\"name\": \"nevin\"}, {\"age\": 31}])\n",
    "print(s3)"
   ]
  },
  {
   "cell_type": "code",
   "execution_count": 58,
   "id": "3518387e-443a-44cc-a82d-0f88f3249610",
   "metadata": {},
   "outputs": [
    {
     "data": {
      "text/plain": [
       "0     12\n",
       "1     34\n",
       "2      2\n",
       "3     32\n",
       "4     33\n",
       "5    542\n",
       "6      3\n",
       "7    452\n",
       "8      2\n",
       "9      1\n",
       "dtype: int64"
      ]
     },
     "execution_count": 58,
     "metadata": {},
     "output_type": "execute_result"
    }
   ],
   "source": [
    "s1"
   ]
  },
  {
   "cell_type": "code",
   "execution_count": 59,
   "id": "94e4e451-4ec2-42c1-bfb5-f9b3ef0c1cb6",
   "metadata": {},
   "outputs": [
    {
     "data": {
      "text/plain": [
       "a    100\n",
       "b    200\n",
       "c    300\n",
       "dtype: int64"
      ]
     },
     "execution_count": 59,
     "metadata": {},
     "output_type": "execute_result"
    }
   ],
   "source": [
    "s2"
   ]
  },
  {
   "cell_type": "code",
   "execution_count": 60,
   "id": "55f6c567-e6d7-4a91-ae59-53fda391e0b0",
   "metadata": {},
   "outputs": [
    {
     "data": {
      "text/plain": [
       "0    {'name': 'nevin'}\n",
       "1          {'age': 31}\n",
       "dtype: object"
      ]
     },
     "execution_count": 60,
     "metadata": {},
     "output_type": "execute_result"
    }
   ],
   "source": [
    "s3"
   ]
  },
  {
   "cell_type": "code",
   "execution_count": 62,
   "id": "c055a313-4e07-42ba-ac60-c662b08b87d5",
   "metadata": {},
   "outputs": [
    {
     "name": "stdout",
     "output_type": "stream",
     "text": [
      "0       5\n",
      "1     227\n",
      "2     238\n",
      "3       4\n",
      "4    1235\n",
      "5       7\n",
      "6      25\n",
      "7       6\n",
      "dtype: int64\n"
     ]
    }
   ],
   "source": [
    "#arithmetic operation\n",
    "s = pd.Series([1,223,234,0,1231,3,21,2])\n",
    "print(s + 4)"
   ]
  }
 ],
 "metadata": {
  "kernelspec": {
   "display_name": "Python 3 (ipykernel)",
   "language": "python",
   "name": "python3"
  },
  "language_info": {
   "codemirror_mode": {
    "name": "ipython",
    "version": 3
   },
   "file_extension": ".py",
   "mimetype": "text/x-python",
   "name": "python",
   "nbconvert_exporter": "python",
   "pygments_lexer": "ipython3",
   "version": "3.13.7"
  }
 },
 "nbformat": 4,
 "nbformat_minor": 5
}
