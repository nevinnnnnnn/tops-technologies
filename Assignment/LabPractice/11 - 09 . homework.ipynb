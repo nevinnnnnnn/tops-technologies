{
 "cells": [
  {
   "cell_type": "markdown",
   "id": "c1d9241a-4b66-4062-ada7-a84f46ca854c",
   "metadata": {},
   "source": [
    "Write a for loop to print numbers from 1 to 20.\n",
    "\n",
    "Print all even numbers between 1 and 50 using a for loop.\n",
    "\n",
    "Print the squares of numbers from 1 to 10.\n",
    "\n",
    "Given a list of names = [\"Ram\", \"Shyam\", \"Radha\", \"Mohan\"], use a for loop to print each name in uppercase.\n",
    "\n",
    "Write a program using a for loop to print the multiplication table of 7.\n",
    "\n",
    "Given a list of numbers [12, 45, 23, 67, 89, 34], use a for loop to print only numbers greater than 40.\n",
    "\n",
    "Write a program to count how many vowels are in the string \"programming\", using a for loop.\n",
    "\n",
    "Given a dictionary: marks = {\"Math\": 90, \"Science\": 85, \"English\": 88}, use a for loop to print each subject with its marks.\n",
    "\n",
    "Write a program to find the sum of digits of a number (e.g., 753 → 15) using a for loop.\n",
    "\n",
    "Write a program to print all elements of a tuple in reverse order using a for loop.\n",
    "\n",
    "Print the 5 pattern using a for loop\n",
    "\n",
    "Write a for loop to generate the multiplication tables from 1 to 5.\n",
    "\n",
    "Use nested for loops to print a 5×5 multiplication matrix.\n",
    "\n",
    "Write a program to print all prime numbers between 10 and 50 using a for loop.\n",
    "\n",
    "Write a program to check if a string is a palindrome using a for loop (e.g., \"radar\" → Yes).\n",
    "\n",
    "Write a program to find the factorial of a number using a for loop.\n",
    "\n",
    "Write a program that prints the Fibonacci sequence up to 50 using a for loop.\n",
    "\n",
    "Given a list [\"apple\", \"banana\", \"mango\", \"grapes\"], use a for loop to find which word has the maximum length.\n",
    "\n",
    "Write a program that uses a for loop to reverse a string without using slicing.\n",
    "\n",
    "Write a program using a for loop to calculate the sum of this series: 1^2 + 2^2 + 3^2 + ... + n^2 (for n = 10).\n",
    "\n",
    "Write a program to flatten a nested list using a for loop. Example: [[1,2], [3,4], [5]] → [1,2,3,4,5]\n"
   ]
  },
  {
   "cell_type": "markdown",
   "id": "124d373a-6e2e-4b1f-b707-7de177fc022b",
   "metadata": {},
   "source": [
    "Write a for loop to print numbers from 1 to 20."
   ]
  },
  {
   "cell_type": "code",
   "execution_count": 2,
   "id": "6705a25f-fd1c-4518-bf0d-4dcb1d788af9",
   "metadata": {},
   "outputs": [
    {
     "name": "stdout",
     "output_type": "stream",
     "text": [
      "1\n",
      "2\n",
      "3\n",
      "4\n",
      "5\n",
      "6\n",
      "7\n",
      "8\n",
      "9\n",
      "10\n",
      "11\n",
      "12\n",
      "13\n",
      "14\n",
      "15\n",
      "16\n",
      "17\n",
      "18\n",
      "19\n",
      "20\n"
     ]
    }
   ],
   "source": [
    "for i in range(1, 20 + 1):\n",
    "    print(i)"
   ]
  },
  {
   "cell_type": "markdown",
   "id": "d5145089-e860-436f-a4d9-bcd377171742",
   "metadata": {},
   "source": [
    "Print all even numbers between 1 and 50 using a for loop."
   ]
  },
  {
   "cell_type": "code",
   "execution_count": 3,
   "id": "95b8cfb7-82b3-42d6-83a2-159fb5228d07",
   "metadata": {},
   "outputs": [
    {
     "name": "stdout",
     "output_type": "stream",
     "text": [
      "2\n",
      "4\n",
      "6\n",
      "8\n",
      "10\n",
      "12\n",
      "14\n",
      "16\n",
      "18\n",
      "20\n",
      "22\n",
      "24\n",
      "26\n",
      "28\n",
      "30\n",
      "32\n",
      "34\n",
      "36\n",
      "38\n",
      "40\n",
      "42\n",
      "44\n",
      "46\n",
      "48\n",
      "50\n"
     ]
    }
   ],
   "source": [
    "for i in range(1, 50 + 1):\n",
    "    if i % 2 == 0:\n",
    "        print(i)"
   ]
  },
  {
   "cell_type": "markdown",
   "id": "a9c41107-f74e-4c57-a451-4bac53065403",
   "metadata": {},
   "source": [
    "Print the squares of numbers from 1 to 10."
   ]
  },
  {
   "cell_type": "code",
   "execution_count": 4,
   "id": "340279a8-7007-4ffe-98ae-d7c0fbf5db0a",
   "metadata": {},
   "outputs": [
    {
     "name": "stdout",
     "output_type": "stream",
     "text": [
      "1\n",
      "4\n",
      "9\n",
      "16\n",
      "25\n",
      "36\n",
      "49\n",
      "64\n",
      "81\n",
      "100\n"
     ]
    }
   ],
   "source": [
    "for i in range(1, 10 + 1):\n",
    "    print(i ** 2)"
   ]
  },
  {
   "cell_type": "markdown",
   "id": "e4771e4b-1781-4c0f-893e-059fe16b52a9",
   "metadata": {},
   "source": [
    "Given a list of names = [\"Ram\", \"Shyam\", \"Radha\", \"Mohan\"], use a for loop to print each name in uppercase."
   ]
  },
  {
   "cell_type": "code",
   "execution_count": 5,
   "id": "34339e79-ba74-4c1e-a932-07a131286aae",
   "metadata": {},
   "outputs": [
    {
     "name": "stdout",
     "output_type": "stream",
     "text": [
      "RAM\n",
      "SHYAM\n",
      "RADHA\n",
      "MOHAN\n"
     ]
    }
   ],
   "source": [
    "names = [\"Ram\", \"Shyam\", \"Radha\", \"Mohan\"]\n",
    "for i in names:\n",
    "    uc = i.upper()\n",
    "    print(uc)"
   ]
  },
  {
   "cell_type": "markdown",
   "id": "0ab21c30-e942-4284-9851-6adf08ac6cea",
   "metadata": {},
   "source": [
    "Write a program using a for loop to print the multiplication table of 7."
   ]
  },
  {
   "cell_type": "code",
   "execution_count": 6,
   "id": "47c60931-a6a8-4686-a080-52714c375a23",
   "metadata": {},
   "outputs": [
    {
     "name": "stdout",
     "output_type": "stream",
     "text": [
      "7 x 1 = 7\n",
      "7 x 2 = 14\n",
      "7 x 3 = 21\n",
      "7 x 4 = 28\n",
      "7 x 5 = 35\n",
      "7 x 6 = 42\n",
      "7 x 7 = 49\n",
      "7 x 8 = 56\n",
      "7 x 9 = 63\n",
      "7 x 10 = 70\n"
     ]
    }
   ],
   "source": [
    "for i in range(1, 10 + 1):\n",
    "    print(f\"7 x {i} = {7 * i}\")"
   ]
  },
  {
   "cell_type": "markdown",
   "id": "1deb0ed6-daa6-4573-98e3-b436a1026555",
   "metadata": {},
   "source": [
    "Given a list of numbers [12, 45, 23, 67, 89, 34], use a for loop to print only numbers greater than 40."
   ]
  },
  {
   "cell_type": "code",
   "execution_count": 7,
   "id": "ab60b79f-f0d6-4fd8-8b22-105412e23afb",
   "metadata": {},
   "outputs": [
    {
     "name": "stdout",
     "output_type": "stream",
     "text": [
      "45\n",
      "67\n",
      "89\n"
     ]
    }
   ],
   "source": [
    "num = [12, 45, 23, 67, 89, 34]\n",
    "for i in num:\n",
    "    if i > 40:\n",
    "        print(i)"
   ]
  },
  {
   "cell_type": "markdown",
   "id": "1c007542-6dd6-4cfb-8c25-3314ee53384a",
   "metadata": {},
   "source": [
    "Write a program to count how many vowels are in the string \"programming\", using a for loop."
   ]
  },
  {
   "cell_type": "code",
   "execution_count": 2,
   "id": "f5b7fbf1-351a-4f5e-8e13-f90fe461fe5b",
   "metadata": {},
   "outputs": [
    {
     "name": "stdout",
     "output_type": "stream",
     "text": [
      "3\n"
     ]
    }
   ],
   "source": [
    "word = \"programming\"\n",
    "vowels = ['a','e','i','o','u']\n",
    "count = 0\n",
    "for i in word:\n",
    "    lc = word.lower()\n",
    "    if i in vowels:\n",
    "        count += 1\n",
    "print(count)"
   ]
  },
  {
   "cell_type": "markdown",
   "id": "cbe72656-3763-4842-ba17-1787c2661e57",
   "metadata": {},
   "source": [
    "Given a dictionary: marks = {\"Math\": 90, \"Science\": 85, \"English\": 88}, use a for loop to print each subject with its marks."
   ]
  },
  {
   "cell_type": "code",
   "execution_count": 5,
   "id": "c243431c-3a97-4ed2-8e55-85548e504f29",
   "metadata": {},
   "outputs": [
    {
     "name": "stdout",
     "output_type": "stream",
     "text": [
      "Math : 90\n",
      "Science : 85\n",
      "English : 88\n"
     ]
    }
   ],
   "source": [
    "marks = {\"Math\": 90, \"Science\": 85, \"English\": 88}\n",
    "for i, j in marks.items():\n",
    "    print(i, \":\", j)"
   ]
  },
  {
   "cell_type": "markdown",
   "id": "a282c897-114b-43b7-9880-2e7ac93b3ff1",
   "metadata": {},
   "source": [
    "Write a program to find the sum of digits of a number (e.g., 753 → 15) using a for loop."
   ]
  },
  {
   "cell_type": "code",
   "execution_count": 7,
   "id": "5e26ff41-93ee-4f33-9b0d-dc2c9ddbfebb",
   "metadata": {},
   "outputs": [],
   "source": [
    "#how???"
   ]
  },
  {
   "cell_type": "markdown",
   "id": "227c387a-6137-493f-807f-edebb7349226",
   "metadata": {},
   "source": [
    "Write a program to print all elements of a tuple in reverse order using a for loop."
   ]
  },
  {
   "cell_type": "code",
   "execution_count": 9,
   "id": "56d974cb-7cbd-4b55-9a89-dff5ba428b1f",
   "metadata": {},
   "outputs": [
    {
     "name": "stdout",
     "output_type": "stream",
     "text": [
      "Cherry\n",
      "Banana\n",
      "Apple\n"
     ]
    }
   ],
   "source": [
    "fruits = (\"Apple\", \"Banana\", \"Cherry\")\n",
    "for i in fruits[::-1]:\n",
    "    print(i)"
   ]
  },
  {
   "cell_type": "markdown",
   "id": "5c65e659-13a4-49ad-aa21-9b807decc06b",
   "metadata": {},
   "source": [
    "Print the 5 pattern using a for loop"
   ]
  },
  {
   "cell_type": "code",
   "execution_count": 11,
   "id": "fbdc0714-b443-4629-8e12-2b36aab0b053",
   "metadata": {},
   "outputs": [
    {
     "name": "stdout",
     "output_type": "stream",
     "text": [
      "*\n",
      "*\n",
      "*\n",
      "*\n",
      "*\n",
      "\n"
     ]
    }
   ],
   "source": [
    "for i in range(1, 5 + 1):\n",
    "    print(\"*\")\n",
    "print()"
   ]
  },
  {
   "cell_type": "code",
   "execution_count": 12,
   "id": "c3f7bd5e-fa65-4542-88a7-6313c2abc6d5",
   "metadata": {},
   "outputs": [
    {
     "name": "stdout",
     "output_type": "stream",
     "text": [
      "* * * * * \n",
      "* * * * * \n",
      "* * * * * \n",
      "* * * * * \n",
      "* * * * * \n"
     ]
    }
   ],
   "source": [
    "for i in range(5):\n",
    "    for j in range(5):\n",
    "        print(\"*\", end = \" \")\n",
    "    print()"
   ]
  },
  {
   "cell_type": "code",
   "execution_count": 15,
   "id": "66662b58-3cfd-4504-ac91-d27b933e1280",
   "metadata": {},
   "outputs": [
    {
     "name": "stdout",
     "output_type": "stream",
     "text": [
      "\n",
      "* \n",
      "* * \n",
      "* * * \n",
      "* * * * \n",
      "* * * * * \n"
     ]
    }
   ],
   "source": [
    "for i in range(5 + 1):\n",
    "    for j in range(i):\n",
    "        print(\"*\", end = \" \")\n",
    "    print()"
   ]
  },
  {
   "cell_type": "code",
   "execution_count": 16,
   "id": "2100e03c-6b08-4392-b582-630bf86c4d78",
   "metadata": {},
   "outputs": [
    {
     "name": "stdout",
     "output_type": "stream",
     "text": [
      "* * * * * * \n",
      "* * * * * \n",
      "* * * * \n",
      "* * * \n",
      "* * \n"
     ]
    }
   ],
   "source": [
    "for i in range(5 + 1, 1, -1):\n",
    "    for j in range(i):\n",
    "        print(\"*\", end = \" \")\n",
    "    print()"
   ]
  },
  {
   "cell_type": "code",
   "execution_count": 19,
   "id": "59b6ffb9-ef16-4543-bdb5-1e278a5232c2",
   "metadata": {},
   "outputs": [
    {
     "name": "stdout",
     "output_type": "stream",
     "text": [
      "\n",
      "* \n",
      "* * \n",
      "* * * \n",
      "* * * * \n",
      "* * * * * \n",
      "* * * * * * \n",
      "* * * * * \n",
      "* * * * \n",
      "* * * \n",
      "* * \n",
      "* \n"
     ]
    }
   ],
   "source": [
    "for i in range(5 + 1):\n",
    "    for j in range(i):\n",
    "        print(\"*\", end = \" \")\n",
    "    print()\n",
    "for i in range(5 + 1, 0, -1):\n",
    "    for j in range(i):\n",
    "        print(\"*\", end = \" \")\n",
    "    print()"
   ]
  },
  {
   "cell_type": "markdown",
   "id": "5d1f23b2-9491-4ca8-9bc9-d1719dac9485",
   "metadata": {},
   "source": [
    "Write a for loop to generate the multiplication tables from 1 to 5."
   ]
  },
  {
   "cell_type": "code",
   "execution_count": 22,
   "id": "4964feef-c29c-43d1-83de-e8fd5308b512",
   "metadata": {},
   "outputs": [
    {
     "name": "stdout",
     "output_type": "stream",
     "text": [
      "1 x 0 = 0\n",
      "2 x 0 = 0\n",
      "3 x 0 = 0\n",
      "4 x 0 = 0\n",
      "5 x 0 = 0\n",
      "6 x 0 = 0\n",
      "7 x 0 = 0\n",
      "8 x 0 = 0\n",
      "9 x 0 = 0\n",
      "10 x 0 = 0\n",
      "\n",
      "1 x 0 = 0\n",
      "2 x 0 = 0\n",
      "3 x 0 = 0\n",
      "4 x 0 = 0\n",
      "5 x 0 = 0\n",
      "6 x 0 = 0\n",
      "7 x 0 = 0\n",
      "8 x 0 = 0\n",
      "9 x 0 = 0\n",
      "10 x 0 = 0\n",
      "\n",
      "1 x 0 = 0\n",
      "2 x 0 = 0\n",
      "3 x 0 = 0\n",
      "4 x 0 = 0\n",
      "5 x 0 = 0\n",
      "6 x 0 = 0\n",
      "7 x 0 = 0\n",
      "8 x 0 = 0\n",
      "9 x 0 = 0\n",
      "10 x 0 = 0\n",
      "\n",
      "1 x 0 = 0\n",
      "2 x 0 = 0\n",
      "3 x 0 = 0\n",
      "4 x 0 = 0\n",
      "5 x 0 = 0\n",
      "6 x 0 = 0\n",
      "7 x 0 = 0\n",
      "8 x 0 = 0\n",
      "9 x 0 = 0\n",
      "10 x 0 = 0\n",
      "\n",
      "1 x 0 = 0\n",
      "2 x 0 = 0\n",
      "3 x 0 = 0\n",
      "4 x 0 = 0\n",
      "5 x 0 = 0\n",
      "6 x 0 = 0\n",
      "7 x 0 = 0\n",
      "8 x 0 = 0\n",
      "9 x 0 = 0\n",
      "10 x 0 = 0\n",
      "\n"
     ]
    }
   ],
   "source": [
    "for i in range(1, 5 + 1):\n",
    "    for i in range(1, 10 + 1):\n",
    "        print(f\"{i} x {j} = {i * j}\")\n",
    "    print()"
   ]
  },
  {
   "cell_type": "markdown",
   "id": "be1c07dc-57cb-48f9-a3e5-0907f0f62022",
   "metadata": {},
   "source": [
    "make a calculator using the coinditional statement."
   ]
  },
  {
   "cell_type": "code",
   "execution_count": 3,
   "id": "c4d0c95d-7272-4740-bad2-a089902fa418",
   "metadata": {},
   "outputs": [
    {
     "name": "stdin",
     "output_type": "stream",
     "text": [
      "enter a number:  12\n",
      "enter another number:  33.01\n",
      "make a choice of the desired operation: 1. add 2. sub 3. mult 4. div:  1\n"
     ]
    },
    {
     "name": "stdout",
     "output_type": "stream",
     "text": [
      "45.01\n"
     ]
    }
   ],
   "source": [
    "a = float(input(\"enter a number: \"))\n",
    "b = float(input(\"enter another number: \"))\n",
    "choice = int(input(\"make a choice of the desired operation: \"\n",
    "                  \"1. add \"\n",
    "                  \"2. sub \"\n",
    "                  \"3. mult \"\n",
    "                  \"4. div: \"))\n",
    "if choice == 1:\n",
    "    print(a + b)\n",
    "elif choice == 2:\n",
    "    print(a - b)\n",
    "elif choice == 3:\n",
    "    print(a * b)\n",
    "elif choice == 4:\n",
    "    print(a / b)\n",
    "else:\n",
    "    print(f\"{choice} ia an invalid choice\")"
   ]
  },
  {
   "cell_type": "markdown",
   "id": "1119e1c9-f308-4d00-af2c-ce270db60d33",
   "metadata": {},
   "source": [
    "write a code for an atm machince using the while loop concept"
   ]
  },
  {
   "cell_type": "code",
   "execution_count": 1,
   "id": "1308e35e-c96c-4bf2-ac99-66d1dfc1ba24",
   "metadata": {},
   "outputs": [
    {
     "name": "stdin",
     "output_type": "stream",
     "text": [
      "enter the pin:  1234\n"
     ]
    },
    {
     "name": "stdout",
     "output_type": "stream",
     "text": [
      "login successful\n",
      "ATM operations menu: \n",
      "1. check balance \n",
      "2. deposit \n",
      "3. withdraw \n",
      "4. exit \n",
      "\n"
     ]
    },
    {
     "name": "stdin",
     "output_type": "stream",
     "text": [
      "make a choice (1 - 4):  1\n"
     ]
    },
    {
     "name": "stdout",
     "output_type": "stream",
     "text": [
      "you have 1000 on your bank account\n",
      "ATM operations menu: \n",
      "1. check balance \n",
      "2. deposit \n",
      "3. withdraw \n",
      "4. exit \n",
      "\n"
     ]
    },
    {
     "name": "stdin",
     "output_type": "stream",
     "text": [
      "make a choice (1 - 4):  2\n",
      "enter the amount you want to deposit:  123123123\n"
     ]
    },
    {
     "name": "stdout",
     "output_type": "stream",
     "text": [
      "amount 123123123.0 deposited to your account. Current balance: 123124123.0\n",
      "ATM operations menu: \n",
      "1. check balance \n",
      "2. deposit \n",
      "3. withdraw \n",
      "4. exit \n",
      "\n"
     ]
    },
    {
     "name": "stdin",
     "output_type": "stream",
     "text": [
      "make a choice (1 - 4):  4\n"
     ]
    },
    {
     "name": "stdout",
     "output_type": "stream",
     "text": [
      "thatnk you\n"
     ]
    }
   ],
   "source": [
    "pin = 1234\n",
    "balance = 1000  \n",
    "attempts = 0\n",
    "\n",
    "user_pin = int(input(\"enter the pin: \"))\n",
    "while user_pin != pin:\n",
    "    attempts += 1\n",
    "    if attempts == 3:\n",
    "        print(\"too many wrong attempts!\")\n",
    "        exit()\n",
    "        user_pin = int(input(\"wrong pin, try again: \"))\n",
    "print(\"login successful\")\n",
    "\n",
    "while True:\n",
    "    print(\"ATM operations menu: \\n\"\n",
    "         \"1. check balance \\n\"\n",
    "         \"2. deposit \\n\"\n",
    "         \"3. withdraw \\n\"\n",
    "         \"4. exit \\n\")\n",
    "    choice = int(input(\"make a choice (1 - 4): \"))\n",
    "    if choice == 1:\n",
    "        print(f\"you have {balance} on your bank account\")\n",
    "\n",
    "    elif choice == 2:\n",
    "        deposit = float(input(\"enter the amount you want to deposit: \"))\n",
    "        balance += deposit\n",
    "        print(f\"amount {deposit} deposited to your account. Current balance: {balance}\")\n",
    "\n",
    "    elif choice == 3:\n",
    "        withdraw = int(input(\"enter the amount to withdraw: \"))\n",
    "        if withdraw > balance:\n",
    "            print(\"insufficient balance\")\n",
    "        else:\n",
    "            balance -= withdraw\n",
    "            print(f\"amount {withdraw} withdrawn from the account. current balance: {balance}\")\n",
    "\n",
    "    elif choice == 4:\n",
    "        print(\"thatnk you\")\n",
    "        break\n",
    "\n",
    "    else:\n",
    "        print(\"invalid choice\")"
   ]
  },
  {
   "cell_type": "markdown",
   "id": "002d6919-4a47-481c-b8f8-25ca4cec4977",
   "metadata": {},
   "source": [
    "oops concept"
   ]
  },
  {
   "cell_type": "code",
   "execution_count": 3,
   "id": "28b9d4c7-a785-496b-85de-e86ca720384d",
   "metadata": {},
   "outputs": [
    {
     "name": "stdout",
     "output_type": "stream",
     "text": [
      "car model: red \n",
      "car color: abc\n"
     ]
    }
   ],
   "source": [
    "class car:\n",
    "    def __init__(self, color, model):\n",
    "        self.color = color\n",
    "        self.model = model\n",
    "\n",
    "    def show_details(self):\n",
    "        print(f\"car model: {self.model} \\ncar color: {self.color}\")\n",
    "\n",
    "car1 = car(\"abc\", \"red\")\n",
    "car1.show_details()"
   ]
  },
  {
   "cell_type": "markdown",
   "id": "c27b7e63-f07f-4df6-907b-6a068f7627c2",
   "metadata": {},
   "source": [
    "zomato voucher"
   ]
  },
  {
   "cell_type": "code",
   "execution_count": 5,
   "id": "be43d109-2ccd-42d4-a776-c62a5f9c4be8",
   "metadata": {},
   "outputs": [
    {
     "name": "stdout",
     "output_type": "stream",
     "text": [
      "types of voucher\n",
      " 1. bronze\n",
      " 2. silver\n",
      " 3. Platinum\n",
      "\n"
     ]
    },
    {
     "name": "stdin",
     "output_type": "stream",
     "text": [
      "enter the MRP of your purchase:  1233\n",
      "enter the voucher you want to use: (1, 2, 3) 1\n"
     ]
    },
    {
     "name": "stdout",
     "output_type": "stream",
     "text": [
      "you can avail discount upto 10%.\n",
      "1109.7\n"
     ]
    }
   ],
   "source": [
    "print(\"types of voucher\\n 1. bronze\\n 2. silver\\n 3. Platinum\\n\")\n",
    "mrp = float(input(\"enter the MRP of your purchase: \"))\n",
    "choice = int(input(\"enter the voucher you want to use: (1, 2, 3)\"))\n",
    "if choice == 1:\n",
    "    print(\"you can avail discount upto 10%.\")\n",
    "    bro = mrp - (mrp * 0.1)\n",
    "    print(bro)\n",
    "elif choice == 2:\n",
    "    print(\"you can avail discount upto 25%.\")\n",
    "    sil = mrp - (mrp * 0.25)\n",
    "    print(sil)\n",
    "elif choice == 3:\n",
    "    print(\"you can avail discount upto 50%.\")\n",
    "    gol = mrp - (mrp * 0.5)\n",
    "    print(gol)\n",
    "else:\n",
    "    print(f\"MRP: {mrp}\")"
   ]
  },
  {
   "cell_type": "markdown",
   "id": "2c48c486-b239-4814-aff3-a3dda9daff33",
   "metadata": {},
   "source": [
    "એક રીક્ષા વાળા ની જોડે વાતાઁ લાપ છે.\n",
    "૫ કિમી ના ૨૦₹\n",
    "અને એની ઊપર પર કિમી ના ૫₹\n",
    "જો મોલ જવુ છે તો ૧૫૦₹\n",
    "અને બસસ્ટેન્ડ ના ૨૦૦₹\n",
    "\n",
    "તો આનો કોડ લખો"
   ]
  },
  {
   "cell_type": "code",
   "execution_count": null,
   "id": "e2b5cc3c-9760-4827-985c-b65dc3e701b9",
   "metadata": {},
   "outputs": [],
   "source": [
    "dist = float(input(\"enter the distance you want: \"))\n",
    "print(\"enter the destination you wish to go: \")\n"
   ]
  }
 ],
 "metadata": {
  "kernelspec": {
   "display_name": "Python 3 (ipykernel)",
   "language": "python",
   "name": "python3"
  },
  "language_info": {
   "codemirror_mode": {
    "name": "ipython",
    "version": 3
   },
   "file_extension": ".py",
   "mimetype": "text/x-python",
   "name": "python",
   "nbconvert_exporter": "python",
   "pygments_lexer": "ipython3",
   "version": "3.13.7"
  }
 },
 "nbformat": 4,
 "nbformat_minor": 5
}
