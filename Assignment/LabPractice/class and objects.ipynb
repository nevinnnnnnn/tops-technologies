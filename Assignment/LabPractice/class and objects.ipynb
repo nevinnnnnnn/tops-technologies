{
 "cells": [
  {
   "cell_type": "markdown",
   "id": "dcded8d1-db6a-44ef-9102-c5303212720f",
   "metadata": {},
   "source": [
    "Create a class Car with attributes brand and model. Create two objects of this class and print their details."
   ]
  },
  {
   "cell_type": "code",
   "execution_count": 8,
   "id": "060be108-f5f8-4c9d-9689-aabeb809a034",
   "metadata": {},
   "outputs": [
    {
     "name": "stdout",
     "output_type": "stream",
     "text": [
      "honda\n",
      "123\n"
     ]
    }
   ],
   "source": [
    "class car:\n",
    "    def __init__(self, brand, model):\n",
    "        self.brand = brand\n",
    "        self.model = model\n",
    "c1 = car(\"honda\", 123)\n",
    "print(c1.brand)\n",
    "print(c1.model)"
   ]
  },
  {
   "cell_type": "markdown",
   "id": "5ed95cd0-8d1e-43e5-9ca5-91dd40aa1ffe",
   "metadata": {},
   "source": [
    "Write a class PERSON with a constructor that takes name and age as input. Create an object and display the details."
   ]
  },
  {
   "cell_type": "code",
   "execution_count": 10,
   "id": "dd8bf96c-351d-4cdf-844c-8ef14fff93fe",
   "metadata": {},
   "outputs": [
    {
     "name": "stdout",
     "output_type": "stream",
     "text": [
      "nev is 21's years old\n"
     ]
    }
   ],
   "source": [
    "class person:\n",
    "    def __init__(self, name, age):\n",
    "        self.name = name\n",
    "        self.age = age\n",
    "    def __str__(self):\n",
    "        return f\"{self.name} is {self.age}'s years old\"\n",
    "\n",
    "p1 = person(\"nev\", 21)\n",
    "print(p1)"
   ]
  },
  {
   "cell_type": "markdown",
   "id": "f63710e8-900c-4cd8-8429-459157fb154b",
   "metadata": {},
   "source": [
    "Create a class Employee with a class variable company = \"Google\". Add instance variables name and salary. Show how changing the class variable affects all objects."
   ]
  },
  {
   "cell_type": "code",
   "execution_count": 15,
   "id": "d5e6659a-f555-41b7-97e9-5f46a4ccbf09",
   "metadata": {},
   "outputs": [
    {
     "name": "stdout",
     "output_type": "stream",
     "text": [
      "company: google | name: nevin | salary: 21\n",
      "company: amazon | name: nero | salary: 22\n"
     ]
    }
   ],
   "source": [
    "class employee:\n",
    "    def __init__(self, name, salary, company = \"google\"):\n",
    "        self.name = name\n",
    "        self.salary = salary\n",
    "        self.company = company\n",
    "\n",
    "    def __str__(self):\n",
    "        return f\"company: {self.company} | name: {self.name} | salary: {self.salary}\"\n",
    "\n",
    "e1 = employee(\"nevin\", 21)\n",
    "print(e1)\n",
    "print(employee(\"nero\", 22, \"amazon\"))"
   ]
  },
  {
   "cell_type": "markdown",
   "id": "3a7361ae-5d11-4686-83b6-218e2547f9c0",
   "metadata": {},
   "source": [
    "Write a class Calculator with methods add, subtract, multiply, and divide. Create an object and call all methods."
   ]
  },
  {
   "cell_type": "code",
   "execution_count": 20,
   "id": "379d6cf6-ed16-40db-8dc2-0c6964e09b98",
   "metadata": {},
   "outputs": [
    {
     "name": "stdout",
     "output_type": "stream",
     "text": [
      "3\n",
      "-1\n"
     ]
    }
   ],
   "source": [
    "class calculator:\n",
    "    def __init__(self, i1, i2):\n",
    "        self.i1 = i1\n",
    "        self.i2 = i2\n",
    "\n",
    "    def add(self):\n",
    "        return self.i1 + self.i2\n",
    "    def sub(self):\n",
    "        return self.i1 - self.i2\n",
    "    def mult(self):\n",
    "        return self.i1 * self.i2\n",
    "    def divide(self):\n",
    "        return self.i1 / self.i2\n",
    "\n",
    "a = calculator(1,2)\n",
    "print(a.add())\n",
    "print(a.sub())"
   ]
  },
  {
   "cell_type": "markdown",
   "id": "83c2a22e-5860-48e2-81ee-da71fce47fbe",
   "metadata": {},
   "source": [
    "Create a base class Animal with a method sound(). Create two subclasses Dog and Cat that override the method."
   ]
  },
  {
   "cell_type": "code",
   "execution_count": 24,
   "id": "85afb5a7-d460-4553-bdbc-4011245883bb",
   "metadata": {},
   "outputs": [
    {
     "name": "stdout",
     "output_type": "stream",
     "text": [
      "blahh blahh\n",
      "woff woff\n",
      "meow meow\n"
     ]
    }
   ],
   "source": [
    "class animal:\n",
    "    def sound(self):\n",
    "        return \"blahh blahh\"\n",
    "class dog(animal):\n",
    "    def sound(self):\n",
    "        return \"woff woff\"\n",
    "class cat(animal):\n",
    "    def sound(self):\n",
    "        return \"meow meow\"\n",
    "\n",
    "a = animal()\n",
    "b = dog()\n",
    "c = cat()\n",
    "\n",
    "print(a.sound())\n",
    "print(b.sound())\n",
    "print(c.sound())"
   ]
  },
  {
   "cell_type": "markdown",
   "id": "429a30bc-1a87-414c-9839-bbbbac837d17",
   "metadata": {},
   "source": [
    "Write a class BankAccount with a private variable __balance. Provide methods to deposit, withdraw, and check balance (without directly accessing __balance)."
   ]
  },
  {
   "cell_type": "code",
   "execution_count": null,
   "id": "0c938e07-f8ee-4e87-a45b-76d9dd0cf034",
   "metadata": {},
   "outputs": [],
   "source": [
    "class bankaccount:\n",
    "    def __init__(self, __balance):\n",
    "        self.__balance = __balance\n",
    "\n",
    "    def deposit(self):\n",
    "        return f\"\""
   ]
  }
 ],
 "metadata": {
  "kernelspec": {
   "display_name": "Python 3 (ipykernel)",
   "language": "python",
   "name": "python3"
  },
  "language_info": {
   "codemirror_mode": {
    "name": "ipython",
    "version": 3
   },
   "file_extension": ".py",
   "mimetype": "text/x-python",
   "name": "python",
   "nbconvert_exporter": "python",
   "pygments_lexer": "ipython3",
   "version": "3.13.7"
  }
 },
 "nbformat": 4,
 "nbformat_minor": 5
}
