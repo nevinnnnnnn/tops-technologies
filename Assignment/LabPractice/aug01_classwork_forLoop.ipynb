{
 "cells": [
  {
   "cell_type": "markdown",
   "id": "b9adf4b7-5bb3-46d8-b587-e9392863ab90",
   "metadata": {},
   "source": [
    "# example 1"
   ]
  },
  {
   "cell_type": "code",
   "execution_count": 3,
   "id": "d5a64076-e1ae-484d-a733-d4cff77586c3",
   "metadata": {},
   "outputs": [],
   "source": [
    "cart = [\"bottle\", \"maggie\", \"cheese\", \"kit-kat\", \"cloth\"]"
   ]
  },
  {
   "cell_type": "code",
   "execution_count": 4,
   "id": "e6c82556-f0ad-4bd7-a9cd-27e522f2f04c",
   "metadata": {},
   "outputs": [
    {
     "name": "stdout",
     "output_type": "stream",
     "text": [
      "my item is bottle\n",
      "my item is maggie\n",
      "my item is cheese\n",
      "my item is kit-kat\n",
      "my item is cloth\n"
     ]
    }
   ],
   "source": [
    "for i in cart:\n",
    "    print(f\"my item is {i}\")"
   ]
  },
  {
   "cell_type": "markdown",
   "id": "c62f9d6b-bc79-4591-a21e-8f7da447a96d",
   "metadata": {},
   "source": [
    "# example 2"
   ]
  },
  {
   "cell_type": "code",
   "execution_count": 5,
   "id": "d52e0a30-941b-4c87-9e0e-5cbc84c42c1a",
   "metadata": {},
   "outputs": [
    {
     "name": "stdout",
     "output_type": "stream",
     "text": [
      "my range 0\n",
      "my range 1\n",
      "my range 2\n",
      "my range 3\n",
      "my range 4\n"
     ]
    }
   ],
   "source": [
    "for i in range(5):\n",
    "    print(f\"my range {i}\")"
   ]
  },
  {
   "cell_type": "markdown",
   "id": "99105e29-b90f-46ff-9159-67a7b219856b",
   "metadata": {},
   "source": [
    "# example 3"
   ]
  },
  {
   "cell_type": "code",
   "execution_count": 7,
   "id": "ad599e4d-dd0e-45f6-8230-8ac0a47d1bc1",
   "metadata": {},
   "outputs": [
    {
     "name": "stdout",
     "output_type": "stream",
     "text": [
      "my range 3\n",
      "my range 5\n",
      "my range 7\n"
     ]
    }
   ],
   "source": [
    "for i in range(3 , 9, 2):\n",
    "    print(f\"my range {i}\")"
   ]
  },
  {
   "cell_type": "markdown",
   "id": "d792534e-8416-4e3d-876c-4e046628aea1",
   "metadata": {},
   "source": [
    "# example 4"
   ]
  },
  {
   "cell_type": "code",
   "execution_count": 8,
   "id": "4a2b8818-34d6-46b3-a65d-30497472b37f",
   "metadata": {},
   "outputs": [
    {
     "name": "stdout",
     "output_type": "stream",
     "text": [
      "a\n",
      "p\n",
      "p\n",
      "l\n",
      "e\n"
     ]
    }
   ],
   "source": [
    "for char in \"apple\":\n",
    "    print(char)"
   ]
  },
  {
   "cell_type": "markdown",
   "id": "5a93b592-a223-4fa2-bd4c-42ccba272201",
   "metadata": {},
   "source": [
    "# example 5"
   ]
  },
  {
   "cell_type": "code",
   "execution_count": 10,
   "id": "4024e142-8fb2-4dfc-bc32-0e8c71e9170e",
   "metadata": {},
   "outputs": [
    {
     "name": "stdout",
     "output_type": "stream",
     "text": [
      "1  is odd.\n",
      "2  is even number\n",
      "3  is odd.\n",
      "4  is even number\n",
      "5  is odd.\n",
      "6  is even number\n",
      "7  is odd.\n",
      "8  is even number\n",
      "9  is odd.\n",
      "10  is even number\n",
      "11  is odd.\n",
      "12  is even number\n",
      "13  is odd.\n",
      "14  is even number\n",
      "15  is odd.\n",
      "16  is even number\n",
      "17  is odd.\n",
      "18  is even number\n",
      "19  is odd.\n",
      "20  is even number\n",
      "21  is odd.\n",
      "22  is even number\n",
      "23  is odd.\n",
      "24  is even number\n",
      "25  is odd.\n",
      "26  is even number\n",
      "27  is odd.\n",
      "28  is even number\n",
      "29  is odd.\n",
      "30  is even number\n",
      "31  is odd.\n",
      "32  is even number\n",
      "33  is odd.\n",
      "34  is even number\n",
      "35  is odd.\n",
      "36  is even number\n",
      "37  is odd.\n",
      "38  is even number\n",
      "39  is odd.\n",
      "40  is even number\n",
      "41  is odd.\n",
      "42  is even number\n",
      "43  is odd.\n",
      "44  is even number\n",
      "45  is odd.\n",
      "46  is even number\n",
      "47  is odd.\n",
      "48  is even number\n",
      "49  is odd.\n",
      "50  is even number\n",
      "51  is odd.\n",
      "52  is even number\n",
      "53  is odd.\n",
      "54  is even number\n",
      "55  is odd.\n",
      "56  is even number\n",
      "57  is odd.\n",
      "58  is even number\n",
      "59  is odd.\n",
      "60  is even number\n",
      "61  is odd.\n",
      "62  is even number\n",
      "63  is odd.\n",
      "64  is even number\n",
      "65  is odd.\n",
      "66  is even number\n",
      "67  is odd.\n",
      "68  is even number\n",
      "69  is odd.\n",
      "70  is even number\n",
      "71  is odd.\n",
      "72  is even number\n",
      "73  is odd.\n",
      "74  is even number\n",
      "75  is odd.\n",
      "76  is even number\n",
      "77  is odd.\n",
      "78  is even number\n",
      "79  is odd.\n",
      "80  is even number\n",
      "81  is odd.\n",
      "82  is even number\n",
      "83  is odd.\n",
      "84  is even number\n",
      "85  is odd.\n",
      "86  is even number\n",
      "87  is odd.\n",
      "88  is even number\n",
      "89  is odd.\n"
     ]
    }
   ],
   "source": [
    "for i in range(1, 90):\n",
    "    if i % 2 == 0:\n",
    "        print(i, \" is even number\")\n",
    "    else:\n",
    "        print(i, \" is odd.\")"
   ]
  },
  {
   "cell_type": "markdown",
   "id": "b7459ecb-413f-4e6f-ac32-e05a820a20f5",
   "metadata": {},
   "source": [
    "# example 6"
   ]
  },
  {
   "cell_type": "code",
   "execution_count": 14,
   "id": "16448b46-62d7-4a37-a5b8-2bbed3fc0471",
   "metadata": {},
   "outputs": [
    {
     "name": "stdout",
     "output_type": "stream",
     "text": [
      "gift dunga - harshil\n",
      "gift nahi dunga - karan\n",
      "gift dunga - nevin\n",
      "gift dunga - avni\n",
      "gift dunga - dev\n"
     ]
    }
   ],
   "source": [
    "name = [\"harshil\", \"karan\", \"nevin\", \"avni\", \"dev\"]\n",
    "\n",
    "for friend in name:\n",
    "    if friend == \"karan\":\n",
    "        print(f\"gift nahi dunga - {friend}\")\n",
    "    else:\n",
    "        print(f\"gift dunga - {friend}\")"
   ]
  },
  {
   "cell_type": "code",
   "execution_count": null,
   "id": "a66175ab-572d-44b9-ae99-f076b93482e7",
   "metadata": {},
   "outputs": [],
   "source": []
  },
  {
   "cell_type": "code",
   "execution_count": null,
   "id": "edd11f64-b49a-4090-85f1-ae46e0bfe5d7",
   "metadata": {},
   "outputs": [],
   "source": [
    "# samosa - \n",
    "\"\"\"\n",
    "spicy level needed - rating for spices (1, 2, 3, 4, 5)\n",
    "\n",
    "\"\"\""
   ]
  },
  {
   "cell_type": "markdown",
   "id": "79ed6ed5-f5b0-41ac-b3a6-86ab913b3e50",
   "metadata": {},
   "source": [
    "# task 1"
   ]
  },
  {
   "cell_type": "code",
   "execution_count": 15,
   "id": "db306175-66f2-4173-ad0f-bee57c3f9ab8",
   "metadata": {},
   "outputs": [
    {
     "name": "stdout",
     "output_type": "stream",
     "text": [
      "56 is pass with grade D\n",
      "67 is pass with grade C\n",
      "78 is pass with grade B\n",
      "89 is pass with grade A\n",
      "99 is pass with grade A\n",
      "98 is pass with grade A\n",
      "76 is pass with grade B\n",
      "54 is pass with grade E\n",
      "34 is pass with grade F\n",
      "33 is pass with grade F\n",
      "23 is fail\n",
      "14 is fail\n",
      "41 is pass with grade F\n"
     ]
    }
   ],
   "source": [
    "marks = [56,67,78,89,99,98,76,54,34,33,23,14,41]\n",
    "\n",
    "for i in marks:\n",
    "    if i < 33:\n",
    "        print(f\"{i} is fail\")\n",
    "    elif i >= 33 and i < 45:\n",
    "        print(f\"{i} is pass with grade F\")\n",
    "    elif i >= 45 and i < 55:\n",
    "        print(f\"{i} is pass with grade E\")\n",
    "    elif i >= 55 and i < 65:\n",
    "        print(f\"{i} is pass with grade D\")\n",
    "    elif i >= 65 and i < 75:\n",
    "        print(f\"{i} is pass with grade C\")\n",
    "    elif i >= 75 and i < 85:\n",
    "        print(f\"{i} is pass with grade B\")\n",
    "    elif i >= 85 and i <= 100:\n",
    "        print(f\"{i} is pass with grade A\")\n",
    "    else:\n",
    "        print(f\"{i} is not a valid marks\")"
   ]
  },
  {
   "cell_type": "markdown",
   "id": "0e653b6b-6829-4610-89ba-e1b877aea4b9",
   "metadata": {},
   "source": [
    "# example 7"
   ]
  },
  {
   "cell_type": "code",
   "execution_count": 18,
   "id": "e4224184-20b6-42ae-bc18-9e1053569758",
   "metadata": {},
   "outputs": [
    {
     "name": "stdout",
     "output_type": "stream",
     "text": [
      "even number:  [2, 4, 6, 8, 10, 12, 14, 16, 18, 20, 22, 24, 26, 28, 30, 32, 34, 36, 38, 40, 42, 44, 46, 48, 50, 52, 54, 56, 58, 60, 62, 64, 66, 68, 70, 72, 74, 76, 78, 80, 82, 84, 86, 88]\n",
      "odd number:  [1, 3, 5, 7, 9, 11, 13, 15, 17, 19, 21, 23, 25, 27, 29, 31, 33, 35, 37, 39, 41, 43, 45, 47, 49, 51, 53, 55, 57, 59, 61, 63, 65, 67, 69, 71, 73, 75, 77, 79, 81, 83, 85, 87, 89]\n"
     ]
    }
   ],
   "source": [
    "even_num = []\n",
    "odd_num = []\n",
    "for i in range(1, 90):\n",
    "    if i % 2 == 0:\n",
    "        even_num.append(i)\n",
    "    else:\n",
    "        odd_num.append(i)\n",
    "\n",
    "print(\"even number: \", even_num)\n",
    "print(\"odd number: \", odd_num)"
   ]
  },
  {
   "cell_type": "code",
   "execution_count": null,
   "id": "0d8aff20-c560-4f01-ba2a-8ee3617a58b8",
   "metadata": {},
   "outputs": [],
   "source": []
  }
 ],
 "metadata": {
  "kernelspec": {
   "display_name": "Python 3 (ipykernel)",
   "language": "python",
   "name": "python3"
  },
  "language_info": {
   "codemirror_mode": {
    "name": "ipython",
    "version": 3
   },
   "file_extension": ".py",
   "mimetype": "text/x-python",
   "name": "python",
   "nbconvert_exporter": "python",
   "pygments_lexer": "ipython3",
   "version": "3.12.7"
  }
 },
 "nbformat": 4,
 "nbformat_minor": 5
}
