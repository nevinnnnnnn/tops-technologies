{
 "cells": [
  {
   "cell_type": "code",
   "execution_count": 2,
   "id": "dfcb7f4b-14fe-4ce9-b0f9-0ad40d1766c5",
   "metadata": {},
   "outputs": [],
   "source": [
    "import numpy as np"
   ]
  },
  {
   "cell_type": "code",
   "execution_count": 3,
   "id": "6ef2fc6c-6b54-4c11-bdf1-277c9675d6dd",
   "metadata": {},
   "outputs": [
    {
     "name": "stdout",
     "output_type": "stream",
     "text": [
      "[1 2 3 5 6]\n"
     ]
    }
   ],
   "source": [
    "arr = np.array([1,2,3,5,6])\n",
    "print(arr)"
   ]
  },
  {
   "cell_type": "code",
   "execution_count": 4,
   "id": "5fa38777-acd8-4e3c-9616-34b7478a4819",
   "metadata": {},
   "outputs": [
    {
     "name": "stdout",
     "output_type": "stream",
     "text": [
      "2.3.2\n"
     ]
    }
   ],
   "source": [
    "print(np.__version__)"
   ]
  },
  {
   "cell_type": "code",
   "execution_count": 5,
   "id": "7acdb2d6-4ae4-4c80-9ec1-869dc6dd0e39",
   "metadata": {},
   "outputs": [
    {
     "name": "stdout",
     "output_type": "stream",
     "text": [
      "<class 'numpy.ndarray'>\n"
     ]
    }
   ],
   "source": [
    "print(type(arr))"
   ]
  },
  {
   "cell_type": "markdown",
   "id": "4237f105-5b7e-43b0-a4d0-7e6854049031",
   "metadata": {},
   "source": [
    "# dimentions\n",
    "\n",
    "1. 0 D\n",
    "2. 1 D\n",
    "3. 2 D\n",
    "4. 3 D"
   ]
  },
  {
   "cell_type": "code",
   "execution_count": 6,
   "id": "43a21fb1-cca2-4e31-99cb-86a0d58e3ba2",
   "metadata": {},
   "outputs": [
    {
     "name": "stdout",
     "output_type": "stream",
     "text": [
      "123\n"
     ]
    }
   ],
   "source": [
    "arr0 = np.array(123)\n",
    "print(arr0)"
   ]
  },
  {
   "cell_type": "code",
   "execution_count": 11,
   "id": "12061609-9935-4a3a-87e5-c44a0dd06a01",
   "metadata": {},
   "outputs": [
    {
     "data": {
      "text/plain": [
       "array([1, 2, 3, 4, 5, 6])"
      ]
     },
     "execution_count": 11,
     "metadata": {},
     "output_type": "execute_result"
    }
   ],
   "source": [
    "arr1 = np.array([1,2,3,4,5,6])\n",
    "arr1"
   ]
  },
  {
   "cell_type": "code",
   "execution_count": 12,
   "id": "3a7e6648-0718-4f3a-98a8-2b594076ac3d",
   "metadata": {},
   "outputs": [
    {
     "name": "stdout",
     "output_type": "stream",
     "text": [
      "[1 2 3 4 5 6]\n"
     ]
    }
   ],
   "source": [
    "print(arr1)"
   ]
  },
  {
   "cell_type": "code",
   "execution_count": 14,
   "id": "84b13359-6a54-404f-b701-4989b5bf73ab",
   "metadata": {},
   "outputs": [
    {
     "name": "stdout",
     "output_type": "stream",
     "text": [
      "[[1 2 3]\n",
      " [3 1 2]]\n"
     ]
    }
   ],
   "source": [
    "arr2 = np.array([[1,2,3], [3,1,2]])\n",
    "print(arr2)"
   ]
  },
  {
   "cell_type": "code",
   "execution_count": 15,
   "id": "928f4e17-d127-47f4-9c1d-cfd2a3e4c926",
   "metadata": {},
   "outputs": [
    {
     "data": {
      "text/plain": [
       "array([[1, 2, 3],\n",
       "       [3, 1, 2]])"
      ]
     },
     "execution_count": 15,
     "metadata": {},
     "output_type": "execute_result"
    }
   ],
   "source": [
    "arr2"
   ]
  },
  {
   "cell_type": "code",
   "execution_count": 18,
   "id": "fc1492cf-f2a8-417a-9980-ca21c5b2160f",
   "metadata": {},
   "outputs": [
    {
     "name": "stdout",
     "output_type": "stream",
     "text": [
      "[[[1 2 3 4]\n",
      "  [4 3 2 1]]\n",
      "\n",
      " [[0 9 8 7]\n",
      "  [6 7 8 9]]]\n"
     ]
    }
   ],
   "source": [
    "arr3 = np.array([[[1,2,3,4], [4,3,2,1]],[[0,9,8,7],[6,7,8,9]]])\n",
    "print(arr3)"
   ]
  },
  {
   "cell_type": "code",
   "execution_count": 20,
   "id": "10ff34a5-b534-4bff-a3b2-0ee95fd82ef5",
   "metadata": {},
   "outputs": [
    {
     "name": "stdout",
     "output_type": "stream",
     "text": [
      "0\n",
      "1\n",
      "2\n",
      "3\n"
     ]
    }
   ],
   "source": [
    "print(arr0.ndim)\n",
    "print(arr1.ndim)\n",
    "print(arr2.ndim)\n",
    "print(arr3.ndim)"
   ]
  },
  {
   "cell_type": "code",
   "execution_count": 24,
   "id": "8524b03f-c99b-4428-9e27-2471f01604b2",
   "metadata": {},
   "outputs": [
    {
     "name": "stdout",
     "output_type": "stream",
     "text": [
      "[[[[[ 1  2  3  5  6  5  3 32]]]]]\n",
      "5\n"
     ]
    }
   ],
   "source": [
    "arr5 = np.array([1,2,3,5,6,5,3,32], ndmin = 5)\n",
    "print(arr5)\n",
    "print(arr5.ndim)"
   ]
  },
  {
   "cell_type": "code",
   "execution_count": 30,
   "id": "d7caa9bf-e0d4-455f-b054-4cbdead31d5a",
   "metadata": {},
   "outputs": [
    {
     "name": "stdout",
     "output_type": "stream",
     "text": [
      "1\n",
      "2\n",
      "6\n"
     ]
    }
   ],
   "source": [
    "arr = np.array([1, 2, 3, 4])\n",
    "print(arr[0])\n",
    "print(arr[1])\n",
    "print(arr[1] + arr[-1])"
   ]
  },
  {
   "cell_type": "code",
   "execution_count": 49,
   "id": "8ef240b0-96cf-414e-bd5f-fbe3d5d72299",
   "metadata": {},
   "outputs": [
    {
     "name": "stdout",
     "output_type": "stream",
     "text": [
      "7\n"
     ]
    }
   ],
   "source": [
    "arr = np.array([[[1, 2], [3, 4]], [[5, 6], [7, 8]]])\n",
    "print(arr[1, 1, 0])"
   ]
  },
  {
   "cell_type": "code",
   "execution_count": 8,
   "id": "c3598953-12ec-4eba-ac0b-7c0f40d647a5",
   "metadata": {},
   "outputs": [
    {
     "name": "stdout",
     "output_type": "stream",
     "text": [
      "[1 2 3 4]\n",
      "[5 6]\n",
      "[2 4 6]\n",
      "[1 3 5 7]\n"
     ]
    }
   ],
   "source": [
    "import numpy as np\n",
    "arr = np.array([1, 2, 3, 4, 5, 6, 7])\n",
    "print(arr[:4])\n",
    "print(arr[-3:-1])\n",
    "print(arr[1:6:2])\n",
    "print(arr[::2])"
   ]
  },
  {
   "cell_type": "code",
   "execution_count": 16,
   "id": "799531d4-7468-41ca-8f0e-f1dd326c9e88",
   "metadata": {},
   "outputs": [
    {
     "name": "stdout",
     "output_type": "stream",
     "text": [
      "[7 8]\n",
      "[ 5 10]\n"
     ]
    }
   ],
   "source": [
    "arr = np.array([[1, 2, 3, 4, 5], [6, 7, 8, 9, 10]])\n",
    "print(arr[1, 1:3])\n",
    "print(arr[0:5, 4])"
   ]
  },
  {
   "cell_type": "code",
   "execution_count": null,
   "id": "d7be373f-fd5e-4984-87d8-732ce902f71a",
   "metadata": {},
   "outputs": [],
   "source": []
  }
 ],
 "metadata": {
  "kernelspec": {
   "display_name": "Python 3 (ipykernel)",
   "language": "python",
   "name": "python3"
  },
  "language_info": {
   "codemirror_mode": {
    "name": "ipython",
    "version": 3
   },
   "file_extension": ".py",
   "mimetype": "text/x-python",
   "name": "python",
   "nbconvert_exporter": "python",
   "pygments_lexer": "ipython3",
   "version": "3.13.7"
  }
 },
 "nbformat": 4,
 "nbformat_minor": 5
}
