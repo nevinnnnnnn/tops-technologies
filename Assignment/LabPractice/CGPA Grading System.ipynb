{
 "cells": [
  {
   "cell_type": "code",
   "execution_count": 1,
   "id": "be1618a3-e1f9-4a86-bd38-4e7f884ea7de",
   "metadata": {},
   "outputs": [
    {
     "name": "stdin",
     "output_type": "stream",
     "text": [
      "enter your marks obtained:  33.5\n"
     ]
    },
    {
     "name": "stdout",
     "output_type": "stream",
     "text": [
      "grade: D\n"
     ]
    }
   ],
   "source": [
    "marks = float(input(\"enter your marks obtained: \"))\n",
    "if(marks<33 and marks <=0):\n",
    "    print(\"Grade: E\")\n",
    "elif(marks >= 33 and marks <= 39):\n",
    "    print(\"grade: D\")\n",
    "elif(marks >= 40 and marks <= 49):\n",
    "    print(\"grade: C2\")\n",
    "elif(marks >= 50 and marks <= 59):\n",
    "    print(\"grade: C1\")\n",
    "elif(marks >= 60 and marks <= 69):\n",
    "    print(\"grade: B2\")\n",
    "elif(marks >= 70 and marks <= 79):\n",
    "    print(\"grade: B1\")\n",
    "elif(marks >= 80 and marks <= 89):\n",
    "    print(\"grade: A2\")\n",
    "elif(marks >= 90 and marks <= 100):\n",
    "    print(\"grade: A1\")\n",
    "else:\n",
    "    print (\" fail \")"
   ]
  },
  {
   "cell_type": "code",
   "execution_count": null,
   "id": "ae26f29f-008f-4c86-bf0d-5adc9f1f3fc4",
   "metadata": {},
   "outputs": [],
   "source": []
  }
 ],
 "metadata": {
  "kernelspec": {
   "display_name": "Python 3 (ipykernel)",
   "language": "python",
   "name": "python3"
  },
  "language_info": {
   "codemirror_mode": {
    "name": "ipython",
    "version": 3
   },
   "file_extension": ".py",
   "mimetype": "text/x-python",
   "name": "python",
   "nbconvert_exporter": "python",
   "pygments_lexer": "ipython3",
   "version": "3.12.7"
  }
 },
 "nbformat": 4,
 "nbformat_minor": 5
}
