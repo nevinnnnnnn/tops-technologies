{
 "cells": [
  {
   "cell_type": "markdown",
   "id": "d6f0bed0-280f-4b59-beb8-52d87a52747f",
   "metadata": {},
   "source": [
    "Example 1: Print the first 10 natural numbers using for loop."
   ]
  },
  {
   "cell_type": "code",
   "execution_count": 5,
   "id": "3608f4ff-9eb2-4e37-b416-ce57eb28b015",
   "metadata": {},
   "outputs": [
    {
     "name": "stdout",
     "output_type": "stream",
     "text": [
      "1\n",
      "2\n",
      "3\n",
      "4\n",
      "5\n",
      "6\n",
      "7\n",
      "8\n",
      "9\n",
      "10\n"
     ]
    }
   ],
   "source": [
    "for i in range(1, 11):\n",
    "    print(i)"
   ]
  },
  {
   "cell_type": "markdown",
   "id": "c435439d-0276-4b75-9b2f-7198ce9ad1ea",
   "metadata": {},
   "source": [
    "Example 2: Python program to print all the even numbers within the given range."
   ]
  },
  {
   "cell_type": "code",
   "execution_count": 6,
   "id": "31a8ae90-fc67-47da-af1a-b2158ec7a6f9",
   "metadata": {},
   "outputs": [
    {
     "name": "stdin",
     "output_type": "stream",
     "text": [
      "enter the 1st num of the range:  11\n",
      "enter the 2nd num of the range:  20\n"
     ]
    },
    {
     "name": "stdout",
     "output_type": "stream",
     "text": [
      "12\n",
      "14\n",
      "16\n",
      "18\n",
      "20\n"
     ]
    }
   ],
   "source": [
    "r1 = int(input(\"enter the 1st num of the range: \"))\n",
    "r2 = int(input(\"enter the 2nd num of the range: \"))\n",
    "\n",
    "for i in range(r1, r2 + 1):\n",
    "    if i % 2 == 0:\n",
    "        print(i)"
   ]
  },
  {
   "cell_type": "markdown",
   "id": "b5f1be71-afd8-4ef8-9424-ff42d6ee8748",
   "metadata": {},
   "source": [
    "Example 3: Python program to calculate the sum of all numbers from 1 to a given number."
   ]
  },
  {
   "cell_type": "code",
   "execution_count": 9,
   "id": "1b4172f3-799f-4a82-be67-815230c4091b",
   "metadata": {},
   "outputs": [
    {
     "name": "stdin",
     "output_type": "stream",
     "text": [
      "enter a number:  2\n"
     ]
    },
    {
     "name": "stdout",
     "output_type": "stream",
     "text": [
      "3\n"
     ]
    }
   ],
   "source": [
    "n = int(input(\"enter a number: \"))\n",
    "total = 0\n",
    "for i in range(1, n+1):\n",
    "    total = total + i\n",
    "print(total)"
   ]
  },
  {
   "cell_type": "markdown",
   "id": "f247a696-f99e-4475-9362-1e4b1263a57e",
   "metadata": {},
   "source": [
    "Example 4: Python program to calculate the sum of all the odd numbers within the given range."
   ]
  },
  {
   "cell_type": "code",
   "execution_count": 11,
   "id": "a56b3b41-989b-4542-b673-c47f8e020352",
   "metadata": {},
   "outputs": [
    {
     "name": "stdin",
     "output_type": "stream",
     "text": [
      "enter the 1st num of the range:  1\n",
      "enter the 2nd num of the range:  3\n"
     ]
    },
    {
     "name": "stdout",
     "output_type": "stream",
     "text": [
      "4\n"
     ]
    }
   ],
   "source": [
    "r1 = int(input(\"enter the 1st num of the range: \"))\n",
    "r2 = int(input(\"enter the 2nd num of the range: \"))\n",
    "sum = 0\n",
    "for i in range(r1, r2 + 1):\n",
    "    if i%2 != 0:\n",
    "        sum = sum + i\n",
    "print(sum)"
   ]
  },
  {
   "cell_type": "markdown",
   "id": "a36b4026-0217-49de-9a8f-96245cca9f01",
   "metadata": {},
   "source": [
    "Example 5: Python program to print a multiplication table of a given number"
   ]
  },
  {
   "cell_type": "code",
   "execution_count": 13,
   "id": "869fb8cc-1a68-4cad-ad26-36206e08f6bb",
   "metadata": {},
   "outputs": [
    {
     "name": "stdin",
     "output_type": "stream",
     "text": [
      "enter a number:  2\n"
     ]
    },
    {
     "name": "stdout",
     "output_type": "stream",
     "text": [
      "2 * 1 = 2\n",
      "2 * 2 = 4\n",
      "2 * 3 = 6\n",
      "2 * 4 = 8\n",
      "2 * 5 = 10\n",
      "2 * 6 = 12\n",
      "2 * 7 = 14\n",
      "2 * 8 = 16\n",
      "2 * 9 = 18\n",
      "2 * 10 = 20\n"
     ]
    }
   ],
   "source": [
    "N = int(input(\"enter a number: \"))\n",
    "for i in range(1, 11):\n",
    "    print(f\"{N} * {i} = {n*i}\")"
   ]
  },
  {
   "cell_type": "markdown",
   "id": "a07a56db-947b-4a21-9e99-23bbec135f07",
   "metadata": {},
   "source": [
    "Example 6: Python program to display numbers from a list using a for loop."
   ]
  },
  {
   "cell_type": "code",
   "execution_count": 14,
   "id": "0c4e3e67-505f-4755-82e7-2d0c63bd07df",
   "metadata": {},
   "outputs": [
    {
     "name": "stdout",
     "output_type": "stream",
     "text": [
      "1\n",
      "2\n",
      "3\n",
      "567\n",
      "5\n",
      "3\n",
      "24\n",
      "2.4\n",
      "2\n",
      "4\n",
      "5\n",
      "1\n"
     ]
    }
   ],
   "source": [
    "list = [1,2,3,567,5,3,24,2.4,2,4,5,1]\n",
    "for i in list:\n",
    "    print(i)"
   ]
  },
  {
   "cell_type": "markdown",
   "id": "76fe247f-fe72-47f9-a151-da82fa82688c",
   "metadata": {},
   "source": [
    "Example 7: Python program to count the total number of digits in a number."
   ]
  },
  {
   "cell_type": "code",
   "execution_count": 19,
   "id": "9419c8dd-a188-41b9-9f5d-29f4acdc056f",
   "metadata": {},
   "outputs": [
    {
     "name": "stdin",
     "output_type": "stream",
     "text": [
      "enter a number:  12123123123334242341234234\n"
     ]
    },
    {
     "name": "stdout",
     "output_type": "stream",
     "text": [
      "26\n"
     ]
    }
   ],
   "source": [
    "no = str(input(\"enter a number: \"))\n",
    "print(len(no))"
   ]
  },
  {
   "cell_type": "markdown",
   "id": "4610d767-a392-4973-bec4-f988e160fd02",
   "metadata": {},
   "source": [
    "Example 8: Python program to check if the given string is a palindrome."
   ]
  },
  {
   "cell_type": "markdown",
   "id": "8bc88534-fb9e-4e67-a9e2-02c4ee5a87d4",
   "metadata": {},
   "source": [
    "Example 9: Python program that accepts a word from the user and reverses it."
   ]
  },
  {
   "cell_type": "markdown",
   "id": "d70602a1-82f2-48de-8d19-d63b2fd738db",
   "metadata": {},
   "source": [
    "Example 10: Python program to check if a given number is an Armstrong number"
   ]
  },
  {
   "cell_type": "markdown",
   "id": "e33fff5c-a525-4a10-9481-3ad5b1e42c8e",
   "metadata": {},
   "source": [
    "Example 11: Python program to count the number of even and odd numbers from a series of numbers."
   ]
  },
  {
   "cell_type": "markdown",
   "id": "0ed0b850-4445-474d-a022-da63369bad68",
   "metadata": {},
   "source": [
    "Example 12: Python program to display all numbers within a range except the prime numbers."
   ]
  },
  {
   "cell_type": "markdown",
   "id": "fffb5de2-e307-4d31-9e68-fb3eee31dc93",
   "metadata": {},
   "source": [
    "Example 13: Python program to get the Fibonacci series between 0 to 50.\n"
   ]
  },
  {
   "cell_type": "markdown",
   "id": "3139531b-39c7-4bac-bd76-7d7942a1a3b5",
   "metadata": {},
   "source": [
    "Example 14: Python program to find the factorial of a given number.\n"
   ]
  },
  {
   "cell_type": "markdown",
   "id": "a9f79faf-0fbc-4f28-982b-aee894a2d7ca",
   "metadata": {},
   "source": [
    "Example 15: Python program that accepts a string and calculates the number of digits and letters.\n"
   ]
  },
  {
   "cell_type": "markdown",
   "id": "a17e6caa-a99d-4af5-af0e-80ed1f2b7baa",
   "metadata": {},
   "source": [
    "Example 16: Write a Python program that iterates the integers from 1 to 25.\n"
   ]
  },
  {
   "cell_type": "code",
   "execution_count": null,
   "id": "1df8da8d-3ac2-48a8-b364-de996df936fe",
   "metadata": {},
   "outputs": [],
   "source": []
  }
 ],
 "metadata": {
  "kernelspec": {
   "display_name": "Python 3 (ipykernel)",
   "language": "python",
   "name": "python3"
  },
  "language_info": {
   "codemirror_mode": {
    "name": "ipython",
    "version": 3
   },
   "file_extension": ".py",
   "mimetype": "text/x-python",
   "name": "python",
   "nbconvert_exporter": "python",
   "pygments_lexer": "ipython3",
   "version": "3.13.5"
  }
 },
 "nbformat": 4,
 "nbformat_minor": 5
}
