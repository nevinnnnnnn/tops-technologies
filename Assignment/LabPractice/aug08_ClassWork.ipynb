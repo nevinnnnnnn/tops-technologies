{
 "cells": [
  {
   "cell_type": "markdown",
   "id": "d6f0bed0-280f-4b59-beb8-52d87a52747f",
   "metadata": {},
   "source": [
    "Example 1: Print the first 10 natural numbers using for loop."
   ]
  },
  {
   "cell_type": "code",
   "execution_count": 5,
   "id": "3608f4ff-9eb2-4e37-b416-ce57eb28b015",
   "metadata": {},
   "outputs": [
    {
     "name": "stdout",
     "output_type": "stream",
     "text": [
      "1\n",
      "2\n",
      "3\n",
      "4\n",
      "5\n",
      "6\n",
      "7\n",
      "8\n",
      "9\n",
      "10\n"
     ]
    }
   ],
   "source": [
    "for i in range(1, 11):\n",
    "    print(i)"
   ]
  },
  {
   "cell_type": "markdown",
   "id": "c435439d-0276-4b75-9b2f-7198ce9ad1ea",
   "metadata": {},
   "source": [
    "Example 2: Python program to print all the even numbers within the given range."
   ]
  },
  {
   "cell_type": "code",
   "execution_count": 6,
   "id": "31a8ae90-fc67-47da-af1a-b2158ec7a6f9",
   "metadata": {},
   "outputs": [
    {
     "name": "stdin",
     "output_type": "stream",
     "text": [
      "enter the 1st num of the range:  11\n",
      "enter the 2nd num of the range:  20\n"
     ]
    },
    {
     "name": "stdout",
     "output_type": "stream",
     "text": [
      "12\n",
      "14\n",
      "16\n",
      "18\n",
      "20\n"
     ]
    }
   ],
   "source": [
    "r1 = int(input(\"enter the 1st num of the range: \"))\n",
    "r2 = int(input(\"enter the 2nd num of the range: \"))\n",
    "\n",
    "for i in range(r1, r2 + 1):\n",
    "    if i % 2 == 0:\n",
    "        print(i)"
   ]
  },
  {
   "cell_type": "markdown",
   "id": "b5f1be71-afd8-4ef8-9424-ff42d6ee8748",
   "metadata": {},
   "source": [
    "Example 3: Python program to calculate the sum of all numbers from 1 to a given number."
   ]
  },
  {
   "cell_type": "code",
   "execution_count": 9,
   "id": "1b4172f3-799f-4a82-be67-815230c4091b",
   "metadata": {},
   "outputs": [
    {
     "name": "stdin",
     "output_type": "stream",
     "text": [
      "enter a number:  2\n"
     ]
    },
    {
     "name": "stdout",
     "output_type": "stream",
     "text": [
      "3\n"
     ]
    }
   ],
   "source": [
    "n = int(input(\"enter a number: \"))\n",
    "total = 0\n",
    "for i in range(1, n+1):\n",
    "    total = total + i\n",
    "print(total)"
   ]
  },
  {
   "cell_type": "markdown",
   "id": "f247a696-f99e-4475-9362-1e4b1263a57e",
   "metadata": {},
   "source": [
    "Example 4: Python program to calculate the sum of all the odd numbers within the given range."
   ]
  },
  {
   "cell_type": "code",
   "execution_count": 11,
   "id": "a56b3b41-989b-4542-b673-c47f8e020352",
   "metadata": {},
   "outputs": [
    {
     "name": "stdin",
     "output_type": "stream",
     "text": [
      "enter the 1st num of the range:  1\n",
      "enter the 2nd num of the range:  3\n"
     ]
    },
    {
     "name": "stdout",
     "output_type": "stream",
     "text": [
      "4\n"
     ]
    }
   ],
   "source": [
    "r1 = int(input(\"enter the 1st num of the range: \"))\n",
    "r2 = int(input(\"enter the 2nd num of the range: \"))\n",
    "sum = 0\n",
    "for i in range(r1, r2 + 1):\n",
    "    if i%2 != 0:\n",
    "        sum = sum + i\n",
    "print(sum)"
   ]
  },
  {
   "cell_type": "markdown",
   "id": "a36b4026-0217-49de-9a8f-96245cca9f01",
   "metadata": {},
   "source": [
    "Example 5: Python program to print a multiplication table of a given number"
   ]
  },
  {
   "cell_type": "code",
   "execution_count": 13,
   "id": "869fb8cc-1a68-4cad-ad26-36206e08f6bb",
   "metadata": {},
   "outputs": [
    {
     "name": "stdin",
     "output_type": "stream",
     "text": [
      "enter a number:  2\n"
     ]
    },
    {
     "name": "stdout",
     "output_type": "stream",
     "text": [
      "2 * 1 = 2\n",
      "2 * 2 = 4\n",
      "2 * 3 = 6\n",
      "2 * 4 = 8\n",
      "2 * 5 = 10\n",
      "2 * 6 = 12\n",
      "2 * 7 = 14\n",
      "2 * 8 = 16\n",
      "2 * 9 = 18\n",
      "2 * 10 = 20\n"
     ]
    }
   ],
   "source": [
    "N = int(input(\"enter a number: \"))\n",
    "for i in range(1, 11):\n",
    "    print(f\"{N} * {i} = {n*i}\")"
   ]
  },
  {
   "cell_type": "markdown",
   "id": "a07a56db-947b-4a21-9e99-23bbec135f07",
   "metadata": {},
   "source": [
    "Example 6: Python program to display numbers from a list using a for loop."
   ]
  },
  {
   "cell_type": "code",
   "execution_count": 14,
   "id": "0c4e3e67-505f-4755-82e7-2d0c63bd07df",
   "metadata": {},
   "outputs": [
    {
     "name": "stdout",
     "output_type": "stream",
     "text": [
      "1\n",
      "2\n",
      "3\n",
      "567\n",
      "5\n",
      "3\n",
      "24\n",
      "2.4\n",
      "2\n",
      "4\n",
      "5\n",
      "1\n"
     ]
    }
   ],
   "source": [
    "list = [1,2,3,567,5,3,24,2.4,2,4,5,1]\n",
    "for i in list:\n",
    "    print(i)"
   ]
  },
  {
   "cell_type": "markdown",
   "id": "76fe247f-fe72-47f9-a151-da82fa82688c",
   "metadata": {},
   "source": [
    "Example 7: Python program to count the total number of digits in a number."
   ]
  },
  {
   "cell_type": "code",
   "execution_count": 19,
   "id": "9419c8dd-a188-41b9-9f5d-29f4acdc056f",
   "metadata": {},
   "outputs": [
    {
     "name": "stdin",
     "output_type": "stream",
     "text": [
      "enter a number:  12123123123334242341234234\n"
     ]
    },
    {
     "name": "stdout",
     "output_type": "stream",
     "text": [
      "26\n"
     ]
    }
   ],
   "source": [
    "no = str(input(\"enter a number: \"))\n",
    "print(len(no))"
   ]
  },
  {
   "cell_type": "markdown",
   "id": "4610d767-a392-4973-bec4-f988e160fd02",
   "metadata": {},
   "source": [
    "Example 8: Python program to check if the given string is a palindrome."
   ]
  },
  {
   "cell_type": "markdown",
   "id": "8bc88534-fb9e-4e67-a9e2-02c4ee5a87d4",
   "metadata": {},
   "source": [
    "Example 9: Python program that accepts a word from the user and reverses it."
   ]
  },
  {
   "cell_type": "code",
   "execution_count": 1,
   "id": "1ce2a921-460f-455f-81ea-0a1068dcddde",
   "metadata": {},
   "outputs": [
    {
     "name": "stdin",
     "output_type": "stream",
     "text": [
      "enter a string:  nevin\n"
     ]
    },
    {
     "name": "stdout",
     "output_type": "stream",
     "text": [
      "niven\n"
     ]
    }
   ],
   "source": [
    "text = input(\"enter a string: \")\n",
    "rev = \"\"\n",
    "for i in range(len(text) - 1, -1, -1):\n",
    "    rev = rev + text[i]\n",
    "print(rev)"
   ]
  },
  {
   "cell_type": "markdown",
   "id": "d70602a1-82f2-48de-8d19-d63b2fd738db",
   "metadata": {},
   "source": [
    "Example 10: Python program to check if a given number is an Armstrong number"
   ]
  },
  {
   "cell_type": "code",
   "execution_count": 3,
   "id": "23ff8147-a6c3-4050-8f52-c64b446d13bd",
   "metadata": {},
   "outputs": [
    {
     "name": "stdin",
     "output_type": "stream",
     "text": [
      "enter the number of digits:  1231\n"
     ]
    },
    {
     "name": "stdout",
     "output_type": "stream",
     "text": [
      "number of digits are 4\n"
     ]
    }
   ],
   "source": [
    "num = (input(\"enter the number of digits: \"))\n",
    "print(f\"number of digits are {len(num)}\")\n"
   ]
  },
  {
   "cell_type": "markdown",
   "id": "e33fff5c-a525-4a10-9481-3ad5b1e42c8e",
   "metadata": {},
   "source": [
    "Example 11: Python program to count the number of even and odd numbers from a series of numbers."
   ]
  },
  {
   "cell_type": "code",
   "execution_count": 4,
   "id": "0691440d-5387-487b-bf27-03dbe7cc1677",
   "metadata": {},
   "outputs": [
    {
     "name": "stdout",
     "output_type": "stream",
     "text": [
      "no of odd numbers: 7\n",
      "no of even numbers: 18\n"
     ]
    }
   ],
   "source": [
    "num11 = [12,2,23,54,4,76,4,6,43,2,5,7,8,4,2,4,33,34,667,3,234,2,34,234,20]\n",
    "odd = 0\n",
    "even = 0\n",
    "for i in num11:\n",
    "    if i%2 == 0:\n",
    "        even += 1\n",
    "    else:\n",
    "        odd += 1\n",
    "print(f\"no of odd numbers: {odd}\")\n",
    "print(f\"no of even numbers: {even}\")"
   ]
  },
  {
   "cell_type": "markdown",
   "id": "0ed0b850-4445-474d-a022-da63369bad68",
   "metadata": {},
   "source": [
    "Example 12: Python program to display all numbers within a range except the prime numbers."
   ]
  },
  {
   "cell_type": "code",
   "execution_count": 10,
   "id": "06bd9acb-9ea6-4559-a91e-508b98ed44f0",
   "metadata": {},
   "outputs": [
    {
     "name": "stdin",
     "output_type": "stream",
     "text": [
      "enter 1st num:  2\n",
      "enter 2nd num:  30\n"
     ]
    },
    {
     "name": "stdout",
     "output_type": "stream",
     "text": [
      "2\n",
      "3\n",
      "4\n",
      "5\n",
      "6\n",
      "7\n",
      "8\n",
      "9\n",
      "10\n",
      "11\n",
      "12\n",
      "13\n",
      "14\n",
      "15\n",
      "16\n",
      "17\n",
      "18\n",
      "19\n",
      "20\n",
      "21\n",
      "22\n",
      "23\n",
      "24\n",
      "25\n",
      "26\n",
      "27\n",
      "28\n",
      "29\n",
      "30\n"
     ]
    }
   ],
   "source": [
    "num1 = int(input(\"enter 1st num: \"))\n",
    "num2 = int(input(\"enter 2nd num: \"))\n",
    "\n",
    "if num1 < 2:\n",
    "    num1 = 2\n",
    "\n",
    "for i in range(num1, num2 + 1):\n",
    "    is_prime = True\n",
    "    for j in range(2, i):\n",
    "        if i % j == 0:\n",
    "            id_prime = False\n",
    "    if is_prime:\n",
    "        print(i)"
   ]
  },
  {
   "cell_type": "markdown",
   "id": "fffb5de2-e307-4d31-9e68-fb3eee31dc93",
   "metadata": {},
   "source": [
    "Example 13: Python program to get the Fibonacci series between 0 to 50.\n"
   ]
  },
  {
   "cell_type": "code",
   "execution_count": 16,
   "id": "1bb01790-e508-43ae-b2e4-36b3d3aa0dfc",
   "metadata": {},
   "outputs": [
    {
     "name": "stdout",
     "output_type": "stream",
     "text": [
      "0\n",
      "1\n",
      "1\n",
      "2\n",
      "3\n",
      "5\n",
      "8\n",
      "13\n",
      "21\n",
      "34\n",
      "55\n",
      "89\n",
      "144\n",
      "233\n",
      "377\n",
      "610\n",
      "987\n",
      "1597\n",
      "2584\n",
      "4181\n",
      "6765\n",
      "10946\n",
      "17711\n",
      "28657\n",
      "46368\n",
      "75025\n",
      "121393\n",
      "196418\n",
      "317811\n",
      "514229\n",
      "832040\n",
      "1346269\n",
      "2178309\n",
      "3524578\n",
      "5702887\n",
      "9227465\n",
      "14930352\n",
      "24157817\n",
      "39088169\n",
      "63245986\n",
      "102334155\n",
      "165580141\n",
      "267914296\n",
      "433494437\n",
      "701408733\n",
      "1134903170\n",
      "1836311903\n",
      "2971215073\n",
      "4807526976\n",
      "7778742049\n",
      "12586269025\n"
     ]
    }
   ],
   "source": [
    "a = 0\n",
    "b = 1\n",
    "print(a)\n",
    "print(b)\n",
    "for i in range(2, 50 + 1):\n",
    "    i = a + b\n",
    "    print(i)\n",
    "    a = b\n",
    "    b = i"
   ]
  },
  {
   "cell_type": "markdown",
   "id": "3139531b-39c7-4bac-bd76-7d7942a1a3b5",
   "metadata": {},
   "source": [
    "Example 14: Python program to find the factorial of a given number.\n"
   ]
  },
  {
   "cell_type": "code",
   "execution_count": 1,
   "id": "7faa7a95-36fe-4ddf-aec4-cba6815d0cd4",
   "metadata": {},
   "outputs": [
    {
     "name": "stdin",
     "output_type": "stream",
     "text": [
      "enter a number:  5\n"
     ]
    },
    {
     "name": "stdout",
     "output_type": "stream",
     "text": [
      "120\n"
     ]
    }
   ],
   "source": [
    "no = int(input(\"enter a number: \"))\n",
    "count = 1\n",
    "for i in range(1, no + 1):\n",
    "    count = count * i\n",
    "print(count)"
   ]
  },
  {
   "cell_type": "markdown",
   "id": "a9f79faf-0fbc-4f28-982b-aee894a2d7ca",
   "metadata": {},
   "source": [
    "Example 15: Python program that accepts a string and calculates the number of digits and letters.\n"
   ]
  },
  {
   "cell_type": "code",
   "execution_count": 2,
   "id": "9018375c-bdab-4541-b02c-b8285be3a02a",
   "metadata": {},
   "outputs": [
    {
     "name": "stdin",
     "output_type": "stream",
     "text": [
      "enter a string of your choice:  sfaniuy4321\n"
     ]
    },
    {
     "name": "stdout",
     "output_type": "stream",
     "text": [
      "7 4\n"
     ]
    }
   ],
   "source": [
    "text = input(\"enter a string of your choice: \")\n",
    "character = 0\n",
    "digits = 0\n",
    "for i in text:\n",
    "    if i in \"qwertyuioplkjhgfdsazxcvbnm\":\n",
    "        character += 1\n",
    "    else:\n",
    "        digits += 1\n",
    "print(character, digits)"
   ]
  },
  {
   "cell_type": "markdown",
   "id": "a17e6caa-a99d-4af5-af0e-80ed1f2b7baa",
   "metadata": {},
   "source": [
    "Example 16: Write a Python program that iterates the integers from 1 to 25."
   ]
  },
  {
   "cell_type": "code",
   "execution_count": 3,
   "id": "2f6e28cb-9e34-4415-88ab-4a885aba88ce",
   "metadata": {},
   "outputs": [
    {
     "name": "stdout",
     "output_type": "stream",
     "text": [
      "1\n",
      "2\n",
      "3\n",
      "4\n",
      "5\n",
      "6\n",
      "7\n",
      "8\n",
      "9\n",
      "10\n",
      "11\n",
      "12\n",
      "13\n",
      "14\n",
      "15\n",
      "16\n",
      "17\n",
      "18\n",
      "19\n",
      "20\n",
      "21\n",
      "22\n",
      "23\n",
      "24\n",
      "25\n"
     ]
    }
   ],
   "source": [
    "for i in range(1, 26):\n",
    "    print(i)"
   ]
  },
  {
   "cell_type": "markdown",
   "id": "e03a0918-14c0-4d52-ad6c-3f9b28c1600c",
   "metadata": {},
   "source": [
    "Example 17: Python program to check the validity of password input by users.\n"
   ]
  },
  {
   "cell_type": "markdown",
   "id": "81902133-83dd-43e5-b917-5d2654437ab4",
   "metadata": {},
   "source": [
    "Example 18: Python program to convert the month name to a number of days."
   ]
  }
 ],
 "metadata": {
  "kernelspec": {
   "display_name": "Python 3 (ipykernel)",
   "language": "python",
   "name": "python3"
  },
  "language_info": {
   "codemirror_mode": {
    "name": "ipython",
    "version": 3
   },
   "file_extension": ".py",
   "mimetype": "text/x-python",
   "name": "python",
   "nbconvert_exporter": "python",
   "pygments_lexer": "ipython3",
   "version": "3.13.5"
  }
 },
 "nbformat": 4,
 "nbformat_minor": 5
}
