{
 "cells": [
  {
   "cell_type": "code",
   "execution_count": 1,
   "id": "d2953ecf-ac9b-4954-a3d6-79d58b6f6c70",
   "metadata": {},
   "outputs": [],
   "source": [
    "import numpy as np"
   ]
  },
  {
   "cell_type": "code",
   "execution_count": 9,
   "id": "87d9c1e8-4860-478e-b14b-7bbeb06d1d44",
   "metadata": {},
   "outputs": [
    {
     "name": "stdout",
     "output_type": "stream",
     "text": [
      "[[[1 2 3]\n",
      "  [4 5 6]\n",
      "  [7 8 9]]\n",
      "\n",
      " [[1 2 3]\n",
      "  [4 5 6]\n",
      "  [7 8 9]]]\n"
     ]
    }
   ],
   "source": [
    "arr3 = np.array([[[1,2,3],[4,5,6],[7,8,9]], [[1,2,3],[4,5,6],[7,8,9]]])\n",
    "print(arr3)"
   ]
  },
  {
   "cell_type": "code",
   "execution_count": 10,
   "id": "715d9eee-096c-42c3-88ad-753c9eb97b55",
   "metadata": {},
   "outputs": [
    {
     "name": "stdout",
     "output_type": "stream",
     "text": [
      "(2, 3, 3)\n"
     ]
    }
   ],
   "source": [
    "print(arr3.shape) # m x n of a matrix"
   ]
  },
  {
   "cell_type": "code",
   "execution_count": 11,
   "id": "23b8239d-3bf4-4881-a6f8-37741c6980e9",
   "metadata": {},
   "outputs": [
    {
     "name": "stdout",
     "output_type": "stream",
     "text": [
      "18\n"
     ]
    }
   ],
   "source": [
    "print(arr3.size) # total number of elements"
   ]
  },
  {
   "cell_type": "code",
   "execution_count": 12,
   "id": "81edd8bc-72be-44b0-ae3e-1a1bd5d04249",
   "metadata": {},
   "outputs": [
    {
     "name": "stdout",
     "output_type": "stream",
     "text": [
      "int64\n"
     ]
    }
   ],
   "source": [
    "print(arr3.dtype) # to know the data types of the elements"
   ]
  },
  {
   "cell_type": "code",
   "execution_count": 13,
   "id": "8ccac0f3-c799-43ff-a39b-2f056825b599",
   "metadata": {},
   "outputs": [
    {
     "name": "stdout",
     "output_type": "stream",
     "text": [
      "3\n"
     ]
    }
   ],
   "source": [
    "print(arr3.ndim) # to know the dimensions of the matrix"
   ]
  },
  {
   "cell_type": "code",
   "execution_count": 18,
   "id": "867d6d38-527b-4aa5-a0a8-bc23cdeceb9b",
   "metadata": {},
   "outputs": [
    {
     "ename": "ValueError",
     "evalue": "cannot reshape array of size 18 into shape (3,2)",
     "output_type": "error",
     "traceback": [
      "\u001b[31m---------------------------------------------------------------------------\u001b[39m",
      "\u001b[31mValueError\u001b[39m                                Traceback (most recent call last)",
      "\u001b[36mCell\u001b[39m\u001b[36m \u001b[39m\u001b[32mIn[18]\u001b[39m\u001b[32m, line 3\u001b[39m\n\u001b[32m      1\u001b[39m arr = np.arange(\u001b[32m1\u001b[39m,\u001b[32m13\u001b[39m)\n\u001b[32m      2\u001b[39m arr\n\u001b[32m----> \u001b[39m\u001b[32m3\u001b[39m reshape = \u001b[43marr3\u001b[49m\u001b[43m.\u001b[49m\u001b[43mreshape\u001b[49m\u001b[43m(\u001b[49m\u001b[32;43m3\u001b[39;49m\u001b[43m,\u001b[49m\u001b[43m \u001b[49m\u001b[32;43m2\u001b[39;49m\u001b[43m)\u001b[49m\n",
      "\u001b[31mValueError\u001b[39m: cannot reshape array of size 18 into shape (3,2)"
     ]
    }
   ],
   "source": [
    "arr = np.arange(1,13)\n",
    "arr\n",
    "reshape = arr3.reshape(3, 2)"
   ]
  },
  {
   "cell_type": "code",
   "execution_count": null,
   "id": "52237637-846b-4a7f-a39e-a3e324530cc2",
   "metadata": {},
   "outputs": [],
   "source": []
  }
 ],
 "metadata": {
  "kernelspec": {
   "display_name": "Python 3 (ipykernel)",
   "language": "python",
   "name": "python3"
  },
  "language_info": {
   "codemirror_mode": {
    "name": "ipython",
    "version": 3
   },
   "file_extension": ".py",
   "mimetype": "text/x-python",
   "name": "python",
   "nbconvert_exporter": "python",
   "pygments_lexer": "ipython3",
   "version": "3.13.7"
  }
 },
 "nbformat": 4,
 "nbformat_minor": 5
}
