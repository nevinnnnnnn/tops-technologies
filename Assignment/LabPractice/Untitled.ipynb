{
 "cells": [
  {
   "cell_type": "code",
   "execution_count": 24,
   "id": "968e8d8f-1858-4011-8a04-08694e03ce41",
   "metadata": {},
   "outputs": [],
   "source": [
    "import pandas as pd"
   ]
  },
  {
   "cell_type": "code",
   "execution_count": 25,
   "id": "58e5169a-2c8d-444e-b753-817f32ab4655",
   "metadata": {},
   "outputs": [],
   "source": [
    "cars_array = [\n",
    "    [\"A\", \"B\", \"C\", \"D\"],\n",
    "    [\"123\",\"213\", \"554\", \"321\"]\n",
    "]"
   ]
  },
  {
   "cell_type": "code",
   "execution_count": 26,
   "id": "e7ae742e-d4a5-4f75-8b92-3f5d4b980f28",
   "metadata": {},
   "outputs": [],
   "source": [
    "cars_list = list(zip(*cars_array))"
   ]
  },
  {
   "cell_type": "code",
   "execution_count": 27,
   "id": "e9d502bf-0982-407c-a1d0-0dc28618adfa",
   "metadata": {},
   "outputs": [
    {
     "name": "stdout",
     "output_type": "stream",
     "text": [
      "[('A', '123'), ('B', '213'), ('C', '554'), ('D', '321')]\n"
     ]
    }
   ],
   "source": [
    "print(cars_list)"
   ]
  },
  {
   "cell_type": "code",
   "execution_count": 28,
   "id": "8c119584-9bea-463b-ac2e-a155ca83ee5f",
   "metadata": {},
   "outputs": [],
   "source": [
    "cars_index = pd.MultiIndex.from_tuples(cars_list, names = ['cars', 'model'])"
   ]
  },
  {
   "cell_type": "code",
   "execution_count": 29,
   "id": "6900d2b0-ace8-49fb-aa2c-69898c7d83ed",
   "metadata": {},
   "outputs": [],
   "source": [
    "df = pd.DataFrame({\"year\": [2000, 2001, 2023, 2020]}, index = cars_index)"
   ]
  },
  {
   "cell_type": "code",
   "execution_count": 30,
   "id": "07001303-100a-4b6f-ab12-763829e8796b",
   "metadata": {},
   "outputs": [
    {
     "name": "stdout",
     "output_type": "stream",
     "text": [
      "       year\n",
      "model      \n",
      "123    2000\n"
     ]
    }
   ],
   "source": [
    "print(df.loc[\"A\"])"
   ]
  },
  {
   "cell_type": "code",
   "execution_count": 32,
   "id": "43d29eb9-3dc0-4e21-a98b-714e327d0230",
   "metadata": {},
   "outputs": [
    {
     "name": "stdout",
     "output_type": "stream",
     "text": [
      "year    2000\n",
      "Name: (A, 123), dtype: int64\n"
     ]
    }
   ],
   "source": [
    "print(df.loc[(\"A\", \"123\")])"
   ]
  },
  {
   "cell_type": "code",
   "execution_count": null,
   "id": "38bbdec3-6c68-4c5f-ae02-e2e69cb96095",
   "metadata": {},
   "outputs": [],
   "source": [
    "df_reset = df.reset_index(inplace = True)\n",
    "print(df_reset)"
   ]
  },
  {
   "cell_type": "code",
   "execution_count": null,
   "id": "4c4bbafb-dfc5-45a6-bf04-700e285f2fca",
   "metadata": {},
   "outputs": [],
   "source": [
    "df_multi = df_reset.set_index([\"cars\", \"model\"])\n",
    "print(df_multi)"
   ]
  },
  {
   "cell_type": "code",
   "execution_count": 36,
   "id": "6a7a87b5-114f-411b-b5ca-53011b57af7d",
   "metadata": {},
   "outputs": [
    {
     "name": "stdout",
     "output_type": "stream",
     "text": [
      "     model  year\n",
      "cars            \n",
      "A      123  2000\n",
      "B      213  2001\n",
      "C      554  2023\n",
      "D      321  2020\n"
     ]
    }
   ],
   "source": [
    "df_drop = df.reset_index(level = 'model')\n",
    "print(df_drop)"
   ]
  },
  {
   "cell_type": "code",
   "execution_count": 37,
   "id": "6fd63a39-8f83-4d1f-9762-bf7e580b7ad0",
   "metadata": {},
   "outputs": [
    {
     "name": "stdout",
     "output_type": "stream",
     "text": [
      "cars      A     B     C     D\n",
      "model   123   213   554   321\n",
      "year   2000  2001  2023  2020\n"
     ]
    }
   ],
   "source": [
    "print(df.T)"
   ]
  },
  {
   "cell_type": "markdown",
   "id": "d9b818c2-f88c-4f0a-abac-a52dc91756b1",
   "metadata": {},
   "source": [
    "df_multi.T"
   ]
  },
  {
   "cell_type": "code",
   "execution_count": null,
   "id": "1d3881f9-a182-446f-b2ef-b8daca98888c",
   "metadata": {},
   "outputs": [],
   "source": []
  }
 ],
 "metadata": {
  "kernelspec": {
   "display_name": "Python 3 (ipykernel)",
   "language": "python",
   "name": "python3"
  },
  "language_info": {
   "codemirror_mode": {
    "name": "ipython",
    "version": 3
   },
   "file_extension": ".py",
   "mimetype": "text/x-python",
   "name": "python",
   "nbconvert_exporter": "python",
   "pygments_lexer": "ipython3",
   "version": "3.13.7"
  }
 },
 "nbformat": 4,
 "nbformat_minor": 5
}
