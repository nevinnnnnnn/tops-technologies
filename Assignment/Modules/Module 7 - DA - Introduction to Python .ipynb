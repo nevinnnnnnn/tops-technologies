{
 "cells": [
  {
   "cell_type": "markdown",
   "id": "8d6e43da-1ca5-493c-b51a-266f00ff5f99",
   "metadata": {},
   "source": [
    "# ASSIGNMENT"
   ]
  },
  {
   "cell_type": "markdown",
   "id": "a82867c9-3e9e-45f2-8a62-a5fe6c2cede3",
   "metadata": {},
   "source": [
    "1) What are the types of Applications? "
   ]
  },
  {
   "cell_type": "markdown",
   "id": "c2b6eba9-1db2-4c11-bb60-2927d7fbc977",
   "metadata": {},
   "source": [
    "Applications of pyhton includes web development, data science, machine learning, automation, software terting and game development."
   ]
  },
  {
   "cell_type": "markdown",
   "id": "f32f60d4-e66c-4773-bab0-13c3ee06fec3",
   "metadata": {},
   "source": [
    "2) What is programing? "
   ]
  },
  {
   "cell_type": "markdown",
   "id": "ff9bb844-9aca-4fec-aa97-818db2303667",
   "metadata": {},
   "source": [
    "Programming is a type of interaction that is usually done by the programmmers to get into a solution or to solve a problem."
   ]
  },
  {
   "cell_type": "markdown",
   "id": "f930dbf7-8ccd-4086-8d74-858704f8c4ba",
   "metadata": {},
   "source": [
    "3) What is Python? "
   ]
  },
  {
   "cell_type": "markdown",
   "id": "60d05564-5408-4fe4-9d13-31c23bcac44d",
   "metadata": {},
   "source": [
    "Python is a high-level programming language. Some of its features include:\n",
    "- easy to write\n",
    "- platform independent\n",
    "- reliable code"
   ]
  },
  {
   "cell_type": "markdown",
   "id": "759e0050-0755-42c3-8803-d8f436d9195a",
   "metadata": {},
   "source": [
    "4) Write a Python program to check if a number is positive, negative or\n",
    "zero. "
   ]
  },
  {
   "cell_type": "code",
   "execution_count": 1,
   "id": "ac87deae-eb79-4e53-96d1-4c2332b326e8",
   "metadata": {},
   "outputs": [
    {
     "name": "stdin",
     "output_type": "stream",
     "text": [
      "enter a number:  8\n"
     ]
    },
    {
     "name": "stdout",
     "output_type": "stream",
     "text": [
      "number is positive\n"
     ]
    }
   ],
   "source": [
    "num = int(input(\"enter a number: \"))\n",
    "if num < 0:\n",
    "    print(\"number is negative\")\n",
    "elif num == 0:\n",
    "    print(\"neither positive nor negative\")\n",
    "else:\n",
    "    print(\"number is positive\")"
   ]
  },
  {
   "cell_type": "markdown",
   "id": "133cbbc3-72a4-4e0d-8db1-eefcfb537672",
   "metadata": {},
   "source": [
    "5. Write a Python program to get the Factorial number of given numbers. "
   ]
  },
  {
   "cell_type": "code",
   "execution_count": null,
   "id": "22a8ecdc-cc16-40c5-9882-b666b19762f2",
   "metadata": {},
   "outputs": [],
   "source": [
    "num = int(input(\"enter an integer: \"))\n",
    "if num < 0:\n",
    "    print(\"factorial is not for negative number\")\n",
    "elif num == 0 or num == 1:\n",
    "    print (\"1\")\n",
    "else:\n",
    "    end = 1\n",
    "    i = 2\n",
    "    while i <= num:\n",
    "        end = end * i\n",
    "        i = i + 1\n",
    "    print(\"factorial: \", end)"
   ]
  },
  {
   "cell_type": "markdown",
   "id": "5f3ac991-5353-49a1-bd74-dd6da7b194bf",
   "metadata": {},
   "source": [
    "6. Write a Python program to get the Fibonacci series of given range. "
   ]
  },
  {
   "cell_type": "code",
   "execution_count": 1,
   "id": "2e3225f4-a5f5-4109-b9ae-dab135828d30",
   "metadata": {},
   "outputs": [
    {
     "name": "stdin",
     "output_type": "stream",
     "text": [
      "enter the number of series:  10\n"
     ]
    },
    {
     "name": "stdout",
     "output_type": "stream",
     "text": [
      "0\n",
      "1\n",
      "1\n",
      "2\n",
      "3\n",
      "5\n",
      "8\n",
      "13\n",
      "21\n",
      "34\n"
     ]
    }
   ],
   "source": [
    "nterms = int(input(\"enter the number of series: \"))\n",
    "a = 0\n",
    "b = 1\n",
    "for i in range(nterms):\n",
    "    print(a)\n",
    "    temp = a\n",
    "    a = b\n",
    "    b = temp + b"
   ]
  },
  {
   "cell_type": "markdown",
   "id": "27246d92-401a-4a3d-b28d-36f938b86d06",
   "metadata": {},
   "source": [
    "7. How memory is managed in Python?\n",
    "\n",
    "Memories are managed by python using variables. Variables are defined by the by the user to store the value and re-use it when necessary"
   ]
  },
  {
   "cell_type": "markdown",
   "id": "ff9c5fe7-e559-46ca-a950-e66b35faa4b4",
   "metadata": {},
   "source": [
    "8. What is the purpose continuing statement in python? "
   ]
  },
  {
   "cell_type": "markdown",
   "id": "8cd3bd6d-89bd-4ac3-8e30-8224a0de2c45",
   "metadata": {},
   "source": [
    "9. Write python program that swap two number with temp variable\n",
    "and without temp variable. "
   ]
  },
  {
   "cell_type": "markdown",
   "id": "2208aa41-e84a-46ea-b3fb-44e6198bb114",
   "metadata": {},
   "source": [
    "10. Write a Python program to find whether a given number is even\n",
    "or odd, print out an appropriate message to the user. "
   ]
  },
  {
   "cell_type": "code",
   "execution_count": 3,
   "id": "3f474c6d-7a0c-4218-8fc6-cb67d4e28d6f",
   "metadata": {},
   "outputs": [
    {
     "name": "stdin",
     "output_type": "stream",
     "text": [
      "enter a number of your choice:  69\n"
     ]
    },
    {
     "name": "stdout",
     "output_type": "stream",
     "text": [
      "your entered number 69 is an odd number.\n"
     ]
    }
   ],
   "source": [
    "num = int(input(\"enter a number of your choice: \"))\n",
    "if num % 2 == 0:\n",
    "    print(f\"your entered number {num} is an even number.\")\n",
    "else:\n",
    "    print(f\"your entered number {num} is an odd number.\")"
   ]
  },
  {
   "cell_type": "markdown",
   "id": "742c397d-ac80-4f71-be45-cf39134d5ae2",
   "metadata": {},
   "source": [
    "11. Write a Python program to test whether a passed letter is a vowel\n",
    "or not. "
   ]
  },
  {
   "cell_type": "code",
   "execution_count": 4,
   "id": "63c6d8eb-dc3d-43a9-ad79-9a60a13ee24d",
   "metadata": {},
   "outputs": [
    {
     "name": "stdin",
     "output_type": "stream",
     "text": [
      "enter a letter:  w\n"
     ]
    },
    {
     "name": "stdout",
     "output_type": "stream",
     "text": [
      "the entered letter is not a vowel\n"
     ]
    }
   ],
   "source": [
    "text = str(input(\"enter a letter: \"))\n",
    "if text in \"aeiouAEIOU\":\n",
    "    print(\"entered letter is a vowel\")\n",
    "else:\n",
    "    print(\"the entered letter is not a vowel\")"
   ]
  },
  {
   "cell_type": "markdown",
   "id": "e66b9247-0a8f-4bd2-aae6-08f01d0bad12",
   "metadata": {},
   "source": [
    "12. Write a Python program to sum of three given integers. However, if\n",
    "two values are equal sum will be zero. "
   ]
  },
  {
   "cell_type": "code",
   "execution_count": 9,
   "id": "f9de249c-8dbc-4601-a8ff-b4becc1e985c",
   "metadata": {},
   "outputs": [
    {
     "name": "stdin",
     "output_type": "stream",
     "text": [
      "enter a number:  3\n",
      "enter second number:  0\n",
      "enter the third number:  0\n"
     ]
    },
    {
     "name": "stdout",
     "output_type": "stream",
     "text": [
      "0\n"
     ]
    }
   ],
   "source": [
    "n1 = int(input(\"enter a number: \"))\n",
    "n2 = int(input(\"enter second number: \"))\n",
    "n3 = int(input(\"enter the third number: \"))\n",
    "\n",
    "if n1 and n2 == 0:\n",
    "    print(\"0\")\n",
    "elif n2 and n3 == 0:\n",
    "    print(\"0\")\n",
    "elif n1 and n3 == 0:\n",
    "    print(\"0\")\n",
    "else:\n",
    "    print(n1+n2+n3)"
   ]
  },
  {
   "cell_type": "markdown",
   "id": "9129f755-1310-4745-9c46-0baa843d4765",
   "metadata": {},
   "source": [
    "13. Write a Python program that will return true if the two given\n",
    "integer values are equal or their sum or difference is 5. "
   ]
  },
  {
   "cell_type": "code",
   "execution_count": 12,
   "id": "384dae9a-163a-4beb-853b-370dd8daae40",
   "metadata": {},
   "outputs": [
    {
     "name": "stdin",
     "output_type": "stream",
     "text": [
      "enter a number:  123123\n",
      "enter second number:  21\n"
     ]
    },
    {
     "ename": "SyntaxError",
     "evalue": "'return' outside function (615201320.py, line 4)",
     "output_type": "error",
     "traceback": [
      "  \u001b[36mCell\u001b[39m\u001b[36m \u001b[39m\u001b[32mIn[12]\u001b[39m\u001b[32m, line 4\u001b[39m\n\u001b[31m    \u001b[39m\u001b[31mreturn True\u001b[39m\n    ^\n\u001b[31mSyntaxError\u001b[39m\u001b[31m:\u001b[39m 'return' outside function\n"
     ]
    }
   ],
   "source": [
    "num1 = int(input(\"enter a number: \"))\n",
    "num2 = int(input(\"enter second number: \"))\n",
    "if num1 == num2:\n",
    "    return True\n",
    "elif num1 + num2 == 5:\n",
    "    return True\n",
    "elif num1 - num2 == 5:\n",
    "    return True\n",
    "else:\n",
    "    return False"
   ]
  },
  {
   "cell_type": "code",
   "execution_count": 14,
   "id": "67408050-b10e-4edb-8468-88894b3cc366",
   "metadata": {},
   "outputs": [
    {
     "name": "stdin",
     "output_type": "stream",
     "text": [
      "enter a number:  1\n",
      "enter second number:  4\n"
     ]
    },
    {
     "name": "stdout",
     "output_type": "stream",
     "text": [
      "True\n"
     ]
    }
   ],
   "source": [
    "num1 = int(input(\"enter a number: \"))\n",
    "num2 = int(input(\"enter second number: \"))\n",
    "if num1 == num2:\n",
    "    print(\"True\")\n",
    "elif num1 + num2 == 5:\n",
    "    print(\"True\")\n",
    "elif num1 - num2 == 5:\n",
    "    print(\"True\")\n",
    "else:\n",
    "    print(\"False\")"
   ]
  },
  {
   "cell_type": "markdown",
   "id": "72a91d52-0f3f-43c6-9328-398b6682ec19",
   "metadata": {},
   "source": [
    "14. Write a python program to sum of the first n positive integers"
   ]
  },
  {
   "cell_type": "code",
   "execution_count": 19,
   "id": "7c761069-e5d1-4fe7-947c-178aa92b9da8",
   "metadata": {},
   "outputs": [
    {
     "name": "stdin",
     "output_type": "stream",
     "text": [
      "enter a number 3\n"
     ]
    },
    {
     "name": "stdout",
     "output_type": "stream",
     "text": [
      "6\n"
     ]
    }
   ],
   "source": [
    "n = int(input(\"enter a number\"))\n",
    "total = 0\n",
    "for i in range(1, n + 1):\n",
    "    total = total + i\n",
    "print(total)"
   ]
  },
  {
   "cell_type": "markdown",
   "id": "13df06a3-3ebf-454c-afbc-80d32190eab0",
   "metadata": {},
   "source": [
    "15. Write a Python program to calculate the length of a string. "
   ]
  },
  {
   "cell_type": "code",
   "execution_count": 20,
   "id": "aae4c8b8-f2c9-494d-9dc5-b36154906767",
   "metadata": {},
   "outputs": [
    {
     "name": "stdout",
     "output_type": "stream",
     "text": [
      "30\n"
     ]
    }
   ],
   "source": [
    "string1 = \"nevvvvvvvvvvvvvvvvvvvvvvvvvvin\"\n",
    "print(len(string1))"
   ]
  },
  {
   "cell_type": "markdown",
   "id": "79f468be-430b-4522-aa2c-bfd1e3e936a9",
   "metadata": {},
   "source": [
    "16. Write a Python program to count the number of characters\n",
    "(character frequency) in a string"
   ]
  },
  {
   "cell_type": "code",
   "execution_count": 22,
   "id": "cf7858c7-3f66-40ef-98ee-30dcdf6cd6ff",
   "metadata": {},
   "outputs": [
    {
     "name": "stdin",
     "output_type": "stream",
     "text": [
      "enter a string:  heloo uncle... manasteeeeee\n"
     ]
    },
    {
     "name": "stdout",
     "output_type": "stream",
     "text": [
      "h: 1\n",
      "e: 8\n",
      "l: 2\n",
      "o: 2\n",
      "o: 2\n",
      " : 2\n",
      "u: 1\n",
      "n: 2\n",
      "c: 1\n",
      "l: 2\n",
      "e: 8\n",
      ".: 3\n",
      ".: 3\n",
      ".: 3\n",
      " : 2\n",
      "m: 1\n",
      "a: 2\n",
      "n: 2\n",
      "a: 2\n",
      "s: 1\n",
      "t: 1\n",
      "e: 8\n",
      "e: 8\n",
      "e: 8\n",
      "e: 8\n",
      "e: 8\n",
      "e: 8\n"
     ]
    }
   ],
   "source": [
    "string2 = input(\"enter a string: \")\n",
    "for i in string2:\n",
    "    print(f\"{i}: {string2.count(i)}\")"
   ]
  },
  {
   "cell_type": "markdown",
   "id": "76bec526-5866-45a0-a14c-6b509f0b6de6",
   "metadata": {},
   "source": [
    "17. What are negative indexes and why are they used?"
   ]
  },
  {
   "cell_type": "markdown",
   "id": "7fa85d0e-9296-4704-b82f-fb22a309d631",
   "metadata": {},
   "source": [
    "Negative indexes are a way to access elements of a sequence by counting from the end instead of beginning."
   ]
  },
  {
   "cell_type": "markdown",
   "id": "2d5878f7-38f2-49c7-ae05-a74a930f242c",
   "metadata": {},
   "source": [
    "18. Write a Python program to count occurrences of a substring in a string"
   ]
  },
  {
   "cell_type": "markdown",
   "id": "f6c15767-a86c-40c8-a288-0694c8641e6a",
   "metadata": {},
   "source": [
    "19. Write a Python program to count the occurrences of each word in a given sentence "
   ]
  },
  {
   "cell_type": "code",
   "execution_count": 1,
   "id": "d15781ce-dc55-4123-be2e-fce1065c553d",
   "metadata": {},
   "outputs": [
    {
     "name": "stdout",
     "output_type": "stream",
     "text": [
      "h\n",
      "e\n",
      "l\n",
      "l\n",
      "o\n",
      " \n",
      "t\n",
      "h\n",
      "e\n",
      "r\n",
      "e\n",
      ",\n",
      " \n",
      "m\n",
      "y\n",
      " \n",
      "n\n",
      "a\n",
      "m\n",
      "e\n",
      " \n",
      "i\n",
      "s\n",
      ".\n",
      ".\n",
      ".\n",
      " \n",
      "m\n",
      "y\n",
      " \n",
      "n\n",
      "a\n",
      "m\n",
      "e\n",
      " \n",
      "i\n",
      "s\n",
      ".\n",
      ".\n",
      ".\n",
      " \n",
      "l\n",
      "o\n",
      "l\n",
      " \n",
      "i\n",
      " \n",
      "f\n",
      "o\n",
      "r\n",
      "g\n",
      "o\n",
      "t\n",
      "!\n",
      "!\n"
     ]
    }
   ],
   "source": [
    "sentence = \"hello there, my name is... my name is... lol i forgot!!\"\n",
    "word = sentence.split()\n",
    "for i in sentence:\n",
    "    print(i)"
   ]
  },
  {
   "cell_type": "markdown",
   "id": "6c9dc661-da01-4ef9-a70a-fc26f9567ec6",
   "metadata": {},
   "source": [
    "20. Write a Python program to get a single string from two given strings,\n",
    "separated by a space and swap the first two characters of each string. "
   ]
  },
  {
   "cell_type": "code",
   "execution_count": null,
   "id": "13bcfeef-ef39-4525-bea1-9a1bd001c30d",
   "metadata": {},
   "outputs": [],
   "source": []
  }
 ],
 "metadata": {
  "kernelspec": {
   "display_name": "Python 3 (ipykernel)",
   "language": "python",
   "name": "python3"
  },
  "language_info": {
   "codemirror_mode": {
    "name": "ipython",
    "version": 3
   },
   "file_extension": ".py",
   "mimetype": "text/x-python",
   "name": "python",
   "nbconvert_exporter": "python",
   "pygments_lexer": "ipython3",
   "version": "3.13.5"
  }
 },
 "nbformat": 4,
 "nbformat_minor": 5
}
