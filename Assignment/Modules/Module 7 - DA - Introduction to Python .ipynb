{
 "cells": [
  {
   "cell_type": "markdown",
   "id": "8d6e43da-1ca5-493c-b51a-266f00ff5f99",
   "metadata": {},
   "source": [
    "# ASSIGNMENT"
   ]
  },
  {
   "cell_type": "markdown",
   "id": "a82867c9-3e9e-45f2-8a62-a5fe6c2cede3",
   "metadata": {},
   "source": [
    "1) What are the types of Applications? "
   ]
  },
  {
   "cell_type": "markdown",
   "id": "c2b6eba9-1db2-4c11-bb60-2927d7fbc977",
   "metadata": {},
   "source": [
    "Applications of pyhton includes web development, data science, machine learning, automation, software terting and game development."
   ]
  },
  {
   "cell_type": "markdown",
   "id": "f32f60d4-e66c-4773-bab0-13c3ee06fec3",
   "metadata": {},
   "source": [
    "2) What is programing? "
   ]
  },
  {
   "cell_type": "markdown",
   "id": "ff9bb844-9aca-4fec-aa97-818db2303667",
   "metadata": {},
   "source": [
    "Programming is a type of interaction that is usually done by the programmmers to get into a solution or to solve a problem."
   ]
  },
  {
   "cell_type": "markdown",
   "id": "f930dbf7-8ccd-4086-8d74-858704f8c4ba",
   "metadata": {},
   "source": [
    "3) What is Python? "
   ]
  },
  {
   "cell_type": "markdown",
   "id": "60d05564-5408-4fe4-9d13-31c23bcac44d",
   "metadata": {},
   "source": [
    "Python is a high-level programming language. Some of its features include:\n",
    "- easy to write\n",
    "- platform independent\n",
    "- reliable code"
   ]
  },
  {
   "cell_type": "markdown",
   "id": "759e0050-0755-42c3-8803-d8f436d9195a",
   "metadata": {},
   "source": [
    "4) Write a Python program to check if a number is positive, negative or\n",
    "zero. "
   ]
  },
  {
   "cell_type": "code",
   "execution_count": 1,
   "id": "ac87deae-eb79-4e53-96d1-4c2332b326e8",
   "metadata": {},
   "outputs": [
    {
     "name": "stdin",
     "output_type": "stream",
     "text": [
      "enter a number:  8\n"
     ]
    },
    {
     "name": "stdout",
     "output_type": "stream",
     "text": [
      "number is positive\n"
     ]
    }
   ],
   "source": [
    "num = int(input(\"enter a number: \"))\n",
    "if num < 0:\n",
    "    print(\"number is negative\")\n",
    "elif num == 0:\n",
    "    print(\"neither positive nor negative\")\n",
    "else:\n",
    "    print(\"number is positive\")"
   ]
  },
  {
   "cell_type": "markdown",
   "id": "133cbbc3-72a4-4e0d-8db1-eefcfb537672",
   "metadata": {},
   "source": [
    "5. Write a Python program to get the Factorial number of given numbers. "
   ]
  },
  {
   "cell_type": "code",
   "execution_count": null,
   "id": "22a8ecdc-cc16-40c5-9882-b666b19762f2",
   "metadata": {},
   "outputs": [],
   "source": [
    "num = int(input(\"enter an integer: \"))\n",
    "if num < 0:\n",
    "    print(\"factorial is not for negative number\")\n",
    "elif num == 0 or num == 1:\n",
    "    print (\"1\")\n",
    "else:\n",
    "    end = 1\n",
    "    i = 2\n",
    "    while i <= num:\n",
    "        end = end * i\n",
    "        i = i + 1\n",
    "    print(\"factorial: \", end)"
   ]
  },
  {
   "cell_type": "markdown",
   "id": "5f3ac991-5353-49a1-bd74-dd6da7b194bf",
   "metadata": {},
   "source": [
    "6. Write a Python program to get the Fibonacci series of given range. "
   ]
  },
  {
   "cell_type": "code",
   "execution_count": 1,
   "id": "2e3225f4-a5f5-4109-b9ae-dab135828d30",
   "metadata": {},
   "outputs": [
    {
     "name": "stdin",
     "output_type": "stream",
     "text": [
      "enter the number of series:  10\n"
     ]
    },
    {
     "name": "stdout",
     "output_type": "stream",
     "text": [
      "0\n",
      "1\n",
      "1\n",
      "2\n",
      "3\n",
      "5\n",
      "8\n",
      "13\n",
      "21\n",
      "34\n"
     ]
    }
   ],
   "source": [
    "nterms = int(input(\"enter the number of series: \"))\n",
    "a = 0\n",
    "b = 1\n",
    "for i in range(nterms):\n",
    "    print(a)\n",
    "    temp = a\n",
    "    a = b\n",
    "    b = temp + b"
   ]
  },
  {
   "cell_type": "markdown",
   "id": "27246d92-401a-4a3d-b28d-36f938b86d06",
   "metadata": {},
   "source": [
    "7. How memory is managed in Python?\n",
    "\n",
    "Memories are managed by python using variables. Variables are defined by the by the user to store the value and re-use it when necessary"
   ]
  },
  {
   "cell_type": "markdown",
   "id": "ff9c5fe7-e559-46ca-a950-e66b35faa4b4",
   "metadata": {},
   "source": [
    "8. What is the purpose continuing statement in python? "
   ]
  },
  {
   "cell_type": "markdown",
   "id": "9af7eefe-3090-46c2-9594-0333eea148d3",
   "metadata": {},
   "source": [
    "The main purpose of the continue statement is that it skips the particular interation where the continue statement is used and moves forward."
   ]
  },
  {
   "cell_type": "markdown",
   "id": "8cd3bd6d-89bd-4ac3-8e30-8224a0de2c45",
   "metadata": {},
   "source": [
    "9. Write python program that swap two number with temp variable\n",
    "and without temp variable. "
   ]
  },
  {
   "cell_type": "code",
   "execution_count": 2,
   "id": "fb5d69b2-6608-441a-b467-fdb3084c4f10",
   "metadata": {},
   "outputs": [
    {
     "name": "stdin",
     "output_type": "stream",
     "text": [
      "enter a number:  1\n",
      "enter another number:  4\n"
     ]
    },
    {
     "name": "stdout",
     "output_type": "stream",
     "text": [
      "a - 1 and b - 4 ---- before swaping\n",
      "a - 4 and b - 1 ---- after swaping\n"
     ]
    }
   ],
   "source": [
    "a = int(input(\"enter a number: \"))\n",
    "b = int(input(\"enter another number: \"))\n",
    "print(f\"a - {a} and b - {b} ---- before swaping\")\n",
    "temp = a\n",
    "a = b\n",
    "b = temp\n",
    "print(f\"a - {a} and b - {b} ---- after swaping\")"
   ]
  },
  {
   "cell_type": "code",
   "execution_count": 3,
   "id": "64f04b96-bb83-4ef5-a0d5-ff2dc4469392",
   "metadata": {},
   "outputs": [
    {
     "name": "stdin",
     "output_type": "stream",
     "text": [
      "enter a number:  1\n",
      "enter another number:  6\n"
     ]
    },
    {
     "name": "stdout",
     "output_type": "stream",
     "text": [
      "a - 1 and b - 6 ---- before swaping\n",
      "a - 6 and b - 1 ---- after swaping\n"
     ]
    }
   ],
   "source": [
    "a = int(input(\"enter a number: \"))\n",
    "b = int(input(\"enter another number: \"))\n",
    "print(f\"a - {a} and b - {b} ---- before swaping\")\n",
    "a, b = b, a\n",
    "print(f\"a - {a} and b - {b} ---- after swaping\")"
   ]
  },
  {
   "cell_type": "markdown",
   "id": "2208aa41-e84a-46ea-b3fb-44e6198bb114",
   "metadata": {},
   "source": [
    "10. Write a Python program to find whether a given number is even\n",
    "or odd, print out an appropriate message to the user. "
   ]
  },
  {
   "cell_type": "code",
   "execution_count": 5,
   "id": "6e24f9a2-f186-42ef-871d-ebdd13c59eea",
   "metadata": {},
   "outputs": [
    {
     "name": "stdin",
     "output_type": "stream",
     "text": [
      "enter a number to check if the number is odd or even:  124198349321\n"
     ]
    },
    {
     "name": "stdout",
     "output_type": "stream",
     "text": [
      "The entered number 124198349321 is an odd number\n"
     ]
    }
   ],
   "source": [
    "num = int(input(\"enter a number to check if the number is odd or even: \"))\n",
    "if num % 2 == 0:\n",
    "    print(f\"The entered number {num} is an even number\")\n",
    "else:\n",
    "    print(f\"The entered number {num} is an odd number\")"
   ]
  },
  {
   "cell_type": "code",
   "execution_count": 3,
   "id": "3f474c6d-7a0c-4218-8fc6-cb67d4e28d6f",
   "metadata": {},
   "outputs": [
    {
     "name": "stdin",
     "output_type": "stream",
     "text": [
      "enter a number of your choice:  69\n"
     ]
    },
    {
     "name": "stdout",
     "output_type": "stream",
     "text": [
      "your entered number 69 is an odd number.\n"
     ]
    }
   ],
   "source": [
    "num = int(input(\"enter a number of your choice: \"))\n",
    "if num % 2 == 0:\n",
    "    print(f\"your entered number {num} is an even number.\")\n",
    "else:\n",
    "    print(f\"your entered number {num} is an odd number.\")"
   ]
  },
  {
   "cell_type": "markdown",
   "id": "742c397d-ac80-4f71-be45-cf39134d5ae2",
   "metadata": {},
   "source": [
    "11. Write a Python program to test whether a passed letter is a vowel\n",
    "or not. "
   ]
  },
  {
   "cell_type": "code",
   "execution_count": 4,
   "id": "63c6d8eb-dc3d-43a9-ad79-9a60a13ee24d",
   "metadata": {},
   "outputs": [
    {
     "name": "stdin",
     "output_type": "stream",
     "text": [
      "enter a letter:  w\n"
     ]
    },
    {
     "name": "stdout",
     "output_type": "stream",
     "text": [
      "the entered letter is not a vowel\n"
     ]
    }
   ],
   "source": [
    "text = str(input(\"enter a letter: \"))\n",
    "if text in \"aeiouAEIOU\":\n",
    "    print(\"entered letter is a vowel\")\n",
    "else:\n",
    "    print(\"the entered letter is not a vowel\")"
   ]
  },
  {
   "cell_type": "markdown",
   "id": "e66b9247-0a8f-4bd2-aae6-08f01d0bad12",
   "metadata": {},
   "source": [
    "12. Write a Python program to sum of three given integers. However, if\n",
    "two values are equal sum will be zero. "
   ]
  },
  {
   "cell_type": "code",
   "execution_count": 9,
   "id": "f9de249c-8dbc-4601-a8ff-b4becc1e985c",
   "metadata": {},
   "outputs": [
    {
     "name": "stdin",
     "output_type": "stream",
     "text": [
      "enter a number:  3\n",
      "enter second number:  0\n",
      "enter the third number:  0\n"
     ]
    },
    {
     "name": "stdout",
     "output_type": "stream",
     "text": [
      "0\n"
     ]
    }
   ],
   "source": [
    "n1 = int(input(\"enter a number: \"))\n",
    "n2 = int(input(\"enter second number: \"))\n",
    "n3 = int(input(\"enter the third number: \"))\n",
    "\n",
    "if n1 and n2 == 0:\n",
    "    print(\"0\")\n",
    "elif n2 and n3 == 0:\n",
    "    print(\"0\")\n",
    "elif n1 and n3 == 0:\n",
    "    print(\"0\")\n",
    "else:\n",
    "    print(n1+n2+n3)"
   ]
  },
  {
   "cell_type": "markdown",
   "id": "9129f755-1310-4745-9c46-0baa843d4765",
   "metadata": {},
   "source": [
    "13. Write a Python program that will return true if the two given\n",
    "integer values are equal or their sum or difference is 5. "
   ]
  },
  {
   "cell_type": "code",
   "execution_count": 14,
   "id": "67408050-b10e-4edb-8468-88894b3cc366",
   "metadata": {},
   "outputs": [
    {
     "name": "stdin",
     "output_type": "stream",
     "text": [
      "enter a number:  1\n",
      "enter second number:  4\n"
     ]
    },
    {
     "name": "stdout",
     "output_type": "stream",
     "text": [
      "True\n"
     ]
    }
   ],
   "source": [
    "num1 = int(input(\"enter a number: \"))\n",
    "num2 = int(input(\"enter second number: \"))\n",
    "if num1 == num2:\n",
    "    print(\"True\")\n",
    "elif num1 + num2 == 5:\n",
    "    print(\"True\")\n",
    "elif num1 - num2 == 5:\n",
    "    print(\"True\")\n",
    "else:\n",
    "    print(\"False\")"
   ]
  },
  {
   "cell_type": "markdown",
   "id": "72a91d52-0f3f-43c6-9328-398b6682ec19",
   "metadata": {},
   "source": [
    "14. Write a python program to sum of the first n positive integers"
   ]
  },
  {
   "cell_type": "code",
   "execution_count": 19,
   "id": "7c761069-e5d1-4fe7-947c-178aa92b9da8",
   "metadata": {},
   "outputs": [
    {
     "name": "stdin",
     "output_type": "stream",
     "text": [
      "enter a number 3\n"
     ]
    },
    {
     "name": "stdout",
     "output_type": "stream",
     "text": [
      "6\n"
     ]
    }
   ],
   "source": [
    "n = int(input(\"enter a number\"))\n",
    "total = 0\n",
    "for i in range(1, n + 1):\n",
    "    total = total + i\n",
    "print(total)"
   ]
  },
  {
   "cell_type": "markdown",
   "id": "13df06a3-3ebf-454c-afbc-80d32190eab0",
   "metadata": {},
   "source": [
    "15. Write a Python program to calculate the length of a string. "
   ]
  },
  {
   "cell_type": "code",
   "execution_count": 20,
   "id": "aae4c8b8-f2c9-494d-9dc5-b36154906767",
   "metadata": {},
   "outputs": [
    {
     "name": "stdout",
     "output_type": "stream",
     "text": [
      "30\n"
     ]
    }
   ],
   "source": [
    "string1 = \"nevvvvvvvvvvvvvvvvvvvvvvvvvvin\"\n",
    "print(len(string1))"
   ]
  },
  {
   "cell_type": "markdown",
   "id": "79f468be-430b-4522-aa2c-bfd1e3e936a9",
   "metadata": {},
   "source": [
    "16. Write a Python program to count the number of characters\n",
    "(character frequency) in a string"
   ]
  },
  {
   "cell_type": "code",
   "execution_count": 7,
   "id": "cf7858c7-3f66-40ef-98ee-30dcdf6cd6ff",
   "metadata": {},
   "outputs": [
    {
     "name": "stdin",
     "output_type": "stream",
     "text": [
      "enter a string:  hiiii\n"
     ]
    },
    {
     "name": "stdout",
     "output_type": "stream",
     "text": [
      "h: 1\n",
      "i: 4\n",
      "i: 4\n",
      "i: 4\n",
      "i: 4\n"
     ]
    }
   ],
   "source": [
    "string2 = input(\"enter a string: \")\n",
    "for i in string2:\n",
    "    print(f\"{i}: {string2.count(i)}\")"
   ]
  },
  {
   "cell_type": "markdown",
   "id": "76bec526-5866-45a0-a14c-6b509f0b6de6",
   "metadata": {},
   "source": [
    "17. What are negative indexes and why are they used?"
   ]
  },
  {
   "cell_type": "markdown",
   "id": "7fa85d0e-9296-4704-b82f-fb22a309d631",
   "metadata": {},
   "source": [
    "Negative indexes are a way to access elements of a sequence by counting from the end instead of beginning."
   ]
  },
  {
   "cell_type": "markdown",
   "id": "2d5878f7-38f2-49c7-ae05-a74a930f242c",
   "metadata": {},
   "source": [
    "18. Write a Python program to count occurrences of a substring in a string"
   ]
  },
  {
   "cell_type": "markdown",
   "id": "f6c15767-a86c-40c8-a288-0694c8641e6a",
   "metadata": {},
   "source": [
    "19. Write a Python program to count the occurrences of each word in a given sentence "
   ]
  },
  {
   "cell_type": "code",
   "execution_count": 2,
   "id": "d15781ce-dc55-4123-be2e-fce1065c553d",
   "metadata": {},
   "outputs": [
    {
     "name": "stdout",
     "output_type": "stream",
     "text": [
      "{'hello': 1, 'there,': 1, 'my': 2, 'name': 2, 'is...': 2, 'lol': 1, 'i': 1, 'forgot!!': 1}\n"
     ]
    }
   ],
   "source": [
    "sentence = \"hello there, my name is... my name is... lol i forgot!!\"\n",
    "count = {}\n",
    "words = sentence.split()\n",
    "for word in words:\n",
    "    count[word] = count.get(word, 0) + 1\n",
    "print(count)"
   ]
  },
  {
   "cell_type": "markdown",
   "id": "6c9dc661-da01-4ef9-a70a-fc26f9567ec6",
   "metadata": {},
   "source": [
    "20. Write a Python program to get a single string from two given strings,\n",
    "separated by a space and swap the first two characters of each string. "
   ]
  },
  {
   "cell_type": "code",
   "execution_count": 9,
   "id": "13bcfeef-ef39-4525-bea1-9a1bd001c30d",
   "metadata": {},
   "outputs": [
    {
     "name": "stdin",
     "output_type": "stream",
     "text": [
      "enter 1 sentence:  malayalam\n",
      "enter another sentence:  tamil\n"
     ]
    },
    {
     "name": "stdout",
     "output_type": "stream",
     "text": [
      "talayalam mamil\n"
     ]
    }
   ],
   "source": [
    "str1 = input(\"enter 1 sentence: \")\n",
    "str2 = input(\"enter another sentence: \")\n",
    "\n",
    "def swap(str1, str2):\n",
    "    if len(str1) < 2 or len(str2) < 2:\n",
    "        return \"both strings should have at least 2 characters\"\n",
    "    newstr1 = str2[:2] + str1[2:]\n",
    "    newstr2 = str1[:2] + str2[2:]\n",
    "    \n",
    "    result = newstr1 + \" \" + newstr2\n",
    "    return result  \n",
    "\n",
    "print(swap(str1, str2))"
   ]
  },
  {
   "cell_type": "markdown",
   "id": "63bb08ee-548b-4035-a715-94f4fd28cc0e",
   "metadata": {},
   "source": [
    "21. Write a Python program to add 'in' at the end of a given string (length\n",
    "should be at least 3). If the given string already ends with 'ing' then\n",
    "add 'ly' instead if the string length of the given string is less than 3,\n",
    "leave it unchanged. \n"
   ]
  },
  {
   "cell_type": "code",
   "execution_count": 11,
   "id": "4acbe934-2cc2-41e2-b1b8-4b68eba70e78",
   "metadata": {},
   "outputs": [
    {
     "name": "stdout",
     "output_type": "stream",
     "text": [
      "playing\n",
      "playingly\n",
      "go\n"
     ]
    }
   ],
   "source": [
    "def addsuffix(c):\n",
    "    if len(c) < 3:\n",
    "        return c\n",
    "    elif c.endswith(\"ing\"):\n",
    "        return c + \"ly\"\n",
    "    else:\n",
    "        return c + \"ing\"\n",
    "\n",
    "print(addsuffix(\"play\"))\n",
    "print(addsuffix(\"playing\"))\n",
    "print(addsuffix(\"go\"))"
   ]
  },
  {
   "cell_type": "markdown",
   "id": "ec727621-a90d-4f27-a8c9-ac5df55467da",
   "metadata": {},
   "source": [
    "22. Write a Python function to reverses a string if its length is a multiple\n",
    "of 4. \n"
   ]
  },
  {
   "cell_type": "code",
   "execution_count": 14,
   "id": "0298c45e-72bb-42bd-8735-4dbae480a17a",
   "metadata": {},
   "outputs": [
    {
     "name": "stdout",
     "output_type": "stream",
     "text": [
      "qwerty\n",
      "dcba\n",
      "hgfedcba\n"
     ]
    }
   ],
   "source": [
    "def rev(sen):\n",
    "    if len(sen) % 4 == 0:\n",
    "        return sen[::-1]\n",
    "    else:\n",
    "        return sen\n",
    "print(rev(\"qwerty\"))\n",
    "print(rev(\"abcd\"))\n",
    "print(rev(\"abcdefgh\"))"
   ]
  },
  {
   "cell_type": "markdown",
   "id": "f2cda70a-61b7-4baf-a110-4555017c42ed",
   "metadata": {},
   "source": [
    "23. Write a Python program to get a string made of the first 2 and the last\n",
    "2 chars from a given a string. If the string length is less than 2, return\n",
    "instead of the empty string. \n"
   ]
  },
  {
   "cell_type": "code",
   "execution_count": 15,
   "id": "cc95e28f-c4f4-4d91-8cc4-23601951402e",
   "metadata": {},
   "outputs": [
    {
     "name": "stdout",
     "output_type": "stream",
     "text": [
      "pyon\n",
      "pypy\n",
      "\n"
     ]
    }
   ],
   "source": [
    "def firlas2(s):\n",
    "    if len(s) < 2:\n",
    "        return \"\"   \n",
    "    return s[:2] + s[-2:]\n",
    "\n",
    "print(firlas2(\"python\"))   \n",
    "print(firlas2(\"py\"))       \n",
    "print(firlas2(\"p\"))     "
   ]
  },
  {
   "cell_type": "markdown",
   "id": "3d352968-937f-4751-a6d4-e703294ac263",
   "metadata": {},
   "source": [
    "24. Write a Python function to insert a string in the middle of a string. "
   ]
  },
  {
   "cell_type": "code",
   "execution_count": 16,
   "id": "dc202556-9318-4410-99c3-6a5509e3e292",
   "metadata": {},
   "outputs": [
    {
     "name": "stdout",
     "output_type": "stream",
     "text": [
      "PytINSERThon\n",
      "Hello123World\n"
     ]
    }
   ],
   "source": [
    "def insert(main_str, insert_str):\n",
    "    mid = len(main_str) // 2\n",
    "    return main_str[:mid] + insert_str + main_str[mid:]\n",
    "\n",
    "\n",
    "print(insert(\"Python\", \"INSERT\"))   \n",
    "print(insert(\"HelloWorld\", \"123\")) "
   ]
  },
  {
   "cell_type": "markdown",
   "id": "4ed9eb6c-b207-4bc3-84ef-93ab7ad0fe59",
   "metadata": {},
   "source": [
    "25. What is List? How will you reverse a list? \n"
   ]
  },
  {
   "cell_type": "markdown",
   "id": "6ce39ded-fcb6-42c0-a0b5-fe69f21b2d70",
   "metadata": {},
   "source": [
    "A list in python is a built in data structure that can store multiple items of different data types. It can be changed, i.e. mutable. It is ordered and indexable collection as well.\n",
    "There are several ways to reverse a list. We can use the reverse() method, slicing and use reversed() function with list()."
   ]
  },
  {
   "cell_type": "markdown",
   "id": "a8826394-79b8-4ff0-bcb6-09c7790e55fa",
   "metadata": {},
   "source": [
    "26. How will you remove last object from a list? \n"
   ]
  },
  {
   "cell_type": "markdown",
   "id": "98fba855-bc6b-4172-943e-2b58f63ea231",
   "metadata": {},
   "source": [
    "There are mainly 3 ways to remove hte last object from the list. They are:\n",
    "1) using the pop() function.\n",
    "2) using slicing \n",
    "3) using del"
   ]
  },
  {
   "cell_type": "markdown",
   "id": "9aba6851-b266-400a-b6dd-b504c63970f3",
   "metadata": {},
   "source": [
    "27. Suppose list1 is [2, 33, 222, 14, and 25], what is list1 [-1]? \n",
    " "
   ]
  },
  {
   "cell_type": "markdown",
   "id": "17bbcaed-a763-4a81-b20b-87dbeeffa311",
   "metadata": {},
   "source": [
    "list1 = [2, 33, 222, 14, 25]\n"
   ]
  },
  {
   "cell_type": "markdown",
   "id": "9db9272b-5454-460d-ae3f-04e119ed5b2e",
   "metadata": {},
   "source": [
    "28. Differentiate between append () and extend () methods?"
   ]
  },
  {
   "cell_type": "markdown",
   "id": "054923f8-96ab-45cc-b3a4-5e83480070a5",
   "metadata": {},
   "source": [
    "append() adds a single element to the end of the list (as one item), whereas extend() adds multiple elements from an iterable to the list individually."
   ]
  },
  {
   "cell_type": "markdown",
   "id": "74b9e70b-b50a-4bd0-b7c4-255c988ccf63",
   "metadata": {},
   "source": [
    "29. Write a Python function to get the largest number, smallest num\n",
    "and sum of all from a list. "
   ]
  },
  {
   "cell_type": "code",
   "execution_count": 1,
   "id": "3bee38d5-41fc-48ad-8f1f-bdd24a799003",
   "metadata": {},
   "outputs": [
    {
     "name": "stdout",
     "output_type": "stream",
     "text": [
      "Largest number: 50\n",
      "Smallest number: 3\n",
      "Sum of all numbers: 113\n"
     ]
    }
   ],
   "source": [
    "def list_stats(numbers):\n",
    "    largest = max(numbers)       \n",
    "    smallest = min(numbers)      \n",
    "    total_sum = sum(numbers)     \n",
    "    return largest, smallest, total_sum\n",
    "\n",
    "nums = [10, 25, 3, 7, 50, 18]\n",
    "largest, smallest, total = list_stats(nums)\n",
    "\n",
    "print(\"Largest number:\", largest)\n",
    "print(\"Smallest number:\", smallest)\n",
    "print(\"Sum of all numbers:\", total)"
   ]
  },
  {
   "cell_type": "markdown",
   "id": "d8731dd5-df0c-4be1-960f-79cd52a2b881",
   "metadata": {},
   "source": [
    "30. How will you compare two lists? "
   ]
  },
  {
   "cell_type": "markdown",
   "id": "1fa263eb-ced4-403c-bcbf-a2de98001b09",
   "metadata": {},
   "source": [
    "You can compare two lists in Python using the `==` operator to check if they have the same elements in the same order, or by comparing their sorted versions if order doesn’t matter.\n"
   ]
  },
  {
   "cell_type": "markdown",
   "id": "d933070d-cbe7-44c2-811b-aff121805295",
   "metadata": {},
   "source": [
    "31. Write a Python program to count the number of strings where the string\n",
    "length is 2 or more and the first and last character are same from a given list\n",
    "of strings. \n"
   ]
  },
  {
   "cell_type": "code",
   "execution_count": 2,
   "id": "bd35359d-d542-4c26-872d-149b7cfe0c8e",
   "metadata": {},
   "outputs": [
    {
     "name": "stdout",
     "output_type": "stream",
     "text": [
      "Number of matching strings: 3\n"
     ]
    }
   ],
   "source": [
    "def count_strings(words):\n",
    "    count = 0\n",
    "    for word in words:\n",
    "        if len(word) >= 2 and word[0] == word[-1]:   \n",
    "            count += 1\n",
    "    return count\n",
    "\n",
    "string_list = ['abc', 'xyz', 'aba', '1221', 'aa', 'b']\n",
    "print(\"Number of matching strings:\", count_strings(string_list))"
   ]
  },
  {
   "cell_type": "markdown",
   "id": "a5ca012b-a4fb-4d77-afd8-fe9f34932c73",
   "metadata": {},
   "source": [
    "32. Write a Python program to remove duplicates from a list. "
   ]
  },
  {
   "cell_type": "code",
   "execution_count": 4,
   "id": "853054a6-b04d-4cf8-a18a-9a36ed6db01f",
   "metadata": {},
   "outputs": [
    {
     "name": "stdout",
     "output_type": "stream",
     "text": [
      "Original list: [1, 2, 2, 3, 4, 4, 5, 1]\n",
      "List after removing duplicates: [1, 2, 3, 4, 5]\n"
     ]
    }
   ],
   "source": [
    "def remove_duplicates(lst):\n",
    "    return list(set(lst))   \n",
    "\n",
    "my_list = [1, 2, 2, 3, 4, 4, 5, 1]\n",
    "print(\"Original list:\", my_list)\n",
    "print(\"List after removing duplicates:\", remove_duplicates(my_list))"
   ]
  },
  {
   "cell_type": "markdown",
   "id": "91267b20-ac83-4081-a3de-390483b71437",
   "metadata": {},
   "source": [
    "33. Write a Python program to check a list is empty or not. \n"
   ]
  },
  {
   "cell_type": "code",
   "execution_count": 5,
   "id": "547aa66a-a48f-4afa-8e53-087faf20a3ee",
   "metadata": {},
   "outputs": [
    {
     "name": "stdout",
     "output_type": "stream",
     "text": [
      "The list is empty.\n",
      "The list is not empty.\n"
     ]
    }
   ],
   "source": [
    "def check_empty(lst):\n",
    "    if not lst:   \n",
    "        print(\"The list is empty.\")\n",
    "    else:\n",
    "        print(\"The list is not empty.\")\n",
    "\n",
    "list1 = []\n",
    "list2 = [1, 2, 3]\n",
    "\n",
    "check_empty(list1)\n",
    "check_empty(list2)"
   ]
  },
  {
   "cell_type": "markdown",
   "id": "90a81759-e07d-4027-9a99-ae21e1641cde",
   "metadata": {},
   "source": [
    "34. Write a Python function that takes two lists and returns true if they\n",
    "have at least one common member. \n"
   ]
  },
  {
   "cell_type": "code",
   "execution_count": 6,
   "id": "416d93b0-fa3e-4c77-8d80-2a1f5236f85b",
   "metadata": {},
   "outputs": [
    {
     "name": "stdout",
     "output_type": "stream",
     "text": [
      "True\n"
     ]
    }
   ],
   "source": [
    "def common_member(list1, list2):\n",
    "    for item in list1:\n",
    "        if item in list2:   \n",
    "            return True\n",
    "    return False\n",
    "\n",
    "list_a = [1, 2, 3, 4]\n",
    "list_b = [5, 6, 7, 3]\n",
    "\n",
    "print(common_member(list_a, list_b))"
   ]
  },
  {
   "cell_type": "markdown",
   "id": "a77edcb6-6fe7-4f49-b1dd-ede904f48bcb",
   "metadata": {},
   "source": [
    "35. Write a Python program to generate and print a list of first and last 5\n",
    "elements where the values are square of numbers between 1 and 30. \n"
   ]
  },
  {
   "cell_type": "code",
   "execution_count": 7,
   "id": "9a33cbcb-fcd7-45d3-ac0f-5f73c730080c",
   "metadata": {},
   "outputs": [
    {
     "name": "stdout",
     "output_type": "stream",
     "text": [
      "First and last 5 square numbers: [1, 4, 9, 16, 25, 676, 729, 784, 841, 900]\n"
     ]
    }
   ],
   "source": [
    "def square_list():\n",
    "    squares = [x**2 for x in range(1, 31)]   \n",
    "    result = squares[:5] + squares[-5:]      \n",
    "    return result\n",
    "\n",
    "print(\"First and last 5 square numbers:\", square_list())"
   ]
  },
  {
   "cell_type": "markdown",
   "id": "a1593d14-febd-4490-bfc1-f2c31e4513fe",
   "metadata": {},
   "source": [
    "36. Write a Python function that takes a list and returns a new list with\n",
    "unique elements of the first list. "
   ]
  },
  {
   "cell_type": "code",
   "execution_count": 8,
   "id": "a187c243-0981-46f4-a78c-9f5240ee852c",
   "metadata": {},
   "outputs": [
    {
     "name": "stdout",
     "output_type": "stream",
     "text": [
      "Original list: [1, 2, 2, 3, 4, 4, 5, 1]\n",
      "Unique elements: [1, 2, 3, 4, 5]\n"
     ]
    }
   ],
   "source": [
    "def unique_list(lst):\n",
    "    unique = []\n",
    "    for item in lst:\n",
    "        if item not in unique:   \n",
    "            unique.append(item)\n",
    "    return unique\n",
    "\n",
    "my_list = [1, 2, 2, 3, 4, 4, 5, 1]\n",
    "print(\"Original list:\", my_list)\n",
    "print(\"Unique elements:\", unique_list(my_list))"
   ]
  },
  {
   "cell_type": "markdown",
   "id": "564a7b77-c003-40fc-8283-270c701b2845",
   "metadata": {},
   "source": [
    "37. Write a Python program to convert a list of characters into a string. \n"
   ]
  },
  {
   "cell_type": "code",
   "execution_count": 9,
   "id": "99317ddc-bdeb-4eec-96ed-66a6c317c075",
   "metadata": {},
   "outputs": [
    {
     "name": "stdout",
     "output_type": "stream",
     "text": [
      "Unique elements: [1, 2, 3, 4, 5]\n"
     ]
    }
   ],
   "source": [
    "def unique_list(lst):\n",
    "    return list(set(lst))\n",
    "\n",
    "my_list = [1, 2, 2, 3, 4, 4, 5, 1]\n",
    "print(\"Unique elements:\", unique_list(my_list))"
   ]
  },
  {
   "cell_type": "markdown",
   "id": "a2e59f49-93b8-40dc-9632-9663a6a2f381",
   "metadata": {},
   "source": [
    "38. Write a Python program to select an item randomly from a list. \n"
   ]
  },
  {
   "cell_type": "code",
   "execution_count": 8,
   "id": "5f0fc8f4-a4e8-4c7b-8493-860e3d0f0844",
   "metadata": {},
   "outputs": [
    {
     "name": "stdout",
     "output_type": "stream",
     "text": [
      "hello\n"
     ]
    }
   ],
   "source": [
    "import random\n",
    "\n",
    "def random_List(lst):\n",
    "    return random.choice(lst)\n",
    "\n",
    "myList = [1,2,3,4,5,6,\"hello\", \"world\"]\n",
    "print(random_List(myList))"
   ]
  },
  {
   "cell_type": "markdown",
   "id": "8f98ab61-0ff1-4789-9015-cb68bec63957",
   "metadata": {},
   "source": [
    "39. Write a Python program to find the second smallest number in a list. "
   ]
  },
  {
   "cell_type": "code",
   "execution_count": 10,
   "id": "33163682-6faf-4a91-bbdc-21db5d94f8b4",
   "metadata": {},
   "outputs": [
    {
     "name": "stdout",
     "output_type": "stream",
     "text": [
      "2\n"
     ]
    }
   ],
   "source": [
    "def s_list(numbers):\n",
    "    unique_nums = list(set(numbers))\n",
    "    unique_nums.sort()\n",
    "    if len(unique_nums) < 2:\n",
    "        return None\n",
    "    return unique_nums[1]\n",
    "\n",
    "myList = [12,4,21,34,1,45,2,3,2,2,1]\n",
    "print(s_list(myList))"
   ]
  },
  {
   "cell_type": "markdown",
   "id": "a1474d77-ba7a-492e-bc4c-411d90dc1588",
   "metadata": {},
   "source": [
    "40. Write a Python program to get unique values from a list \n"
   ]
  },
  {
   "cell_type": "code",
   "execution_count": 11,
   "id": "a053ee44-bf40-4a16-92d0-3034e806a7ff",
   "metadata": {},
   "outputs": [
    {
     "name": "stdout",
     "output_type": "stream",
     "text": [
      "[1, 2, 3, 4, 5, 332]\n"
     ]
    }
   ],
   "source": [
    "def unique_values(lst):\n",
    "    return list(set(lst))\n",
    "\n",
    "myList = [1,2,4,5,4,3,2,1,3,4,5,3,2,1,332,332]\n",
    "print(unique_values(myList))"
   ]
  },
  {
   "cell_type": "markdown",
   "id": "ad8f88a8-fd4b-4802-aac6-1bc494e8a4bf",
   "metadata": {},
   "source": [
    "41. Write a Python program to check whether a list contains a sub list \n"
   ]
  },
  {
   "cell_type": "code",
   "execution_count": 13,
   "id": "0eea035c-1010-4a10-87eb-1c7d482ae369",
   "metadata": {},
   "outputs": [
    {
     "name": "stdout",
     "output_type": "stream",
     "text": [
      "False\n",
      "False\n"
     ]
    }
   ],
   "source": [
    "def contains_list(lst):\n",
    "    for item in lst:\n",
    "        if isinstance(item, list):\n",
    "            return True\n",
    "        return False\n",
    "list1 = [1,2,3,[1,5],2,1]\n",
    "list2 = [1,6,7,5,3,2]\n",
    "\n",
    "print(contains_list(list1))\n",
    "print(contains_list(list2))"
   ]
  },
  {
   "cell_type": "markdown",
   "id": "478d0d18-5ba5-42bf-9cea-07e22d3fd639",
   "metadata": {},
   "source": [
    "42. Write a Python program to split a list into different variables. \n"
   ]
  },
  {
   "cell_type": "code",
   "execution_count": 14,
   "id": "0f7693fe-aee2-4205-81b9-49b4aa6b1aed",
   "metadata": {},
   "outputs": [
    {
     "name": "stdout",
     "output_type": "stream",
     "text": [
      "1\n",
      "2\n",
      "3 5 6\n"
     ]
    }
   ],
   "source": [
    "MY_LIST = [1,2,3,5,6]\n",
    "a, b, *left = MY_LIST\n",
    "\n",
    "print(a)\n",
    "print(b)\n",
    "print(*left)"
   ]
  },
  {
   "cell_type": "markdown",
   "id": "c7850471-c5d2-442f-afea-5b536e7a826e",
   "metadata": {},
   "source": [
    "43. What is tuple? Difference between list and tuple"
   ]
  },
  {
   "cell_type": "markdown",
   "id": "52bde38d-8656-4f9c-ae77-fb0f6c2af4d6",
   "metadata": {},
   "source": [
    "A tuple is similar to a list which cannot be changed. Hence, a tuple is immutable.\n",
    "A tuple once created cannot be changed whereas a list can be updated (add, append and delete of elements)"
   ]
  },
  {
   "cell_type": "markdown",
   "id": "e3e9ed0b-52c1-40a6-8fa7-19d675c378c9",
   "metadata": {},
   "source": [
    "44. Write a Python program to create a tuple with different data types. \n"
   ]
  },
  {
   "cell_type": "markdown",
   "id": "d2ce2442-0237-4115-a6ec-72f78aa32ce8",
   "metadata": {},
   "source": [
    "45. Write a Python program to unzip a list of tuples into individual lists. "
   ]
  },
  {
   "cell_type": "markdown",
   "id": "eb2a4c8d-0887-4128-afc6-48a65cac9923",
   "metadata": {},
   "source": [
    "46. Write a Python program to convert a list of tuples into a dictionary."
   ]
  },
  {
   "cell_type": "markdown",
   "id": "e0b0c112-b38d-44dd-965f-e1cac69b34a4",
   "metadata": {},
   "source": [
    "47. How will you create a dictionary using tuples in python?"
   ]
  },
  {
   "cell_type": "markdown",
   "id": "39549742-fba2-4776-b033-7f4c2487fabc",
   "metadata": {},
   "source": [
    "48. Write a Python script to sort (ascending and descending) a\n",
    "dictionary by value. "
   ]
  },
  {
   "cell_type": "markdown",
   "id": "13e17673-c9d9-45bc-8e52-ed09b46a569a",
   "metadata": {},
   "source": [
    "49. Write a Python script to concatenate following dictionaries to create\n",
    "a new one. \n"
   ]
  },
  {
   "cell_type": "markdown",
   "id": "b54f2ab6-8be1-4d2d-9acf-58b4f7bcbb78",
   "metadata": {},
   "source": [
    "50. Write a Python script to check if a given key already exists in a\n",
    "dictionary. "
   ]
  },
  {
   "cell_type": "markdown",
   "id": "4c9d0e0a-de56-45c9-9959-b8fda14c2ca6",
   "metadata": {},
   "source": [
    "51. How Do You Traverse Through a Dictionary Object in Python?"
   ]
  },
  {
   "cell_type": "markdown",
   "id": "05b638c0-bad5-4048-828f-8a82c81dfbf2",
   "metadata": {},
   "source": [
    "52. How Do You Check the Presence of a Key in A Dictionary?"
   ]
  },
  {
   "cell_type": "markdown",
   "id": "2249ac88-cd37-4034-aa40-bcd39ff39e97",
   "metadata": {},
   "source": [
    "53. Write a Python script to print a dictionary where the keys are\n",
    "numbers between 1 and 15. \n"
   ]
  },
  {
   "cell_type": "markdown",
   "id": "9714088e-92a0-44df-854c-f57bd75c6f22",
   "metadata": {},
   "source": [
    "54. Write a Python program to check multiple keys exists in a dictionary"
   ]
  },
  {
   "cell_type": "markdown",
   "id": "72d61db4-e516-4a0d-9da1-fe0537bd657e",
   "metadata": {},
   "source": [
    "55. Write a Python script to merge two Python dictionaries \n"
   ]
  },
  {
   "cell_type": "markdown",
   "id": "4db8b83f-9cf9-4073-8865-febf721c5511",
   "metadata": {},
   "source": [
    "56. Write a Python program to map two lists into a dictionary\n",
    "\n",
    "Sample output: Counter ({'a': 400, 'b': 400,’d’: 400, 'c': 300})."
   ]
  },
  {
   "cell_type": "markdown",
   "id": "db57d2ce-97dd-4dc3-af27-0d348d3beb57",
   "metadata": {},
   "source": [
    "57. Write a Python program to find the highest 3 values in a dictionary "
   ]
  },
  {
   "cell_type": "markdown",
   "id": "251f853b-fd86-4040-93c0-c3499be57dcd",
   "metadata": {},
   "source": [
    "58. Write a Python program to combine values in python list of dictionaries.\n",
    "\n",
    "Sample data: [{'item': 'item1', 'amount': 400}, {'item': 'item2', 'amount': 300}, o {'item': 'item1', 'amount': 750}]\n",
    "\n",
    "Expected Output: Counter ({'item1': 1150, 'item2': 300})"
   ]
  },
  {
   "cell_type": "markdown",
   "id": "6dfac920-cfe7-4ba5-ae98-229a481fd09b",
   "metadata": {},
   "source": [
    "59. Write a Python program to create a dictionary from a string.\n",
    "Note: Track the count of the letters from the string."
   ]
  },
  {
   "cell_type": "code",
   "execution_count": null,
   "id": "d776b1ad-8618-40e8-bbe5-cced8c1949b0",
   "metadata": {},
   "outputs": [],
   "source": []
  }
 ],
 "metadata": {
  "kernelspec": {
   "display_name": "Python 3 (ipykernel)",
   "language": "python",
   "name": "python3"
  },
  "language_info": {
   "codemirror_mode": {
    "name": "ipython",
    "version": 3
   },
   "file_extension": ".py",
   "mimetype": "text/x-python",
   "name": "python",
   "nbconvert_exporter": "python",
   "pygments_lexer": "ipython3",
   "version": "3.13.7"
  }
 },
 "nbformat": 4,
 "nbformat_minor": 5
}
