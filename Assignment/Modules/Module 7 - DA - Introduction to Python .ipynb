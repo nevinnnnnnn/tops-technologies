{
 "cells": [
  {
   "cell_type": "markdown",
   "id": "8d6e43da-1ca5-493c-b51a-266f00ff5f99",
   "metadata": {},
   "source": [
    "# ASSIGNMENT"
   ]
  },
  {
   "cell_type": "markdown",
   "id": "a82867c9-3e9e-45f2-8a62-a5fe6c2cede3",
   "metadata": {},
   "source": [
    "1) What are the types of Applications? "
   ]
  },
  {
   "cell_type": "markdown",
   "id": "c2b6eba9-1db2-4c11-bb60-2927d7fbc977",
   "metadata": {},
   "source": [
    "Applications of pyhton includes web development, data science, machine learning, automation, software terting and game development."
   ]
  },
  {
   "cell_type": "markdown",
   "id": "f32f60d4-e66c-4773-bab0-13c3ee06fec3",
   "metadata": {},
   "source": [
    "2) What is programing? "
   ]
  },
  {
   "cell_type": "markdown",
   "id": "ff9bb844-9aca-4fec-aa97-818db2303667",
   "metadata": {},
   "source": [
    "Programming is a type of interaction that is usually done by the programmmers to get into a solution or to solve a problem."
   ]
  },
  {
   "cell_type": "markdown",
   "id": "f930dbf7-8ccd-4086-8d74-858704f8c4ba",
   "metadata": {},
   "source": [
    "3) What is Python? "
   ]
  },
  {
   "cell_type": "markdown",
   "id": "60d05564-5408-4fe4-9d13-31c23bcac44d",
   "metadata": {},
   "source": [
    "Python is a high-level programming language. Some of its features include:\n",
    "- easy to write\n",
    "- platform independent\n",
    "- reliable code"
   ]
  },
  {
   "cell_type": "markdown",
   "id": "759e0050-0755-42c3-8803-d8f436d9195a",
   "metadata": {},
   "source": [
    "4) Write a Python program to check if a number is positive, negative or\n",
    "zero. "
   ]
  },
  {
   "cell_type": "code",
   "execution_count": 1,
   "id": "ac87deae-eb79-4e53-96d1-4c2332b326e8",
   "metadata": {},
   "outputs": [
    {
     "name": "stdin",
     "output_type": "stream",
     "text": [
      "enter a number:  8\n"
     ]
    },
    {
     "name": "stdout",
     "output_type": "stream",
     "text": [
      "number is positive\n"
     ]
    }
   ],
   "source": [
    "num = int(input(\"enter a number: \"))\n",
    "if num < 0:\n",
    "    print(\"number is negative\")\n",
    "elif num == 0:\n",
    "    print(\"neither positive nor negative\")\n",
    "else:\n",
    "    print(\"number is positive\")"
   ]
  },
  {
   "cell_type": "markdown",
   "id": "133cbbc3-72a4-4e0d-8db1-eefcfb537672",
   "metadata": {},
   "source": [
    "5. Write a Python program to get the Factorial number of given numbers. "
   ]
  },
  {
   "cell_type": "code",
   "execution_count": null,
   "id": "22a8ecdc-cc16-40c5-9882-b666b19762f2",
   "metadata": {},
   "outputs": [],
   "source": [
    "num = int(input(\"enter an integer: \"))\n",
    "if num < 0:\n",
    "    print(\"factorial is not for negative number\")\n",
    "elif num == 0 or num == 1:\n",
    "    print (\"1\")\n",
    "else:\n",
    "    end = 1\n",
    "    i = 2\n",
    "    while i <= num:\n",
    "        end = end * i\n",
    "        i = i + 1\n",
    "    print(\"factorial: \", end)"
   ]
  },
  {
   "cell_type": "markdown",
   "id": "5f3ac991-5353-49a1-bd74-dd6da7b194bf",
   "metadata": {},
   "source": [
    "6. Write a Python program to get the Fibonacci series of given range. "
   ]
  },
  {
   "cell_type": "code",
   "execution_count": 1,
   "id": "2e3225f4-a5f5-4109-b9ae-dab135828d30",
   "metadata": {},
   "outputs": [
    {
     "name": "stdin",
     "output_type": "stream",
     "text": [
      "enter the number of series:  10\n"
     ]
    },
    {
     "name": "stdout",
     "output_type": "stream",
     "text": [
      "0\n",
      "1\n",
      "1\n",
      "2\n",
      "3\n",
      "5\n",
      "8\n",
      "13\n",
      "21\n",
      "34\n"
     ]
    }
   ],
   "source": [
    "nterms = int(input(\"enter the number of series: \"))\n",
    "a = 0\n",
    "b = 1\n",
    "for i in range(nterms):\n",
    "    print(a)\n",
    "    temp = a\n",
    "    a = b\n",
    "    b = temp + b"
   ]
  },
  {
   "cell_type": "markdown",
   "id": "27246d92-401a-4a3d-b28d-36f938b86d06",
   "metadata": {},
   "source": [
    "7. How memory is managed in Python?\n",
    "\n",
    "Memories are managed by python using variables. Variables are defined by the by the user to store the value and re-use it when necessary"
   ]
  },
  {
   "cell_type": "markdown",
   "id": "ff9c5fe7-e559-46ca-a950-e66b35faa4b4",
   "metadata": {},
   "source": []
  },
  {
   "cell_type": "code",
   "execution_count": null,
   "id": "24b368ef-c42d-4b62-a5fa-5c2f4aa6d6e7",
   "metadata": {},
   "outputs": [],
   "source": []
  }
 ],
 "metadata": {
  "kernelspec": {
   "display_name": "Python 3 (ipykernel)",
   "language": "python",
   "name": "python3"
  },
  "language_info": {
   "codemirror_mode": {
    "name": "ipython",
    "version": 3
   },
   "file_extension": ".py",
   "mimetype": "text/x-python",
   "name": "python",
   "nbconvert_exporter": "python",
   "pygments_lexer": "ipython3",
   "version": "3.13.5"
  }
 },
 "nbformat": 4,
 "nbformat_minor": 5
}
