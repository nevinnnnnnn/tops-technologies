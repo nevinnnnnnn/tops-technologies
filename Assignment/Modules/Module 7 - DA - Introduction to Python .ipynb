{
 "cells": [
  {
   "cell_type": "markdown",
   "id": "8d6e43da-1ca5-493c-b51a-266f00ff5f99",
   "metadata": {},
   "source": [
    "# ASSIGNMENT"
   ]
  },
  {
   "cell_type": "markdown",
   "id": "a82867c9-3e9e-45f2-8a62-a5fe6c2cede3",
   "metadata": {},
   "source": [
    "1) What are the types of Applications? "
   ]
  },
  {
   "cell_type": "markdown",
   "id": "c2b6eba9-1db2-4c11-bb60-2927d7fbc977",
   "metadata": {},
   "source": [
    "Applications of pyhton includes web development, data science, machine learning, automation, software terting and game development."
   ]
  },
  {
   "cell_type": "markdown",
   "id": "f32f60d4-e66c-4773-bab0-13c3ee06fec3",
   "metadata": {},
   "source": [
    "2) What is programing? "
   ]
  },
  {
   "cell_type": "markdown",
   "id": "ff9bb844-9aca-4fec-aa97-818db2303667",
   "metadata": {},
   "source": [
    "Programming is a type of interaction that is usually done by the programmmers to get into a solution or to solve a problem."
   ]
  },
  {
   "cell_type": "markdown",
   "id": "f930dbf7-8ccd-4086-8d74-858704f8c4ba",
   "metadata": {},
   "source": [
    "3) What is Python? "
   ]
  },
  {
   "cell_type": "markdown",
   "id": "60d05564-5408-4fe4-9d13-31c23bcac44d",
   "metadata": {},
   "source": [
    "Python is a high-level programming language. Some of its features include:\n",
    "- easy to write\n",
    "- platform independent\n",
    "- reliable code"
   ]
  },
  {
   "cell_type": "markdown",
   "id": "759e0050-0755-42c3-8803-d8f436d9195a",
   "metadata": {},
   "source": [
    "4) Write a Python program to check if a number is positive, negative or\n",
    "zero. "
   ]
  },
  {
   "cell_type": "code",
   "execution_count": 1,
   "id": "ac87deae-eb79-4e53-96d1-4c2332b326e8",
   "metadata": {},
   "outputs": [
    {
     "name": "stdin",
     "output_type": "stream",
     "text": [
      "enter a number:  8\n"
     ]
    },
    {
     "name": "stdout",
     "output_type": "stream",
     "text": [
      "number is positive\n"
     ]
    }
   ],
   "source": [
    "num = int(input(\"enter a number: \"))\n",
    "if num < 0:\n",
    "    print(\"number is negative\")\n",
    "elif num == 0:\n",
    "    print(\"neither positive nor negative\")\n",
    "else:\n",
    "    print(\"number is positive\")"
   ]
  },
  {
   "cell_type": "markdown",
   "id": "133cbbc3-72a4-4e0d-8db1-eefcfb537672",
   "metadata": {},
   "source": [
    "5. Write a Python program to get the Factorial number of given numbers. "
   ]
  },
  {
   "cell_type": "code",
   "execution_count": null,
   "id": "22a8ecdc-cc16-40c5-9882-b666b19762f2",
   "metadata": {},
   "outputs": [],
   "source": [
    "num = int(input(\"enter an integer: \"))\n",
    "if num < 0:\n",
    "    print(\"factorial is not for negative number\")\n",
    "elif num == 0 or num == 1:\n",
    "    print (\"1\")\n",
    "else:\n",
    "    end = 1\n",
    "    i = 2\n",
    "    while i <= num:\n",
    "        end = end * i\n",
    "        i = i + 1\n",
    "    print(\"factorial: \", end)"
   ]
  },
  {
   "cell_type": "markdown",
   "id": "5f3ac991-5353-49a1-bd74-dd6da7b194bf",
   "metadata": {},
   "source": [
    "6. Write a Python program to get the Fibonacci series of given range. "
   ]
  },
  {
   "cell_type": "code",
   "execution_count": 1,
   "id": "2e3225f4-a5f5-4109-b9ae-dab135828d30",
   "metadata": {},
   "outputs": [
    {
     "name": "stdin",
     "output_type": "stream",
     "text": [
      "enter the number of series:  10\n"
     ]
    },
    {
     "name": "stdout",
     "output_type": "stream",
     "text": [
      "0\n",
      "1\n",
      "1\n",
      "2\n",
      "3\n",
      "5\n",
      "8\n",
      "13\n",
      "21\n",
      "34\n"
     ]
    }
   ],
   "source": [
    "nterms = int(input(\"enter the number of series: \"))\n",
    "a = 0\n",
    "b = 1\n",
    "for i in range(nterms):\n",
    "    print(a)\n",
    "    temp = a\n",
    "    a = b\n",
    "    b = temp + b"
   ]
  },
  {
   "cell_type": "markdown",
   "id": "27246d92-401a-4a3d-b28d-36f938b86d06",
   "metadata": {},
   "source": [
    "7. How memory is managed in Python?\n",
    "\n",
    "Memories are managed by python using variables. Variables are defined by the by the user to store the value and re-use it when necessary"
   ]
  },
  {
   "cell_type": "markdown",
   "id": "ff9c5fe7-e559-46ca-a950-e66b35faa4b4",
   "metadata": {},
   "source": [
    "8. What is the purpose continuing statement in python? "
   ]
  },
  {
   "cell_type": "markdown",
   "id": "9af7eefe-3090-46c2-9594-0333eea148d3",
   "metadata": {},
   "source": [
    "The main purpose of the continue statement is that it skips the particular interation where the continue statement is used and moves forward."
   ]
  },
  {
   "cell_type": "markdown",
   "id": "8cd3bd6d-89bd-4ac3-8e30-8224a0de2c45",
   "metadata": {},
   "source": [
    "9. Write python program that swap two number with temp variable\n",
    "and without temp variable. "
   ]
  },
  {
   "cell_type": "code",
   "execution_count": 2,
   "id": "fb5d69b2-6608-441a-b467-fdb3084c4f10",
   "metadata": {},
   "outputs": [
    {
     "name": "stdin",
     "output_type": "stream",
     "text": [
      "enter a number:  1\n",
      "enter another number:  4\n"
     ]
    },
    {
     "name": "stdout",
     "output_type": "stream",
     "text": [
      "a - 1 and b - 4 ---- before swaping\n",
      "a - 4 and b - 1 ---- after swaping\n"
     ]
    }
   ],
   "source": [
    "a = int(input(\"enter a number: \"))\n",
    "b = int(input(\"enter another number: \"))\n",
    "print(f\"a - {a} and b - {b} ---- before swaping\")\n",
    "temp = a\n",
    "a = b\n",
    "b = temp\n",
    "print(f\"a - {a} and b - {b} ---- after swaping\")"
   ]
  },
  {
   "cell_type": "code",
   "execution_count": 3,
   "id": "64f04b96-bb83-4ef5-a0d5-ff2dc4469392",
   "metadata": {},
   "outputs": [
    {
     "name": "stdin",
     "output_type": "stream",
     "text": [
      "enter a number:  1\n",
      "enter another number:  6\n"
     ]
    },
    {
     "name": "stdout",
     "output_type": "stream",
     "text": [
      "a - 1 and b - 6 ---- before swaping\n",
      "a - 6 and b - 1 ---- after swaping\n"
     ]
    }
   ],
   "source": [
    "a = int(input(\"enter a number: \"))\n",
    "b = int(input(\"enter another number: \"))\n",
    "print(f\"a - {a} and b - {b} ---- before swaping\")\n",
    "a, b = b, a\n",
    "print(f\"a - {a} and b - {b} ---- after swaping\")"
   ]
  },
  {
   "cell_type": "markdown",
   "id": "2208aa41-e84a-46ea-b3fb-44e6198bb114",
   "metadata": {},
   "source": [
    "10. Write a Python program to find whether a given number is even\n",
    "or odd, print out an appropriate message to the user. "
   ]
  },
  {
   "cell_type": "code",
   "execution_count": 5,
   "id": "6e24f9a2-f186-42ef-871d-ebdd13c59eea",
   "metadata": {},
   "outputs": [
    {
     "name": "stdin",
     "output_type": "stream",
     "text": [
      "enter a number to check if the number is odd or even:  124198349321\n"
     ]
    },
    {
     "name": "stdout",
     "output_type": "stream",
     "text": [
      "The entered number 124198349321 is an odd number\n"
     ]
    }
   ],
   "source": [
    "num = int(input(\"enter a number to check if the number is odd or even: \"))\n",
    "if num % 2 == 0:\n",
    "    print(f\"The entered number {num} is an even number\")\n",
    "else:\n",
    "    print(f\"The entered number {num} is an odd number\")"
   ]
  },
  {
   "cell_type": "code",
   "execution_count": 3,
   "id": "3f474c6d-7a0c-4218-8fc6-cb67d4e28d6f",
   "metadata": {},
   "outputs": [
    {
     "name": "stdin",
     "output_type": "stream",
     "text": [
      "enter a number of your choice:  69\n"
     ]
    },
    {
     "name": "stdout",
     "output_type": "stream",
     "text": [
      "your entered number 69 is an odd number.\n"
     ]
    }
   ],
   "source": [
    "num = int(input(\"enter a number of your choice: \"))\n",
    "if num % 2 == 0:\n",
    "    print(f\"your entered number {num} is an even number.\")\n",
    "else:\n",
    "    print(f\"your entered number {num} is an odd number.\")"
   ]
  },
  {
   "cell_type": "markdown",
   "id": "742c397d-ac80-4f71-be45-cf39134d5ae2",
   "metadata": {},
   "source": [
    "11. Write a Python program to test whether a passed letter is a vowel\n",
    "or not. "
   ]
  },
  {
   "cell_type": "code",
   "execution_count": 4,
   "id": "63c6d8eb-dc3d-43a9-ad79-9a60a13ee24d",
   "metadata": {},
   "outputs": [
    {
     "name": "stdin",
     "output_type": "stream",
     "text": [
      "enter a letter:  w\n"
     ]
    },
    {
     "name": "stdout",
     "output_type": "stream",
     "text": [
      "the entered letter is not a vowel\n"
     ]
    }
   ],
   "source": [
    "text = str(input(\"enter a letter: \"))\n",
    "if text in \"aeiouAEIOU\":\n",
    "    print(\"entered letter is a vowel\")\n",
    "else:\n",
    "    print(\"the entered letter is not a vowel\")"
   ]
  },
  {
   "cell_type": "markdown",
   "id": "e66b9247-0a8f-4bd2-aae6-08f01d0bad12",
   "metadata": {},
   "source": [
    "12. Write a Python program to sum of three given integers. However, if\n",
    "two values are equal sum will be zero. "
   ]
  },
  {
   "cell_type": "code",
   "execution_count": 9,
   "id": "f9de249c-8dbc-4601-a8ff-b4becc1e985c",
   "metadata": {},
   "outputs": [
    {
     "name": "stdin",
     "output_type": "stream",
     "text": [
      "enter a number:  3\n",
      "enter second number:  0\n",
      "enter the third number:  0\n"
     ]
    },
    {
     "name": "stdout",
     "output_type": "stream",
     "text": [
      "0\n"
     ]
    }
   ],
   "source": [
    "n1 = int(input(\"enter a number: \"))\n",
    "n2 = int(input(\"enter second number: \"))\n",
    "n3 = int(input(\"enter the third number: \"))\n",
    "\n",
    "if n1 and n2 == 0:\n",
    "    print(\"0\")\n",
    "elif n2 and n3 == 0:\n",
    "    print(\"0\")\n",
    "elif n1 and n3 == 0:\n",
    "    print(\"0\")\n",
    "else:\n",
    "    print(n1+n2+n3)"
   ]
  },
  {
   "cell_type": "markdown",
   "id": "9129f755-1310-4745-9c46-0baa843d4765",
   "metadata": {},
   "source": [
    "13. Write a Python program that will return true if the two given\n",
    "integer values are equal or their sum or difference is 5. "
   ]
  },
  {
   "cell_type": "code",
   "execution_count": 14,
   "id": "67408050-b10e-4edb-8468-88894b3cc366",
   "metadata": {},
   "outputs": [
    {
     "name": "stdin",
     "output_type": "stream",
     "text": [
      "enter a number:  1\n",
      "enter second number:  4\n"
     ]
    },
    {
     "name": "stdout",
     "output_type": "stream",
     "text": [
      "True\n"
     ]
    }
   ],
   "source": [
    "num1 = int(input(\"enter a number: \"))\n",
    "num2 = int(input(\"enter second number: \"))\n",
    "if num1 == num2:\n",
    "    print(\"True\")\n",
    "elif num1 + num2 == 5:\n",
    "    print(\"True\")\n",
    "elif num1 - num2 == 5:\n",
    "    print(\"True\")\n",
    "else:\n",
    "    print(\"False\")"
   ]
  },
  {
   "cell_type": "markdown",
   "id": "72a91d52-0f3f-43c6-9328-398b6682ec19",
   "metadata": {},
   "source": [
    "14. Write a python program to sum of the first n positive integers"
   ]
  },
  {
   "cell_type": "code",
   "execution_count": 19,
   "id": "7c761069-e5d1-4fe7-947c-178aa92b9da8",
   "metadata": {},
   "outputs": [
    {
     "name": "stdin",
     "output_type": "stream",
     "text": [
      "enter a number 3\n"
     ]
    },
    {
     "name": "stdout",
     "output_type": "stream",
     "text": [
      "6\n"
     ]
    }
   ],
   "source": [
    "n = int(input(\"enter a number\"))\n",
    "total = 0\n",
    "for i in range(1, n + 1):\n",
    "    total = total + i\n",
    "print(total)"
   ]
  },
  {
   "cell_type": "markdown",
   "id": "13df06a3-3ebf-454c-afbc-80d32190eab0",
   "metadata": {},
   "source": [
    "15. Write a Python program to calculate the length of a string. "
   ]
  },
  {
   "cell_type": "code",
   "execution_count": 20,
   "id": "aae4c8b8-f2c9-494d-9dc5-b36154906767",
   "metadata": {},
   "outputs": [
    {
     "name": "stdout",
     "output_type": "stream",
     "text": [
      "30\n"
     ]
    }
   ],
   "source": [
    "string1 = \"nevvvvvvvvvvvvvvvvvvvvvvvvvvin\"\n",
    "print(len(string1))"
   ]
  },
  {
   "cell_type": "markdown",
   "id": "79f468be-430b-4522-aa2c-bfd1e3e936a9",
   "metadata": {},
   "source": [
    "16. Write a Python program to count the number of characters\n",
    "(character frequency) in a string"
   ]
  },
  {
   "cell_type": "code",
   "execution_count": 7,
   "id": "cf7858c7-3f66-40ef-98ee-30dcdf6cd6ff",
   "metadata": {},
   "outputs": [
    {
     "name": "stdin",
     "output_type": "stream",
     "text": [
      "enter a string:  hiiii\n"
     ]
    },
    {
     "name": "stdout",
     "output_type": "stream",
     "text": [
      "h: 1\n",
      "i: 4\n",
      "i: 4\n",
      "i: 4\n",
      "i: 4\n"
     ]
    }
   ],
   "source": [
    "string2 = input(\"enter a string: \")\n",
    "for i in string2:\n",
    "    print(f\"{i}: {string2.count(i)}\")"
   ]
  },
  {
   "cell_type": "markdown",
   "id": "76bec526-5866-45a0-a14c-6b509f0b6de6",
   "metadata": {},
   "source": [
    "17. What are negative indexes and why are they used?"
   ]
  },
  {
   "cell_type": "markdown",
   "id": "7fa85d0e-9296-4704-b82f-fb22a309d631",
   "metadata": {},
   "source": [
    "Negative indexes are a way to access elements of a sequence by counting from the end instead of beginning."
   ]
  },
  {
   "cell_type": "markdown",
   "id": "2d5878f7-38f2-49c7-ae05-a74a930f242c",
   "metadata": {},
   "source": [
    "18. Write a Python program to count occurrences of a substring in a string"
   ]
  },
  {
   "cell_type": "markdown",
   "id": "f6c15767-a86c-40c8-a288-0694c8641e6a",
   "metadata": {},
   "source": [
    "19. Write a Python program to count the occurrences of each word in a given sentence "
   ]
  },
  {
   "cell_type": "code",
   "execution_count": 2,
   "id": "d15781ce-dc55-4123-be2e-fce1065c553d",
   "metadata": {},
   "outputs": [
    {
     "name": "stdout",
     "output_type": "stream",
     "text": [
      "{'hello': 1, 'there,': 1, 'my': 2, 'name': 2, 'is...': 2, 'lol': 1, 'i': 1, 'forgot!!': 1}\n"
     ]
    }
   ],
   "source": [
    "sentence = \"hello there, my name is... my name is... lol i forgot!!\"\n",
    "count = {}\n",
    "words = sentence.split()\n",
    "for word in words:\n",
    "    count[word] = count.get(word, 0) + 1\n",
    "print(count)"
   ]
  },
  {
   "cell_type": "markdown",
   "id": "6c9dc661-da01-4ef9-a70a-fc26f9567ec6",
   "metadata": {},
   "source": [
    "20. Write a Python program to get a single string from two given strings,\n",
    "separated by a space and swap the first two characters of each string. "
   ]
  },
  {
   "cell_type": "code",
   "execution_count": 9,
   "id": "13bcfeef-ef39-4525-bea1-9a1bd001c30d",
   "metadata": {},
   "outputs": [
    {
     "name": "stdin",
     "output_type": "stream",
     "text": [
      "enter 1 sentence:  malayalam\n",
      "enter another sentence:  tamil\n"
     ]
    },
    {
     "name": "stdout",
     "output_type": "stream",
     "text": [
      "talayalam mamil\n"
     ]
    }
   ],
   "source": [
    "str1 = input(\"enter 1 sentence: \")\n",
    "str2 = input(\"enter another sentence: \")\n",
    "\n",
    "def swap(str1, str2):\n",
    "    if len(str1) < 2 or len(str2) < 2:\n",
    "        return \"both strings should have at least 2 characters\"\n",
    "    newstr1 = str2[:2] + str1[2:]\n",
    "    newstr2 = str1[:2] + str2[2:]\n",
    "    \n",
    "    result = newstr1 + \" \" + newstr2\n",
    "    return result  \n",
    "\n",
    "print(swap(str1, str2))"
   ]
  },
  {
   "cell_type": "markdown",
   "id": "63bb08ee-548b-4035-a715-94f4fd28cc0e",
   "metadata": {},
   "source": [
    "21. Write a Python program to add 'in' at the end of a given string (length\n",
    "should be at least 3). If the given string already ends with 'ing' then\n",
    "add 'ly' instead if the string length of the given string is less than 3,\n",
    "leave it unchanged. \n"
   ]
  },
  {
   "cell_type": "code",
   "execution_count": 11,
   "id": "4acbe934-2cc2-41e2-b1b8-4b68eba70e78",
   "metadata": {},
   "outputs": [
    {
     "name": "stdout",
     "output_type": "stream",
     "text": [
      "playing\n",
      "playingly\n",
      "go\n"
     ]
    }
   ],
   "source": [
    "def addsuffix(c):\n",
    "    if len(c) < 3:\n",
    "        return c\n",
    "    elif c.endswith(\"ing\"):\n",
    "        return c + \"ly\"\n",
    "    else:\n",
    "        return c + \"ing\"\n",
    "\n",
    "print(addsuffix(\"play\"))\n",
    "print(addsuffix(\"playing\"))\n",
    "print(addsuffix(\"go\"))"
   ]
  },
  {
   "cell_type": "markdown",
   "id": "ec727621-a90d-4f27-a8c9-ac5df55467da",
   "metadata": {},
   "source": [
    "22. Write a Python function to reverses a string if its length is a multiple\n",
    "of 4. \n"
   ]
  },
  {
   "cell_type": "code",
   "execution_count": 14,
   "id": "0298c45e-72bb-42bd-8735-4dbae480a17a",
   "metadata": {},
   "outputs": [
    {
     "name": "stdout",
     "output_type": "stream",
     "text": [
      "qwerty\n",
      "dcba\n",
      "hgfedcba\n"
     ]
    }
   ],
   "source": [
    "def rev(sen):\n",
    "    if len(sen) % 4 == 0:\n",
    "        return sen[::-1]\n",
    "    else:\n",
    "        return sen\n",
    "print(rev(\"qwerty\"))\n",
    "print(rev(\"abcd\"))\n",
    "print(rev(\"abcdefgh\"))"
   ]
  },
  {
   "cell_type": "markdown",
   "id": "f2cda70a-61b7-4baf-a110-4555017c42ed",
   "metadata": {},
   "source": [
    "23. Write a Python program to get a string made of the first 2 and the last\n",
    "2 chars from a given a string. If the string length is less than 2, return\n",
    "instead of the empty string. \n"
   ]
  },
  {
   "cell_type": "code",
   "execution_count": 15,
   "id": "cc95e28f-c4f4-4d91-8cc4-23601951402e",
   "metadata": {},
   "outputs": [
    {
     "name": "stdout",
     "output_type": "stream",
     "text": [
      "pyon\n",
      "pypy\n",
      "\n"
     ]
    }
   ],
   "source": [
    "def firlas2(s):\n",
    "    if len(s) < 2:\n",
    "        return \"\"   \n",
    "    return s[:2] + s[-2:]\n",
    "\n",
    "print(firlas2(\"python\"))   \n",
    "print(firlas2(\"py\"))       \n",
    "print(firlas2(\"p\"))     "
   ]
  },
  {
   "cell_type": "markdown",
   "id": "3d352968-937f-4751-a6d4-e703294ac263",
   "metadata": {},
   "source": [
    "24. Write a Python function to insert a string in the middle of a string. "
   ]
  },
  {
   "cell_type": "code",
   "execution_count": 16,
   "id": "dc202556-9318-4410-99c3-6a5509e3e292",
   "metadata": {},
   "outputs": [
    {
     "name": "stdout",
     "output_type": "stream",
     "text": [
      "PytINSERThon\n",
      "Hello123World\n"
     ]
    }
   ],
   "source": [
    "def insert(main_str, insert_str):\n",
    "    mid = len(main_str) // 2\n",
    "    return main_str[:mid] + insert_str + main_str[mid:]\n",
    "\n",
    "\n",
    "print(insert(\"Python\", \"INSERT\"))   \n",
    "print(insert(\"HelloWorld\", \"123\")) "
   ]
  },
  {
   "cell_type": "markdown",
   "id": "4ed9eb6c-b207-4bc3-84ef-93ab7ad0fe59",
   "metadata": {},
   "source": [
    "25. What is List? How will you reverse a list? \n"
   ]
  },
  {
   "cell_type": "markdown",
   "id": "6ce39ded-fcb6-42c0-a0b5-fe69f21b2d70",
   "metadata": {},
   "source": [
    "A list in python is a built in data structure that can store multiple items of different data types. It can be changed, i.e. mutable. It is ordered and indexable collection as well.\n",
    "There are several ways to reverse a list. We can use the reverse() method, slicing and use reversed() function with list()."
   ]
  },
  {
   "cell_type": "markdown",
   "id": "a8826394-79b8-4ff0-bcb6-09c7790e55fa",
   "metadata": {},
   "source": [
    "26. How will you remove last object from a list? \n"
   ]
  },
  {
   "cell_type": "markdown",
   "id": "98fba855-bc6b-4172-943e-2b58f63ea231",
   "metadata": {},
   "source": [
    "There are mainly 3 ways to remove hte last object from the list. They are:\n",
    "1) using the pop() function.\n",
    "2) using slicing \n",
    "3) using del"
   ]
  },
  {
   "cell_type": "markdown",
   "id": "9aba6851-b266-400a-b6dd-b504c63970f3",
   "metadata": {},
   "source": [
    "27. Suppose list1 is [2, 33, 222, 14, and 25], what is list1 [-1]? \n",
    " "
   ]
  },
  {
   "cell_type": "markdown",
   "id": "17bbcaed-a763-4a81-b20b-87dbeeffa311",
   "metadata": {},
   "source": [
    "list1 = [2, 33, 222, 14, 25]\n"
   ]
  },
  {
   "cell_type": "markdown",
   "id": "9db9272b-5454-460d-ae3f-04e119ed5b2e",
   "metadata": {},
   "source": [
    "28. Differentiate between append () and extend () methods?"
   ]
  },
  {
   "cell_type": "markdown",
   "id": "054923f8-96ab-45cc-b3a4-5e83480070a5",
   "metadata": {},
   "source": [
    "append() adds a single element to the end of the list (as one item), whereas extend() adds multiple elements from an iterable to the list individually."
   ]
  },
  {
   "cell_type": "markdown",
   "id": "74b9e70b-b50a-4bd0-b7c4-255c988ccf63",
   "metadata": {},
   "source": [
    "29. Write a Python function to get the largest number, smallest num\n",
    "and sum of all from a list. "
   ]
  },
  {
   "cell_type": "code",
   "execution_count": 1,
   "id": "3bee38d5-41fc-48ad-8f1f-bdd24a799003",
   "metadata": {},
   "outputs": [
    {
     "name": "stdout",
     "output_type": "stream",
     "text": [
      "Largest number: 50\n",
      "Smallest number: 3\n",
      "Sum of all numbers: 113\n"
     ]
    }
   ],
   "source": [
    "def list_stats(numbers):\n",
    "    largest = max(numbers)       \n",
    "    smallest = min(numbers)      \n",
    "    total_sum = sum(numbers)     \n",
    "    return largest, smallest, total_sum\n",
    "\n",
    "nums = [10, 25, 3, 7, 50, 18]\n",
    "largest, smallest, total = list_stats(nums)\n",
    "\n",
    "print(\"Largest number:\", largest)\n",
    "print(\"Smallest number:\", smallest)\n",
    "print(\"Sum of all numbers:\", total)"
   ]
  },
  {
   "cell_type": "markdown",
   "id": "d8731dd5-df0c-4be1-960f-79cd52a2b881",
   "metadata": {},
   "source": [
    "30. How will you compare two lists? "
   ]
  },
  {
   "cell_type": "markdown",
   "id": "1fa263eb-ced4-403c-bcbf-a2de98001b09",
   "metadata": {},
   "source": [
    "You can compare two lists in Python using the `==` operator to check if they have the same elements in the same order, or by comparing their sorted versions if order doesn’t matter.\n"
   ]
  },
  {
   "cell_type": "markdown",
   "id": "d933070d-cbe7-44c2-811b-aff121805295",
   "metadata": {},
   "source": [
    "31. Write a Python program to count the number of strings where the string\n",
    "length is 2 or more and the first and last character are same from a given list\n",
    "of strings. \n"
   ]
  },
  {
   "cell_type": "code",
   "execution_count": 2,
   "id": "bd35359d-d542-4c26-872d-149b7cfe0c8e",
   "metadata": {},
   "outputs": [
    {
     "name": "stdout",
     "output_type": "stream",
     "text": [
      "Number of matching strings: 3\n"
     ]
    }
   ],
   "source": [
    "def count_strings(words):\n",
    "    count = 0\n",
    "    for word in words:\n",
    "        if len(word) >= 2 and word[0] == word[-1]:   \n",
    "            count += 1\n",
    "    return count\n",
    "\n",
    "string_list = ['abc', 'xyz', 'aba', '1221', 'aa', 'b']\n",
    "print(\"Number of matching strings:\", count_strings(string_list))"
   ]
  },
  {
   "cell_type": "markdown",
   "id": "a5ca012b-a4fb-4d77-afd8-fe9f34932c73",
   "metadata": {},
   "source": [
    "32. Write a Python program to remove duplicates from a list. "
   ]
  },
  {
   "cell_type": "code",
   "execution_count": 4,
   "id": "853054a6-b04d-4cf8-a18a-9a36ed6db01f",
   "metadata": {},
   "outputs": [
    {
     "name": "stdout",
     "output_type": "stream",
     "text": [
      "Original list: [1, 2, 2, 3, 4, 4, 5, 1]\n",
      "List after removing duplicates: [1, 2, 3, 4, 5]\n"
     ]
    }
   ],
   "source": [
    "def remove_duplicates(lst):\n",
    "    return list(set(lst))   \n",
    "\n",
    "my_list = [1, 2, 2, 3, 4, 4, 5, 1]\n",
    "print(\"Original list:\", my_list)\n",
    "print(\"List after removing duplicates:\", remove_duplicates(my_list))"
   ]
  },
  {
   "cell_type": "markdown",
   "id": "91267b20-ac83-4081-a3de-390483b71437",
   "metadata": {},
   "source": [
    "33. Write a Python program to check a list is empty or not. \n"
   ]
  },
  {
   "cell_type": "code",
   "execution_count": 5,
   "id": "547aa66a-a48f-4afa-8e53-087faf20a3ee",
   "metadata": {},
   "outputs": [
    {
     "name": "stdout",
     "output_type": "stream",
     "text": [
      "The list is empty.\n",
      "The list is not empty.\n"
     ]
    }
   ],
   "source": [
    "def check_empty(lst):\n",
    "    if not lst:   \n",
    "        print(\"The list is empty.\")\n",
    "    else:\n",
    "        print(\"The list is not empty.\")\n",
    "\n",
    "list1 = []\n",
    "list2 = [1, 2, 3]\n",
    "\n",
    "check_empty(list1)\n",
    "check_empty(list2)"
   ]
  },
  {
   "cell_type": "markdown",
   "id": "90a81759-e07d-4027-9a99-ae21e1641cde",
   "metadata": {},
   "source": [
    "34. Write a Python function that takes two lists and returns true if they\n",
    "have at least one common member. \n"
   ]
  },
  {
   "cell_type": "code",
   "execution_count": 6,
   "id": "416d93b0-fa3e-4c77-8d80-2a1f5236f85b",
   "metadata": {},
   "outputs": [
    {
     "name": "stdout",
     "output_type": "stream",
     "text": [
      "True\n"
     ]
    }
   ],
   "source": [
    "def common_member(list1, list2):\n",
    "    for item in list1:\n",
    "        if item in list2:   \n",
    "            return True\n",
    "    return False\n",
    "\n",
    "list_a = [1, 2, 3, 4]\n",
    "list_b = [5, 6, 7, 3]\n",
    "\n",
    "print(common_member(list_a, list_b))"
   ]
  },
  {
   "cell_type": "markdown",
   "id": "a77edcb6-6fe7-4f49-b1dd-ede904f48bcb",
   "metadata": {},
   "source": [
    "35. Write a Python program to generate and print a list of first and last 5\n",
    "elements where the values are square of numbers between 1 and 30. \n"
   ]
  },
  {
   "cell_type": "code",
   "execution_count": 7,
   "id": "9a33cbcb-fcd7-45d3-ac0f-5f73c730080c",
   "metadata": {},
   "outputs": [
    {
     "name": "stdout",
     "output_type": "stream",
     "text": [
      "First and last 5 square numbers: [1, 4, 9, 16, 25, 676, 729, 784, 841, 900]\n"
     ]
    }
   ],
   "source": [
    "def square_list():\n",
    "    squares = [x**2 for x in range(1, 31)]   \n",
    "    result = squares[:5] + squares[-5:]      \n",
    "    return result\n",
    "\n",
    "print(\"First and last 5 square numbers:\", square_list())"
   ]
  },
  {
   "cell_type": "markdown",
   "id": "a1593d14-febd-4490-bfc1-f2c31e4513fe",
   "metadata": {},
   "source": [
    "36. Write a Python function that takes a list and returns a new list with\n",
    "unique elements of the first list. "
   ]
  },
  {
   "cell_type": "code",
   "execution_count": 8,
   "id": "a187c243-0981-46f4-a78c-9f5240ee852c",
   "metadata": {},
   "outputs": [
    {
     "name": "stdout",
     "output_type": "stream",
     "text": [
      "Original list: [1, 2, 2, 3, 4, 4, 5, 1]\n",
      "Unique elements: [1, 2, 3, 4, 5]\n"
     ]
    }
   ],
   "source": [
    "def unique_list(lst):\n",
    "    unique = []\n",
    "    for item in lst:\n",
    "        if item not in unique:   \n",
    "            unique.append(item)\n",
    "    return unique\n",
    "\n",
    "my_list = [1, 2, 2, 3, 4, 4, 5, 1]\n",
    "print(\"Original list:\", my_list)\n",
    "print(\"Unique elements:\", unique_list(my_list))"
   ]
  },
  {
   "cell_type": "markdown",
   "id": "564a7b77-c003-40fc-8283-270c701b2845",
   "metadata": {},
   "source": [
    "37. Write a Python program to convert a list of characters into a string. \n"
   ]
  },
  {
   "cell_type": "code",
   "execution_count": 9,
   "id": "99317ddc-bdeb-4eec-96ed-66a6c317c075",
   "metadata": {},
   "outputs": [
    {
     "name": "stdout",
     "output_type": "stream",
     "text": [
      "Unique elements: [1, 2, 3, 4, 5]\n"
     ]
    }
   ],
   "source": [
    "def unique_list(lst):\n",
    "    return list(set(lst))\n",
    "\n",
    "my_list = [1, 2, 2, 3, 4, 4, 5, 1]\n",
    "print(\"Unique elements:\", unique_list(my_list))"
   ]
  },
  {
   "cell_type": "markdown",
   "id": "a2e59f49-93b8-40dc-9632-9663a6a2f381",
   "metadata": {},
   "source": [
    "38. Write a Python program to select an item randomly from a list. \n"
   ]
  },
  {
   "cell_type": "code",
   "execution_count": 8,
   "id": "5f0fc8f4-a4e8-4c7b-8493-860e3d0f0844",
   "metadata": {},
   "outputs": [
    {
     "name": "stdout",
     "output_type": "stream",
     "text": [
      "hello\n"
     ]
    }
   ],
   "source": [
    "import random\n",
    "\n",
    "def random_List(lst):\n",
    "    return random.choice(lst)\n",
    "\n",
    "myList = [1,2,3,4,5,6,\"hello\", \"world\"]\n",
    "print(random_List(myList))"
   ]
  },
  {
   "cell_type": "markdown",
   "id": "8f98ab61-0ff1-4789-9015-cb68bec63957",
   "metadata": {},
   "source": [
    "39. Write a Python program to find the second smallest number in a list. "
   ]
  },
  {
   "cell_type": "code",
   "execution_count": 10,
   "id": "33163682-6faf-4a91-bbdc-21db5d94f8b4",
   "metadata": {},
   "outputs": [
    {
     "name": "stdout",
     "output_type": "stream",
     "text": [
      "2\n"
     ]
    }
   ],
   "source": [
    "def s_list(numbers):\n",
    "    unique_nums = list(set(numbers))\n",
    "    unique_nums.sort()\n",
    "    if len(unique_nums) < 2:\n",
    "        return None\n",
    "    return unique_nums[1]\n",
    "\n",
    "myList = [12,4,21,34,1,45,2,3,2,2,1]\n",
    "print(s_list(myList))"
   ]
  },
  {
   "cell_type": "markdown",
   "id": "a1474d77-ba7a-492e-bc4c-411d90dc1588",
   "metadata": {},
   "source": [
    "40. Write a Python program to get unique values from a list \n"
   ]
  },
  {
   "cell_type": "code",
   "execution_count": 11,
   "id": "a053ee44-bf40-4a16-92d0-3034e806a7ff",
   "metadata": {},
   "outputs": [
    {
     "name": "stdout",
     "output_type": "stream",
     "text": [
      "[1, 2, 3, 4, 5, 332]\n"
     ]
    }
   ],
   "source": [
    "def unique_values(lst):\n",
    "    return list(set(lst))\n",
    "\n",
    "myList = [1,2,4,5,4,3,2,1,3,4,5,3,2,1,332,332]\n",
    "print(unique_values(myList))"
   ]
  },
  {
   "cell_type": "markdown",
   "id": "ad8f88a8-fd4b-4802-aac6-1bc494e8a4bf",
   "metadata": {},
   "source": [
    "41. Write a Python program to check whether a list contains a sub list \n"
   ]
  },
  {
   "cell_type": "code",
   "execution_count": 13,
   "id": "0eea035c-1010-4a10-87eb-1c7d482ae369",
   "metadata": {},
   "outputs": [
    {
     "name": "stdout",
     "output_type": "stream",
     "text": [
      "False\n",
      "False\n"
     ]
    }
   ],
   "source": [
    "def contains_list(lst):\n",
    "    for item in lst:\n",
    "        if isinstance(item, list):\n",
    "            return True\n",
    "        return False\n",
    "list1 = [1,2,3,[1,5],2,1]\n",
    "list2 = [1,6,7,5,3,2]\n",
    "\n",
    "print(contains_list(list1))\n",
    "print(contains_list(list2))"
   ]
  },
  {
   "cell_type": "markdown",
   "id": "478d0d18-5ba5-42bf-9cea-07e22d3fd639",
   "metadata": {},
   "source": [
    "42. Write a Python program to split a list into different variables. \n"
   ]
  },
  {
   "cell_type": "code",
   "execution_count": 14,
   "id": "0f7693fe-aee2-4205-81b9-49b4aa6b1aed",
   "metadata": {},
   "outputs": [
    {
     "name": "stdout",
     "output_type": "stream",
     "text": [
      "1\n",
      "2\n",
      "3 5 6\n"
     ]
    }
   ],
   "source": [
    "MY_LIST = [1,2,3,5,6]\n",
    "a, b, *left = MY_LIST\n",
    "\n",
    "print(a)\n",
    "print(b)\n",
    "print(*left)"
   ]
  },
  {
   "cell_type": "markdown",
   "id": "c7850471-c5d2-442f-afea-5b536e7a826e",
   "metadata": {},
   "source": [
    "43. What is tuple? Difference between list and tuple"
   ]
  },
  {
   "cell_type": "markdown",
   "id": "52bde38d-8656-4f9c-ae77-fb0f6c2af4d6",
   "metadata": {},
   "source": [
    "A tuple is similar to a list which cannot be changed. Hence, a tuple is immutable.\n",
    "A tuple once created cannot be changed whereas a list can be updated (add, append and delete of elements)"
   ]
  },
  {
   "cell_type": "markdown",
   "id": "e3e9ed0b-52c1-40a6-8fa7-19d675c378c9",
   "metadata": {},
   "source": [
    "44. Write a Python program to create a tuple with different data types. \n"
   ]
  },
  {
   "cell_type": "code",
   "execution_count": 1,
   "id": "5a47a223-b806-4b7a-bb1d-2bbafed1aa96",
   "metadata": {},
   "outputs": [
    {
     "name": "stdout",
     "output_type": "stream",
     "text": [
      "Tuple with different data types:  (10, 3.14, 'Hello', True, [1, 2, 3], {'a': 1, 'b': 2})\n"
     ]
    }
   ],
   "source": [
    "my_tuple = (10, 3.14, \"Hello\", True, [1, 2, 3], {\"a\": 1, \"b\": 2})\n",
    "\n",
    "print(\"Tuple with different data types: \", my_tuple)"
   ]
  },
  {
   "cell_type": "markdown",
   "id": "d2ce2442-0237-4115-a6ec-72f78aa32ce8",
   "metadata": {},
   "source": [
    "45. Write a Python program to unzip a list of tuples into individual lists. "
   ]
  },
  {
   "cell_type": "code",
   "execution_count": 2,
   "id": "3fd9d956-bec3-46f8-994e-c34c63886e2e",
   "metadata": {},
   "outputs": [
    {
     "name": "stdout",
     "output_type": "stream",
     "text": [
      "First list: [1, 2, 3]\n",
      "Second list: ['a', 'b', 'c']\n"
     ]
    }
   ],
   "source": [
    "pair = [(1, 'a'), (2, 'b'), (3, 'c')]\n",
    "\n",
    "list1, list2 = zip(*pair)\n",
    "\n",
    "print(\"First list:\", list(list1))\n",
    "print(\"Second list:\", list(list2))"
   ]
  },
  {
   "cell_type": "markdown",
   "id": "eb2a4c8d-0887-4128-afc6-48a65cac9923",
   "metadata": {},
   "source": [
    "46. Write a Python program to convert a list of tuples into a dictionary."
   ]
  },
  {
   "cell_type": "code",
   "execution_count": 3,
   "id": "a69b57f9-97c0-48b0-b92a-9d591bfd7c3a",
   "metadata": {},
   "outputs": [
    {
     "name": "stdout",
     "output_type": "stream",
     "text": [
      "Dictionary: {1: 'a', 2: 'b', 3: 'c'}\n"
     ]
    }
   ],
   "source": [
    "pairs = [(1, 'a'), (2, 'b'), (3, 'c')]\n",
    "\n",
    "my_dict = dict(pairs)\n",
    "\n",
    "print(\"Dictionary:\", my_dict)"
   ]
  },
  {
   "cell_type": "markdown",
   "id": "e0b0c112-b38d-44dd-965f-e1cac69b34a4",
   "metadata": {},
   "source": [
    "47. How will you create a dictionary using tuples in python?"
   ]
  },
  {
   "cell_type": "markdown",
   "id": "0ea4e221-0df7-4a86-9b3d-4919b796e451",
   "metadata": {},
   "source": [
    "There are 2 common ways using which a dictionary can be created using tuples. They are:\n",
    "\n",
    "1. using dict() with the list of tuples.\n",
    "2. using simple tuple of tuples."
   ]
  },
  {
   "cell_type": "markdown",
   "id": "39549742-fba2-4776-b033-7f4c2487fabc",
   "metadata": {},
   "source": [
    "48. Write a Python script to sort (ascending and descending) a\n",
    "dictionary by value. "
   ]
  },
  {
   "cell_type": "code",
   "execution_count": 4,
   "id": "38e1bd85-ccdf-485d-bce3-111771086b15",
   "metadata": {},
   "outputs": [
    {
     "name": "stdout",
     "output_type": "stream",
     "text": [
      "Original Dictionary:  {'a': 5, 'b': 2, 'c': 9, 'd': 1}\n",
      "Ascending by value:  {'d': 1, 'b': 2, 'a': 5, 'c': 9}\n",
      "Descending by value:  {'c': 9, 'a': 5, 'b': 2, 'd': 1}\n"
     ]
    }
   ],
   "source": [
    "my_dict = {'a': 5, 'b': 2, 'c': 9, 'd': 1}\n",
    "\n",
    "asc = dict(sorted(my_dict.items(), key=lambda item: item[1]))\n",
    "\n",
    "desc = dict(sorted(my_dict.items(), key=lambda item: item[1], reverse=True))\n",
    "\n",
    "print(\"Original Dictionary: \", my_dict)\n",
    "print(\"Ascending by value: \", asc)\n",
    "print(\"Descending by value: \", desc)"
   ]
  },
  {
   "cell_type": "markdown",
   "id": "13e17673-c9d9-45bc-8e52-ed09b46a569a",
   "metadata": {},
   "source": [
    "49. Write a Python script to concatenate following dictionaries to create\n",
    "a new one. \n"
   ]
  },
  {
   "cell_type": "code",
   "execution_count": 5,
   "id": "0aff8984-e72d-4b4c-864f-e387672c9447",
   "metadata": {},
   "outputs": [
    {
     "name": "stdout",
     "output_type": "stream",
     "text": [
      "New Concatenated Dictionary:  {1: 'a', 2: 'b', 3: 'c', 4: 'd', 5: 'e', 6: 'f'}\n"
     ]
    }
   ],
   "source": [
    "dict1 = {1: 'a', 2: 'b'}\n",
    "dict2 = {3: 'c', 4: 'd'}\n",
    "dict3 = {5: 'e', 6: 'f'}\n",
    "\n",
    "new_dict = {}\n",
    "for d in (dict1, dict2, dict3):\n",
    "    new_dict.update(d)\n",
    "\n",
    "print(\"New Concatenated Dictionary: \", new_dict)"
   ]
  },
  {
   "cell_type": "markdown",
   "id": "b54f2ab6-8be1-4d2d-9acf-58b4f7bcbb78",
   "metadata": {},
   "source": [
    "50. Write a Python script to check if a given key already exists in a\n",
    "dictionary. "
   ]
  },
  {
   "cell_type": "code",
   "execution_count": 6,
   "id": "46fdb54b-a6fc-4c84-9615-ebc9fbec176a",
   "metadata": {},
   "outputs": [
    {
     "name": "stdout",
     "output_type": "stream",
     "text": [
      "Key 'b' exists in the dictionary.\n"
     ]
    }
   ],
   "source": [
    "my_dict = {'a': 1, 'b': 2, 'c': 3}\n",
    "\n",
    "key = 'b'\n",
    "\n",
    "if key in my_dict:\n",
    "    print(f\"Key '{key}' exists in the dictionary.\")\n",
    "else:\n",
    "    print(f\"Key '{key}' does not exist in the dictionary.\")"
   ]
  },
  {
   "cell_type": "markdown",
   "id": "4c9d0e0a-de56-45c9-9959-b8fda14c2ca6",
   "metadata": {},
   "source": [
    "51. How Do You Traverse Through a Dictionary Object in Python?"
   ]
  },
  {
   "cell_type": "code",
   "execution_count": 7,
   "id": "a8d21c63-2f4a-4275-8c86-5e61c2a6df32",
   "metadata": {},
   "outputs": [
    {
     "name": "stdout",
     "output_type": "stream",
     "text": [
      "Key: a Value: 1\n",
      "Key: b Value: 2\n",
      "Key: c Value: 3\n"
     ]
    }
   ],
   "source": [
    "for key, value in my_dict.items():\n",
    "    print(\"Key:\", key, \"Value:\", value)"
   ]
  },
  {
   "cell_type": "markdown",
   "id": "05b638c0-bad5-4048-828f-8a82c81dfbf2",
   "metadata": {},
   "source": [
    "52. How Do You Check the Presence of a Key in A Dictionary?"
   ]
  },
  {
   "cell_type": "code",
   "execution_count": 8,
   "id": "eded9890-3bb9-4251-a5d8-84cb33260310",
   "metadata": {},
   "outputs": [
    {
     "name": "stdout",
     "output_type": "stream",
     "text": [
      "Key exists!\n"
     ]
    }
   ],
   "source": [
    "my_dict = {\"a\": 1, \"b\": 2, \"c\": 3}\n",
    "\n",
    "if \"b\" in my_dict:\n",
    "    print(\"Key exists!\")\n",
    "else:\n",
    "    print(\"Key does not exist!\")"
   ]
  },
  {
   "cell_type": "markdown",
   "id": "2249ac88-cd37-4034-aa40-bcd39ff39e97",
   "metadata": {},
   "source": [
    "53. Write a Python script to print a dictionary where the keys are\n",
    "numbers between 1 and 15. \n"
   ]
  },
  {
   "cell_type": "code",
   "execution_count": 9,
   "id": "344b8ad6-ccdf-4e54-b81f-14195df881b0",
   "metadata": {},
   "outputs": [
    {
     "name": "stdout",
     "output_type": "stream",
     "text": [
      "Dictionary with keys from 1 to 15: \n",
      "{1: 1, 2: 2, 3: 3, 4: 4, 5: 5, 6: 6, 7: 7, 8: 8, 9: 9, 10: 10, 11: 11, 12: 12, 13: 13, 14: 14, 15: 15}\n"
     ]
    }
   ],
   "source": [
    "my_dict = {x: x for x in range(1, 16)}\n",
    "\n",
    "print(\"Dictionary with keys from 1 to 15: \")\n",
    "print(my_dict)"
   ]
  },
  {
   "cell_type": "markdown",
   "id": "9714088e-92a0-44df-854c-f57bd75c6f22",
   "metadata": {},
   "source": [
    "54. Write a Python program to check multiple keys exists in a dictionary"
   ]
  },
  {
   "cell_type": "code",
   "execution_count": 10,
   "id": "d04f0e99-f581-477d-ba16-47cef0458279",
   "metadata": {},
   "outputs": [
    {
     "name": "stdout",
     "output_type": "stream",
     "text": [
      "Do all keys exist? False\n",
      "Do any keys exist? True\n"
     ]
    }
   ],
   "source": [
    "my_dict = {'a': 1, 'b': 2, 'c': 3, 'd': 4}\n",
    "\n",
    "keys_to_check = ['a', 'c', 'e']\n",
    "\n",
    "all_exist = all(key in my_dict for key in keys_to_check)\n",
    "any_exist = any(key in my_dict for key in keys_to_check)\n",
    "\n",
    "print(\"Do all keys exist?\", all_exist)\n",
    "print(\"Do any keys exist?\", any_exist)"
   ]
  },
  {
   "cell_type": "markdown",
   "id": "72d61db4-e516-4a0d-9da1-fe0537bd657e",
   "metadata": {},
   "source": [
    "55. Write a Python script to merge two Python dictionaries \n"
   ]
  },
  {
   "cell_type": "code",
   "execution_count": 11,
   "id": "3333f2ff-8e47-444b-a5c2-c7b0be053a79",
   "metadata": {},
   "outputs": [
    {
     "name": "stdout",
     "output_type": "stream",
     "text": [
      "Merged Dictionary:  {'a': 1, 'b': 2, 'c': 3, 'd': 4}\n"
     ]
    }
   ],
   "source": [
    "dict1 = {'a': 1, 'b': 2}\n",
    "dict2 = {'c': 3, 'd': 4}\n",
    "\n",
    "dict1.update(dict2)\n",
    "\n",
    "print(\"Merged Dictionary: \", dict1)"
   ]
  },
  {
   "cell_type": "markdown",
   "id": "4db8b83f-9cf9-4073-8865-febf721c5511",
   "metadata": {},
   "source": [
    "56. Write a Python program to map two lists into a dictionary\n",
    "\n",
    "Sample output: Counter ({'a': 400, 'b': 400,’d’: 400, 'c': 300})."
   ]
  },
  {
   "cell_type": "code",
   "execution_count": 12,
   "id": "41b79c06-0ce1-437a-88ab-c456c6b7063a",
   "metadata": {},
   "outputs": [
    {
     "name": "stdout",
     "output_type": "stream",
     "text": [
      "Mapped Dictionary:  {'a': 400, 'b': 400, 'd': 400, 'c': 300}\n"
     ]
    }
   ],
   "source": [
    "keys = ['a', 'b', 'd', 'c']\n",
    "values = [400, 400, 400, 300]\n",
    "\n",
    "my_dict = dict(zip(keys, values))\n",
    "\n",
    "print(\"Mapped Dictionary: \", my_dict)"
   ]
  },
  {
   "cell_type": "markdown",
   "id": "db57d2ce-97dd-4dc3-af27-0d348d3beb57",
   "metadata": {},
   "source": [
    "57. Write a Python program to find the highest 3 values in a dictionary "
   ]
  },
  {
   "cell_type": "code",
   "execution_count": 14,
   "id": "b2eda088-27c3-4226-840e-0caee9238344",
   "metadata": {},
   "outputs": [
    {
     "name": "stdout",
     "output_type": "stream",
     "text": [
      "Highest 3 values: [500, 400, 328]\n"
     ]
    }
   ],
   "source": [
    "my_dict = {'a': 400, 'b': 500, 'c': 3, 'd': 328, 'e': 100}\n",
    "\n",
    "highest_values = sorted(my_dict.values(), reverse=True)[:3]\n",
    "\n",
    "print(\"Highest 3 values:\", highest_values)"
   ]
  },
  {
   "cell_type": "markdown",
   "id": "251f853b-fd86-4040-93c0-c3499be57dcd",
   "metadata": {},
   "source": [
    "58. Write a Python program to combine values in python list of dictionaries.\n",
    "\n",
    "Sample data: [{'item': 'item1', 'amount': 400}, {'item': 'item2', 'amount': 300}, o {'item': 'item1', 'amount': 750}]\n",
    "\n",
    "Expected Output: Counter ({'item1': 1150, 'item2': 300})"
   ]
  },
  {
   "cell_type": "code",
   "execution_count": 15,
   "id": "55575f2a-4ed8-470d-8cfe-afd68f448dc8",
   "metadata": {},
   "outputs": [
    {
     "name": "stdout",
     "output_type": "stream",
     "text": [
      "Combined values: Counter({'item1': 1150, 'item2': 300})\n"
     ]
    }
   ],
   "source": [
    "from collections import Counter\n",
    "\n",
    "data = [\n",
    "    {'item': 'item1', 'amount': 400},\n",
    "    {'item': 'item2', 'amount': 300},\n",
    "    {'item': 'item1', 'amount': 750}\n",
    "]\n",
    "\n",
    "result = Counter()\n",
    "for d in data:\n",
    "    result[d['item']] += d['amount']\n",
    "\n",
    "print(\"Combined values:\", result)"
   ]
  },
  {
   "cell_type": "markdown",
   "id": "6dfac920-cfe7-4ba5-ae98-229a481fd09b",
   "metadata": {},
   "source": [
    "59. Write a Python program to create a dictionary from a string.\n",
    "Note: Track the count of the letters from the string."
   ]
  },
  {
   "cell_type": "code",
   "execution_count": 16,
   "id": "d776b1ad-8618-40e8-bbe5-cced8c1949b0",
   "metadata": {},
   "outputs": [
    {
     "name": "stdout",
     "output_type": "stream",
     "text": [
      "Letter count dictionary:  {'h': 1, 'e': 4, 'l': 4, 'o': 2, 'w': 1, 'r': 2, 'd': 1, 'm': 1, 't': 2, 'p': 1, 'a': 1, 'i': 1, 'c': 1, 'N': 1}\n"
     ]
    }
   ],
   "source": [
    "text = \"hello world, meet particle N\"\n",
    "\n",
    "letter_count = {}\n",
    "for char in text:\n",
    "    if char.isalpha():  \n",
    "        letter_count[char] = letter_count.get(char, 0) + 1\n",
    "\n",
    "print(\"Letter count dictionary: \", letter_count)"
   ]
  },
  {
   "cell_type": "markdown",
   "id": "02a65e9c-305f-48ff-b696-e5f6d2bee034",
   "metadata": {},
   "source": [
    "60. Sample string: 'w3resource' \n",
    "\n",
    "Expected output: {'3': 1,’s’: 1, 'r': 2, 'u': 1, 'w': 1, 'c': 1, 'e': 2, 'o': 1}"
   ]
  },
  {
   "cell_type": "code",
   "execution_count": 17,
   "id": "dcfd1c43-ceda-4762-988b-1ca16977f669",
   "metadata": {},
   "outputs": [
    {
     "name": "stdout",
     "output_type": "stream",
     "text": [
      "Character count dictionary:  {'w': 1, '3': 1, 'r': 2, 'e': 2, 's': 1, 'o': 1, 'u': 1, 'c': 1}\n"
     ]
    }
   ],
   "source": [
    "text = 'w3resource'\n",
    "\n",
    "char_count = {}\n",
    "for char in text:\n",
    "    char_count[char] = char_count.get(char, 0) + 1\n",
    "\n",
    "print(\"Character count dictionary: \", char_count)"
   ]
  },
  {
   "cell_type": "markdown",
   "id": "6c92092c-64be-482e-bc6b-56903ba6d930",
   "metadata": {},
   "source": [
    "61. Write a Python function to calculate the factorial of a number (a\n",
    "nonnegative integer) \n"
   ]
  },
  {
   "cell_type": "code",
   "execution_count": 27,
   "id": "7fd6db92-ecc9-46db-81dc-016f30a34dd7",
   "metadata": {},
   "outputs": [
    {
     "name": "stdin",
     "output_type": "stream",
     "text": [
      "enter a number:  5\n"
     ]
    },
    {
     "name": "stdout",
     "output_type": "stream",
     "text": [
      "Factorial of 5 is 120\n"
     ]
    }
   ],
   "source": [
    "def factorial(n):\n",
    "    if n < 0:\n",
    "        return \"Factorial is not defined for negative numbers\"\n",
    "    elif n == 0 or n == 1:\n",
    "        return 1\n",
    "    else:\n",
    "        result = 1\n",
    "        for i in range(2, n+1):\n",
    "            result *= i\n",
    "        return result\n",
    "\n",
    "num = int(input(\"enter a number: \"))\n",
    "print(f\"Factorial of {num} is {factorial(num)}\")"
   ]
  },
  {
   "cell_type": "markdown",
   "id": "5f3c242f-bc5c-4a18-9b0a-4f7c1f3688b8",
   "metadata": {},
   "source": [
    "62. Write a Python function to check whether a number is in a given range \n"
   ]
  },
  {
   "cell_type": "code",
   "execution_count": 23,
   "id": "b5a9b897-c785-48a4-8ec6-ce5ca1d07f8b",
   "metadata": {},
   "outputs": [
    {
     "name": "stdin",
     "output_type": "stream",
     "text": [
      "enter a number:  123\n",
      "enter a lower limit:  1\n",
      "enter a upper limit:  21312\n"
     ]
    },
    {
     "name": "stdout",
     "output_type": "stream",
     "text": [
      "Is 123 in range 1 to 21312? True\n"
     ]
    }
   ],
   "source": [
    "def is_in_range(number, start, end):\n",
    "    if start <= number <= end:\n",
    "        return True\n",
    "    else:\n",
    "        return False\n",
    "\n",
    "num = int(input(\"enter a number: \"))\n",
    "range1 = int(input(\"enter a lower limit: \"))\n",
    "range2 = int(input(\"enter a upper limit: \"))\n",
    "\n",
    "print(f\"Is {num} in range {range1} to {range2}? {is_in_range(num, range1, range2)}\")"
   ]
  },
  {
   "cell_type": "markdown",
   "id": "6eddbd30-c97a-494d-9b68-448a1f60f3ae",
   "metadata": {},
   "source": [
    "63. Write a Python function to check whether a number is perfect or not."
   ]
  },
  {
   "cell_type": "code",
   "execution_count": 25,
   "id": "9b0e7607-f009-4bc5-a40f-60b28b0ab81b",
   "metadata": {},
   "outputs": [
    {
     "name": "stdin",
     "output_type": "stream",
     "text": [
      "enter a number to check if the number is perfect:  21\n"
     ]
    },
    {
     "name": "stdout",
     "output_type": "stream",
     "text": [
      "Is 21 a perfect number? False\n"
     ]
    }
   ],
   "source": [
    "def is_perfect(number):\n",
    "    if number < 1:\n",
    "        return False\n",
    "    divisors_sum = sum(i for i in range(1, number) if number % i == 0)\n",
    "    return divisors_sum == number\n",
    "    \n",
    "num = int(input(\"enter a number to check if the number is perfect: \"))\n",
    "print(f\"Is {num} a perfect number? {is_perfect(num)}\")"
   ]
  },
  {
   "cell_type": "markdown",
   "id": "cb7ef7f9-4b75-4418-b4f0-9c9b9f40a096",
   "metadata": {},
   "source": [
    "64. Write a Python function that checks whether a passed string is\n",
    "palindrome or not \n"
   ]
  },
  {
   "cell_type": "code",
   "execution_count": 1,
   "id": "937e81b2-1fdf-40ee-a41a-8ddf4abe1f6f",
   "metadata": {},
   "outputs": [
    {
     "name": "stdin",
     "output_type": "stream",
     "text": [
      "enter a string:  malayalam\n"
     ]
    },
    {
     "name": "stdout",
     "output_type": "stream",
     "text": [
      "True\n"
     ]
    }
   ],
   "source": [
    "def is_palindrome(s):\n",
    "    s = s.lower().replace(\" \", \"\")\n",
    "    return s == s[::-1]\n",
    "\n",
    "text = input(\"enter a string: \")\n",
    "print(is_palindrome(text))"
   ]
  },
  {
   "cell_type": "markdown",
   "id": "10545269-9ded-43a0-be9e-39203f9f9c88",
   "metadata": {},
   "source": [
    "65. How Many Basic Types of Functions Are Available in Python?"
   ]
  },
  {
   "cell_type": "markdown",
   "id": "127c40c7-ba60-4b31-856c-66746de05ad9",
   "metadata": {},
   "source": [
    "There are basically 3 types of functions in python. They are built-in function, user-defined function and Lambda function."
   ]
  },
  {
   "cell_type": "markdown",
   "id": "10d80d6c-adba-4eb2-a3cc-0224bd5f7ac3",
   "metadata": {},
   "source": [
    "66. How can you pick a random item from a list or tuple?"
   ]
  },
  {
   "cell_type": "markdown",
   "id": "9398c2d2-0b6a-4fa5-a039-40226275b6d8",
   "metadata": {},
   "source": [
    "In python, you can import random module to pick a random item from a list or tuple."
   ]
  },
  {
   "cell_type": "markdown",
   "id": "aa370ab2-41fb-4f05-923d-6213d2683082",
   "metadata": {},
   "source": [
    "67. How can you pick a random item from a range? \n"
   ]
  },
  {
   "cell_type": "markdown",
   "id": "e1ee3db3-28fc-4a8f-bf9c-7b9edcc56bc7",
   "metadata": {},
   "source": [
    "To pick a random item from a range, you can use the same random.choice() function, because a range object in Python is also a sequence. Another FASTER way is to use random.randrange(), which directly returns a random number from a range"
   ]
  },
  {
   "cell_type": "markdown",
   "id": "85d6f355-7231-4fb1-b46f-98b97bdcadd4",
   "metadata": {},
   "source": [
    "68. How can you get a random number in python? "
   ]
  },
  {
   "cell_type": "markdown",
   "id": "437a17f7-1788-4b89-9c6a-ed2e6fa20f90",
   "metadata": {},
   "source": [
    "You can get a random number in Python using the random module, for example random.randint(1, 10) for an integer or random.random() for a float between 0 and 1."
   ]
  },
  {
   "cell_type": "markdown",
   "id": "4b5b897a-d2bd-4aa9-9d59-1a40393e4daa",
   "metadata": {},
   "source": [
    "69. How will you set the starting value in generating random numbers?"
   ]
  },
  {
   "cell_type": "markdown",
   "id": "e97fe5ff-8bf0-4d75-986a-b5b9ff4f67ec",
   "metadata": {},
   "source": [
    "You can set the starting value (seed) for generating random numbers in Python using random.seed(value)."
   ]
  },
  {
   "cell_type": "markdown",
   "id": "df987334-e2cd-4d95-96ee-32c8040bb006",
   "metadata": {},
   "source": [
    "70. How will you randomize the items of a list in place? \n"
   ]
  },
  {
   "cell_type": "markdown",
   "id": "da4a2f7c-ad45-4af9-83ac-fa0ab33015ad",
   "metadata": {},
   "source": [
    "You can randomize (shuffle) the items of a list in place using random.shuffle(list_name)."
   ]
  },
  {
   "cell_type": "markdown",
   "id": "41560eef-a3a7-499f-bfd1-ac15522ecc67",
   "metadata": {},
   "source": [
    "71. What is File function in python? What are keywords to create\n",
    "and write file."
   ]
  },
  {
   "cell_type": "markdown",
   "id": "55b32f7e-9827-463b-b52e-8248da19eb70",
   "metadata": {},
   "source": [
    "In Python, the open() function is used for file handling, and the keywords to create/write a file are:\n",
    "\n",
    "* 'w' → write mode (creates a new file or overwrites an existing one)\n",
    "* 'a' → append mode (creates a new file if not existing, else adds to the end)\n",
    "* 'x' → exclusive creation (creates a new file, raises error if file exists).\n",
    "\n",
    "Example: f = open(\"myfile.txt\", \"w\")\n"
   ]
  },
  {
   "cell_type": "markdown",
   "id": "b9436062-1352-4333-9ebf-e87601a03683",
   "metadata": {},
   "source": [
    "72. Write a Python program to read an entire text file"
   ]
  },
  {
   "cell_type": "code",
   "execution_count": 5,
   "id": "0dfce95e-8af2-45e7-8613-5bb25f1cdc26",
   "metadata": {},
   "outputs": [
    {
     "name": "stdout",
     "output_type": "stream",
     "text": [
      "hello world\n",
      "meet particle n\n"
     ]
    }
   ],
   "source": [
    "with open(r\"myfile.txt\", \"r\") as f:\n",
    "    content = f.read()\n",
    "\n",
    "print(content)"
   ]
  },
  {
   "cell_type": "markdown",
   "id": "27dc515f-f723-44a8-a1e7-39fafa9c2462",
   "metadata": {},
   "source": [
    "73. Write a Python program to append text to a file and display the text. \n"
   ]
  },
  {
   "cell_type": "code",
   "execution_count": 6,
   "id": "5c3de008-4164-4ea7-ae2f-6497e6f48c3f",
   "metadata": {},
   "outputs": [
    {
     "name": "stdout",
     "output_type": "stream",
     "text": [
      "File content after appending:\n",
      "hello world\n",
      "meet particle n\n",
      "This is the appended text.\n"
     ]
    }
   ],
   "source": [
    "with open(\"myfile.txt\", \"a\") as f:\n",
    "    f.write(\"\\nThis is the appended text.\")\n",
    "\n",
    "with open(\"myfile.txt\", \"r\") as f:\n",
    "    content = f.read()\n",
    "\n",
    "print(\"File content after appending:\")\n",
    "print(content)"
   ]
  },
  {
   "cell_type": "markdown",
   "id": "13dbdea7-8332-4757-8514-c5acd82e8b7e",
   "metadata": {},
   "source": [
    "74. Write a Python program to read first n lines of a file. \n"
   ]
  },
  {
   "cell_type": "code",
   "execution_count": 8,
   "id": "4ed63812-face-4b98-9795-1de1da57e53b",
   "metadata": {},
   "outputs": [
    {
     "name": "stdout",
     "output_type": "stream",
     "text": [
      "hello world\n"
     ]
    }
   ],
   "source": [
    "n = 1\n",
    "\n",
    "with open(\"myfile.txt\", \"r\") as f:\n",
    "    for i in range(n):\n",
    "        line = f.readline()\n",
    "        if not line:\n",
    "            break  \n",
    "        print(line, end='')"
   ]
  },
  {
   "cell_type": "markdown",
   "id": "997781a4-ca2f-4cb6-886a-a55a91c0f4ff",
   "metadata": {},
   "source": [
    "75. Write a Python program to read last n lines of a file. "
   ]
  },
  {
   "cell_type": "code",
   "execution_count": 9,
   "id": "dbbceafb-55d9-4909-817f-f8f4acb9ef99",
   "metadata": {},
   "outputs": [
    {
     "name": "stdout",
     "output_type": "stream",
     "text": [
      "meet particle n\n",
      "This is the appended text."
     ]
    }
   ],
   "source": [
    "n = 2\n",
    "\n",
    "with open(\"myfile.txt\", \"r\") as f:\n",
    "    lines = f.readlines()  \n",
    "\n",
    "for line in lines[-n:]:\n",
    "    print(line, end='')"
   ]
  },
  {
   "cell_type": "markdown",
   "id": "1df7ff26-f997-4e8d-b688-b6bb006a7fc9",
   "metadata": {},
   "source": [
    "76. Write a Python program to read a file line by line and store it into a list"
   ]
  },
  {
   "cell_type": "code",
   "execution_count": 10,
   "id": "38214e2e-ebb1-41dc-a8f4-bf565b6a5a1a",
   "metadata": {},
   "outputs": [
    {
     "name": "stdout",
     "output_type": "stream",
     "text": [
      "['hello world', 'meet particle n', 'This is the appended text.']\n"
     ]
    }
   ],
   "source": [
    "with open(\"myfile.txt\", \"r\") as f:\n",
    "    lines_list = [line.strip() for line in f]  \n",
    "\n",
    "print(lines_list)"
   ]
  },
  {
   "cell_type": "markdown",
   "id": "ab3a56d4-19cc-4a5f-86f7-b2df455a921e",
   "metadata": {},
   "source": [
    "77. Write a Python program to read a file line by line store it into a variable. \n"
   ]
  },
  {
   "cell_type": "code",
   "execution_count": 11,
   "id": "769b6af7-5603-4fdf-b169-39d98644be61",
   "metadata": {},
   "outputs": [
    {
     "name": "stdout",
     "output_type": "stream",
     "text": [
      "hello world\n",
      "meet particle n\n",
      "This is the appended text.\n"
     ]
    }
   ],
   "source": [
    "with open(\"myfile.txt\", \"r\") as f:\n",
    "    content = \"\"\n",
    "    for line in f:\n",
    "        content += line  \n",
    "\n",
    "print(content)"
   ]
  },
  {
   "cell_type": "markdown",
   "id": "784cb69f-6636-4ddb-8c99-a3338e7d7d8c",
   "metadata": {},
   "source": [
    "78. Write a python program to find the longest words. "
   ]
  },
  {
   "cell_type": "code",
   "execution_count": 12,
   "id": "3afefb7a-7e79-4047-8263-3a67b7610b1e",
   "metadata": {},
   "outputs": [
    {
     "name": "stdout",
     "output_type": "stream",
     "text": [
      "Longest word(s): ['programming']\n"
     ]
    }
   ],
   "source": [
    "text = \"Python is a powerful programming language\"\n",
    "\n",
    "words = text.split()\n",
    "\n",
    "max_length = max(len(word) for word in words)\n",
    "\n",
    "longest_words = [word for word in words if len(word) == max_length]\n",
    "\n",
    "print(\"Longest word(s):\", longest_words)"
   ]
  },
  {
   "cell_type": "markdown",
   "id": "6a429d89-4b56-44d4-a341-87e58b899141",
   "metadata": {},
   "source": [
    "79. Write a Python program to count the number of lines in a text file. "
   ]
  },
  {
   "cell_type": "code",
   "execution_count": 13,
   "id": "0d5db9e3-3128-40b8-a176-9d079e9d5571",
   "metadata": {},
   "outputs": [
    {
     "name": "stdout",
     "output_type": "stream",
     "text": [
      "Number of lines in the file: 3\n"
     ]
    }
   ],
   "source": [
    "with open(\"myfile.txt\", \"r\") as f:\n",
    "    line_count = sum(1 for line in f)  \n",
    "\n",
    "print(\"Number of lines in the file:\", line_count)"
   ]
  },
  {
   "cell_type": "markdown",
   "id": "af9dcef3-ab13-4715-a90c-91ed72786cae",
   "metadata": {},
   "source": [
    "80. Write a Python program to count the frequency of words in a file"
   ]
  },
  {
   "cell_type": "code",
   "execution_count": 14,
   "id": "8de05cf3-cbaa-4cd3-9436-514f48a7e964",
   "metadata": {},
   "outputs": [
    {
     "name": "stdout",
     "output_type": "stream",
     "text": [
      "Word frequencies: Counter({'hello': 1, 'world': 1, 'meet': 1, 'particle': 1, 'n': 1, 'This': 1, 'is': 1, 'the': 1, 'appended': 1, 'text.': 1})\n"
     ]
    }
   ],
   "source": [
    "from collections import Counter\n",
    "\n",
    "with open(\"myfile.txt\", \"r\") as f:\n",
    "    text = f.read()\n",
    "\n",
    "words = text.split()\n",
    "\n",
    "word_count = Counter(words)\n",
    "\n",
    "print(\"Word frequencies:\", word_count)"
   ]
  },
  {
   "cell_type": "markdown",
   "id": "3ef1ed6d-d9bc-4def-8cdb-3885bfb9e6be",
   "metadata": {},
   "source": [
    "81. Write a Python program to write a list to a file. \n"
   ]
  },
  {
   "cell_type": "code",
   "execution_count": 15,
   "id": "f5f9c068-ddd8-4d29-8380-7300949a6768",
   "metadata": {},
   "outputs": [
    {
     "name": "stdout",
     "output_type": "stream",
     "text": [
      "List has been written to the file.\n"
     ]
    }
   ],
   "source": [
    "my_list = [\"ZINDAGI\", \"NA\", \"MILEGI\", \"2\", \"12\"]\n",
    "\n",
    "with open(\"myfile.txt\", \"w\") as f:\n",
    "    for item in my_list:\n",
    "        f.write(item + \"\\n\")  \n",
    "\n",
    "print(\"List has been written to the file.\")"
   ]
  },
  {
   "cell_type": "markdown",
   "id": "a364edb0-6ad2-4bee-9e33-c6808119c704",
   "metadata": {},
   "source": [
    "82. Write a Python program to copy the contents of a file to another file. "
   ]
  },
  {
   "cell_type": "code",
   "execution_count": 16,
   "id": "e8c29bfc-c6d3-4e16-a686-f43478b6d0b7",
   "metadata": {},
   "outputs": [
    {
     "name": "stdout",
     "output_type": "stream",
     "text": [
      "File has been copied successfully.\n"
     ]
    }
   ],
   "source": [
    "with open(\"source.txt\", \"r\") as src, open(\"destination.txt\", \"w\") as dest:\n",
    "    for line in src:\n",
    "        dest.write(line)\n",
    "\n",
    "print(\"File has been copied successfully.\")"
   ]
  },
  {
   "cell_type": "markdown",
   "id": "f4ab8d20-061c-44a4-baf7-55b92ce20777",
   "metadata": {},
   "source": [
    "83. Explain Exception handling? What is an Error in Python? \n"
   ]
  },
  {
   "cell_type": "markdown",
   "id": "0d379595-7ad7-448c-994d-2cae215e3a85",
   "metadata": {},
   "source": [
    "Exception handling in Python allows a program to catch and manage runtime errors using try and except blocks to prevent crashes. An error in Python is a problem in the code, such as a syntax error or runtime exception, that stops normal execution."
   ]
  },
  {
   "cell_type": "markdown",
   "id": "23b4528d-0b13-4f5f-9d58-68e34eb78983",
   "metadata": {},
   "source": [
    "84. How many except statements can a try-except block have? Name Some built-in exception classes."
   ]
  },
  {
   "cell_type": "markdown",
   "id": "f573d1e9-852c-4ce1-ae81-d6ae461d8a9d",
   "metadata": {},
   "source": [
    "A try block can have multiple except statements to handle different exceptions, and a generic except can catch all other errors; examples of built-in exceptions include ZeroDivisionError, ValueError, TypeError, IndexError, and KeyError.\n"
   ]
  },
  {
   "cell_type": "markdown",
   "id": "73d79e9a-6891-4a0a-8362-c677b3a51e95",
   "metadata": {},
   "source": [
    "85. When will the else part of try-except-else be executed? "
   ]
  },
  {
   "cell_type": "markdown",
   "id": "05d5c073-b67c-47b9-bba7-8c115ada7d78",
   "metadata": {},
   "source": [
    "The else part of a try-except-else block is executed only if no exception occurs in the try block.\n"
   ]
  },
  {
   "cell_type": "markdown",
   "id": "ad05b05b-a150-41b8-ae06-ea455dc728b1",
   "metadata": {},
   "source": [
    "86. Can one block of except statements handle multiple exception?"
   ]
  },
  {
   "cell_type": "markdown",
   "id": "0aebc268-c5e3-4ef8-a8bb-b85a1982998e",
   "metadata": {},
   "source": [
    "Yes, a single except block can handle multiple exceptions by specifying them as a tuple, e.g., except (ValueError, TypeError):."
   ]
  },
  {
   "cell_type": "markdown",
   "id": "99ee58f7-a21e-433b-a737-eaa99ed47eee",
   "metadata": {},
   "source": [
    "87. When is the finally block executed? "
   ]
  },
  {
   "cell_type": "markdown",
   "id": "42108102-c06f-4b5e-b9f8-b97deefc3126",
   "metadata": {},
   "source": [
    "The finally block is executed always, whether an exception occurs or not, typically used for cleanup actions like closing files.\n"
   ]
  },
  {
   "cell_type": "markdown",
   "id": "5a453739-ece1-4281-b739-80edbf113646",
   "metadata": {},
   "source": [
    "88. What happens when „1‟== 1 is executed? \n"
   ]
  },
  {
   "cell_type": "markdown",
   "id": "9d50f092-9cf3-4ea2-a5a7-2825ce2ea683",
   "metadata": {},
   "source": [
    "When `\"1\" == 1` is executed in Python, it returns **False** because one is a **string** and the other is an **integer**, and Python does not automatically convert types for comparison.\n"
   ]
  },
  {
   "cell_type": "markdown",
   "id": "3d04a4f0-cd10-45a7-94bf-f5edc5a98e31",
   "metadata": {},
   "source": [
    "89. How Do You Handle Exceptions with Try/Except/Finally in Python?\n",
    "Explain with coding snippets. "
   ]
  },
  {
   "cell_type": "code",
   "execution_count": 18,
   "id": "489ece6b-2195-4478-9b61-2a7634799873",
   "metadata": {},
   "outputs": [
    {
     "name": "stdin",
     "output_type": "stream",
     "text": [
      "Enter a number:  12\n"
     ]
    },
    {
     "name": "stdout",
     "output_type": "stream",
     "text": [
      "Division successful. Result is: 0.8333333333333334\n",
      "Execution completed, cleaning up resources.\n"
     ]
    }
   ],
   "source": [
    "\"\"\"\n",
    "try → contains the code that may raise an exception.\n",
    "\n",
    "except → handles specific or general exceptions.\n",
    "\n",
    "finally → contains code that will always execute, whether an exception occurred or not, usually for cleanup.\n",
    "\"\"\"\n",
    "\n",
    "try:\n",
    "    num = int(input(\"Enter a number: \"))\n",
    "    result = 10 / num\n",
    "except ZeroDivisionError:\n",
    "    print(\"Cannot divide by zero!\")\n",
    "except ValueError:\n",
    "    print(\"Invalid input! Please enter a number.\")\n",
    "else:\n",
    "    print(\"Division successful. Result is:\", result)\n",
    "finally:\n",
    "    print(\"Execution completed, cleaning up resources.\")\n"
   ]
  },
  {
   "cell_type": "markdown",
   "id": "310b15d1-aa1a-4ad0-9b45-3892a329fed6",
   "metadata": {},
   "source": [
    "90. Write python program that user to enter only odd numbers, else\n",
    "will raise an exception"
   ]
  },
  {
   "cell_type": "code",
   "execution_count": 22,
   "id": "300214b2-bf7d-4c02-bb17-7f1f09971439",
   "metadata": {},
   "outputs": [
    {
     "name": "stdin",
     "output_type": "stream",
     "text": [
      "Enter an odd number:  0\n"
     ]
    },
    {
     "name": "stdout",
     "output_type": "stream",
     "text": [
      "The number is not odd!\n"
     ]
    }
   ],
   "source": [
    "class NotOddNumberError(Exception):\n",
    "    \"\"\"Custom exception for non-odd numbers\"\"\"\n",
    "    pass\n",
    "\n",
    "try:\n",
    "    num = int(input(\"Enter an odd number: \"))\n",
    "    if num % 2 == 0:\n",
    "        raise NotOddNumberError(\"The number is not odd!\")\n",
    "    print(\"You entered an odd number:\", num)\n",
    "except ValueError:\n",
    "    print(\"Invalid input! Please enter an integer.\")\n",
    "except NotOddNumberError as e:\n",
    "    print(e)"
   ]
  }
 ],
 "metadata": {
  "kernelspec": {
   "display_name": "Python 3 (ipykernel)",
   "language": "python",
   "name": "python3"
  },
  "language_info": {
   "codemirror_mode": {
    "name": "ipython",
    "version": 3
   },
   "file_extension": ".py",
   "mimetype": "text/x-python",
   "name": "python",
   "nbconvert_exporter": "python",
   "pygments_lexer": "ipython3",
   "version": "3.13.7"
  }
 },
 "nbformat": 4,
 "nbformat_minor": 5
}
