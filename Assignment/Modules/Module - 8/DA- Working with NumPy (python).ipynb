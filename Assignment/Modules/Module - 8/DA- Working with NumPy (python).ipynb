{
 "cells": [
  {
   "cell_type": "markdown",
   "id": "f5dfeadc-7367-4f7e-992c-8a1d408e6357",
   "metadata": {},
   "source": [
    "1. How to Creating a 3x3 Identity Matrix with Float Data Type?"
   ]
  },
  {
   "cell_type": "code",
   "execution_count": 1,
   "id": "b55c4c99-d823-47ea-9fb0-e298aa7be7e5",
   "metadata": {},
   "outputs": [
    {
     "name": "stdout",
     "output_type": "stream",
     "text": [
      "[[1 2 4]\n",
      " [5 3 1]\n",
      " [2 7 4]]\n"
     ]
    }
   ],
   "source": [
    "import numpy as np\n",
    "matrix = np.array([[1,2,4],[5,3,1],[2,7,4]])\n",
    "print(matrix)"
   ]
  },
  {
   "cell_type": "markdown",
   "id": "2f3aa506-638f-44db-8b58-b66a9cad8675",
   "metadata": {},
   "source": [
    "2. Create a 1D Array with Random Values between 0 and 1. "
   ]
  },
  {
   "cell_type": "code",
   "execution_count": 9,
   "id": "e9d876fe-3815-4660-a1d4-aa88970dec82",
   "metadata": {},
   "outputs": [
    {
     "name": "stdout",
     "output_type": "stream",
     "text": [
      "[0.43313298 0.81108867 0.64531916 0.50081086 0.35788452]\n"
     ]
    }
   ],
   "source": [
    "import random\n",
    "import numpy as np\n",
    "arr1 = np.random.rand(5)\n",
    "print(arr1)"
   ]
  },
  {
   "cell_type": "markdown",
   "id": "34606d1e-1e0b-45f7-9ae0-f5ca658cdb76",
   "metadata": {},
   "source": [
    "3. Create a 2D Array with Random Integer Values. "
   ]
  },
  {
   "cell_type": "code",
   "execution_count": 16,
   "id": "946979f3-16da-4521-8890-fcacc5f810f7",
   "metadata": {},
   "outputs": [
    {
     "name": "stdout",
     "output_type": "stream",
     "text": [
      "[[59  7 18 90]\n",
      " [19 58 46 42]]\n"
     ]
    }
   ],
   "source": [
    "import random\n",
    "import numpy as np\n",
    "arr3 = np.random.randint(1, 100, (2, 4))\n",
    "print(arr3)"
   ]
  },
  {
   "cell_type": "code",
   "execution_count": null,
   "id": "8b373f69-168c-465d-8735-20e98bc5271d",
   "metadata": {},
   "outputs": [],
   "source": []
  }
 ],
 "metadata": {
  "kernelspec": {
   "display_name": "Python 3 (ipykernel)",
   "language": "python",
   "name": "python3"
  },
  "language_info": {
   "codemirror_mode": {
    "name": "ipython",
    "version": 3
   },
   "file_extension": ".py",
   "mimetype": "text/x-python",
   "name": "python",
   "nbconvert_exporter": "python",
   "pygments_lexer": "ipython3",
   "version": "3.13.7"
  }
 },
 "nbformat": 4,
 "nbformat_minor": 5
}
